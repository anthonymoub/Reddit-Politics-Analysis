{
 "cells": [
  {
   "cell_type": "markdown",
   "id": "d1b9e241-c131-4a88-84e3-eb1023b80c6d",
   "metadata": {},
   "source": [
    "# In this notebook, I begin where I left off from from the azure notebook. We will begin by reading in the data prepared in azure and migrated to S3. Then, we will start the analysis from TF-IDF of Determining the most important words in economics subreddits comments body using TF-IDF."
   ]
  },
  {
   "cell_type": "markdown",
   "id": "c6984423-b8f8-4fb5-9b45-2fbc2a0a65b5",
   "metadata": {},
   "source": [
    "# Setup - AWS"
   ]
  },
  {
   "cell_type": "code",
   "execution_count": 2,
   "id": "82eec931-0914-4e4e-a641-58c32b089b26",
   "metadata": {
    "collapsed": false,
    "gather": {
     "logged": 1700346958164
    },
    "jupyter": {
     "outputs_hidden": false,
     "source_hidden": false
    },
    "nteract": {
     "transient": {
      "deleting": false
     }
    },
    "tags": []
   },
   "outputs": [
    {
     "name": "stdout",
     "output_type": "stream",
     "text": [
      "Collecting package metadata (current_repodata.json): done\n",
      "Solving environment: done\n",
      "\n",
      "\n",
      "==> WARNING: A newer version of conda exists. <==\n",
      "  current version: 23.3.1\n",
      "  latest version: 23.11.0\n",
      "\n",
      "Please update conda by running\n",
      "\n",
      "    $ conda update -n base -c defaults conda\n",
      "\n",
      "Or to minimize the number of packages updated during conda update use\n",
      "\n",
      "     conda install conda=23.11.0\n",
      "\n",
      "\n",
      "\n",
      "## Package Plan ##\n",
      "\n",
      "  environment location: /opt/conda\n",
      "\n",
      "  added / updated specs:\n",
      "    - openjdk\n",
      "\n",
      "\n",
      "The following packages will be downloaded:\n",
      "\n",
      "    package                    |            build\n",
      "    ---------------------------|-----------------\n",
      "    ca-certificates-2023.08.22 |       h06a4308_0         123 KB\n",
      "    certifi-2023.11.17         |  py310h06a4308_0         158 KB\n",
      "    openjdk-11.0.13            |       h87a67e3_0       341.0 MB\n",
      "    ------------------------------------------------------------\n",
      "                                           Total:       341.3 MB\n",
      "\n",
      "The following NEW packages will be INSTALLED:\n",
      "\n",
      "  openjdk            pkgs/main/linux-64::openjdk-11.0.13-h87a67e3_0 \n",
      "\n",
      "The following packages will be UPDATED:\n",
      "\n",
      "  ca-certificates    conda-forge::ca-certificates-2023.7.2~ --> pkgs/main::ca-certificates-2023.08.22-h06a4308_0 \n",
      "  certifi            conda-forge/noarch::certifi-2023.7.22~ --> pkgs/main/linux-64::certifi-2023.11.17-py310h06a4308_0 \n",
      "\n",
      "\n",
      "\n",
      "Downloading and Extracting Packages\n",
      "ca-certificates-2023 | 123 KB    |                                       |   0% \n",
      "openjdk-11.0.13      | 341.0 MB  |                                       |   0% \u001b[A\n",
      "\n",
      "certifi-2023.11.17   | 158 KB    |                                       |   0% \u001b[A\u001b[A\n",
      "openjdk-11.0.13      | 341.0 MB  |                                       |   0% \u001b[A\n",
      "\n",
      "certifi-2023.11.17   | 158 KB    | ##################################### | 100% \u001b[A\u001b[A\n",
      "\n",
      "ca-certificates-2023 | 123 KB    | ##################################### | 100% \u001b[A\u001b[A\n",
      "openjdk-11.0.13      | 341.0 MB  | #                                     |   3% \u001b[A\n",
      "openjdk-11.0.13      | 341.0 MB  | ##5                                   |   7% \u001b[A\n",
      "openjdk-11.0.13      | 341.0 MB  | ####1                                 |  11% \u001b[A\n",
      "openjdk-11.0.13      | 341.0 MB  | #####4                                |  15% \u001b[A\n",
      "openjdk-11.0.13      | 341.0 MB  | ######9                               |  19% \u001b[A\n",
      "openjdk-11.0.13      | 341.0 MB  | ########5                             |  23% \u001b[A\n",
      "openjdk-11.0.13      | 341.0 MB  | #########8                            |  27% \u001b[A\n",
      "openjdk-11.0.13      | 341.0 MB  | ###########3                          |  31% \u001b[A\n",
      "openjdk-11.0.13      | 341.0 MB  | ############7                         |  34% \u001b[A\n",
      "openjdk-11.0.13      | 341.0 MB  | ##############2                       |  39% \u001b[A\n",
      "openjdk-11.0.13      | 341.0 MB  | ###############9                      |  43% \u001b[A\n",
      "openjdk-11.0.13      | 341.0 MB  | #################4                    |  47% \u001b[A\n",
      "openjdk-11.0.13      | 341.0 MB  | ##################9                   |  51% \u001b[A\n",
      "openjdk-11.0.13      | 341.0 MB  | ####################5                 |  56% \u001b[A\n",
      "openjdk-11.0.13      | 341.0 MB  | ######################                |  60% \u001b[A\n",
      "openjdk-11.0.13      | 341.0 MB  | #######################2              |  63% \u001b[A\n",
      "openjdk-11.0.13      | 341.0 MB  | ########################5             |  66% \u001b[A\n",
      "openjdk-11.0.13      | 341.0 MB  | ##########################2           |  71% \u001b[A\n",
      "openjdk-11.0.13      | 341.0 MB  | ###########################8          |  75% \u001b[A\n",
      "openjdk-11.0.13      | 341.0 MB  | #############################4        |  80% \u001b[A\n",
      "openjdk-11.0.13      | 341.0 MB  | ###############################       |  84% \u001b[A\n",
      "openjdk-11.0.13      | 341.0 MB  | ################################5     |  88% \u001b[A\n",
      "openjdk-11.0.13      | 341.0 MB  | ##################################1   |  92% \u001b[A\n",
      "openjdk-11.0.13      | 341.0 MB  | ###################################6  |  96% \u001b[A\n",
      "                                                                                \u001b[A\n",
      "                                                                                \u001b[A\n",
      "\n",
      "                                                                                \u001b[A\u001b[A\n",
      "Preparing transaction: done\n",
      "Verifying transaction: done\n",
      "Executing transaction: done\n",
      "\n",
      "Note: you may need to restart the kernel to use updated packages.\n",
      "Collecting pyspark==3.4.0\n",
      "  Using cached pyspark-3.4.0-py2.py3-none-any.whl\n",
      "Collecting py4j==0.10.9.7 (from pyspark==3.4.0)\n",
      "  Using cached py4j-0.10.9.7-py2.py3-none-any.whl (200 kB)\n",
      "Installing collected packages: py4j, pyspark\n",
      "Successfully installed py4j-0.10.9.7 pyspark-3.4.0\n",
      "\u001b[33mWARNING: Running pip as the 'root' user can result in broken permissions and conflicting behaviour with the system package manager. It is recommended to use a virtual environment instead: https://pip.pypa.io/warnings/venv\u001b[0m\u001b[33m\n",
      "\u001b[0m\n",
      "\u001b[1m[\u001b[0m\u001b[34;49mnotice\u001b[0m\u001b[1;39;49m]\u001b[0m\u001b[39;49m A new release of pip is available: \u001b[0m\u001b[31;49m23.2.1\u001b[0m\u001b[39;49m -> \u001b[0m\u001b[32;49m23.3.1\u001b[0m\n",
      "\u001b[1m[\u001b[0m\u001b[34;49mnotice\u001b[0m\u001b[1;39;49m]\u001b[0m\u001b[39;49m To update, run: \u001b[0m\u001b[32;49mpip install --upgrade pip\u001b[0m\n",
      "Note: you may need to restart the kernel to use updated packages.\n",
      "Collecting spark-nlp==5.1.3\n",
      "  Obtaining dependency information for spark-nlp==5.1.3 from https://files.pythonhosted.org/packages/cd/7d/bc0eca4c9ec4c9c1d9b28c42c2f07942af70980a7d912d0aceebf8db32dd/spark_nlp-5.1.3-py2.py3-none-any.whl.metadata\n",
      "  Using cached spark_nlp-5.1.3-py2.py3-none-any.whl.metadata (53 kB)\n",
      "Using cached spark_nlp-5.1.3-py2.py3-none-any.whl (537 kB)\n",
      "Installing collected packages: spark-nlp\n",
      "Successfully installed spark-nlp-5.1.3\n",
      "\u001b[33mWARNING: Running pip as the 'root' user can result in broken permissions and conflicting behaviour with the system package manager. It is recommended to use a virtual environment instead: https://pip.pypa.io/warnings/venv\u001b[0m\u001b[33m\n",
      "\u001b[0m\n",
      "\u001b[1m[\u001b[0m\u001b[34;49mnotice\u001b[0m\u001b[1;39;49m]\u001b[0m\u001b[39;49m A new release of pip is available: \u001b[0m\u001b[31;49m23.2.1\u001b[0m\u001b[39;49m -> \u001b[0m\u001b[32;49m23.3.1\u001b[0m\n",
      "\u001b[1m[\u001b[0m\u001b[34;49mnotice\u001b[0m\u001b[1;39;49m]\u001b[0m\u001b[39;49m To update, run: \u001b[0m\u001b[32;49mpip install --upgrade pip\u001b[0m\n",
      "Note: you may need to restart the kernel to use updated packages.\n"
     ]
    },
    {
     "data": {
      "text/html": [
       "<script>Jupyter.notebook.kernel.restart()</script>"
      ],
      "text/plain": [
       "<IPython.core.display.HTML object>"
      ]
     },
     "execution_count": 2,
     "metadata": {},
     "output_type": "execute_result"
    }
   ],
   "source": [
    "# Setup - Run only once per Kernel App\n",
    "%conda install openjdk -y\n",
    "\n",
    "# install PySpark\n",
    "%pip install pyspark==3.4.0\n",
    "\n",
    "# install spark-nlp\n",
    "%pip install spark-nlp==5.1.3\n",
    "\n",
    "# restart kernel\n",
    "from IPython.core.display import HTML\n",
    "HTML(\"<script>Jupyter.notebook.kernel.restart()</script>\")"
   ]
  },
  {
   "cell_type": "code",
   "execution_count": 3,
   "id": "b5482867-cda1-4b20-b924-972167890242",
   "metadata": {
    "collapsed": false,
    "gather": {
     "logged": 1700346958667
    },
    "jupyter": {
     "outputs_hidden": false,
     "source_hidden": false
    },
    "nteract": {
     "transient": {
      "deleting": false
     }
    },
    "tags": []
   },
   "outputs": [],
   "source": [
    "import json\n",
    "import sparknlp\n",
    "import numpy as np\n",
    "import pandas as pd\n",
    "from sparknlp.base import *\n",
    "from pyspark.ml import Pipeline\n",
    "from sparknlp.annotator import *\n",
    "import pyspark.sql.functions as F\n",
    "from pyspark.sql import SparkSession\n",
    "from sparknlp.pretrained import PretrainedPipeline"
   ]
  },
  {
   "cell_type": "code",
   "execution_count": 4,
   "id": "2b9da635-56a2-4130-aa72-1a22376e8edc",
   "metadata": {
    "collapsed": false,
    "jupyter": {
     "outputs_hidden": false,
     "source_hidden": false
    },
    "nteract": {
     "transient": {
      "deleting": false
     }
    },
    "tags": []
   },
   "outputs": [
    {
     "name": "stderr",
     "output_type": "stream",
     "text": [
      "Warning: Ignoring non-Spark config property: fs.s3a.aws.credentials.provider\n"
     ]
    },
    {
     "name": "stdout",
     "output_type": "stream",
     "text": [
      ":: loading settings :: url = jar:file:/opt/conda/lib/python3.10/site-packages/pyspark/jars/ivy-2.5.1.jar!/org/apache/ivy/core/settings/ivysettings.xml\n"
     ]
    },
    {
     "name": "stderr",
     "output_type": "stream",
     "text": [
      "Ivy Default Cache set to: /root/.ivy2/cache\n",
      "The jars for the packages stored in: /root/.ivy2/jars\n",
      "org.apache.hadoop#hadoop-aws added as a dependency\n",
      ":: resolving dependencies :: org.apache.spark#spark-submit-parent-28d7e10d-b633-4094-85c0-9f98d6cc0e0a;1.0\n",
      "\tconfs: [default]\n",
      "\tfound org.apache.hadoop#hadoop-aws;3.2.2 in central\n",
      "\tfound com.amazonaws#aws-java-sdk-bundle;1.11.563 in central\n",
      ":: resolution report :: resolve 406ms :: artifacts dl 34ms\n",
      "\t:: modules in use:\n",
      "\tcom.amazonaws#aws-java-sdk-bundle;1.11.563 from central in [default]\n",
      "\torg.apache.hadoop#hadoop-aws;3.2.2 from central in [default]\n",
      "\t---------------------------------------------------------------------\n",
      "\t|                  |            modules            ||   artifacts   |\n",
      "\t|       conf       | number| search|dwnlded|evicted|| number|dwnlded|\n",
      "\t---------------------------------------------------------------------\n",
      "\t|      default     |   2   |   0   |   0   |   0   ||   2   |   0   |\n",
      "\t---------------------------------------------------------------------\n",
      ":: retrieving :: org.apache.spark#spark-submit-parent-28d7e10d-b633-4094-85c0-9f98d6cc0e0a\n",
      "\tconfs: [default]\n",
      "\t0 artifacts copied, 2 already retrieved (0kB/15ms)\n",
      "23/12/05 22:53:31 WARN NativeCodeLoader: Unable to load native-hadoop library for your platform... using builtin-java classes where applicable\n",
      "Setting default log level to \"WARN\".\n",
      "To adjust logging level use sc.setLogLevel(newLevel). For SparkR, use setLogLevel(newLevel).\n"
     ]
    }
   ],
   "source": [
    "# Import pyspark and build Spark session\n",
    "spark = SparkSession.builder \\\n",
    "    .appName(\"Spark NLP\")\\\n",
    "    .master(\"local[*]\")\\\n",
    "    .config(\"spark.driver.memory\",\"16G\")\\\n",
    "    .config(\"spark.driver.maxResultSize\", \"0\") \\\n",
    "    .config(\"spark.kryoserializer.buffer.max\", \"2000M\")\\\n",
    "    .config(\"spark.jars.packages\", \"com.johnsnowlabs.nlp:spark-nlp_2.12:5.1.3\")\\\n",
    "    .config(\"spark.jars.packages\", \"org.apache.hadoop:hadoop-aws:3.2.2\")\\\n",
    "    .config(\n",
    "        \"fs.s3a.aws.credentials.provider\",\n",
    "        \"com.amazonaws.auth.ContainerCredentialsProvider\",\n",
    "    )\\\n",
    "    .getOrCreate()"
   ]
  },
  {
   "cell_type": "code",
   "execution_count": 5,
   "id": "092d5d18-5d92-425f-8700-e51673bb6f6e",
   "metadata": {
    "collapsed": false,
    "jupyter": {
     "outputs_hidden": false,
     "source_hidden": false
    },
    "nteract": {
     "transient": {
      "deleting": false
     }
    },
    "tags": []
   },
   "outputs": [
    {
     "name": "stdout",
     "output_type": "stream",
     "text": [
      "Spark version: 3.4.0\n",
      "sparknlp version: 5.1.3\n"
     ]
    }
   ],
   "source": [
    "print(f\"Spark version: {spark.version}\")\n",
    "print(f\"sparknlp version: {sparknlp.version()}\")"
   ]
  },
  {
   "cell_type": "markdown",
   "id": "2a549ee9-cb62-4f0b-9f4b-08c230852ebf",
   "metadata": {},
   "source": [
    "# Read in NLP Cleaned Data"
   ]
  },
  {
   "cell_type": "code",
   "execution_count": 6,
   "id": "a9736434-aac1-4d9c-b5a4-460132c6fb54",
   "metadata": {
    "tags": []
   },
   "outputs": [
    {
     "name": "stdout",
     "output_type": "stream",
     "text": [
      "sagemaker.config INFO - Not applying SDK defaults from location: /etc/xdg/sagemaker/config.yaml\n",
      "sagemaker.config INFO - Not applying SDK defaults from location: /root/.config/sagemaker/config.yaml\n",
      "sagemaker.config INFO - Not applying SDK defaults from location: /etc/xdg/sagemaker/config.yaml\n",
      "sagemaker.config INFO - Not applying SDK defaults from location: /root/.config/sagemaker/config.yaml\n"
     ]
    }
   ],
   "source": [
    "import sagemaker\n",
    "sess = sagemaker.Session()\n",
    "bucket = sess.default_bucket()"
   ]
  },
  {
   "cell_type": "markdown",
   "id": "d746ea7d-8af7-4905-9f44-f9fb8f4646d4",
   "metadata": {},
   "source": [
    "## Comments"
   ]
  },
  {
   "cell_type": "code",
   "execution_count": 7,
   "id": "bbb0d9b7-76cd-4ed4-ba07-210616d80607",
   "metadata": {
    "gather": {
     "logged": 1700347152064
    },
    "tags": []
   },
   "outputs": [
    {
     "name": "stderr",
     "output_type": "stream",
     "text": [
      "23/12/05 22:53:41 WARN MetricsConfig: Cannot locate configuration: tried hadoop-metrics2-s3a-file-system.properties,hadoop-metrics2.properties\n",
      "                                                                                \r"
     ]
    }
   ],
   "source": [
    "# S3 directory path\n",
    "s3_directory_comms = f\"s3a://{bucket}/project/nlp_cleaned_comments/\"\n",
    "\n",
    "# Read all the Parquet files in the directory into a DataFrame\n",
    "comments_cleaned = spark.read.parquet(s3_directory_comms)"
   ]
  },
  {
   "cell_type": "markdown",
   "id": "bfd6253d-319a-4c46-b1aa-599a4dd9542c",
   "metadata": {},
   "source": [
    "## Submissions"
   ]
  },
  {
   "cell_type": "code",
   "execution_count": 8,
   "id": "f1744e14-79c3-484d-ab05-ad7ba0a1d0e8",
   "metadata": {
    "collapsed": false,
    "gather": {
     "logged": 1700347158492
    },
    "jupyter": {
     "outputs_hidden": false,
     "source_hidden": false
    },
    "nteract": {
     "transient": {
      "deleting": false
     }
    },
    "tags": []
   },
   "outputs": [],
   "source": [
    "# S3 directory path\n",
    "s3_directory_subs = f\"s3a://{bucket}/project/nlp_cleaned_submissions/\"\n",
    "\n",
    "# Read all the Parquet files in the directory into a DataFrame\n",
    "submissions_cleaned= spark.read.parquet(s3_directory_subs)"
   ]
  },
  {
   "cell_type": "markdown",
   "id": "027a4ff4-4ed0-4bd7-af5b-5d46c99e0892",
   "metadata": {
    "nteract": {
     "transient": {
      "deleting": false
     }
    }
   },
   "source": [
    "# TF-IDF (continue from azure), Common Words, and Text Length"
   ]
  },
  {
   "cell_type": "markdown",
   "id": "d16047bf-465d-4db1-898c-8193fa3f5850",
   "metadata": {
    "nteract": {
     "transient": {
      "deleting": false
     }
    }
   },
   "source": [
    "## Determine the most important words in economics subreddits comments body using TF-IDF"
   ]
  },
  {
   "cell_type": "markdown",
   "id": "5270ff9c-9987-41c0-9854-a229833b7218",
   "metadata": {},
   "source": [
    "### Processing Job"
   ]
  },
  {
   "cell_type": "code",
   "execution_count": 9,
   "id": "f6791a49-57b4-45bd-979a-c26ff46398dc",
   "metadata": {
    "tags": []
   },
   "outputs": [],
   "source": [
    "from pyspark.ml.feature import Tokenizer, CountVectorizer, IDF, HashingTF, StopWordsRemover\n",
    "import pyspark.sql.functions as F\n",
    "from pyspark.sql.types import ArrayType, MapType, StringType\n",
    "import string\n",
    "from sparknlp.pretrained import PretrainedPipeline\n",
    "import matplotlib.pyplot as plt\n",
    "\n",
    "\n",
    "from pyspark.ml.feature import SQLTransformer\n",
    "from sparknlp.annotator import Tokenizer, Normalizer, StopWordsCleaner, LemmatizerModel"
   ]
  },
  {
   "cell_type": "code",
   "execution_count": 13,
   "id": "c9248ff9-c712-4a05-9b11-e278212317eb",
   "metadata": {
    "collapsed": false,
    "gather": {
     "logged": 1700346669232
    },
    "jupyter": {
     "outputs_hidden": false,
     "source_hidden": false
    },
    "nteract": {
     "transient": {
      "deleting": false
     }
    },
    "tags": []
   },
   "outputs": [
    {
     "name": "stderr",
     "output_type": "stream",
     "text": [
      "INFO:py4j.clientserver:Error while receiving.                       (4 + 4) / 8]\n",
      "Traceback (most recent call last):\n",
      "  File \"/opt/conda/lib/python3.10/site-packages/py4j/clientserver.py\", line 516, in send_command\n",
      "    raise Py4JNetworkError(\"Answer from Java side is empty\")\n",
      "py4j.protocol.Py4JNetworkError: Answer from Java side is empty\n",
      "INFO:py4j.clientserver:Closing down clientserver connection\n",
      "ERROR:root:Exception while sending command.\n",
      "Traceback (most recent call last):\n",
      "  File \"/opt/conda/lib/python3.10/site-packages/py4j/clientserver.py\", line 516, in send_command\n",
      "    raise Py4JNetworkError(\"Answer from Java side is empty\")\n",
      "py4j.protocol.Py4JNetworkError: Answer from Java side is empty\n",
      "\n",
      "During handling of the above exception, another exception occurred:\n",
      "\n",
      "Traceback (most recent call last):\n",
      "  File \"/opt/conda/lib/python3.10/site-packages/py4j/java_gateway.py\", line 1038, in send_command\n",
      "    response = connection.send_command(command)\n",
      "  File \"/opt/conda/lib/python3.10/site-packages/py4j/clientserver.py\", line 539, in send_command\n",
      "    raise Py4JNetworkError(\n",
      "py4j.protocol.Py4JNetworkError: Error while sending or receiving\n",
      "INFO:py4j.clientserver:Closing down clientserver connection\n"
     ]
    },
    {
     "ename": "Py4JError",
     "evalue": "An error occurred while calling o59.fit",
     "output_type": "error",
     "traceback": [
      "\u001b[0;31m---------------------------------------------------------------------------\u001b[0m",
      "\u001b[0;31mPy4JError\u001b[0m                                 Traceback (most recent call last)",
      "Cell \u001b[0;32mIn[13], line 19\u001b[0m\n\u001b[1;32m     16\u001b[0m tf \u001b[38;5;241m=\u001b[39m hashingTF\u001b[38;5;241m.\u001b[39mtransform(words)\n\u001b[1;32m     18\u001b[0m \u001b[38;5;66;03m# IDF\u001b[39;00m\n\u001b[0;32m---> 19\u001b[0m idf_model \u001b[38;5;241m=\u001b[39m \u001b[43midf\u001b[49m\u001b[38;5;241;43m.\u001b[39;49m\u001b[43mfit\u001b[49m\u001b[43m(\u001b[49m\u001b[43mtf\u001b[49m\u001b[43m)\u001b[49m\n\u001b[1;32m     21\u001b[0m \u001b[38;5;66;03m# TFIDF\u001b[39;00m\n\u001b[1;32m     22\u001b[0m tfidf \u001b[38;5;241m=\u001b[39m idf_model\u001b[38;5;241m.\u001b[39mtransform(tf)\n",
      "File \u001b[0;32m/opt/conda/lib/python3.10/site-packages/pyspark/ml/base.py:205\u001b[0m, in \u001b[0;36mEstimator.fit\u001b[0;34m(self, dataset, params)\u001b[0m\n\u001b[1;32m    203\u001b[0m         \u001b[38;5;28;01mreturn\u001b[39;00m \u001b[38;5;28mself\u001b[39m\u001b[38;5;241m.\u001b[39mcopy(params)\u001b[38;5;241m.\u001b[39m_fit(dataset)\n\u001b[1;32m    204\u001b[0m     \u001b[38;5;28;01melse\u001b[39;00m:\n\u001b[0;32m--> 205\u001b[0m         \u001b[38;5;28;01mreturn\u001b[39;00m \u001b[38;5;28;43mself\u001b[39;49m\u001b[38;5;241;43m.\u001b[39;49m\u001b[43m_fit\u001b[49m\u001b[43m(\u001b[49m\u001b[43mdataset\u001b[49m\u001b[43m)\u001b[49m\n\u001b[1;32m    206\u001b[0m \u001b[38;5;28;01melse\u001b[39;00m:\n\u001b[1;32m    207\u001b[0m     \u001b[38;5;28;01mraise\u001b[39;00m \u001b[38;5;167;01mTypeError\u001b[39;00m(\n\u001b[1;32m    208\u001b[0m         \u001b[38;5;124m\"\u001b[39m\u001b[38;5;124mParams must be either a param map or a list/tuple of param maps, \u001b[39m\u001b[38;5;124m\"\u001b[39m\n\u001b[1;32m    209\u001b[0m         \u001b[38;5;124m\"\u001b[39m\u001b[38;5;124mbut got \u001b[39m\u001b[38;5;132;01m%s\u001b[39;00m\u001b[38;5;124m.\u001b[39m\u001b[38;5;124m\"\u001b[39m \u001b[38;5;241m%\u001b[39m \u001b[38;5;28mtype\u001b[39m(params)\n\u001b[1;32m    210\u001b[0m     )\n",
      "File \u001b[0;32m/opt/conda/lib/python3.10/site-packages/pyspark/ml/wrapper.py:381\u001b[0m, in \u001b[0;36mJavaEstimator._fit\u001b[0;34m(self, dataset)\u001b[0m\n\u001b[1;32m    380\u001b[0m \u001b[38;5;28;01mdef\u001b[39;00m \u001b[38;5;21m_fit\u001b[39m(\u001b[38;5;28mself\u001b[39m, dataset: DataFrame) \u001b[38;5;241m-\u001b[39m\u001b[38;5;241m>\u001b[39m JM:\n\u001b[0;32m--> 381\u001b[0m     java_model \u001b[38;5;241m=\u001b[39m \u001b[38;5;28;43mself\u001b[39;49m\u001b[38;5;241;43m.\u001b[39;49m\u001b[43m_fit_java\u001b[49m\u001b[43m(\u001b[49m\u001b[43mdataset\u001b[49m\u001b[43m)\u001b[49m\n\u001b[1;32m    382\u001b[0m     model \u001b[38;5;241m=\u001b[39m \u001b[38;5;28mself\u001b[39m\u001b[38;5;241m.\u001b[39m_create_model(java_model)\n\u001b[1;32m    383\u001b[0m     \u001b[38;5;28;01mreturn\u001b[39;00m \u001b[38;5;28mself\u001b[39m\u001b[38;5;241m.\u001b[39m_copyValues(model)\n",
      "File \u001b[0;32m/opt/conda/lib/python3.10/site-packages/pyspark/ml/wrapper.py:378\u001b[0m, in \u001b[0;36mJavaEstimator._fit_java\u001b[0;34m(self, dataset)\u001b[0m\n\u001b[1;32m    375\u001b[0m \u001b[38;5;28;01massert\u001b[39;00m \u001b[38;5;28mself\u001b[39m\u001b[38;5;241m.\u001b[39m_java_obj \u001b[38;5;129;01mis\u001b[39;00m \u001b[38;5;129;01mnot\u001b[39;00m \u001b[38;5;28;01mNone\u001b[39;00m\n\u001b[1;32m    377\u001b[0m \u001b[38;5;28mself\u001b[39m\u001b[38;5;241m.\u001b[39m_transfer_params_to_java()\n\u001b[0;32m--> 378\u001b[0m \u001b[38;5;28;01mreturn\u001b[39;00m \u001b[38;5;28;43mself\u001b[39;49m\u001b[38;5;241;43m.\u001b[39;49m\u001b[43m_java_obj\u001b[49m\u001b[38;5;241;43m.\u001b[39;49m\u001b[43mfit\u001b[49m\u001b[43m(\u001b[49m\u001b[43mdataset\u001b[49m\u001b[38;5;241;43m.\u001b[39;49m\u001b[43m_jdf\u001b[49m\u001b[43m)\u001b[49m\n",
      "File \u001b[0;32m/opt/conda/lib/python3.10/site-packages/py4j/java_gateway.py:1322\u001b[0m, in \u001b[0;36mJavaMember.__call__\u001b[0;34m(self, *args)\u001b[0m\n\u001b[1;32m   1316\u001b[0m command \u001b[38;5;241m=\u001b[39m proto\u001b[38;5;241m.\u001b[39mCALL_COMMAND_NAME \u001b[38;5;241m+\u001b[39m\\\n\u001b[1;32m   1317\u001b[0m     \u001b[38;5;28mself\u001b[39m\u001b[38;5;241m.\u001b[39mcommand_header \u001b[38;5;241m+\u001b[39m\\\n\u001b[1;32m   1318\u001b[0m     args_command \u001b[38;5;241m+\u001b[39m\\\n\u001b[1;32m   1319\u001b[0m     proto\u001b[38;5;241m.\u001b[39mEND_COMMAND_PART\n\u001b[1;32m   1321\u001b[0m answer \u001b[38;5;241m=\u001b[39m \u001b[38;5;28mself\u001b[39m\u001b[38;5;241m.\u001b[39mgateway_client\u001b[38;5;241m.\u001b[39msend_command(command)\n\u001b[0;32m-> 1322\u001b[0m return_value \u001b[38;5;241m=\u001b[39m \u001b[43mget_return_value\u001b[49m\u001b[43m(\u001b[49m\n\u001b[1;32m   1323\u001b[0m \u001b[43m    \u001b[49m\u001b[43manswer\u001b[49m\u001b[43m,\u001b[49m\u001b[43m \u001b[49m\u001b[38;5;28;43mself\u001b[39;49m\u001b[38;5;241;43m.\u001b[39;49m\u001b[43mgateway_client\u001b[49m\u001b[43m,\u001b[49m\u001b[43m \u001b[49m\u001b[38;5;28;43mself\u001b[39;49m\u001b[38;5;241;43m.\u001b[39;49m\u001b[43mtarget_id\u001b[49m\u001b[43m,\u001b[49m\u001b[43m \u001b[49m\u001b[38;5;28;43mself\u001b[39;49m\u001b[38;5;241;43m.\u001b[39;49m\u001b[43mname\u001b[49m\u001b[43m)\u001b[49m\n\u001b[1;32m   1325\u001b[0m \u001b[38;5;28;01mfor\u001b[39;00m temp_arg \u001b[38;5;129;01min\u001b[39;00m temp_args:\n\u001b[1;32m   1326\u001b[0m     \u001b[38;5;28;01mif\u001b[39;00m \u001b[38;5;28mhasattr\u001b[39m(temp_arg, \u001b[38;5;124m\"\u001b[39m\u001b[38;5;124m_detach\u001b[39m\u001b[38;5;124m\"\u001b[39m):\n",
      "File \u001b[0;32m/opt/conda/lib/python3.10/site-packages/pyspark/errors/exceptions/captured.py:169\u001b[0m, in \u001b[0;36mcapture_sql_exception.<locals>.deco\u001b[0;34m(*a, **kw)\u001b[0m\n\u001b[1;32m    167\u001b[0m \u001b[38;5;28;01mdef\u001b[39;00m \u001b[38;5;21mdeco\u001b[39m(\u001b[38;5;241m*\u001b[39ma: Any, \u001b[38;5;241m*\u001b[39m\u001b[38;5;241m*\u001b[39mkw: Any) \u001b[38;5;241m-\u001b[39m\u001b[38;5;241m>\u001b[39m Any:\n\u001b[1;32m    168\u001b[0m     \u001b[38;5;28;01mtry\u001b[39;00m:\n\u001b[0;32m--> 169\u001b[0m         \u001b[38;5;28;01mreturn\u001b[39;00m \u001b[43mf\u001b[49m\u001b[43m(\u001b[49m\u001b[38;5;241;43m*\u001b[39;49m\u001b[43ma\u001b[49m\u001b[43m,\u001b[49m\u001b[43m \u001b[49m\u001b[38;5;241;43m*\u001b[39;49m\u001b[38;5;241;43m*\u001b[39;49m\u001b[43mkw\u001b[49m\u001b[43m)\u001b[49m\n\u001b[1;32m    170\u001b[0m     \u001b[38;5;28;01mexcept\u001b[39;00m Py4JJavaError \u001b[38;5;28;01mas\u001b[39;00m e:\n\u001b[1;32m    171\u001b[0m         converted \u001b[38;5;241m=\u001b[39m convert_exception(e\u001b[38;5;241m.\u001b[39mjava_exception)\n",
      "File \u001b[0;32m/opt/conda/lib/python3.10/site-packages/py4j/protocol.py:334\u001b[0m, in \u001b[0;36mget_return_value\u001b[0;34m(answer, gateway_client, target_id, name)\u001b[0m\n\u001b[1;32m    330\u001b[0m             \u001b[38;5;28;01mraise\u001b[39;00m Py4JError(\n\u001b[1;32m    331\u001b[0m                 \u001b[38;5;124m\"\u001b[39m\u001b[38;5;124mAn error occurred while calling \u001b[39m\u001b[38;5;132;01m{0}\u001b[39;00m\u001b[38;5;132;01m{1}\u001b[39;00m\u001b[38;5;132;01m{2}\u001b[39;00m\u001b[38;5;124m. Trace:\u001b[39m\u001b[38;5;130;01m\\n\u001b[39;00m\u001b[38;5;132;01m{3}\u001b[39;00m\u001b[38;5;130;01m\\n\u001b[39;00m\u001b[38;5;124m\"\u001b[39m\u001b[38;5;241m.\u001b[39m\n\u001b[1;32m    332\u001b[0m                 \u001b[38;5;28mformat\u001b[39m(target_id, \u001b[38;5;124m\"\u001b[39m\u001b[38;5;124m.\u001b[39m\u001b[38;5;124m\"\u001b[39m, name, value))\n\u001b[1;32m    333\u001b[0m     \u001b[38;5;28;01melse\u001b[39;00m:\n\u001b[0;32m--> 334\u001b[0m         \u001b[38;5;28;01mraise\u001b[39;00m Py4JError(\n\u001b[1;32m    335\u001b[0m             \u001b[38;5;124m\"\u001b[39m\u001b[38;5;124mAn error occurred while calling \u001b[39m\u001b[38;5;132;01m{0}\u001b[39;00m\u001b[38;5;132;01m{1}\u001b[39;00m\u001b[38;5;132;01m{2}\u001b[39;00m\u001b[38;5;124m\"\u001b[39m\u001b[38;5;241m.\u001b[39m\n\u001b[1;32m    336\u001b[0m             \u001b[38;5;28mformat\u001b[39m(target_id, \u001b[38;5;124m\"\u001b[39m\u001b[38;5;124m.\u001b[39m\u001b[38;5;124m\"\u001b[39m, name))\n\u001b[1;32m    337\u001b[0m \u001b[38;5;28;01melse\u001b[39;00m:\n\u001b[1;32m    338\u001b[0m     \u001b[38;5;28mtype\u001b[39m \u001b[38;5;241m=\u001b[39m answer[\u001b[38;5;241m1\u001b[39m]\n",
      "\u001b[0;31mPy4JError\u001b[0m: An error occurred while calling o59.fit"
     ]
    }
   ],
   "source": [
    "excluded_subreddits = [\"Economics\", \"finance\"]\n",
    "\n",
    "# Concat body, title and filter for political subreddits\n",
    "econ_comms_body_words = comments_cleaned.filter(F.col(\"subreddit\").isin(excluded_subreddits)) \\\n",
    "                                               .select(F.col(\"cleaned_body\"))\\\n",
    "\n",
    "# Define HashingTF\n",
    "hashingTF = HashingTF(inputCol=\"cleaned_body\", outputCol=\"rawFeatures\",numFeatures=40000000)\n",
    "\n",
    "# Define IDF\n",
    "idf = IDF(inputCol=\"rawFeatures\", outputCol=\"features\")\n",
    "\n",
    "words = econ_comms_body_words.select('cleaned_body')\n",
    "\n",
    "# Hashing frequency\n",
    "tf = hashingTF.transform(words)\n",
    "\n",
    "# IDF\n",
    "idf_model = idf.fit(tf)\n",
    "\n",
    "# TFIDF\n",
    "tfidf = idf_model.transform(tf)\n",
    "\n",
    "ndf = tfidf.select(F.explode('cleaned_body').name('expwords')).withColumn('words',F.array('expwords'))\n",
    "\n",
    "# Define HashingTF\n",
    "hashingTF = HashingTF(inputCol=\"words\", outputCol=\"rawFeatures\",numFeatures=40000000)\n",
    "\n",
    "hashudf = F.udf(lambda vector : vector.indices.tolist()[0],F.StringType())\n",
    "wordtf = hashingTF.transform(ndf).withColumn('wordhash',hashudf(F.col('rawFeatures')))\n",
    "wordtf = wordtf.dropDuplicates([\"expwords\"])\n",
    "\n",
    "udf1 = F.udf(lambda vec : dict(zip(vec.indices.tolist(),vec.values.tolist())),MapType(StringType(),StringType()))\n",
    "valuedf = tfidf.select(F.explode(udf1(F.col('features'))).name('wordhash','value'))\n",
    "valuedf = valuedf.dropDuplicates([\"wordhash\"])\n",
    "join_importance = wordtf.join(valuedf, wordtf.wordhash == valuedf.wordhash, 'inner').select(wordtf.expwords, valuedf.value)\n",
    "top100_econ_comms = join_importance.sort(F.col(\"value\").desc()).limit(100).toPandas()\n",
    "\n",
    "top100_econ_comms = top100_econ_comms.reset_index(drop=True)\n",
    "top100_econ_comms = top100_econ_comms.rename(columns={\"expwords\":\"word\", \"value\":\"tfidf_value\"})"
   ]
  },
  {
   "cell_type": "code",
   "execution_count": null,
   "id": "97285fb8-4559-439b-8c43-f478eeecf1ac",
   "metadata": {
    "collapsed": false,
    "gather": {
     "logged": 1700346669319
    },
    "jupyter": {
     "outputs_hidden": false,
     "source_hidden": false
    },
    "nteract": {
     "transient": {
      "deleting": false
     }
    },
    "tags": []
   },
   "outputs": [
    {
     "name": "stderr",
     "output_type": "stream",
     "text": [
      "INFO:py4j.clientserver:Error while receiving.\n",
      "Traceback (most recent call last):\n",
      "  File \"/opt/conda/lib/python3.10/site-packages/py4j/clientserver.py\", line 516, in send_command\n",
      "    raise Py4JNetworkError(\"Answer from Java side is empty\")\n",
      "py4j.protocol.Py4JNetworkError: Answer from Java side is empty\n",
      "INFO:py4j.clientserver:Closing down clientserver connection\n",
      "ERROR:root:Exception while sending command.\n",
      "Traceback (most recent call last):\n",
      "  File \"/opt/conda/lib/python3.10/site-packages/py4j/clientserver.py\", line 516, in send_command\n",
      "    raise Py4JNetworkError(\"Answer from Java side is empty\")\n",
      "py4j.protocol.Py4JNetworkError: Answer from Java side is empty\n",
      "\n",
      "During handling of the above exception, another exception occurred:\n",
      "\n",
      "Traceback (most recent call last):\n",
      "  File \"/opt/conda/lib/python3.10/site-packages/py4j/java_gateway.py\", line 1038, in send_command\n",
      "    response = connection.send_command(command)\n",
      "  File \"/opt/conda/lib/python3.10/site-packages/py4j/clientserver.py\", line 539, in send_command\n",
      "    raise Py4JNetworkError(\n",
      "py4j.protocol.Py4JNetworkError: Error while sending or receiving\n",
      "INFO:py4j.clientserver:Closing down clientserver connection\n",
      "INFO:py4j.clientserver:Closing down clientserver connection\n",
      "INFO:py4j.clientserver:Closing down clientserver connection\n",
      "INFO:py4j.clientserver:Closing down clientserver connection\n",
      "INFO:py4j.clientserver:Closing down clientserver connection\n",
      "INFO:py4j.clientserver:Closing down clientserver connection\n",
      "INFO:py4j.clientserver:Closing down clientserver connection\n",
      "INFO:py4j.clientserver:Closing down clientserver connection\n",
      "INFO:py4j.clientserver:Closing down clientserver connection\n",
      "INFO:py4j.clientserver:Closing down clientserver connection\n",
      "INFO:py4j.clientserver:Closing down clientserver connection\n",
      "INFO:py4j.clientserver:Closing down clientserver connection\n",
      "INFO:py4j.clientserver:Closing down clientserver connection\n",
      "INFO:py4j.clientserver:Closing down clientserver connection\n",
      "INFO:py4j.clientserver:Closing down clientserver connection\n",
      "INFO:py4j.clientserver:Closing down clientserver connection\n",
      "INFO:py4j.clientserver:Closing down clientserver connection\n",
      "INFO:py4j.clientserver:Closing down clientserver connection\n",
      "INFO:py4j.clientserver:Closing down clientserver connection\n",
      "INFO:py4j.clientserver:Closing down clientserver connection\n",
      "INFO:py4j.clientserver:Closing down clientserver connection\n",
      "INFO:py4j.clientserver:Closing down clientserver connection\n",
      "INFO:py4j.clientserver:Closing down clientserver connection\n",
      "INFO:py4j.clientserver:Closing down clientserver connection\n",
      "INFO:py4j.clientserver:Closing down clientserver connection\n",
      "INFO:py4j.clientserver:Closing down clientserver connection\n",
      "INFO:py4j.clientserver:Closing down clientserver connection\n",
      "INFO:py4j.clientserver:Closing down clientserver connection\n",
      "INFO:py4j.clientserver:Closing down clientserver connection\n",
      "INFO:py4j.clientserver:Closing down clientserver connection\n",
      "INFO:py4j.clientserver:Closing down clientserver connection\n",
      "INFO:py4j.clientserver:Closing down clientserver connection\n",
      "INFO:py4j.clientserver:Closing down clientserver connection\n",
      "INFO:py4j.clientserver:Closing down clientserver connection\n",
      "INFO:py4j.clientserver:Closing down clientserver connection\n",
      "INFO:py4j.clientserver:Closing down clientserver connection\n",
      "INFO:py4j.clientserver:Closing down clientserver connection\n",
      "INFO:py4j.clientserver:Closing down clientserver connection\n",
      "INFO:py4j.clientserver:Closing down clientserver connection\n",
      "INFO:py4j.clientserver:Closing down clientserver connection\n",
      "INFO:py4j.clientserver:Closing down clientserver connection\n",
      "INFO:py4j.clientserver:Closing down clientserver connection\n",
      "INFO:py4j.clientserver:Closing down clientserver connection\n"
     ]
    }
   ],
   "source": [
    "top100_econ_comms.to_csv(\"../data/csv/tfidf_econ_comms.csv\",index=False)"
   ]
  },
  {
   "cell_type": "markdown",
   "id": "fc210a0e-531b-4f03-adec-3ee9c15b4516",
   "metadata": {
    "nteract": {
     "transient": {
      "deleting": false
     }
    }
   },
   "source": [
    "## Determine the most common words among politics submissions title and body"
   ]
  },
  {
   "cell_type": "code",
   "execution_count": 15,
   "id": "c9f8421f-a891-45c6-8061-90a16a56ec64",
   "metadata": {
    "collapsed": false,
    "gather": {
     "logged": 1700346669340
    },
    "jupyter": {
     "outputs_hidden": false,
     "source_hidden": false
    },
    "nteract": {
     "transient": {
      "deleting": false
     }
    },
    "tags": []
   },
   "outputs": [
    {
     "name": "stderr",
     "output_type": "stream",
     "text": [
      "                                                                                \r"
     ]
    }
   ],
   "source": [
    "excluded_subreddits = [\"Economics\", \"finance\"]\n",
    "\n",
    "# Concat body, title and filter for political subreddits\n",
    "pol_subs_body_title_words = submissions_cleaned.filter(~F.col(\"subreddit\").isin(excluded_subreddits))\\\n",
    "                                               .select(F.concat_ws(\" \", submissions_cleaned.cleaned_title,submissions_cleaned.cleaned_body)\\\n",
    "                                               .alias(\"nlpbodytext\"))\n",
    "\n",
    "# Split the nlpbodytext into an array of words\n",
    "pol_subs_body_title_words = pol_subs_body_title_words.withColumn(\"array_words\", F.split(pol_subs_body_title_words[\"nlpbodytext\"], \" \"))\n",
    "\n",
    "# Flatten words array\n",
    "words_flat = pol_subs_body_title_words.select(F.explode(\"array_words\").alias(\"word\"))\n",
    "\n",
    "# Count word occurrences\n",
    "word_counts = words_flat.groupBy(\"word\").count()\n",
    "\n",
    "# Get top 100 most common words\n",
    "freq100_pol_subs = word_counts.orderBy(F.desc(\"count\")).limit(100).toPandas()\n",
    "\n",
    "# Rename columns\n",
    "freq100_pol_subs = freq100_pol_subs.rename(columns={\"word\": \"word\", \"count\": \"word_count\"})\n",
    "\n",
    "freq100_pol_subs.to_csv('../../data/csv/wordcount_pol_subs.csv',index=False)"
   ]
  },
  {
   "cell_type": "markdown",
   "id": "2e2f6f5a-5230-415f-9917-000cbbad9827",
   "metadata": {
    "nteract": {
     "transient": {
      "deleting": false
     }
    }
   },
   "source": [
    "## Determine the most common words among economics submissions title and body"
   ]
  },
  {
   "cell_type": "code",
   "execution_count": 44,
   "id": "4ed8d61d-59a9-4bc0-8152-a099fffab822",
   "metadata": {
    "collapsed": false,
    "gather": {
     "logged": 1700346669361
    },
    "jupyter": {
     "outputs_hidden": false,
     "source_hidden": false
    },
    "nteract": {
     "transient": {
      "deleting": false
     }
    },
    "tags": []
   },
   "outputs": [
    {
     "name": "stderr",
     "output_type": "stream",
     "text": [
      "                                                                                \r"
     ]
    }
   ],
   "source": [
    "# Concat body, title and filter for political subreddits\n",
    "econ_subs_body_title_words = submissions_cleaned.filter(F.col(\"subreddit\").isin(excluded_subreddits))\\\n",
    "                                               .select(F.concat_ws(\" \", submissions_cleaned.cleaned_title,submissions_cleaned.cleaned_body)\\\n",
    "                                               .alias(\"nlpbodytext\"))\n",
    "\n",
    "substr_to_remove = [\"http\", \"https\", \"tinyurl\", \"com\", \"www\", \"jpg\", \"uploads\"]\n",
    "regex = \"|\".join(substr_to_remove)\n",
    "econ_subs_body_title_words = econ_subs_body_title_words.withColumn(\"nlpbodytext\", F.regexp_replace(\"nlpbodytext\", regex, \" \"))\n",
    "\n",
    "# Split the nlpbodytext into an array of words\n",
    "econ_subs_body_title_words = econ_subs_body_title_words.withColumn(\"array_words\", F.split(econ_subs_body_title_words[\"nlpbodytext\"], \" \"))\n",
    "\n",
    "# Flatten words array\n",
    "words_flat = econ_subs_body_title_words.select(F.explode(\"array_words\").alias(\"word\"))\n",
    "\n",
    "# Count word occurrences\n",
    "word_counts = words_flat.groupBy(\"word\").count()\n",
    "\n",
    "# Remove rows with blank strings and the letters 's' and 'e'\n",
    "word_counts = word_counts.filter((F.length(\"word\") > 0) & (F.col(\"word\") != \"s\") & (F.col(\"word\") != \"e\"))\n",
    "\n",
    "# Get top 100 most common words\n",
    "freq100_econ_subs = word_counts.orderBy(F.desc(\"count\")).limit(100).toPandas()\n",
    "\n",
    "# Rename columns\n",
    "freq100_econ_subs = freq100_econ_subs.rename(columns={\"word\": \"word\", \"count\": \"word_count\"})\n",
    "\n",
    "freq100_econ_subs.to_csv('../../data/csv/wordcount_econ_subs.csv',index=False)"
   ]
  },
  {
   "cell_type": "markdown",
   "id": "132d874f-a6f3-45f4-a37d-587cbe3283a6",
   "metadata": {
    "nteract": {
     "transient": {
      "deleting": false
     }
    }
   },
   "source": [
    "## Determine the most common words among politics comments body"
   ]
  },
  {
   "cell_type": "code",
   "execution_count": 17,
   "id": "9ccd1df5-de3a-4dcf-8342-d1911bcce103",
   "metadata": {
    "collapsed": false,
    "gather": {
     "logged": 1700346669378
    },
    "jupyter": {
     "outputs_hidden": false,
     "source_hidden": false
    },
    "nteract": {
     "transient": {
      "deleting": false
     }
    },
    "tags": []
   },
   "outputs": [
    {
     "name": "stderr",
     "output_type": "stream",
     "text": [
      "                                                                                \r"
     ]
    }
   ],
   "source": [
    "pol_comms_body_words = comments_cleaned.filter(~F.col(\"subreddit\").isin(excluded_subreddits))\n",
    "\n",
    "# Flatten words array\n",
    "words_flat = pol_comms_body_words.select(F.explode(\"cleaned_body\").alias(\"word\"))\n",
    "\n",
    "# Count word occurrences\n",
    "word_counts = words_flat.groupBy(\"word\").count()\n",
    "\n",
    "# Get top 100 most common words\n",
    "freq100_pol_comms = word_counts.orderBy(F.desc(\"count\")).limit(100).toPandas()\n",
    "\n",
    "# Rename columns\n",
    "freq100_pol_comms = freq100_pol_comms.rename(columns={\"word\": \"word\", \"count\": \"word_count\"})\n",
    "\n",
    "freq100_pol_comms.to_csv('../../data/csv/wordcount_pol_comms.csv',index=False)"
   ]
  },
  {
   "cell_type": "markdown",
   "id": "b847053b-da27-49c5-9157-cf0e8f42860b",
   "metadata": {
    "nteract": {
     "transient": {
      "deleting": false
     }
    }
   },
   "source": [
    "## Determine the most common words among economics comments body"
   ]
  },
  {
   "cell_type": "code",
   "execution_count": 18,
   "id": "36aa8017-1a15-4e92-8832-6538406eedae",
   "metadata": {
    "collapsed": false,
    "gather": {
     "logged": 1700346669395
    },
    "jupyter": {
     "outputs_hidden": false,
     "source_hidden": false
    },
    "nteract": {
     "transient": {
      "deleting": false
     }
    },
    "tags": []
   },
   "outputs": [
    {
     "name": "stderr",
     "output_type": "stream",
     "text": [
      "                                                                                \r"
     ]
    }
   ],
   "source": [
    "econ_comms_body_words = comments_cleaned.filter(F.col(\"subreddit\").isin(excluded_subreddits))\n",
    "\n",
    "# Flatten words array\n",
    "words_flat = econ_comms_body_words.select(F.explode(\"cleaned_body\").alias(\"word\"))\n",
    "\n",
    "# Count word occurrences\n",
    "word_counts = words_flat.groupBy(\"word\").count()\n",
    "\n",
    "# Get top 100 most common words\n",
    "freq100_econ_comms = word_counts.orderBy(F.desc(\"count\")).limit(100).toPandas()\n",
    "\n",
    "# Rename columns\n",
    "freq100_econ_comms = freq100_econ_comms.rename(columns={\"word\": \"word\", \"count\": \"word_count\"})\n",
    "\n",
    "freq100_econ_comms.to_csv('../../data/csv/wordcount_econ_comms.csv',index=False)"
   ]
  },
  {
   "cell_type": "markdown",
   "id": "e1b84fd7-d111-44b6-a13a-1df7cb5b4055",
   "metadata": {
    "nteract": {
     "transient": {
      "deleting": false
     }
    }
   },
   "source": [
    "## Distribution of text lengths of politics subreddits submissions body"
   ]
  },
  {
   "cell_type": "code",
   "execution_count": 19,
   "id": "ac1ee308-ccc5-42de-a7f5-c972f08c49e3",
   "metadata": {
    "collapsed": false,
    "gather": {
     "logged": 1700346669412
    },
    "jupyter": {
     "outputs_hidden": false,
     "source_hidden": false
    },
    "nteract": {
     "transient": {
      "deleting": false
     }
    },
    "tags": []
   },
   "outputs": [
    {
     "name": "stderr",
     "output_type": "stream",
     "text": [
      "                                                                                \r"
     ]
    }
   ],
   "source": [
    "# Calculate text lengths\n",
    "text_lengths = submissions_cleaned.filter(~F.col(\"subreddit\").isin(excluded_subreddits))\\\n",
    "                                            .select(F.length(\"selftext\").alias(\"text_length\"))\n",
    "\n",
    "# Convert Spark dataframe to Pandas dataframe\n",
    "pandas_df_pol_subs = text_lengths.toPandas()"
   ]
  },
  {
   "cell_type": "code",
   "execution_count": 28,
   "id": "9bcde299-e98c-4962-a9ef-79b3dc03e978",
   "metadata": {
    "collapsed": false,
    "gather": {
     "logged": 1700346669428
    },
    "jupyter": {
     "outputs_hidden": false,
     "source_hidden": false
    },
    "nteract": {
     "transient": {
      "deleting": false
     }
    },
    "tags": []
   },
   "outputs": [
    {
     "data": {
      "image/png": "[encoded data removed]",
      "text/plain": [
       "<Figure size 640x480 with 1 Axes>"
      ]
     },
     "metadata": {},
     "output_type": "display_data"
    }
   ],
   "source": [
    "# Plot distribution of text lengths\n",
    "plt.hist(pandas_df_pol_subs[\"text_length\"], bins=25)\n",
    "plt.xlabel(\"Text Length (Words)\")\n",
    "plt.ylabel(\"Count\")\n",
    "plt.title(\"Politics Subreddits Submissions - Distribution of Text Lengths\")\n",
    "plt.savefig(\"../../data/plots/text_length_pol_subs.png\")\n",
    "plt.show()"
   ]
  },
  {
   "cell_type": "markdown",
   "id": "40ae750a-d40e-4052-ae34-55414b78e306",
   "metadata": {
    "nteract": {
     "transient": {
      "deleting": false
     }
    }
   },
   "source": [
    "## Distribution of text lengths of economics subreddits submissions body"
   ]
  },
  {
   "cell_type": "code",
   "execution_count": 30,
   "id": "ed0dbac1-738a-48a8-a0e6-418c743565d8",
   "metadata": {
    "collapsed": false,
    "gather": {
     "logged": 1700346669445
    },
    "jupyter": {
     "outputs_hidden": false,
     "source_hidden": false
    },
    "nteract": {
     "transient": {
      "deleting": false
     }
    },
    "tags": []
   },
   "outputs": [
    {
     "name": "stderr",
     "output_type": "stream",
     "text": [
      "                                                                                \r"
     ]
    }
   ],
   "source": [
    "# Calculate text lengths\n",
    "text_lengths = submissions_cleaned.filter(F.col(\"subreddit\").isin(excluded_subreddits))\\\n",
    "                                           .select(F.length(\"selftext\").alias(\"text_length\"))\n",
    "\n",
    "# Convert Spark dataframe to Pandas dataframe\n",
    "pandas_df_econ_subs = text_lengths.toPandas()"
   ]
  },
  {
   "cell_type": "code",
   "execution_count": 31,
   "id": "b7845d98-3fbb-46b0-a9a8-4a14431327e6",
   "metadata": {
    "collapsed": false,
    "gather": {
     "logged": 1700346669461
    },
    "jupyter": {
     "outputs_hidden": false,
     "source_hidden": false
    },
    "nteract": {
     "transient": {
      "deleting": false
     }
    },
    "tags": []
   },
   "outputs": [
    {
     "data": {
      "image/png": "[encoded data removed]",
      "text/plain": [
       "<Figure size 640x480 with 1 Axes>"
      ]
     },
     "metadata": {},
     "output_type": "display_data"
    },
    {
     "name": "stderr",
     "output_type": "stream",
     "text": [
      "Exception in thread \"serve-DataFrame\" java.net.SocketTimeoutException: Accept timed out\n",
      "\tat java.base/java.net.PlainSocketImpl.socketAccept(Native Method)\n",
      "\tat java.base/java.net.AbstractPlainSocketImpl.accept(AbstractPlainSocketImpl.java:458)\n",
      "\tat java.base/java.net.ServerSocket.implAccept(ServerSocket.java:565)\n",
      "\tat java.base/java.net.ServerSocket.accept(ServerSocket.java:533)\n",
      "\tat org.apache.spark.security.SocketAuthServer$$anon$1.run(SocketAuthServer.scala:65)\n"
     ]
    }
   ],
   "source": [
    "# Plot distribution of text lengths\n",
    "plt.hist(pandas_df_econ_subs[\"text_length\"], bins=50)\n",
    "plt.xlabel(\"Text Length (Words)\")\n",
    "plt.ylabel(\"Count\")\n",
    "plt.title(\"Economics Subreddits Submissions - Distribution of Text Lengths\")\n",
    "plt.savefig(\"../../data/plots/text_length_econ_subs.png\")\n",
    "plt.show()"
   ]
  },
  {
   "cell_type": "markdown",
   "id": "330b1763-2d93-42c0-8f50-d8c80c98da0a",
   "metadata": {
    "nteract": {
     "transient": {
      "deleting": false
     }
    }
   },
   "source": [
    "## Distribution of text lengths of politics subreddits comments body"
   ]
  },
  {
   "cell_type": "code",
   "execution_count": 16,
   "id": "3d0f4897-db02-4f5f-a7c9-2b29d1d06592",
   "metadata": {
    "collapsed": false,
    "gather": {
     "logged": 1700346669476
    },
    "jupyter": {
     "outputs_hidden": false,
     "source_hidden": false
    },
    "nteract": {
     "transient": {
      "deleting": false
     }
    },
    "tags": []
   },
   "outputs": [
    {
     "name": "stderr",
     "output_type": "stream",
     "text": [
      "                                                                                \r"
     ]
    }
   ],
   "source": [
    "excluded_subreddits = [\"Economics\", \"finance\"]\n",
    "\n",
    "# Calculate text lengths\n",
    "text_lengths = submissions_cleaned.filter(~F.col(\"subreddit\").isin(excluded_subreddits))\\\n",
    "                                            .select(F.length(\"selftext\").alias(\"text_length\"))\n",
    "\n",
    "# Convert Spark dataframe to Pandas dataframe\n",
    "pandas_df_pol_comms = text_lengths.toPandas()"
   ]
  },
  {
   "cell_type": "code",
   "execution_count": 20,
   "id": "cccf8147-686b-4409-b8a9-385a4ce8742e",
   "metadata": {
    "collapsed": false,
    "gather": {
     "logged": 1700346669489
    },
    "jupyter": {
     "outputs_hidden": false,
     "source_hidden": false
    },
    "nteract": {
     "transient": {
      "deleting": false
     }
    },
    "tags": []
   },
   "outputs": [
    {
     "data": {
      "image/png": "[encoded data removed]",
      "text/plain": [
       "<Figure size 640x480 with 1 Axes>"
      ]
     },
     "metadata": {},
     "output_type": "display_data"
    }
   ],
   "source": [
    "import matplotlib.pyplot as plt\n",
    "# Plot distribution of text lengths\n",
    "plt.hist(pandas_df_pol_comms[\"text_length\"], bins=50)\n",
    "plt.xlabel(\"Text Length (Words)\")\n",
    "plt.ylabel(\"Count\")\n",
    "plt.title(\"Politics Subreddits Comments - Distribution of Text Lengths\")\n",
    "plt.savefig(\"../../data/plots/text_length_pol_comms.png\")\n",
    "plt.show()"
   ]
  },
  {
   "cell_type": "markdown",
   "id": "628281a8-e7d4-47b3-97b0-9065aacbf596",
   "metadata": {
    "nteract": {
     "transient": {
      "deleting": false
     }
    }
   },
   "source": [
    "## Distribution of text lengths of economics subreddits comments body"
   ]
  },
  {
   "cell_type": "code",
   "execution_count": 18,
   "id": "6b9705fc-5864-4797-a845-f0dc45aecbc0",
   "metadata": {
    "collapsed": false,
    "gather": {
     "logged": 1700346669504
    },
    "jupyter": {
     "outputs_hidden": false,
     "source_hidden": false
    },
    "nteract": {
     "transient": {
      "deleting": false
     }
    },
    "tags": []
   },
   "outputs": [
    {
     "name": "stderr",
     "output_type": "stream",
     "text": [
      "                                                                                \r"
     ]
    }
   ],
   "source": [
    "excluded_subreddits = [\"Economics\", \"finance\"]\n",
    "\n",
    "# Calculate text lengths\n",
    "text_lengths = comments_cleaned.filter(F.col(\"subreddit\").isin(excluded_subreddits))\\\n",
    "                                         .select(F.length(\"body\").alias(\"text_length\"))\n",
    "\n",
    "# Convert Spark dataframe to Pandas dataframe\n",
    "pandas_df_econ_comms = text_lengths.toPandas()"
   ]
  },
  {
   "cell_type": "code",
   "execution_count": 19,
   "id": "543daef7-6a0b-4e80-8b78-b2d6c94714f2",
   "metadata": {
    "collapsed": false,
    "gather": {
     "logged": 1700346669520
    },
    "jupyter": {
     "outputs_hidden": false,
     "source_hidden": false
    },
    "nteract": {
     "transient": {
      "deleting": false
     }
    },
    "tags": []
   },
   "outputs": [
    {
     "data": {
      "image/png": "[encoded data removed]",
      "text/plain": [
       "<Figure size 640x480 with 1 Axes>"
      ]
     },
     "metadata": {},
     "output_type": "display_data"
    }
   ],
   "source": [
    "# Plot distribution of text lengths\n",
    "plt.hist(pandas_df_econ_comms[\"text_length\"], bins=50)\n",
    "plt.xlabel(\"Text Length (Words)\")\n",
    "plt.ylabel(\"Count\")\n",
    "plt.title(\"Economics Subreddits Comments - Distribution of Text Lengths\", y=1.05)\n",
    "plt.savefig(\"../../data/plots/text_length_econ_comms.png\")\n",
    "plt.show()"
   ]
  },
  {
   "cell_type": "markdown",
   "id": "6d6d5c2c-dff4-4a4a-8a96-94c884b69124",
   "metadata": {
    "nteract": {
     "transient": {
      "deleting": false
     }
    }
   },
   "source": [
    "## Variation in text length over time"
   ]
  },
  {
   "cell_type": "code",
   "execution_count": 11,
   "id": "842ca1d7-18a6-4a5f-bb88-b143ca58fa17",
   "metadata": {
    "collapsed": false,
    "gather": {
     "logged": 1700346669535
    },
    "jupyter": {
     "outputs_hidden": false,
     "source_hidden": false
    },
    "nteract": {
     "transient": {
      "deleting": false
     }
    },
    "tags": []
   },
   "outputs": [],
   "source": [
    "excluded_subreddits = [\"Economics\", \"finance\"]\n",
    "\n",
    "# filter for subreddits + reformat date\n",
    "econ_subs_body_title_words = submissions_cleaned.filter(F.col(\"subreddit\").isin(excluded_subreddits))\\\n",
    "                                                .withColumn('created_utc', F.date_format('created_utc', 'yyyy-MM-dd'))\n",
    "pol_subs_body_title_words = submissions_cleaned.filter(~F.col(\"subreddit\").isin(excluded_subreddits))\\\n",
    "                                                .withColumn('created_utc', F.date_format('created_utc', 'yyyy-MM-dd'))\n",
    "pol_comms_body_words = comments_cleaned.filter(~F.col(\"subreddit\").isin(excluded_subreddits))\\\n",
    "                                                .withColumn('created_utc', F.date_format('created_utc', 'yyyy-MM-dd'))\n",
    "econ_comms_body_words = comments_cleaned.filter(F.col(\"subreddit\").isin(excluded_subreddits))\\\n",
    "                                                .withColumn('created_utc', F.date_format('created_utc', 'yyyy-MM-dd'))\n",
    "\n",
    "# create year + month cols\n",
    "econ_subs_body_title_words = econ_subs_body_title_words.withColumn('year', F.year('created_utc')).withColumn('month', F.month('created_utc'))\n",
    "pol_subs_body_title_words = pol_subs_body_title_words.withColumn('year', F.year('created_utc')).withColumn('month', F.month('created_utc'))\n",
    "pol_comms_body_words = pol_comms_body_words.withColumn('year', F.year('created_utc')).withColumn('month', F.month('created_utc'))\n",
    "econ_comms_body_words = econ_comms_body_words.withColumn('year', F.year('created_utc')).withColumn('month', F.month('created_utc'))"
   ]
  },
  {
   "cell_type": "code",
   "execution_count": 12,
   "id": "f3a2b7d2",
   "metadata": {
    "gather": {
     "logged": 1700346669553
    },
    "tags": []
   },
   "outputs": [],
   "source": [
    "# Add a column for wordcount\n",
    "econ_subs_body_title_words = econ_subs_body_title_words.withColumn('word_count', F.size(F.split('selftext', ' ')))\n",
    "pol_subs_body_title_words = pol_subs_body_title_words.withColumn('word_count', F.size(F.split('selftext', ' ')))\n",
    "pol_comms_body_words = pol_comms_body_words.withColumn('word_count', F.size(F.split('body', ' ')))\n",
    "econ_comms_body_words = econ_comms_body_words.withColumn('word_count', F.size(F.split('body', ' ')))"
   ]
  },
  {
   "cell_type": "code",
   "execution_count": 13,
   "id": "9872c24c",
   "metadata": {
    "gather": {
     "logged": 1700346669568
    },
    "tags": []
   },
   "outputs": [
    {
     "name": "stderr",
     "output_type": "stream",
     "text": [
      "                                                                                \r"
     ]
    }
   ],
   "source": [
    "# Grouping by month and year of the date_column\n",
    "econ_subs_wordcount_grouped = econ_subs_body_title_words.groupBy(\"year\", \"month\").agg(F.avg(\"word_count\").alias(\"avg_count\"))\n",
    "\n",
    "# Sorting the DataFrame by year and month\n",
    "econ_subs_wordcount_grouped = econ_subs_wordcount_grouped.sort(F.asc(\"year\"), F.asc(\"month\"))\n",
    "\n",
    "# Grouping by month and year of the date_column\n",
    "pol_subs_wordcount_grouped = pol_subs_body_title_words.groupBy(\"year\", \"month\").agg(F.avg(\"word_count\").alias(\"avg_count\"))\n",
    "\n",
    "# Sorting the DataFrame by year and month\n",
    "pol_subs_wordcount_grouped = pol_subs_wordcount_grouped.sort(F.asc(\"year\"), F.asc(\"month\"))\n",
    "\n",
    "# Grouping by month and year of the date_column\n",
    "pol_comms_wordcount_grouped = pol_comms_body_words.groupBy(\"year\", \"month\").agg(F.avg(\"word_count\").alias(\"avg_count\"))\n",
    "\n",
    "# Sorting the DataFrame by year and month\n",
    "pol_comms_wordcount_grouped = pol_comms_wordcount_grouped.sort(F.asc(\"year\"), F.asc(\"month\"))\n",
    "\n",
    "# Grouping by month and year of the date_column\n",
    "econ_comms_wordcount_grouped = econ_comms_body_words.groupBy(\"year\", \"month\").agg(F.avg(\"word_count\").alias(\"avg_count\"))\n",
    "\n",
    "# Sorting the DataFrame by year and month\n",
    "econ_comms_wordcount_grouped = econ_comms_wordcount_grouped.sort(F.asc(\"year\"), F.asc(\"month\"))\n",
    "\n",
    "# Converting Spark DataFrames to Pandas DataFrames\n",
    "econ_subs_wordcount_grouped = econ_subs_wordcount_grouped.toPandas()\n",
    "pol_subs_wordcount_grouped = pol_subs_wordcount_grouped.toPandas()\n",
    "pol_comms_wordcount_grouped = pol_comms_wordcount_grouped.toPandas()\n",
    "econ_comms_wordcount_grouped = econ_comms_wordcount_grouped.toPandas()\n",
    "\n",
    "# Add subreddit+post column\n",
    "\n",
    "econ_subs_wordcount_grouped['type'] = 'Economics Subreddits Submissions'\n",
    "pol_subs_wordcount_grouped['type'] = 'Politics Subreddits Submissions'\n",
    "pol_comms_wordcount_grouped['type'] = 'Politics Subreddits Comments'\n",
    "econ_comms_wordcount_grouped['type'] = 'Economics Subreddits Comments'\n",
    "\n",
    "# Outputting Pandas DataFrames to CSV files\n",
    "# econ_subs_wordcount_grouped.to_csv(\"../data/csv/wordcount_econ_subs.csv\", index=False)\n",
    "# pol_subs_wordcount_grouped.to_csv(\"../data/csv/wordcount_pol_subs.csv\", index=False)\n",
    "# pol_comms_wordcount_grouped.to_csv(\"../data/csv/wordcount_pol_comms.csv\", index=False)\n",
    "# econ_comms_wordcount_grouped.to_csv(\"../data/csv/wordcount_econ_comms.csv\", index=False)"
   ]
  },
  {
   "cell_type": "code",
   "execution_count": 14,
   "id": "b2f4e9ae",
   "metadata": {
    "gather": {
     "logged": 1700346669587
    },
    "tags": []
   },
   "outputs": [],
   "source": [
    "df_textlength = pd.concat([econ_subs_wordcount_grouped, pol_subs_wordcount_grouped, pol_comms_wordcount_grouped, econ_comms_wordcount_grouped], ignore_index=True)\n",
    "\n",
    "df_textlength[['month', 'year']] = df_textlength[['month', 'year']].astype(str)\n",
    "df_textlength['month_year'] = df_textlength.apply(lambda x: pd.to_datetime(x['month'] + ' ' + x['year'], format='%m %Y').strftime('%b %Y'), axis=1)\n",
    "df_textlength = df_textlength[['month_year','avg_count','type']]\n",
    "df_textlength['avg_count'] = df_textlength['avg_count'].round(2)\n",
    "\n",
    "# Outputting Appended Pandas DataFrames to CSV files\n",
    "#df_textlength.to_csv(\"../../data/csv/wordcount_all.csv\", index=False)"
   ]
  },
  {
   "cell_type": "code",
   "execution_count": 43,
   "id": "a383ec3b",
   "metadata": {
    "gather": {
     "logged": 1700346669603
    },
    "tags": []
   },
   "outputs": [
    {
     "name": "stderr",
     "output_type": "stream",
     "text": [
      "/tmp/ipykernel_18/491877651.py:18: UserWarning: FixedFormatter should only be used together with FixedLocator\n",
      "  ax.set_xticklabels(df_textlength['month_year'], rotation=45)\n"
     ]
    },
    {
     "data": {
      "image/png": "[encoded data removed]",
      "text/plain": [
       "<Figure size 2000x800 with 1 Axes>"
      ]
     },
     "metadata": {},
     "output_type": "display_data"
    }
   ],
   "source": [
    "import matplotlib.pyplot as plt\n",
    "plt.rcParams[\"figure.figsize\"] = (5,7)\n",
    "plt.rcParams[\"figure.dpi\"] = 200\n",
    "\n",
    "# Set font size\n",
    "plt.rcParams.update({'font.size': 8})\n",
    "\n",
    "# Create plot\n",
    "fig, ax = plt.subplots(figsize=(10, 4))\n",
    "for name, group in df_textlength.groupby('type'):\n",
    "    ax.plot(group['month_year'], group['avg_count'], label=name)\n",
    "\n",
    "# Set labels and title\n",
    "ax.set_xlabel(None)\n",
    "ax.set_ylabel('Average Word Count')\n",
    "ax.set_title('Average Length of Politics and Economics Subreddits - Submissions and Comments')\n",
    "\n",
    "ax.set_xticklabels(df_textlength['month_year'], rotation=45)\n",
    "\n",
    "# Set legend\n",
    "legend = ax.legend(loc='upper center', bbox_to_anchor=(0.5, -0.2), ncol=len(df_textlength['type'].unique()), fontsize=8, title=None)\n",
    "# Remove the box around the legend\n",
    "legend.get_frame().set_linewidth(0.0)\n",
    "# Dec 2021 highlight\n",
    "plt.axvline(x=11, color='red', ls='--')\n",
    "ax.text(11.3, 3.3, \"The US reports its first case of the Omicron variant\", color='red', rotation=90)\n",
    "# March 2022 highlight\n",
    "plt.axvline(x=14, color='darkred', ls='--')\n",
    "ax.text(14.3, 5.5, \"Russia invades Ukraine\", color='darkred', rotation=90)\n",
    "# Nov 2022 highlight\n",
    "plt.axvline(x=22, color='purple', ls='--')\n",
    "ax.text(22.3, 5.5, \"Interest rates are the highest since Jan. 2008\", color='purple', rotation=90)\n",
    "# Save plot\n",
    "plt.savefig(\"../../data/plots/wordcount_over_time.png\", bbox_inches='tight')\n",
    "plt.savefig(\"../../website-source/plots/wordcount_over_time.png\", bbox_inches='tight')\n",
    "# Show plot\n",
    "plt.show()"
   ]
  },
  {
   "cell_type": "markdown",
   "id": "37de968c-f655-484b-8452-15939ccd15fb",
   "metadata": {},
   "source": [
    "## LDA with gensim and pyLDAvis"
   ]
  },
  {
   "cell_type": "markdown",
   "id": "379482b5-5eaf-421c-a4dd-70d2ed6aeff1",
   "metadata": {},
   "source": [
    "### Politics Subreddits Submissions"
   ]
  },
  {
   "cell_type": "code",
   "execution_count": 15,
   "id": "a4412f2e-0e68-4bdb-9c50-3cbefa026219",
   "metadata": {
    "tags": []
   },
   "outputs": [
    {
     "name": "stdout",
     "output_type": "stream",
     "text": [
      "Requirement already satisfied: gensim in /opt/conda/lib/python3.10/site-packages (4.1.2)\n",
      "Requirement already satisfied: numpy>=1.17.0 in /opt/conda/lib/python3.10/site-packages (from gensim) (1.26.0)\n",
      "Requirement already satisfied: scipy>=0.18.1 in /opt/conda/lib/python3.10/site-packages (from gensim) (1.11.3)\n",
      "Requirement already satisfied: smart-open>=1.8.1 in /opt/conda/lib/python3.10/site-packages (from gensim) (5.2.1)\n",
      "\u001b[33mWARNING: Running pip as the 'root' user can result in broken permissions and conflicting behaviour with the system package manager. It is recommended to use a virtual environment instead: https://pip.pypa.io/warnings/venv\u001b[0m\u001b[33m\n",
      "\u001b[0m\n",
      "\u001b[1m[\u001b[0m\u001b[34;49mnotice\u001b[0m\u001b[1;39;49m]\u001b[0m\u001b[39;49m A new release of pip is available: \u001b[0m\u001b[31;49m23.2.1\u001b[0m\u001b[39;49m -> \u001b[0m\u001b[32;49m23.3.1\u001b[0m\n",
      "\u001b[1m[\u001b[0m\u001b[34;49mnotice\u001b[0m\u001b[1;39;49m]\u001b[0m\u001b[39;49m To update, run: \u001b[0m\u001b[32;49mpip install --upgrade pip\u001b[0m\n"
     ]
    }
   ],
   "source": [
    "!pip install gensim"
   ]
  },
  {
   "cell_type": "code",
   "execution_count": 16,
   "id": "e2d54ae7-3589-496d-8fc3-0f066f661e55",
   "metadata": {
    "tags": []
   },
   "outputs": [
    {
     "name": "stdout",
     "output_type": "stream",
     "text": [
      "Collecting pyLDAvis\n",
      "  Using cached pyLDAvis-3.4.1-py3-none-any.whl (2.6 MB)\n",
      "Requirement already satisfied: numpy>=1.24.2 in /opt/conda/lib/python3.10/site-packages (from pyLDAvis) (1.26.0)\n",
      "Requirement already satisfied: scipy in /opt/conda/lib/python3.10/site-packages (from pyLDAvis) (1.11.3)\n",
      "Collecting pandas>=2.0.0 (from pyLDAvis)\n",
      "  Obtaining dependency information for pandas>=2.0.0 from https://files.pythonhosted.org/packages/1b/fa/4e5d054549faf1524230ffcd57ca98bb7350a4ed62ef722daabde4cb7632/pandas-2.1.3-cp310-cp310-manylinux_2_17_x86_64.manylinux2014_x86_64.whl.metadata\n",
      "  Using cached pandas-2.1.3-cp310-cp310-manylinux_2_17_x86_64.manylinux2014_x86_64.whl.metadata (18 kB)\n",
      "Requirement already satisfied: joblib>=1.2.0 in /opt/conda/lib/python3.10/site-packages (from pyLDAvis) (1.3.2)\n",
      "Requirement already satisfied: jinja2 in /opt/conda/lib/python3.10/site-packages (from pyLDAvis) (3.1.2)\n",
      "Requirement already satisfied: numexpr in /opt/conda/lib/python3.10/site-packages (from pyLDAvis) (2.8.3)\n",
      "Collecting funcy (from pyLDAvis)\n",
      "  Using cached funcy-2.0-py2.py3-none-any.whl (30 kB)\n",
      "Requirement already satisfied: scikit-learn>=1.0.0 in /opt/conda/lib/python3.10/site-packages (from pyLDAvis) (1.0.1)\n",
      "Requirement already satisfied: gensim in /opt/conda/lib/python3.10/site-packages (from pyLDAvis) (4.1.2)\n",
      "Requirement already satisfied: setuptools in /opt/conda/lib/python3.10/site-packages (from pyLDAvis) (68.2.2)\n",
      "Requirement already satisfied: python-dateutil>=2.8.2 in /opt/conda/lib/python3.10/site-packages (from pandas>=2.0.0->pyLDAvis) (2.8.2)\n",
      "Requirement already satisfied: pytz>=2020.1 in /opt/conda/lib/python3.10/site-packages (from pandas>=2.0.0->pyLDAvis) (2022.1)\n",
      "Collecting tzdata>=2022.1 (from pandas>=2.0.0->pyLDAvis)\n",
      "  Using cached tzdata-2023.3-py2.py3-none-any.whl (341 kB)\n",
      "Requirement already satisfied: threadpoolctl>=2.0.0 in /opt/conda/lib/python3.10/site-packages (from scikit-learn>=1.0.0->pyLDAvis) (2.2.0)\n",
      "Requirement already satisfied: smart-open>=1.8.1 in /opt/conda/lib/python3.10/site-packages (from gensim->pyLDAvis) (5.2.1)\n",
      "Requirement already satisfied: MarkupSafe>=2.0 in /opt/conda/lib/python3.10/site-packages (from jinja2->pyLDAvis) (2.1.3)\n",
      "Requirement already satisfied: packaging in /opt/conda/lib/python3.10/site-packages (from numexpr->pyLDAvis) (21.3)\n",
      "Requirement already satisfied: six>=1.5 in /opt/conda/lib/python3.10/site-packages (from python-dateutil>=2.8.2->pandas>=2.0.0->pyLDAvis) (1.16.0)\n",
      "Requirement already satisfied: pyparsing!=3.0.5,>=2.0.2 in /opt/conda/lib/python3.10/site-packages (from packaging->numexpr->pyLDAvis) (3.0.9)\n",
      "Using cached pandas-2.1.3-cp310-cp310-manylinux_2_17_x86_64.manylinux2014_x86_64.whl (12.3 MB)\n",
      "Installing collected packages: funcy, tzdata, pandas, pyLDAvis\n",
      "  Attempting uninstall: pandas\n",
      "    Found existing installation: pandas 1.4.4\n",
      "    Uninstalling pandas-1.4.4:\n",
      "      Successfully uninstalled pandas-1.4.4\n",
      "\u001b[31mERROR: pip's dependency resolver does not currently take into account all the packages that are installed. This behaviour is the source of the following dependency conflicts.\n",
      "autovizwidget 0.21.0 requires pandas<2.0.0,>=0.20.1, but you have pandas 2.1.3 which is incompatible.\n",
      "hdijupyterutils 0.21.0 requires pandas<2.0.0,>=0.17.1, but you have pandas 2.1.3 which is incompatible.\n",
      "panel 0.13.1 requires bokeh<2.5.0,>=2.4.0, but you have bokeh 3.3.0 which is incompatible.\n",
      "sagemaker-datawrangler 0.4.3 requires sagemaker-data-insights==0.4.0, but you have sagemaker-data-insights 0.3.3 which is incompatible.\u001b[0m\u001b[31m\n",
      "\u001b[0mSuccessfully installed funcy-2.0 pandas-2.1.3 pyLDAvis-3.4.1 tzdata-2023.3\n",
      "\u001b[33mWARNING: Running pip as the 'root' user can result in broken permissions and conflicting behaviour with the system package manager. It is recommended to use a virtual environment instead: https://pip.pypa.io/warnings/venv\u001b[0m\u001b[33m\n",
      "\u001b[0m\n",
      "\u001b[1m[\u001b[0m\u001b[34;49mnotice\u001b[0m\u001b[1;39;49m]\u001b[0m\u001b[39;49m A new release of pip is available: \u001b[0m\u001b[31;49m23.2.1\u001b[0m\u001b[39;49m -> \u001b[0m\u001b[32;49m23.3.1\u001b[0m\n",
      "\u001b[1m[\u001b[0m\u001b[34;49mnotice\u001b[0m\u001b[1;39;49m]\u001b[0m\u001b[39;49m To update, run: \u001b[0m\u001b[32;49mpip install --upgrade pip\u001b[0m\n"
     ]
    }
   ],
   "source": [
    "!pip install pyLDAvis"
   ]
  },
  {
   "cell_type": "code",
   "execution_count": 17,
   "id": "cfdf1af4-6192-4c99-9a96-4c6b2ba37422",
   "metadata": {
    "tags": []
   },
   "outputs": [
    {
     "name": "stderr",
     "output_type": "stream",
     "text": [
      "/opt/conda/lib/python3.10/site-packages/sklearn/utils/multiclass.py:14: DeprecationWarning: Please use `spmatrix` from the `scipy.sparse` namespace, the `scipy.sparse.base` namespace is deprecated.\n",
      "  from scipy.sparse.base import spmatrix\n",
      "/opt/conda/lib/python3.10/site-packages/sklearn/utils/optimize.py:18: DeprecationWarning: Please use `line_search_wolfe2` from the `scipy.optimize` namespace, the `scipy.optimize.linesearch` namespace is deprecated.\n",
      "  from scipy.optimize.linesearch import line_search_wolfe2, line_search_wolfe1\n",
      "/opt/conda/lib/python3.10/site-packages/sklearn/utils/optimize.py:18: DeprecationWarning: Please use `line_search_wolfe1` from the `scipy.optimize` namespace, the `scipy.optimize.linesearch` namespace is deprecated.\n",
      "  from scipy.optimize.linesearch import line_search_wolfe2, line_search_wolfe1\n"
     ]
    }
   ],
   "source": [
    "#Gensim\n",
    "import gensim\n",
    "import gensim.corpora as corpora\n",
    "\n",
    "#vis\n",
    "import pyLDAvis\n",
    "import pyLDAvis.gensim"
   ]
  },
  {
   "cell_type": "code",
   "execution_count": 21,
   "id": "3e4bb6d8-5940-49f5-b901-7ab2c4b2d669",
   "metadata": {
    "tags": []
   },
   "outputs": [
    {
     "name": "stderr",
     "output_type": "stream",
     "text": [
      "                                                                                \r"
     ]
    },
    {
     "name": "stdout",
     "output_type": "stream",
     "text": [
      "[(0, 2), (1, 1), (2, 1), (3, 1), (4, 2), (5, 1), (6, 1), (7, 1), (8, 1), (9, 1), (10, 1), (11, 1), (12, 1), (13, 1), (14, 1), (15, 1), (16, 1), (17, 1), (18, 1), (19, 1)]\n",
      "actually\n"
     ]
    }
   ],
   "source": [
    "excluded_subreddits = [\"Economics\", \"finance\"]\n",
    "\n",
    "# Concat body, title and filter for political subreddits\n",
    "pol_subs_body_title_words = submissions_cleaned.filter(~F.col(\"subreddit\").isin(excluded_subreddits))\\\n",
    "                                               .select(F.concat_ws(\" \", submissions_cleaned.cleaned_title,submissions_cleaned.cleaned_body)\\\n",
    "                                               .alias(\"nlpbodytext\"))\n",
    "\n",
    "# Function to tokenize a text into a list of words\n",
    "def tokenize_text(text):\n",
    "    return text.split()\n",
    "\n",
    "# Define a UDF to tokenize the text\n",
    "tokenize_udf = F.udf(tokenize_text, ArrayType(StringType()))\n",
    "\n",
    "# Apply the UDF to tokenize the text and create a new column\n",
    "pol_subs_body_title_words = pol_subs_body_title_words.withColumn('tokenized_text', tokenize_udf(pol_subs_body_title_words['nlpbodytext']))\n",
    "\n",
    "# Collect the tokenized text as a list of lists\n",
    "texts = [row['tokenized_text'] for row in pol_subs_body_title_words.select('tokenized_text').collect()]\n",
    "\n",
    "# Create the Gensim dictionary\n",
    "id2word = corpora.Dictionary(texts)\n",
    "\n",
    "# Create the corpus\n",
    "corpus = [id2word.doc2bow(tokens) for tokens in texts]\n",
    "\n",
    "print(corpus[0][0:20])\n",
    "\n",
    "print(id2word[[0][:1][0]])"
   ]
  },
  {
   "cell_type": "code",
   "execution_count": 22,
   "id": "3ea65d76-c375-460a-ba68-f9dd9f6d1a62",
   "metadata": {
    "tags": []
   },
   "outputs": [],
   "source": [
    "lda_model = gensim.models.ldamodel.LdaModel(corpus=corpus,\n",
    "                                           id2word=id2word,\n",
    "                                           num_topics=5,\n",
    "                                           random_state=100,\n",
    "                                           update_every=1,\n",
    "                                           chunksize=100,\n",
    "                                           passes=10,\n",
    "                                           alpha=\"auto\")"
   ]
  },
  {
   "cell_type": "code",
   "execution_count": 24,
   "id": "cbcf4a56-f187-4400-ab14-fcbc4938b7d3",
   "metadata": {
    "tags": []
   },
   "outputs": [
    {
     "name": "stderr",
     "output_type": "stream",
     "text": [
      "/opt/conda/lib/python3.10/site-packages/pandas/core/dtypes/cast.py:1841: DeprecationWarning: np.find_common_type is deprecated.  Please use `np.result_type` or `np.promote_types`.\n",
      "See https://numpy.org/devdocs/release/1.25.0-notes.html and the docs for more information.  (Deprecated NumPy 1.25)\n",
      "  with warnings.catch_warnings():\n"
     ]
    },
    {
     "data": {
      "text/html": [
       "\n",
       "<link rel=\"stylesheet\" type=\"text/css\" href=\"https://cdn.jsdelivr.net/gh/bmabey/pyLDAvis@3.4.0/pyLDAvis/js/ldavis.v1.0.0.css\">\n",
       "\n",
       "\n",
       "<div id=\"ldavis_el181401361153595205694359484\" style=\"background-color:white;\"></div>\n",
       "<script type=\"text/javascript\">\n",
       "\n",
       "var ldavis_el181401361153595205694359484_data = {\"mdsDat\": {\"x\": [-0.1387054935827397, -0.12949153466200491, -0.40306196974383934, 0.3256086252884644, 0.3456503727001196], \"y\": [0.36666731768673516, -0.377495624343829, -0.0035863898137726818, -0.23256166676264, 0.24697636323350658], \"topics\": [1, 2, 3, 4, 5], \"cluster\": [1, 1, 1, 1, 1], \"Freq\": [32.30139701625691, 26.090817227270126, 22.830628454726455, 12.002491838073501, 6.7746654636730135]}, \"tinfo\": {\"Term\": [\"remove\", \"delete\", \"people\", \"widen\", \"like\", \"think\", \"trump\", \"make\", \"covid\", \"state\", \"libertarian\", \"get\", \"one\", \"go\", \"cmv\", \"government\", \"work\", \"year\", \"take\", \"political\", \"war\", \"user\", \"want\", \"white\", \"police\", \"need\", \"see\", \"house\", \"say\", \"time\", \"people\", \"like\", \"think\", \"make\", \"one\", \"want\", \"see\", \"good\", \"even\", \"know\", \"thing\", \"well\", \"life\", \"change\", \"way\", \"bad\", \"also\", \"much\", \"many\", \"feel\", \"really\", \"believe\", \"look\", \"view\", \"world\", \"still\", \"point\", \"issue\", \"someone\", \"mean\", \"right\", \"use\", \"come\", \"say\", \"cmv\", \"get\", \"remove\", \"delete\", \"widen\", \"trump\", \"user\", \"democrat\", \"vote\", \"republican\", \"conservative\", \"ban\", \"media\", \"america\", \"gun\", \"president\", \"americana\", \"joe\", \"bill\", \"win\", \"court\", \"video\", \"china\", \"gop\", \"american\", \"liberal\", \"twitter\", \"speech\", \"mandate\", \"u\", \"lie\", \"attack\", \"call\", \"new\", \"cmv\", \"party\", \"say\", \"leave\", \"show\", \"we\", \"state\", \"government\", \"work\", \"year\", \"take\", \"need\", \"country\", \"school\", \"post\", \"day\", \"free\", \"child\", \"first\", \"pay\", \"help\", \"social\", \"money\", \"end\", \"question\", \"allow\", \"high\", \"let\", \"public\", \"stop\", \"system\", \"become\", \"ask\", \"without\", \"force\", \"control\", \"go\", \"live\", \"time\", \"get\", \"we\", \"give\", \"long\", \"tell\", \"covid\", \"white\", \"police\", \"house\", \"election\", \"news\", \"vaccine\", \"report\", \"abortion\", \"death\", \"amp\", \"plan\", \"crime\", \"shoot\", \"capitol\", \"mask\", \"text\", \"break\", \"florid\", \"desantis\", \"russia\", \"city\", \"fire\", \"military\", \"theory\", \"charge\", \"justice\", \"violence\", \"protest\", \"fbi\", \"illegal\", \"kill\", \"law\", \"case\", \"libertarian\", \"war\", \"political\", \"power\", \"ukraine\", \"politics\", \"socialist\", \"history\", \"socialism\", \"book\", \"name\", \"story\", \"true\", \"leftist\", \"thoughts\", \"sure\", \"thank\", \"afghanistan\", \"russian\", \"stand\", \"source\", \"movement\", \"market\", \"wing\", \"event\", \"economic\", \"baby\", \"admit\", \"message\", \"link\", \"read\", \"leave\"], \"Freq\": [128211.0, 85589.0, 76038.0, 55297.0, 44169.0, 41733.0, 34910.0, 40150.0, 20847.0, 27524.0, 14990.0, 47306.0, 33901.0, 32884.0, 53957.0, 22838.0, 22651.0, 22567.0, 22317.0, 12234.0, 12221.0, 24451.0, 29038.0, 15174.0, 14467.0, 20314.0, 25976.0, 13543.0, 48172.0, 24524.0, 76037.87807030311, 44168.17549850892, 41732.87485349929, 40149.777335774204, 33900.52592120925, 29037.90980080365, 25975.74654525134, 23003.51788936494, 22665.234051564825, 21811.203701064125, 20178.970211545744, 19995.667312720427, 18053.374969718636, 17366.294380656145, 17031.416170484477, 16874.11547466123, 15563.613630512753, 15228.834947862639, 15006.503224656895, 14707.35029074649, 14164.129078122429, 14115.087529875223, 13938.821737221091, 13698.212677878257, 13406.438816495134, 13090.044653466857, 12575.696630043445, 12409.529052845117, 12186.533812829037, 11798.84349253603, 21162.01757783515, 17732.102682140507, 13899.887336386751, 21462.98752701079, 20585.04122347899, 15388.579171939344, 128210.9675165113, 85589.00812431918, 55297.06454558692, 34909.68716000987, 24450.377052125557, 17115.988695835615, 16935.71923731412, 16064.252807916566, 14867.696974793655, 13855.588891426127, 13315.556602023249, 12359.540068685825, 12408.790104850468, 11751.051414271838, 11440.958097732748, 11216.831010480186, 10968.741103497, 9688.491643991043, 9589.66279146846, 9068.348298587212, 8970.326451993622, 8775.823593881594, 8682.417037901068, 8657.448295071212, 8286.24721157174, 6946.3962931069655, 6752.616957551965, 6582.1372127169825, 6621.610933760989, 6488.599763054488, 14818.357271303566, 22740.65408482981, 33372.26356586027, 11100.423239534999, 26709.245394934213, 11927.98462989148, 9595.192276537484, 9006.86640244136, 27523.877234961554, 22838.000219436442, 22650.643421348937, 22566.18666867638, 22316.259759885623, 20313.494935073235, 16199.04975042023, 15345.833266364598, 15114.496655534664, 14668.55136511127, 13572.91786462018, 13212.683831524828, 12881.150989052157, 11664.093883750718, 11671.237615868687, 11480.715245286032, 10923.690827693132, 10827.45652196811, 10797.37907390167, 10661.309961470604, 10392.537524799896, 10296.019129235567, 9902.745898764924, 9595.665525540391, 9527.695904145272, 9532.397365517696, 9491.70307431368, 8960.175494330564, 8786.92127661532, 8734.24019793751, 28888.060409614434, 10670.039185453665, 21143.99685819929, 31917.2968380702, 22304.495734920743, 10885.23768966588, 9854.39561185968, 9860.853920873287, 20846.27475358639, 15173.505195604666, 14466.272811314077, 13542.791000858828, 12189.990811375303, 12146.633393145252, 11420.593165249149, 9599.19565664319, 9299.202301249246, 8890.275364637677, 8450.475837309928, 7763.861056104589, 7192.765540993366, 7111.334898770015, 7052.542607576016, 7043.489068863521, 6602.746020088385, 6510.804359288584, 6428.639761688069, 6154.354758012843, 5914.45044313883, 5802.12208123613, 5804.3903257609045, 5699.437077483387, 5572.913222045619, 5331.188242670115, 5112.59091790874, 5078.207384319244, 4889.350898668562, 4701.568320594932, 4721.070292541637, 8132.6655728959195, 7734.7702511166935, 5663.2589566183315, 14989.116139354037, 12220.55023539092, 12233.840139596998, 9513.235642645492, 7545.847037479977, 7520.58979665917, 6345.607046468091, 6166.715194563232, 5584.618996044304, 5556.885754544587, 5365.3211252781775, 5321.016984293153, 5291.60684912136, 4747.290267533002, 4737.262625354151, 4353.986712219942, 4267.024012629337, 4185.136953859765, 4154.74840769769, 4161.264100361915, 4025.7148383786, 3994.218354169542, 4005.6234256063212, 3669.752274281374, 3601.520418131922, 3458.299354217965, 3394.404245907005, 3313.992029305771, 3279.0828818176983, 3265.9473931316943, 5960.470118556414, 3718.743742535216], \"Total\": [128211.0, 85589.0, 76038.0, 55297.0, 44169.0, 41733.0, 34910.0, 40150.0, 20847.0, 27524.0, 14990.0, 47306.0, 33901.0, 32884.0, 53957.0, 22838.0, 22651.0, 22567.0, 22317.0, 12234.0, 12221.0, 24451.0, 29038.0, 15174.0, 14467.0, 20314.0, 25976.0, 13543.0, 48172.0, 24524.0, 76038.77329684368, 44169.07235919494, 41733.768551348556, 40150.67489967594, 33901.42361537806, 29038.80904345705, 25976.64292436579, 23004.41270002692, 22666.12798961704, 21812.101023002546, 20179.863198266, 19996.562507734816, 18054.272285610255, 17367.191545600042, 17032.31039244707, 16875.011030711103, 15564.50609480416, 15229.73043537014, 15007.397683218422, 14708.243472929329, 14165.02244824638, 14115.98101188673, 13939.721643813893, 13699.10751078437, 13407.339102392743, 13090.941638349948, 12576.590960158952, 12410.428417395273, 12187.422615518983, 11799.73660840142, 28525.52595977903, 23472.67891380126, 15542.119089114185, 48172.91725738796, 53957.98299701143, 47306.53654188043, 128211.87948354881, 85589.92006388589, 55297.97756806837, 34910.60105657382, 24451.286497742454, 17116.90450457919, 16936.63875657939, 16065.168639629388, 14868.617888534203, 13856.51076239001, 13316.480629060907, 12360.461734574064, 12409.716144712535, 11751.967414605362, 11441.883844786216, 11217.74382076569, 10969.659156243199, 9689.413474336094, 9590.581420428385, 9069.267926523677, 8971.247963045473, 8776.736681677377, 8683.337429413064, 8658.369097809644, 8287.162718277265, 6947.318938548649, 6753.542078444542, 6583.050712300589, 6622.537907716508, 6489.520467472365, 15445.144901366337, 26345.06691282914, 53957.98299701143, 13024.608744831543, 48172.91725738796, 18575.998934372823, 12897.64849104986, 31312.04658202349, 27524.778298901172, 22838.899316857278, 22651.54094332827, 22567.08728772929, 22317.158945363823, 20314.393069474638, 16199.949342436534, 15346.729769642487, 15115.400442485927, 14669.449936187362, 13573.818591788298, 13213.58340630278, 12882.052551813695, 11664.98703110804, 11672.135517528288, 11481.615618054264, 10924.586884080234, 10828.358063790018, 10798.279522373447, 10662.210482078577, 10393.435703576797, 10296.916277745515, 9903.645989817589, 9596.56441605153, 9528.592465649053, 9533.297571995457, 9492.60340187943, 8961.076599324899, 8787.820350366095, 8735.141045236755, 32884.109088830286, 10919.680871578303, 24524.72581478236, 47306.53654188043, 31312.04658202349, 17229.107699849832, 11037.902139026999, 12793.481971490004, 20847.192721679403, 15174.432109005216, 14467.191614245074, 13543.712807033196, 12190.913422986607, 12147.56236286686, 11421.510104902387, 9600.11528137492, 9300.125532930035, 8891.199880583174, 8451.402298489831, 7764.786898339454, 7193.685029228631, 7112.25282556071, 7053.459140860217, 7044.408478492805, 6603.666913611977, 6511.731750781711, 6429.555989790753, 6155.2719951108575, 5915.378468124009, 5803.044484434122, 5805.314248533737, 5700.3649971899285, 5573.854858306164, 5332.105983810545, 5113.52312985298, 5079.13822955505, 4890.270676534891, 4702.483284350455, 4721.994555075114, 8680.259910591963, 15077.99140748633, 10540.505065759198, 14990.01434850586, 12221.445376188001, 12234.738965978417, 9514.135659967726, 7546.739634058686, 7521.487713925792, 6346.496520056004, 6167.611901440986, 5585.509194773149, 5557.780339249495, 5366.220974957004, 5321.920582692098, 5292.507563074346, 4748.1859044940375, 4738.161934796693, 4354.895594608403, 4267.927323663392, 4186.032141152507, 4155.638784938903, 4162.165153817572, 4026.6160677565076, 3995.1138649150066, 4006.522256661546, 3670.6506133806333, 3602.4249916289596, 3459.1945026915478, 3395.3071374846686, 3314.8963228440984, 3279.98696660798, 3266.850314877787, 7337.739164063054, 18575.998934372823], \"Category\": [\"Default\", \"Default\", \"Default\", \"Default\", \"Default\", \"Default\", \"Default\", \"Default\", \"Default\", \"Default\", \"Default\", \"Default\", \"Default\", \"Default\", \"Default\", \"Default\", \"Default\", \"Default\", \"Default\", \"Default\", \"Default\", \"Default\", \"Default\", \"Default\", \"Default\", \"Default\", \"Default\", \"Default\", \"Default\", \"Default\", \"Topic1\", \"Topic1\", \"Topic1\", \"Topic1\", \"Topic1\", \"Topic1\", \"Topic1\", \"Topic1\", \"Topic1\", \"Topic1\", \"Topic1\", \"Topic1\", \"Topic1\", \"Topic1\", \"Topic1\", \"Topic1\", \"Topic1\", \"Topic1\", \"Topic1\", \"Topic1\", \"Topic1\", \"Topic1\", \"Topic1\", \"Topic1\", \"Topic1\", \"Topic1\", \"Topic1\", \"Topic1\", \"Topic1\", \"Topic1\", \"Topic1\", \"Topic1\", \"Topic1\", \"Topic1\", \"Topic1\", \"Topic1\", \"Topic2\", \"Topic2\", \"Topic2\", \"Topic2\", \"Topic2\", \"Topic2\", \"Topic2\", \"Topic2\", \"Topic2\", \"Topic2\", \"Topic2\", \"Topic2\", \"Topic2\", \"Topic2\", \"Topic2\", \"Topic2\", \"Topic2\", \"Topic2\", \"Topic2\", \"Topic2\", \"Topic2\", \"Topic2\", \"Topic2\", \"Topic2\", \"Topic2\", \"Topic2\", \"Topic2\", \"Topic2\", \"Topic2\", \"Topic2\", \"Topic2\", \"Topic2\", \"Topic2\", \"Topic2\", \"Topic2\", \"Topic2\", \"Topic2\", \"Topic2\", \"Topic3\", \"Topic3\", \"Topic3\", \"Topic3\", \"Topic3\", \"Topic3\", \"Topic3\", \"Topic3\", \"Topic3\", \"Topic3\", \"Topic3\", \"Topic3\", \"Topic3\", \"Topic3\", \"Topic3\", \"Topic3\", \"Topic3\", \"Topic3\", \"Topic3\", \"Topic3\", \"Topic3\", \"Topic3\", \"Topic3\", \"Topic3\", \"Topic3\", \"Topic3\", \"Topic3\", \"Topic3\", \"Topic3\", \"Topic3\", \"Topic3\", \"Topic3\", \"Topic3\", \"Topic3\", \"Topic3\", \"Topic3\", \"Topic3\", \"Topic3\", \"Topic4\", \"Topic4\", \"Topic4\", \"Topic4\", \"Topic4\", \"Topic4\", \"Topic4\", \"Topic4\", \"Topic4\", \"Topic4\", \"Topic4\", \"Topic4\", \"Topic4\", \"Topic4\", \"Topic4\", \"Topic4\", \"Topic4\", \"Topic4\", \"Topic4\", \"Topic4\", \"Topic4\", \"Topic4\", \"Topic4\", \"Topic4\", \"Topic4\", \"Topic4\", \"Topic4\", \"Topic4\", \"Topic4\", \"Topic4\", \"Topic4\", \"Topic4\", \"Topic4\", \"Topic4\", \"Topic5\", \"Topic5\", \"Topic5\", \"Topic5\", \"Topic5\", \"Topic5\", \"Topic5\", \"Topic5\", \"Topic5\", \"Topic5\", \"Topic5\", \"Topic5\", \"Topic5\", \"Topic5\", \"Topic5\", \"Topic5\", \"Topic5\", \"Topic5\", \"Topic5\", \"Topic5\", \"Topic5\", \"Topic5\", \"Topic5\", \"Topic5\", \"Topic5\", \"Topic5\", \"Topic5\", \"Topic5\", \"Topic5\", \"Topic5\", \"Topic5\", \"Topic5\"], \"logprob\": [30.0, 29.0, 28.0, 27.0, 26.0, 25.0, 24.0, 23.0, 22.0, 21.0, 20.0, 19.0, 18.0, 17.0, 16.0, 15.0, 14.0, 13.0, 12.0, 11.0, 10.0, 9.0, 8.0, 7.0, 6.0, 5.0, 4.0, 3.0, 2.0, 1.0, -3.5845, -4.1278, -4.1845, -4.2232, -4.3923, -4.5472, -4.6586, -4.7801, -4.7949, -4.8334, -4.9111, -4.9203, -5.0224, -5.0612, -5.0807, -5.09, -5.1708, -5.1926, -5.2073, -5.2274, -5.2651, -5.2685, -5.2811, -5.2985, -5.32, -5.3439, -5.384, -5.3973, -5.4154, -5.4478, -4.8636, -5.0404, -5.2839, -4.8494, -4.8912, -5.1822, -2.8486, -3.2527, -3.6895, -4.1495, -4.5056, -4.8622, -4.8728, -4.9257, -5.0031, -5.0736, -5.1133, -5.1878, -5.1838, -5.2383, -5.2651, -5.2848, -5.3072, -5.4313, -5.4416, -5.4975, -5.5083, -5.5302, -5.541, -5.5438, -5.5877, -5.764, -5.7923, -5.8179, -5.8119, -5.8322, -5.0064, -4.5781, -4.1945, -5.2953, -4.4172, -5.2234, -5.441, -5.5043, -4.2537, -4.4403, -4.4486, -4.4523, -4.4635, -4.5575, -4.7838, -4.8379, -4.8531, -4.8831, -4.9607, -4.9876, -5.013, -5.1123, -5.1116, -5.1281, -5.1778, -5.1867, -5.1895, -5.2021, -5.2277, -5.237, -5.276, -5.3075, -5.3146, -5.3141, -5.3184, -5.376, -5.3955, -5.4015, -4.2053, -5.2013, -4.5174, -4.1056, -4.464, -5.1814, -5.2809, -5.2802, -3.8886, -4.2062, -4.254, -4.3199, -4.4252, -4.4287, -4.4904, -4.6641, -4.6959, -4.7408, -4.7916, -4.8763, -4.9527, -4.9641, -4.9724, -4.9737, -5.0383, -5.0523, -5.065, -5.1086, -5.1484, -5.1676, -5.1672, -5.1854, -5.2079, -5.2522, -5.2941, -5.3008, -5.3387, -5.3779, -5.3737, -4.8299, -4.8801, -5.1918, -3.6465, -3.8507, -3.8497, -4.1012, -4.3329, -4.3362, -4.5061, -4.5347, -4.6338, -4.6388, -4.6739, -4.6822, -4.6877, -4.7963, -4.7984, -4.8828, -4.9029, -4.9223, -4.9296, -4.928, -4.9612, -4.969, -4.9662, -5.0537, -5.0725, -5.1131, -5.1317, -5.1557, -5.1663, -5.1703, -4.5687, -5.0405], \"loglift\": [30.0, 29.0, 28.0, 27.0, 26.0, 25.0, 24.0, 23.0, 22.0, 21.0, 20.0, 19.0, 18.0, 17.0, 16.0, 15.0, 14.0, 13.0, 12.0, 11.0, 10.0, 9.0, 8.0, 7.0, 6.0, 5.0, 4.0, 3.0, 2.0, 1.0, 1.13, 1.13, 1.13, 1.13, 1.13, 1.13, 1.13, 1.13, 1.13, 1.13, 1.13, 1.13, 1.13, 1.13, 1.13, 1.13, 1.13, 1.13, 1.13, 1.13, 1.13, 1.13, 1.13, 1.13, 1.13, 1.13, 1.13, 1.13, 1.13, 1.13, 0.8315, 0.8496, 1.0184, 0.3216, 0.1664, 0.007, 1.3436, 1.3436, 1.3436, 1.3436, 1.3435, 1.3435, 1.3435, 1.3435, 1.3435, 1.3435, 1.3435, 1.3435, 1.3435, 1.3435, 1.3435, 1.3435, 1.3435, 1.3435, 1.3435, 1.3435, 1.3435, 1.3435, 1.3435, 1.3435, 1.3435, 1.3435, 1.3434, 1.3434, 1.3434, 1.3434, 1.3022, 1.1965, 0.8631, 1.1837, 0.7538, 0.9006, 1.0478, 0.0976, 1.477, 1.477, 1.477, 1.477, 1.477, 1.477, 1.477, 1.477, 1.477, 1.477, 1.477, 1.477, 1.477, 1.477, 1.477, 1.477, 1.477, 1.477, 1.477, 1.477, 1.477, 1.477, 1.477, 1.477, 1.477, 1.477, 1.477, 1.477, 1.477, 1.477, 1.3475, 1.4539, 1.3287, 1.0836, 1.1379, 1.0179, 1.3636, 1.2167, 2.12, 2.12, 2.12, 2.12, 2.12, 2.12, 2.12, 2.12, 2.12, 2.12, 2.1199, 2.1199, 2.1199, 2.1199, 2.1199, 2.1199, 2.1199, 2.1199, 2.1199, 2.1199, 2.1199, 2.1199, 2.1199, 2.1199, 2.1199, 2.1199, 2.1199, 2.1199, 2.1199, 2.1199, 2.1199, 2.0549, 1.4525, 1.4988, 2.6919, 2.6919, 2.6919, 2.6919, 2.6919, 2.6919, 2.6918, 2.6918, 2.6918, 2.6918, 2.6918, 2.6918, 2.6918, 2.6918, 2.6918, 2.6918, 2.6918, 2.6918, 2.6918, 2.6918, 2.6918, 2.6918, 2.6918, 2.6917, 2.6917, 2.6917, 2.6917, 2.6917, 2.6917, 2.6917, 2.4841, 1.0835]}, \"token.table\": {\"Topic\": [4, 5, 5, 3, 1, 2, 2, 2, 4, 3, 2, 5, 1, 2, 3, 1, 2, 5, 4, 2, 3, 4, 1, 4, 1, 4, 3, 2, 4, 1, 2, 1, 3, 2, 3, 3, 2, 4, 4, 3, 4, 2, 2, 4, 5, 4, 3, 1, 5, 4, 1, 4, 3, 4, 3, 3, 1, 3, 1, 3, 1, 3, 1, 2, 3, 2, 3, 3, 5, 4, 4, 1, 2, 4, 1, 4, 1, 3, 4, 2, 3, 5, 5, 3, 2, 5, 2, 1, 1, 5, 1, 3, 1, 3, 1, 1, 2, 1, 5, 4, 1, 2, 5, 4, 3, 5, 1, 5, 3, 2, 3, 4, 1, 2, 3, 3, 1, 4, 1, 4, 5, 5, 3, 5, 2, 4, 3, 3, 1, 5, 1, 2, 4, 2, 1, 2, 4, 5, 1, 2, 3, 1, 4, 1, 2, 4, 3, 5, 5, 1, 5, 2, 5, 3, 1, 3, 5, 5, 3, 3, 2, 3, 4, 5, 4, 1, 1, 5, 1, 3, 5, 2, 2, 2, 5, 1, 3, 2, 4, 2, 1, 4, 2, 1, 5, 1, 2, 3, 1, 4, 2, 2, 5, 3, 3, 1, 3], \"Freq\": [0.9998789765873536, 0.9997296075783965, 0.9997534321004465, 0.9998864698759594, 0.9999674840434334, 0.9999626442293192, 0.9998459774914961, 0.9999227535606718, 0.9998340750516537, 0.9999364345212914, 0.9999197987778952, 0.9996150164236285, 0.9999400871081351, 0.9999631391770434, 0.9998638905388552, 0.9999305034566209, 0.9999399109640682, 0.9998595951617619, 0.9998876257791758, 0.9593953371514917, 0.040530535906116466, 0.9999349055759666, 0.4626913008033098, 0.5372607825403206, 0.9999313910025743, 0.9997925803024353, 0.9999558479872688, 0.9998608930384476, 0.9998200109551247, 0.381500546474099, 0.6184812357023867, 0.894343938577569, 0.10564839907513442, 0.999958443445192, 0.9998693730037277, 0.9999413984317811, 0.9999393758936088, 0.9999427874200941, 0.9999047735304163, 0.9999693283531884, 0.9998650485199648, 0.9999892503242764, 0.9999471572340111, 0.9997933486754333, 0.9996546876185718, 0.999925073458, 0.999874582666918, 0.9999502345695057, 0.9998820262378961, 0.9998972278429861, 0.9999154574146384, 0.9997736128523846, 0.9999182931594588, 0.999913525943061, 0.999906649165164, 0.9999396933307483, 0.32530388240060937, 0.674684775786617, 0.3681560363137834, 0.631779671334626, 0.1214872505503571, 0.8784790222524945, 0.9999820599624818, 0.9999160642840162, 0.9999606234589153, 0.9999422916121381, 0.9999027155290835, 0.9999580789654909, 0.9999007879466535, 0.9999473698945517, 0.9997893781825639, 0.9999654792420645, 0.9999336924806294, 0.9998976967856221, 0.06301654623642444, 0.9369535110435833, 0.9999495223774462, 0.4870012060329301, 0.5129993638383106, 0.6421188998847627, 0.15767658096600182, 0.20020457651504295, 0.9997502405091353, 0.9999110143541232, 0.9998418757858232, 0.9999323317188178, 0.9999187761966781, 0.9999295299422691, 0.9999757214915853, 0.9997397141601762, 0.022802864197990998, 0.9771347831026664, 0.10717616310596159, 0.8927421058716362, 0.9999482311173542, 0.9999831908261162, 0.9999197342019571, 0.9999735008542576, 0.9998696483812918, 0.999800057237296, 0.9999375741657747, 0.9999639072008367, 0.9996990943506704, 0.9997605421423713, 0.9999462786019773, 0.9997211931993256, 0.9999520388510329, 0.9997724702425222, 0.99993142450922, 0.8631976557602105, 0.13679980437798683, 0.9999537057024231, 0.9999875044958918, 0.8522328937062873, 0.14764359050425138, 0.9999153851517016, 0.9999898302298926, 0.9998986580894291, 0.9999530111012734, 0.9999176333405372, 0.9999396010016666, 0.9999351572528811, 0.9999073499579945, 0.9998806344571579, 0.9999176806256151, 0.9997401623306889, 0.9999347725253656, 0.9998815068297875, 0.1876599820751229, 0.812239283346211, 0.9999278188050802, 0.9999931403895462, 0.9998838262518489, 0.9999272563111161, 0.7418618689043072, 0.25811969288074915, 0.99976696873557, 0.9998462847778739, 0.44554079806550145, 0.5544401609994631, 0.999952447873036, 0.9999752499055531, 0.999823849687091, 0.19375624957790916, 0.7439340595038169, 0.062259411128875966, 0.9999463822797467, 0.9999088364631777, 0.999921764700503, 0.9999653236346753, 0.9998470011180254, 0.9998101514324712, 0.9997200606476407, 0.9999717236995437, 0.9999280694715504, 0.9999411856131987, 0.9998270205881892, 0.999794347628101, 0.9999378223330267, 0.9999480693144382, 0.22917920285766596, 0.7707831239356904, 0.9998990085931496, 0.999782722714548, 0.9998466306841682, 0.9999572247711731, 0.9999815844249098, 0.9997547709823593, 0.13782009330202966, 0.8621503114728151, 0.9999040978084024, 0.9999827829783611, 0.9998596964586324, 0.9998403912795892, 0.9999019929009678, 0.7554314556560519, 0.24453962076842642, 0.9999473852738762, 0.9999553382260575, 0.9998601952733177, 0.9999191545300672, 0.9997759010478535, 0.9999622855167092, 0.9999721392342282, 0.9999635578138025, 0.9999230643161804, 0.2876528679275469, 0.7123137078112587, 0.9999718697783883, 0.9999715238763394, 0.9999823218115498, 0.999854121785613, 0.9998227525719114, 0.9998798582611179, 0.9999761189170475, 0.9999001216883889, 0.9999518197578878], \"Term\": [\"abortion\", \"admit\", \"afghanistan\", \"allow\", \"also\", \"america\", \"american\", \"americana\", \"amp\", \"ask\", \"attack\", \"baby\", \"bad\", \"ban\", \"become\", \"believe\", \"bill\", \"book\", \"break\", \"call\", \"call\", \"capitol\", \"case\", \"case\", \"change\", \"charge\", \"child\", \"china\", \"city\", \"cmv\", \"cmv\", \"come\", \"come\", \"conservative\", \"control\", \"country\", \"court\", \"covid\", \"crime\", \"day\", \"death\", \"delete\", \"democrat\", \"desantis\", \"economic\", \"election\", \"end\", \"even\", \"event\", \"fbi\", \"feel\", \"fire\", \"first\", \"florid\", \"force\", \"free\", \"get\", \"get\", \"give\", \"give\", \"go\", \"go\", \"good\", \"gop\", \"government\", \"gun\", \"help\", \"high\", \"history\", \"house\", \"illegal\", \"issue\", \"joe\", \"justice\", \"kill\", \"kill\", \"know\", \"law\", \"law\", \"leave\", \"leave\", \"leave\", \"leftist\", \"let\", \"liberal\", \"libertarian\", \"lie\", \"life\", \"like\", \"link\", \"live\", \"live\", \"long\", \"long\", \"look\", \"make\", \"mandate\", \"many\", \"market\", \"mask\", \"mean\", \"media\", \"message\", \"military\", \"money\", \"movement\", \"much\", \"name\", \"need\", \"new\", \"new\", \"news\", \"one\", \"party\", \"party\", \"pay\", \"people\", \"plan\", \"point\", \"police\", \"political\", \"politics\", \"post\", \"power\", \"president\", \"protest\", \"public\", \"question\", \"read\", \"read\", \"really\", \"remove\", \"report\", \"republican\", \"right\", \"right\", \"russia\", \"russian\", \"say\", \"say\", \"school\", \"see\", \"shoot\", \"show\", \"show\", \"show\", \"social\", \"socialism\", \"socialist\", \"someone\", \"source\", \"speech\", \"stand\", \"state\", \"still\", \"stop\", \"story\", \"sure\", \"system\", \"take\", \"tell\", \"tell\", \"text\", \"thank\", \"theory\", \"thing\", \"think\", \"thoughts\", \"time\", \"time\", \"true\", \"trump\", \"twitter\", \"u\", \"ukraine\", \"use\", \"use\", \"user\", \"vaccine\", \"video\", \"view\", \"violence\", \"vote\", \"want\", \"war\", \"way\", \"we\", \"we\", \"well\", \"white\", \"widen\", \"win\", \"wing\", \"without\", \"work\", \"world\", \"year\"]}, \"R\": 30, \"lambda.step\": 0.01, \"plot.opts\": {\"xlab\": \"PC1\", \"ylab\": \"PC2\"}, \"topic.order\": [2, 1, 4, 3, 5]};\n",
       "\n",
       "function LDAvis_load_lib(url, callback){\n",
       "  var s = document.createElement('script');\n",
       "  s.src = url;\n",
       "  s.async = true;\n",
       "  s.onreadystatechange = s.onload = callback;\n",
       "  s.onerror = function(){console.warn(\"failed to load library \" + url);};\n",
       "  document.getElementsByTagName(\"head\")[0].appendChild(s);\n",
       "}\n",
       "\n",
       "if(typeof(LDAvis) !== \"undefined\"){\n",
       "   // already loaded: just create the visualization\n",
       "   !function(LDAvis){\n",
       "       new LDAvis(\"#\" + \"ldavis_el181401361153595205694359484\", ldavis_el181401361153595205694359484_data);\n",
       "   }(LDAvis);\n",
       "}else if(typeof define === \"function\" && define.amd){\n",
       "   // require.js is available: use it to load d3/LDAvis\n",
       "   require.config({paths: {d3: \"https://d3js.org/d3.v5\"}});\n",
       "   require([\"d3\"], function(d3){\n",
       "      window.d3 = d3;\n",
       "      LDAvis_load_lib(\"https://cdn.jsdelivr.net/gh/bmabey/pyLDAvis@3.4.0/pyLDAvis/js/ldavis.v3.0.0.js\", function(){\n",
       "        new LDAvis(\"#\" + \"ldavis_el181401361153595205694359484\", ldavis_el181401361153595205694359484_data);\n",
       "      });\n",
       "    });\n",
       "}else{\n",
       "    // require.js not available: dynamically load d3 & LDAvis\n",
       "    LDAvis_load_lib(\"https://d3js.org/d3.v5.js\", function(){\n",
       "         LDAvis_load_lib(\"https://cdn.jsdelivr.net/gh/bmabey/pyLDAvis@3.4.0/pyLDAvis/js/ldavis.v3.0.0.js\", function(){\n",
       "                 new LDAvis(\"#\" + \"ldavis_el181401361153595205694359484\", ldavis_el181401361153595205694359484_data);\n",
       "            })\n",
       "         });\n",
       "}\n",
       "</script>"
      ],
      "text/plain": [
       "PreparedData(topic_coordinates=              x         y  topics  cluster       Freq\n",
       "topic                                                \n",
       "1     -0.138705  0.366667       1        1  32.301397\n",
       "0     -0.129492 -0.377496       2        1  26.090817\n",
       "3     -0.403062 -0.003586       3        1  22.830628\n",
       "2      0.325609 -0.232562       4        1  12.002492\n",
       "4      0.345650  0.246976       5        1   6.774665, topic_info=         Term           Freq          Total Category  logprob  loglift\n",
       "182    remove  128211.000000  128211.000000  Default  30.0000  30.0000\n",
       "88     delete   85589.000000   85589.000000  Default  29.0000  29.0000\n",
       "90     people   76038.000000   76038.000000  Default  28.0000  28.0000\n",
       "2386    widen   55297.000000   55297.000000  Default  27.0000  27.0000\n",
       "48       like   44169.000000   44169.000000  Default  26.0000  26.0000\n",
       "...       ...            ...            ...      ...      ...      ...\n",
       "206     admit    3313.992029    3314.896323   Topic5  -5.1557   2.6917\n",
       "2971  message    3279.082882    3279.986967   Topic5  -5.1663   2.6917\n",
       "143      link    3265.947393    3266.850315   Topic5  -5.1703   2.6917\n",
       "525      read    5960.470119    7337.739164   Topic5  -4.5687   2.4841\n",
       "46      leave    3718.743743   18575.998934   Topic5  -5.0405   1.0835\n",
       "\n",
       "[208 rows x 6 columns], token_table=      Topic      Freq         Term\n",
       "term                              \n",
       "539       4  0.999879     abortion\n",
       "206       5  0.999730        admit\n",
       "1524      5  0.999753  afghanistan\n",
       "737       3  0.999886        allow\n",
       "840       1  0.999967         also\n",
       "...     ...       ...          ...\n",
       "454       5  0.999823         wing\n",
       "680       3  0.999880      without\n",
       "307       3  0.999976         work\n",
       "505       1  0.999900        world\n",
       "121       3  0.999952         year\n",
       "\n",
       "[197 rows x 3 columns], R=30, lambda_step=0.01, plot_opts={'xlab': 'PC1', 'ylab': 'PC2'}, topic_order=[2, 1, 4, 3, 5])"
      ]
     },
     "execution_count": 24,
     "metadata": {},
     "output_type": "execute_result"
    }
   ],
   "source": [
    "pyLDAvis.enable_notebook()\n",
    "vis = pyLDAvis.gensim.prepare(lda_model, corpus, id2word, mds=\"mmds\", R=30, n_jobs=1)\n",
    "vis"
   ]
  },
  {
   "cell_type": "code",
   "execution_count": 25,
   "id": "56c4055f-1dd2-4bff-a85c-0a40f683df9a",
   "metadata": {
    "tags": []
   },
   "outputs": [],
   "source": [
    "pyLDAvis.save_html(vis, '../../data/plots/pol_subs_lda.html')"
   ]
  },
  {
   "cell_type": "markdown",
   "id": "e62e0914-46c7-4a70-b30b-6e73312e741a",
   "metadata": {},
   "source": [
    "### Economics Subreddits Submissions"
   ]
  },
  {
   "cell_type": "code",
   "execution_count": 30,
   "id": "7fc8d7d1-7284-4f49-99b8-238d27e8f0c2",
   "metadata": {
    "tags": []
   },
   "outputs": [
    {
     "name": "stderr",
     "output_type": "stream",
     "text": [
      "                                                                                \r"
     ]
    },
    {
     "name": "stdout",
     "output_type": "stream",
     "text": [
      "[(0, 1)]\n",
      "shubham\n"
     ]
    }
   ],
   "source": [
    "excluded_subreddits = [\"Economics\", \"finance\"]\n",
    "\n",
    "# Concat body, title and filter for political subreddits\n",
    "econ_subs_body_title_words = submissions_cleaned.filter(F.col(\"subreddit\").isin(excluded_subreddits))\\\n",
    "                                               .select(F.concat_ws(\" \", submissions_cleaned.cleaned_title,submissions_cleaned.cleaned_body)\\\n",
    "                                               .alias(\"nlpbodytext\"))\n",
    "\n",
    "substr_to_remove = [\"http\", \"https\", \"tinyurl\", \"com\", \"www\", \"jpg\", \"uploads\", \"delete\", \"remove\", ]\n",
    "regex = \"|\".join(substr_to_remove)\n",
    "econ_subs_body_title_words = econ_subs_body_title_words.withColumn(\"nlpbodytext\", F.regexp_replace(\"nlpbodytext\", regex, \" \"))\n",
    "\n",
    "# Function to tokenize a text into a list of words\n",
    "def tokenize_text(text):\n",
    "    return text.split()\n",
    "\n",
    "# Define a UDF to tokenize the text\n",
    "tokenize_udf = F.udf(tokenize_text, ArrayType(StringType()))\n",
    "\n",
    "# Apply the UDF to tokenize the text and create a new column\n",
    "econ_subs_body_title_words = econ_subs_body_title_words.withColumn('tokenized_text', tokenize_udf(econ_subs_body_title_words['nlpbodytext']))\n",
    "\n",
    "# Collect the tokenized text as a list of lists\n",
    "texts = [row['tokenized_text'] for row in econ_subs_body_title_words.select('tokenized_text').collect()]\n",
    "\n",
    "# Create the Gensim dictionary\n",
    "id2word = corpora.Dictionary(texts)\n",
    "\n",
    "# Create the corpus\n",
    "corpus = [id2word.doc2bow(tokens) for tokens in texts]\n",
    "\n",
    "print(corpus[0][0:20])\n",
    "\n",
    "print(id2word[[0][:1][0]])"
   ]
  },
  {
   "cell_type": "code",
   "execution_count": 31,
   "id": "bf0a5d10-5734-4a65-a7df-b39ba6cda7fc",
   "metadata": {
    "tags": []
   },
   "outputs": [],
   "source": [
    "lda_model = gensim.models.ldamodel.LdaModel(corpus=corpus,\n",
    "                                           id2word=id2word,\n",
    "                                           num_topics=5,\n",
    "                                           random_state=100,\n",
    "                                           update_every=1,\n",
    "                                           chunksize=100,\n",
    "                                           passes=10,\n",
    "                                           alpha=\"auto\")"
   ]
  },
  {
   "cell_type": "code",
   "execution_count": 32,
   "id": "9a60734b-05ec-4d8d-a177-7655c7dc17bc",
   "metadata": {
    "tags": []
   },
   "outputs": [
    {
     "name": "stderr",
     "output_type": "stream",
     "text": [
      "/opt/conda/lib/python3.10/site-packages/pandas/core/dtypes/cast.py:1841: DeprecationWarning: np.find_common_type is deprecated.  Please use `np.result_type` or `np.promote_types`.\n",
      "See https://numpy.org/devdocs/release/1.25.0-notes.html and the docs for more information.  (Deprecated NumPy 1.25)\n",
      "  with warnings.catch_warnings():\n"
     ]
    },
    {
     "data": {
      "text/html": [
       "\n",
       "<link rel=\"stylesheet\" type=\"text/css\" href=\"https://cdn.jsdelivr.net/gh/bmabey/pyLDAvis@3.4.0/pyLDAvis/js/ldavis.v1.0.0.css\">\n",
       "\n",
       "\n",
       "<div id=\"ldavis_el181401361011650086224328345\" style=\"background-color:white;\"></div>\n",
       "<script type=\"text/javascript\">\n",
       "\n",
       "var ldavis_el181401361011650086224328345_data = {\"mdsDat\": {\"x\": [0.24531017572632674, -0.03170521580341929, -0.36730695594504437, -0.20136409751735096, 0.35506609353948776], \"y\": [0.2809557414366913, -0.37230967825971817, -0.09518016050633282, 0.3329629495536633, -0.14642885222430366], \"topics\": [1, 2, 3, 4, 5], \"cluster\": [1, 1, 1, 1, 1], \"Freq\": [23.853448662372717, 20.220195442496003, 19.973649956104524, 18.382743025893827, 17.569962913132926]}, \"tinfo\": {\"Term\": [\"s\", \"fintechinshorts\", \"content\", \"fintechnews\", \"wp\", \"we\", \"say\", \"stock\", \"make\", \"new\", \"price\", \"inflation\", \"market\", \"news\", \"get\", \"money\", \"year\", \"bank\", \"know\", \"e\", \"good\", \"buy\", \"finance\", \"trade\", \"review\", \"rate\", \"business\", \"change\", \"team\", \"economy\", \"we\", \"say\", \"stock\", \"inflation\", \"market\", \"news\", \"rate\", \"review\", \"change\", \"economy\", \"high\", \"one\", \"world\", \"take\", \"economic\", \"covid\", \"china\", \"since\", \"go\", \"think\", \"life\", \"feed\", \"top\", \"group\", \"raise\", \"ukraine\", \"russia\", \"picture\", \"un\", \"interest\", \"bank\", \"global\", \"price\", \"amp\", \"crypto\", \"big\", \"rise\", \"tax\", \"house\", \"work\", \"see\", \"video\", \"pany\", \"million\", \"bitcoin\", \"use\", \"fall\", \"investor\", \"job\", \"share\", \"water\", \"may\", \"uk\", \"remain\", \"oil\", \"worker\", \"cost\", \"economics\", \"action\", \"american\", \"gas\", \"pandemic\", \"e\", \"new\", \"get\", \"year\", \"buy\", \"pay\", \"time\", \"people\", \"loan\", \"help\", \"billion\", \"credit\", \"dollar\", \"home\", \"widen\", \"state\", \"way\", \"link\", \"claim\", \"find\", \"late\", \"back\", \"lead\", \"hit\", \"report\", \"break\", \"call\", \"student\", \"last\", \"show\", \"want\", \"key\", \"financial\", \"make\", \"money\", \"know\", \"trade\", \"business\", \"team\", \"currency\", \"view\", \"weakness\", \"strength\", \"payment\", \"editorial\", \"user\", \"today\", \"launch\", \"first\", \"need\", \"th\", \"day\", \"plan\", \"free\", \"online\", \"start\", \"real\", \"guy\", \"end\", \"russian\", \"service\", \"card\", \"xinjiang\", \"month\", \"s\", \"fintechinshorts\", \"content\", \"fintechnews\", \"wp\", \"good\", \"finance\", \"fund\", \"look\", \"m\", \"announce\", \"investment\", \"debt\", \"bill\", \"sell\", \"account\", \"partner\", \"live\", \"like\", \"question\", \"join\", \"digital\", \"risk\", \"invest\", \"bad\", \"open\", \"asset\", \"app\", \"r\", \"right\", \"bank\"], \"Freq\": [7965.0, 7193.0, 3619.0, 3606.0, 3575.0, 4104.0, 3508.0, 3410.0, 2705.0, 2689.0, 2512.0, 2697.0, 2603.0, 2590.0, 2215.0, 2050.0, 2147.0, 3612.0, 1905.0, 2406.0, 1738.0, 1847.0, 1571.0, 1606.0, 1868.0, 1852.0, 1565.0, 1752.0, 1444.0, 1671.0, 4103.247854732004, 3507.1870813967835, 3409.9695385689697, 2696.358104201183, 2602.9213343061506, 2589.577461853404, 1851.5401334568842, 1867.220149668463, 1751.7642485617648, 1670.8692329146725, 1599.0029795203227, 1551.284634150903, 1495.9693653530285, 1314.663573624451, 1236.7397289901062, 1218.7428906117361, 1226.8010830332857, 1194.4432672690182, 1178.4415873702194, 1174.9298199829684, 1122.3501212357346, 1107.1212369848065, 1081.3407904999501, 1084.6787996263804, 1060.9896433448775, 929.7835832047895, 926.6291972365246, 875.639379772422, 886.8620951946805, 866.958338142645, 2044.7059810099786, 992.5409305596908, 2511.6409186981978, 1485.3904593113543, 1456.501472275725, 1322.5373489738495, 1250.078717955625, 1193.6362927713697, 1133.3032553142486, 1084.0594605459855, 1085.2070014283413, 1068.9666854391387, 1033.1741136782464, 982.4436715652569, 946.6400269402872, 923.4374746489117, 814.94526406261, 809.9212403433204, 779.2424286376784, 766.025927280282, 785.8736324408704, 724.0841673305674, 690.2032217445393, 676.5097798354752, 646.1915859375209, 650.2816251061143, 608.5668588699867, 605.6534845231193, 641.5748936712456, 581.6574346440298, 558.4936950480923, 547.1490844314488, 2232.4130449881172, 2688.8419750502007, 2215.037684508123, 2146.344098282879, 1846.448127191071, 1408.6905543055484, 1121.8086905315442, 1068.420577743609, 1032.3608713874557, 1016.0308857853312, 978.6874629522013, 954.2545226799909, 940.9293132196133, 936.6049877410327, 930.5221176663845, 888.3784588439497, 744.8837491831717, 745.7909642757363, 747.8112197751159, 731.88781465121, 707.5815142000841, 698.2626349500488, 654.8308161481432, 612.589799046701, 613.9185202284265, 622.623284646572, 595.7982018970065, 586.8861309971126, 587.57219638862, 587.0374949218186, 556.7461953868783, 560.2500110395117, 1167.291242702501, 2704.9944245277984, 2049.4481446910945, 1904.5013985243575, 1605.394615204349, 1564.1760907636956, 1443.634887047481, 1388.494291581707, 1239.838614339036, 1154.8025873204085, 1147.4872791575785, 1142.5099502785774, 1088.8161210569274, 1079.4809816703305, 1068.126745086473, 1053.315453379308, 984.3939296995026, 976.0096692214884, 931.0349214257026, 869.9979958949087, 871.6582065610021, 835.0738536076057, 827.4376185700826, 832.373474951472, 813.6576341044163, 788.7656942324709, 750.0311154894912, 729.1865453433969, 733.4773497170507, 716.9885452904272, 705.019928520709, 707.4161056204026, 7964.880802050956, 7192.678499884044, 3618.8268387112175, 3605.7571529845754, 3574.274207989056, 1737.9356564972322, 1570.5642211516433, 1268.6520153416188, 1061.4854094903665, 1036.1869222373102, 992.0138419878857, 958.3391859446206, 958.6057833191863, 920.4216226626844, 829.1040540200618, 795.7352332732205, 782.2189969441808, 803.5102049388682, 790.2242345752665, 772.8557162960406, 733.5159662678309, 708.4057508824895, 705.526198563449, 691.6251499713849, 667.3895944686883, 620.4778776553508, 551.7623041364598, 535.3411085581344, 495.48089230206006, 452.700532773299, 1567.3516225635497], \"Total\": [7965.0, 7193.0, 3619.0, 3606.0, 3575.0, 4104.0, 3508.0, 3410.0, 2705.0, 2689.0, 2512.0, 2697.0, 2603.0, 2590.0, 2215.0, 2050.0, 2147.0, 3612.0, 1905.0, 2406.0, 1738.0, 1847.0, 1571.0, 1606.0, 1868.0, 1852.0, 1565.0, 1752.0, 1444.0, 1671.0, 4104.0818349412775, 3508.020877765597, 3410.8015639563605, 2697.1886608306413, 2603.7535532064226, 2590.4079147119646, 1852.3675144930594, 1868.055560779795, 1752.599312113813, 1671.6992508477404, 1599.837001275938, 1552.12377536517, 1496.8051885749805, 1315.4925865640598, 1237.5695562525484, 1219.5682274312371, 1227.6325780662132, 1195.2700842893826, 1179.2742562561752, 1175.7970887685362, 1123.1789597155985, 1107.9471540712907, 1082.179095891026, 1085.5287812199658, 1061.851032193415, 930.6211219668008, 927.4645845381337, 876.4676670938493, 887.7057306463311, 867.7922850791058, 3612.686966764152, 1168.9340720030978, 2512.46459752217, 1486.2204105682067, 1457.3236970718508, 1323.3630220809396, 1250.9027000277886, 1194.4561581279904, 1134.1249802074942, 1084.8826297740848, 1086.0348029904721, 1069.793613973265, 1033.996577008722, 983.2774065265564, 947.4601123036229, 924.2608145240459, 815.7688897139202, 810.7472044470172, 780.0644832770499, 766.8500470760509, 786.7366040636878, 724.9051764560136, 691.0291508060905, 677.3499555403538, 647.0090065842583, 651.1051763795098, 609.3879191900709, 606.4744559123482, 642.459973064542, 582.4765873853858, 559.3113708599636, 547.9724705773051, 2406.357843485521, 2689.665488097856, 2215.8622511220556, 2147.1668149184175, 1847.2793031716753, 1409.5160402902063, 1122.630913818789, 1069.2450152521735, 1033.1781559459039, 1016.8497145081894, 979.508765239347, 955.079531931404, 941.7529095667123, 937.4257374928638, 931.3394449088574, 889.1954150571125, 745.7035065809164, 746.6151883388897, 748.6485895651086, 732.7074451461837, 708.4021108893141, 699.0845242292451, 655.660579472388, 613.4082842955779, 614.7406942752356, 623.4617758910106, 596.6193565163362, 587.7016119018155, 588.395866670967, 587.8615284093783, 557.5646924012283, 561.0770840841564, 1650.5912732497713, 2705.8244017746706, 2050.2806982434827, 1905.3333320848667, 1606.2263899849631, 1565.0080791193132, 1444.4603381332367, 1389.3164786512668, 1240.6608172780504, 1155.620226012353, 1148.30485021074, 1143.3558719725543, 1089.636886614149, 1080.3058009708516, 1068.9584244664454, 1054.1542135182322, 985.2286966178218, 976.8435790547203, 931.8567764919342, 870.8280144669133, 872.4941618257819, 835.9013318572935, 828.2649609613385, 833.2057942338691, 814.4872317283376, 789.6365336123519, 750.8631852794108, 730.0175143373119, 734.3136434054214, 717.8232815881468, 705.843133152531, 708.2521959267467, 7965.6970691483175, 7193.49400644744, 3619.642467411423, 3606.5726616648944, 3575.089711977863, 1738.7722315276487, 1571.390681829777, 1269.4842052946321, 1062.3207360730473, 1037.0135030804508, 992.8336879556304, 959.1714977286739, 959.4496669062643, 921.2764251955431, 829.9538074756472, 796.5603641924829, 783.0363097725914, 804.3527739280934, 791.0585359246309, 773.6817582217642, 734.3552626432374, 709.2324380929442, 706.3622506830508, 692.4569890877502, 668.232769488677, 621.3029728815861, 552.5984998401123, 536.16976447743, 496.2953433228159, 453.53799164634074, 3612.686966764152], \"Category\": [\"Default\", \"Default\", \"Default\", \"Default\", \"Default\", \"Default\", \"Default\", \"Default\", \"Default\", \"Default\", \"Default\", \"Default\", \"Default\", \"Default\", \"Default\", \"Default\", \"Default\", \"Default\", \"Default\", \"Default\", \"Default\", \"Default\", \"Default\", \"Default\", \"Default\", \"Default\", \"Default\", \"Default\", \"Default\", \"Default\", \"Topic1\", \"Topic1\", \"Topic1\", \"Topic1\", \"Topic1\", \"Topic1\", \"Topic1\", \"Topic1\", \"Topic1\", \"Topic1\", \"Topic1\", \"Topic1\", \"Topic1\", \"Topic1\", \"Topic1\", \"Topic1\", \"Topic1\", \"Topic1\", \"Topic1\", \"Topic1\", \"Topic1\", \"Topic1\", \"Topic1\", \"Topic1\", \"Topic1\", \"Topic1\", \"Topic1\", \"Topic1\", \"Topic1\", \"Topic1\", \"Topic1\", \"Topic1\", \"Topic2\", \"Topic2\", \"Topic2\", \"Topic2\", \"Topic2\", \"Topic2\", \"Topic2\", \"Topic2\", \"Topic2\", \"Topic2\", \"Topic2\", \"Topic2\", \"Topic2\", \"Topic2\", \"Topic2\", \"Topic2\", \"Topic2\", \"Topic2\", \"Topic2\", \"Topic2\", \"Topic2\", \"Topic2\", \"Topic2\", \"Topic2\", \"Topic2\", \"Topic2\", \"Topic2\", \"Topic2\", \"Topic2\", \"Topic2\", \"Topic2\", \"Topic3\", \"Topic3\", \"Topic3\", \"Topic3\", \"Topic3\", \"Topic3\", \"Topic3\", \"Topic3\", \"Topic3\", \"Topic3\", \"Topic3\", \"Topic3\", \"Topic3\", \"Topic3\", \"Topic3\", \"Topic3\", \"Topic3\", \"Topic3\", \"Topic3\", \"Topic3\", \"Topic3\", \"Topic3\", \"Topic3\", \"Topic3\", \"Topic3\", \"Topic3\", \"Topic3\", \"Topic3\", \"Topic3\", \"Topic3\", \"Topic3\", \"Topic3\", \"Topic4\", \"Topic4\", \"Topic4\", \"Topic4\", \"Topic4\", \"Topic4\", \"Topic4\", \"Topic4\", \"Topic4\", \"Topic4\", \"Topic4\", \"Topic4\", \"Topic4\", \"Topic4\", \"Topic4\", \"Topic4\", \"Topic4\", \"Topic4\", \"Topic4\", \"Topic4\", \"Topic4\", \"Topic4\", \"Topic4\", \"Topic4\", \"Topic4\", \"Topic4\", \"Topic4\", \"Topic4\", \"Topic4\", \"Topic4\", \"Topic4\", \"Topic5\", \"Topic5\", \"Topic5\", \"Topic5\", \"Topic5\", \"Topic5\", \"Topic5\", \"Topic5\", \"Topic5\", \"Topic5\", \"Topic5\", \"Topic5\", \"Topic5\", \"Topic5\", \"Topic5\", \"Topic5\", \"Topic5\", \"Topic5\", \"Topic5\", \"Topic5\", \"Topic5\", \"Topic5\", \"Topic5\", \"Topic5\", \"Topic5\", \"Topic5\", \"Topic5\", \"Topic5\", \"Topic5\", \"Topic5\", \"Topic5\"], \"logprob\": [30.0, 29.0, 28.0, 27.0, 26.0, 25.0, 24.0, 23.0, 22.0, 21.0, 20.0, 19.0, 18.0, 17.0, 16.0, 15.0, 14.0, 13.0, 12.0, 11.0, 10.0, 9.0, 8.0, 7.0, 6.0, 5.0, 4.0, 3.0, 2.0, 1.0, -3.5725, -3.7295, -3.7576, -3.9924, -4.0277, -4.0328, -4.3683, -4.3599, -4.4237, -4.471, -4.5149, -4.5452, -4.5815, -4.7107, -4.7718, -4.7865, -4.7799, -4.8066, -4.8201, -4.8231, -4.8689, -4.8825, -4.9061, -4.903, -4.9251, -5.0571, -5.0605, -5.1171, -5.1044, -5.1271, -4.269, -4.9918, -3.8981, -4.4234, -4.443, -4.5395, -4.5958, -4.642, -4.6939, -4.7383, -4.7373, -4.7524, -4.7864, -4.8368, -4.8739, -4.8987, -5.0237, -5.0299, -5.0685, -5.0856, -5.06, -5.1419, -5.1898, -5.2099, -5.2557, -5.2494, -5.3157, -5.3205, -5.2629, -5.3609, -5.4016, -5.4221, -4.016, -3.8177, -4.0115, -4.043, -4.1935, -4.4641, -4.6918, -4.7406, -4.7749, -4.7909, -4.8283, -4.8536, -4.8677, -4.8723, -4.8788, -4.9251, -5.1013, -5.1001, -5.0974, -5.1189, -5.1527, -5.1659, -5.2302, -5.2968, -5.2947, -5.2806, -5.3246, -5.3397, -5.3385, -5.3395, -5.3924, -5.3862, -4.6521, -3.7287, -4.0062, -4.0796, -4.2504, -4.2764, -4.3566, -4.3956, -4.5088, -4.5799, -4.5862, -4.5906, -4.6387, -4.6473, -4.6579, -4.6718, -4.7395, -4.7481, -4.7952, -4.863, -4.8611, -4.904, -4.9132, -4.9073, -4.93, -4.9611, -5.0114, -5.0396, -5.0337, -5.0565, -5.0733, -5.0699, -2.6035, -2.7055, -3.3924, -3.396, -3.4048, -4.1259, -4.2271, -4.4406, -4.6189, -4.643, -4.6866, -4.7211, -4.7208, -4.7615, -4.866, -4.9071, -4.9242, -4.8973, -4.914, -4.9362, -4.9885, -5.0233, -5.0274, -5.0473, -5.0829, -5.1558, -5.2732, -5.3034, -5.3808, -5.4711, -4.2292], \"loglift\": [30.0, 29.0, 28.0, 27.0, 26.0, 25.0, 24.0, 23.0, 22.0, 21.0, 20.0, 19.0, 18.0, 17.0, 16.0, 15.0, 14.0, 13.0, 12.0, 11.0, 10.0, 9.0, 8.0, 7.0, 6.0, 5.0, 4.0, 3.0, 2.0, 1.0, 1.433, 1.433, 1.433, 1.4329, 1.4329, 1.4329, 1.4328, 1.4328, 1.4328, 1.4327, 1.4327, 1.4327, 1.4327, 1.4326, 1.4326, 1.4326, 1.4326, 1.4325, 1.4325, 1.4325, 1.4325, 1.4325, 1.4325, 1.4325, 1.4324, 1.4323, 1.4323, 1.4323, 1.4323, 1.4323, 0.864, 1.2697, 1.5982, 1.5979, 1.5979, 1.5979, 1.5978, 1.5978, 1.5978, 1.5977, 1.5977, 1.5977, 1.5977, 1.5976, 1.5976, 1.5976, 1.5975, 1.5975, 1.5974, 1.5974, 1.5974, 1.5974, 1.5973, 1.5972, 1.5972, 1.5972, 1.5971, 1.5971, 1.5971, 1.5971, 1.597, 1.597, 1.5235, 1.6105, 1.6104, 1.6104, 1.6103, 1.6102, 1.61, 1.61, 1.61, 1.61, 1.6099, 1.6099, 1.6099, 1.6099, 1.6099, 1.6098, 1.6097, 1.6097, 1.6096, 1.6096, 1.6096, 1.6096, 1.6095, 1.6094, 1.6094, 1.6094, 1.6094, 1.6094, 1.6094, 1.6094, 1.6093, 1.6093, 1.2643, 1.6935, 1.6934, 1.6933, 1.6932, 1.6932, 1.6932, 1.6932, 1.6931, 1.6931, 1.693, 1.693, 1.693, 1.693, 1.693, 1.693, 1.6929, 1.6929, 1.6929, 1.6928, 1.6928, 1.6928, 1.6928, 1.6928, 1.6927, 1.6927, 1.6926, 1.6926, 1.6926, 1.6926, 1.6926, 1.6926, 1.7389, 1.7389, 1.7388, 1.7388, 1.7388, 1.7385, 1.7385, 1.7383, 1.7382, 1.7382, 1.7382, 1.7381, 1.7381, 1.7381, 1.738, 1.7379, 1.7379, 1.7379, 1.7379, 1.7379, 1.7378, 1.7378, 1.7378, 1.7378, 1.7377, 1.7377, 1.7375, 1.7374, 1.7373, 1.7371, 0.9039]}, \"token.table\": {\"Topic\": [5, 2, 2, 2, 5, 5, 5, 3, 5, 1, 5, 2, 5, 3, 2, 3, 4, 3, 3, 4, 1, 1, 3, 5, 2, 1, 3, 2, 4, 4, 5, 5, 3, 2, 5, 1, 2, 1, 4, 4, 2, 1, 5, 3, 5, 3, 5, 5, 4, 4, 5, 2, 3, 1, 5, 1, 5, 1, 4, 3, 1, 3, 3, 2, 1, 1, 5, 5, 2, 2, 5, 3, 4, 3, 3, 4, 3, 1, 5, 3, 5, 3, 5, 5, 4, 1, 2, 2, 4, 4, 4, 3, 1, 2, 1, 4, 5, 2, 2, 5, 3, 4, 3, 1, 4, 2, 5, 5, 1, 1, 4, 2, 3, 1, 5, 2, 5, 1, 4, 5, 1, 2, 5, 4, 2, 3, 1, 4, 3, 1, 4, 3, 1, 2, 4, 4, 1, 3, 4, 1, 4, 2, 1, 1, 2, 4, 2, 4, 3, 2, 3, 1, 4, 3, 2, 2, 1, 5, 4, 3], \"Freq\": [0.9992965201161484, 0.9992840440123484, 0.9991817913445671, 0.9991788495437631, 0.9991602944523901, 0.9978182945870323, 0.9989169354598584, 0.9984486507830498, 0.9981551795347895, 0.566060668641791, 0.4337491773895778, 0.9997256821636373, 0.9986145035728314, 0.9994805914378697, 0.9995143729032516, 0.9992593356820462, 0.9993558633129355, 0.999307466299504, 0.9989618900064647, 0.9988530859763628, 0.9996580438496862, 0.9994847171071253, 0.9991336528590998, 0.9998225052840972, 0.9993634281582305, 0.9995340749140096, 0.9988696942031404, 0.999777882516766, 0.9990524270952685, 0.9990491641826428, 0.9995313283001971, 0.9982622931118913, 0.9992005232380341, 0.927542844902498, 0.07189288179575813, 0.9995397783909027, 0.9992176819522689, 0.9995817125314941, 0.9994155056404818, 0.9988504093737268, 0.9990574662461205, 0.9991451270326295, 0.9997513782954841, 0.707019368703161, 0.2926224122396116, 0.9990344780159256, 0.9999313259388278, 0.9998412172112927, 0.9987528818212058, 0.9989217245828633, 0.9996185810799278, 0.9976553831581372, 0.9996108733195762, 0.8494918779280553, 0.15056452217053143, 0.9989194572429482, 0.9995558753966468, 0.9995128814370342, 0.9991938903720172, 0.9991643656913447, 0.9994768209040855, 0.9993344004213331, 0.9995458440324004, 0.9990080632847992, 0.9995592963711054, 0.9990870106905438, 0.9993400469704952, 0.9987786358003256, 0.9990783755492233, 0.9986353906633744, 0.9995162251006976, 0.9980803277932577, 0.9998250531393885, 0.9993272103130044, 0.9994323691542797, 0.9989050809611812, 0.9989924978059234, 0.9989503367158008, 0.9986618740882511, 0.999176030238203, 0.9995614188953802, 0.9988596778405315, 0.9987567445233824, 0.9990226712791682, 0.9996953232537448, 0.9997105896579596, 0.9987513174337658, 0.998700868627635, 0.9993753546796885, 0.998231991465825, 0.9991364236068003, 0.9997525758869269, 0.9998425287733071, 0.9984405061228049, 0.9992759756773227, 0.9984727580895487, 0.9979028381667917, 0.9982253295018989, 0.9990361892574103, 0.9986765495294946, 0.9996338883166593, 0.9996887478507105, 0.9988356127600184, 0.9994664183159203, 0.9994336216247592, 0.9998150829577347, 0.9991188131107923, 0.997389974860245, 0.9991985389968902, 0.9998015974204989, 0.9994017932886391, 0.9994833460348062, 0.99879511104091, 0.9994349414428796, 0.9988137892387188, 0.9992783611165212, 0.9994871601891232, 0.999499081101447, 0.9986061781843198, 0.9999124911301213, 0.9997089875456364, 0.9990471732695649, 0.9988507704078757, 0.9982110595149378, 0.9988915080865, 0.9985344705041179, 0.9989374081171473, 0.9985528254337479, 0.9986556216587826, 0.9997649924977076, 0.9988636726471194, 0.9988061766590277, 0.9996255497225215, 0.9996181039170954, 0.99968130787597, 0.9990805706267871, 0.9993220864584967, 0.9994380042353878, 0.9991034034210229, 0.9989104429243708, 0.9992364775024182, 0.998510698420045, 0.999332572674164, 0.9992049948288413, 0.9986358671662444, 0.9987912672785075, 0.9992581616090251, 0.9994673666897128, 0.9989872163554755, 0.9990637221404431, 0.9990565867335907, 0.9997364002510702, 0.9994632959873909, 0.9996355304065419, 0.9991864283288704, 0.9983026146625724, 0.9994620618761035, 0.9996951931096408, 0.9988054949989167, 0.9994565792884323], \"Term\": [\"account\", \"action\", \"american\", \"amp\", \"announce\", \"app\", \"asset\", \"back\", \"bad\", \"bank\", \"bank\", \"big\", \"bill\", \"billion\", \"bitcoin\", \"break\", \"business\", \"buy\", \"call\", \"card\", \"change\", \"china\", \"claim\", \"content\", \"cost\", \"covid\", \"credit\", \"crypto\", \"currency\", \"day\", \"debt\", \"digital\", \"dollar\", \"e\", \"e\", \"economic\", \"economics\", \"economy\", \"editorial\", \"end\", \"fall\", \"feed\", \"finance\", \"financial\", \"financial\", \"find\", \"fintechinshorts\", \"fintechnews\", \"first\", \"free\", \"fund\", \"gas\", \"get\", \"global\", \"global\", \"go\", \"good\", \"group\", \"guy\", \"help\", \"high\", \"hit\", \"home\", \"house\", \"inflation\", \"interest\", \"invest\", \"investment\", \"investor\", \"job\", \"join\", \"key\", \"know\", \"last\", \"late\", \"launch\", \"lead\", \"life\", \"like\", \"link\", \"live\", \"loan\", \"look\", \"m\", \"make\", \"market\", \"may\", \"million\", \"money\", \"month\", \"need\", \"new\", \"news\", \"oil\", \"one\", \"online\", \"open\", \"pandemic\", \"pany\", \"partner\", \"pay\", \"payment\", \"people\", \"picture\", \"plan\", \"price\", \"question\", \"r\", \"raise\", \"rate\", \"real\", \"remain\", \"report\", \"review\", \"right\", \"rise\", \"risk\", \"russia\", \"russian\", \"s\", \"say\", \"see\", \"sell\", \"service\", \"share\", \"show\", \"since\", \"start\", \"state\", \"stock\", \"strength\", \"student\", \"take\", \"tax\", \"team\", \"th\", \"think\", \"time\", \"today\", \"top\", \"trade\", \"uk\", \"ukraine\", \"un\", \"use\", \"user\", \"video\", \"view\", \"want\", \"water\", \"way\", \"we\", \"weakness\", \"widen\", \"work\", \"worker\", \"world\", \"wp\", \"xinjiang\", \"year\"]}, \"R\": 30, \"lambda.step\": 0.01, \"plot.opts\": {\"xlab\": \"PC1\", \"ylab\": \"PC2\"}, \"topic.order\": [1, 5, 4, 2, 3]};\n",
       "\n",
       "function LDAvis_load_lib(url, callback){\n",
       "  var s = document.createElement('script');\n",
       "  s.src = url;\n",
       "  s.async = true;\n",
       "  s.onreadystatechange = s.onload = callback;\n",
       "  s.onerror = function(){console.warn(\"failed to load library \" + url);};\n",
       "  document.getElementsByTagName(\"head\")[0].appendChild(s);\n",
       "}\n",
       "\n",
       "if(typeof(LDAvis) !== \"undefined\"){\n",
       "   // already loaded: just create the visualization\n",
       "   !function(LDAvis){\n",
       "       new LDAvis(\"#\" + \"ldavis_el181401361011650086224328345\", ldavis_el181401361011650086224328345_data);\n",
       "   }(LDAvis);\n",
       "}else if(typeof define === \"function\" && define.amd){\n",
       "   // require.js is available: use it to load d3/LDAvis\n",
       "   require.config({paths: {d3: \"https://d3js.org/d3.v5\"}});\n",
       "   require([\"d3\"], function(d3){\n",
       "      window.d3 = d3;\n",
       "      LDAvis_load_lib(\"https://cdn.jsdelivr.net/gh/bmabey/pyLDAvis@3.4.0/pyLDAvis/js/ldavis.v3.0.0.js\", function(){\n",
       "        new LDAvis(\"#\" + \"ldavis_el181401361011650086224328345\", ldavis_el181401361011650086224328345_data);\n",
       "      });\n",
       "    });\n",
       "}else{\n",
       "    // require.js not available: dynamically load d3 & LDAvis\n",
       "    LDAvis_load_lib(\"https://d3js.org/d3.v5.js\", function(){\n",
       "         LDAvis_load_lib(\"https://cdn.jsdelivr.net/gh/bmabey/pyLDAvis@3.4.0/pyLDAvis/js/ldavis.v3.0.0.js\", function(){\n",
       "                 new LDAvis(\"#\" + \"ldavis_el181401361011650086224328345\", ldavis_el181401361011650086224328345_data);\n",
       "            })\n",
       "         });\n",
       "}\n",
       "</script>"
      ],
      "text/plain": [
       "PreparedData(topic_coordinates=              x         y  topics  cluster       Freq\n",
       "topic                                                \n",
       "0      0.245310  0.280956       1        1  23.853449\n",
       "4     -0.031705 -0.372310       2        1  20.220195\n",
       "3     -0.367307 -0.095180       3        1  19.973650\n",
       "1     -0.201364  0.332963       4        1  18.382743\n",
       "2      0.355066 -0.146429       5        1  17.569963, topic_info=                 Term         Freq        Total Category  logprob  loglift\n",
       "711                 s  7965.000000  7965.000000  Default  30.0000  30.0000\n",
       "707   fintechinshorts  7193.000000  7193.000000  Default  29.0000  29.0000\n",
       "706           content  3619.000000  3619.000000  Default  28.0000  28.0000\n",
       "708       fintechnews  3606.000000  3606.000000  Default  27.0000  27.0000\n",
       "713                wp  3575.000000  3575.000000  Default  26.0000  26.0000\n",
       "...               ...          ...          ...      ...      ...      ...\n",
       "527             asset   551.762304   552.598500   Topic5  -5.2732   1.7375\n",
       "1057              app   535.341109   536.169764   Topic5  -5.3034   1.7374\n",
       "916                 r   495.480892   496.295343   Topic5  -5.3808   1.7373\n",
       "1042            right   452.700533   453.537992   Topic5  -5.4711   1.7371\n",
       "37               bank  1567.351623  3612.686967   Topic5  -4.2292   0.9039\n",
       "\n",
       "[187 rows x 6 columns], token_table=      Topic      Freq      Term\n",
       "term                           \n",
       "593       5  0.999297   account\n",
       "424       2  0.999284    action\n",
       "510       2  0.999182  american\n",
       "871       2  0.999179       amp\n",
       "705       5  0.999160  announce\n",
       "...     ...       ...       ...\n",
       "491       2  0.998303    worker\n",
       "47        1  0.999462     world\n",
       "713       5  0.999695        wp\n",
       "1497      4  0.998805  xinjiang\n",
       "116       3  0.999457      year\n",
       "\n",
       "[160 rows x 3 columns], R=30, lambda_step=0.01, plot_opts={'xlab': 'PC1', 'ylab': 'PC2'}, topic_order=[1, 5, 4, 2, 3])"
      ]
     },
     "execution_count": 32,
     "metadata": {},
     "output_type": "execute_result"
    }
   ],
   "source": [
    "pyLDAvis.enable_notebook()\n",
    "vis = pyLDAvis.gensim.prepare(lda_model, corpus, id2word, mds=\"mmds\", R=30, n_jobs=1)\n",
    "vis"
   ]
  },
  {
   "cell_type": "code",
   "execution_count": 33,
   "id": "37ac40bf-ccdc-437e-9d44-0a5dee417791",
   "metadata": {
    "tags": []
   },
   "outputs": [],
   "source": [
    "pyLDAvis.save_html(vis, '../../data/plots/econ_subs_lda.html')"
   ]
  },
  {
   "cell_type": "markdown",
   "id": "3a0f1eb5-8859-43a7-8e94-3283ce1a2c6b",
   "metadata": {},
   "source": [
    "## LDA for Shared Users Across Political Subreddits"
   ]
  },
  {
   "cell_type": "code",
   "execution_count": 18,
   "id": "012e4a78-856e-4207-aa1d-a2d67797236f",
   "metadata": {
    "tags": []
   },
   "outputs": [],
   "source": [
    "# Calculate the number of unique subreddits per author\n",
    "author_subreddit_count = submissions_cleaned.groupBy(\"author\").agg(F.countDistinct(\"subreddit\").alias(\"subreddit_count\"))\n",
    "\n",
    "# Filter authors with more than 2 subreddits\n",
    "filtered_authors = author_subreddit_count.filter(\"subreddit_count > 2\").select(\"author\")\n",
    "\n",
    "# Join the original DataFrame with the filtered authors\n",
    "submissions_cleaned_common_users = submissions_cleaned.join(filtered_authors, \"author\", \"inner\")"
   ]
  },
  {
   "cell_type": "code",
   "execution_count": 19,
   "id": "3c8515d2-567c-40dd-9a2e-c40f6ab59f22",
   "metadata": {
    "tags": []
   },
   "outputs": [
    {
     "name": "stderr",
     "output_type": "stream",
     "text": [
      "                                                                                \r"
     ]
    },
    {
     "name": "stdout",
     "output_type": "stream",
     "text": [
      "[(0, 1), (1, 1), (2, 1), (3, 1), (4, 1), (5, 1)]\n",
      "copy\n"
     ]
    }
   ],
   "source": [
    "excluded_subreddits = [\"Economics\", \"finance\"]\n",
    "\n",
    "# Concat body, title and filter for political subreddits\n",
    "pol_subs_body_title_words_common_users = submissions_cleaned_common_users.filter(~F.col(\"subreddit\").isin(excluded_subreddits))\\\n",
    "                                               .select(F.concat_ws(\" \", submissions_cleaned_common_users.cleaned_title,submissions_cleaned_common_users.cleaned_body)\\\n",
    "                                               .alias(\"nlpbodytext\"))\n",
    "\n",
    "substr_to_remove = [\"http\", \"https\", \"tinyurl\", \"com\", \"www\", \"jpg\", \"uploads\", \"delete\", \"remove\"]\n",
    "regex = \"|\".join(substr_to_remove)\n",
    "pol_subs_body_title_words_common_users = pol_subs_body_title_words_common_users.withColumn(\"nlpbodytext\", F.regexp_replace(\"nlpbodytext\", regex, \" \"))\n",
    "\n",
    "# Function to tokenize a text into a list of words\n",
    "def tokenize_text(text):\n",
    "    return text.split()\n",
    "\n",
    "# Define a UDF to tokenize the text\n",
    "tokenize_udf = F.udf(tokenize_text, ArrayType(StringType()))\n",
    "\n",
    "# Apply the UDF to tokenize the text and create a new column\n",
    "pol_subs_body_title_words_common_users = pol_subs_body_title_words_common_users.withColumn('tokenized_text', tokenize_udf(pol_subs_body_title_words_common_users['nlpbodytext']))\n",
    "\n",
    "# Collect the tokenized text as a list of lists\n",
    "texts = [row['tokenized_text'] for row in pol_subs_body_title_words_common_users.select('tokenized_text').collect()]\n",
    "\n",
    "# Create the Gensim dictionary\n",
    "id2word = corpora.Dictionary(texts)\n",
    "\n",
    "# Create the corpus\n",
    "corpus = [id2word.doc2bow(tokens) for tokens in texts]\n",
    "\n",
    "print(corpus[0][0:20])\n",
    "\n",
    "print(id2word[[0][:1][0]])"
   ]
  },
  {
   "cell_type": "code",
   "execution_count": 20,
   "id": "aeb84b4a-ffa0-4b75-8887-6cd06d5f3ad8",
   "metadata": {
    "tags": []
   },
   "outputs": [],
   "source": [
    "lda_model = gensim.models.ldamodel.LdaModel(corpus=corpus,\n",
    "                                           id2word=id2word,\n",
    "                                           num_topics=5,\n",
    "                                           random_state=100,\n",
    "                                           update_every=1,\n",
    "                                           chunksize=100,\n",
    "                                           passes=10,\n",
    "                                           alpha=\"auto\")"
   ]
  },
  {
   "cell_type": "code",
   "execution_count": 21,
   "id": "7da4661d-f103-4915-bff6-775479efbe28",
   "metadata": {
    "tags": []
   },
   "outputs": [
    {
     "name": "stderr",
     "output_type": "stream",
     "text": [
      "/opt/conda/lib/python3.10/site-packages/pandas/core/dtypes/cast.py:1841: DeprecationWarning: np.find_common_type is deprecated.  Please use `np.result_type` or `np.promote_types`.\n",
      "See https://numpy.org/devdocs/release/1.25.0-notes.html and the docs for more information.  (Deprecated NumPy 1.25)\n",
      "  with warnings.catch_warnings():\n"
     ]
    },
    {
     "data": {
      "text/html": [
       "\n",
       "<link rel=\"stylesheet\" type=\"text/css\" href=\"https://cdn.jsdelivr.net/gh/bmabey/pyLDAvis@3.4.0/pyLDAvis/js/ldavis.v1.0.0.css\">\n",
       "\n",
       "\n",
       "<div id=\"ldavis_el18139937140710128373433559\" style=\"background-color:white;\"></div>\n",
       "<script type=\"text/javascript\">\n",
       "\n",
       "var ldavis_el18139937140710128373433559_data = {\"mdsDat\": {\"x\": [0.4162481172728103, 0.14873701677675466, -0.34372657572829113, -0.30810814986836044, 0.08684959154708666], \"y\": [-0.02787276636986097, 0.35890386299209964, -0.21273660935820776, 0.26557777966022883, -0.38387226692425974], \"topics\": [1, 2, 3, 4, 5], \"cluster\": [1, 1, 1, 1, 1], \"Freq\": [32.232282733370795, 25.37098844718472, 16.118455445041516, 15.282868809563011, 10.995404564839957]}, \"tinfo\": {\"Term\": [\"widen\", \"new\", \"trump\", \"people\", \"right\", \"we\", \"conservative\", \"user\", \"state\", \"libertarian\", \"covid\", \"think\", \"get\", \"make\", \"cmv\", \"law\", \"say\", \"like\", \"s\", \"police\", \"white\", \"e\", \"republican\", \"government\", \"call\", \"support\", \"one\", \"good\", \"country\", \"democrat\", \"people\", \"think\", \"get\", \"cmv\", \"make\", \"like\", \"e\", \"government\", \"one\", \"go\", \"use\", \"want\", \"take\", \"time\", \"work\", \"see\", \"year\", \"tax\", \"know\", \"need\", \"even\", \"well\", \"also\", \"way\", \"life\", \"help\", \"black\", \"give\", \"high\", \"american\", \"free\", \"widen\", \"trump\", \"we\", \"state\", \"republican\", \"democrat\", \"gun\", \"school\", \"vote\", \"president\", \"america\", \"bill\", \"gop\", \"house\", \"party\", \"election\", \"americana\", \"back\", \"day\", \"federal\", \"public\", \"win\", \"plan\", \"policy\", \"power\", \"claim\", \"crime\", \"control\", \"senate\", \"video\", \"say\", \"right\", \"white\", \"support\", \"good\", \"country\", \"bad\", \"leave\", \"political\", \"media\", \"world\", \"big\", \"thing\", \"war\", \"system\", \"social\", \"capitol\", \"many\", \"issue\", \"try\", \"believe\", \"mean\", \"stop\", \"talk\", \"force\", \"opinion\", \"two\", \"point\", \"society\", \"kill\", \"russia\", \"covid\", \"law\", \"police\", \"s\", \"call\", \"ban\", \"news\", \"court\", \"show\", \"liberal\", \"vaccine\", \"joe\", \"china\", \"post\", \"report\", \"race\", \"abortion\", \"supreme\", \"mandate\", \"today\", \"city\", \"amp\", \"reddit\", \"case\", \"politics\", \"attack\", \"inflation\", \"rule\", \"freedom\", \"justice\", \"group\", \"new\", \"conservative\", \"user\", \"libertarian\", \"question\", \"twitter\", \"florid\", \"be\", \"idea\", \"socialist\", \"mask\", \"death\", \"market\", \"socialism\", \"racism\", \"face\", \"drug\", \"private\", \"real\", \"die\", \"economic\", \"read\", \"economy\", \"second\", \"felon\", \"gt\", \"musk\", \"oppose\", \"property\", \"major\"], \"Freq\": [11670.0, 6258.0, 9576.0, 11373.0, 5331.0, 6728.0, 3715.0, 3605.0, 5786.0, 3541.0, 4104.0, 6735.0, 6581.0, 6356.0, 6346.0, 3466.0, 7802.0, 5627.0, 3310.0, 3285.0, 3367.0, 5247.0, 4304.0, 5160.0, 3093.0, 3180.0, 5126.0, 3135.0, 3050.0, 4027.0, 11372.498359456851, 6735.303910075015, 6580.469077536527, 6345.924150055391, 6356.138186975147, 5626.448958333403, 5247.234783736965, 5159.719844861145, 5125.500167883723, 4877.467728086006, 4546.408342323312, 4530.66252882375, 4377.164496147767, 4314.784347921104, 4325.515200804271, 4123.0110172833865, 3975.2348756308943, 3675.410554656919, 3463.38334484593, 3194.8427708786544, 3147.375070410553, 3009.113649077324, 2971.6011161044476, 2936.400180960779, 2825.826713424528, 2719.1233668571494, 2697.971058504624, 2566.2104436826003, 2482.7070580013547, 2431.980417585398, 2448.4213947000326, 11670.285703965908, 9576.289516102104, 6727.592805057796, 5785.721952369051, 4303.796332835611, 4026.428003526396, 3672.057652102405, 3444.001257795443, 3382.6033312843333, 3278.3866709791996, 3163.369438367308, 3062.9854266692805, 2976.310252762952, 2919.3686156529593, 2899.9514850722835, 2742.3715855037462, 2541.635343452756, 2545.4487416451375, 2378.0569420128804, 2177.0495596865676, 2203.4705722887397, 2052.543143869127, 2000.3507293579037, 1907.880817404023, 1886.5193949361374, 1791.8440392424588, 1754.4330375169436, 1726.0263264751345, 1676.8130044464249, 1683.5949618755271, 5937.372360986962, 5331.301225683664, 3366.805208232498, 3179.510977504222, 3134.7312127915743, 3049.586248489683, 3006.8786595549964, 2973.532782347691, 2898.9563760224833, 2858.7390900940054, 2614.2553461939538, 2531.6496048609583, 2462.080341320381, 2398.067647126497, 2356.9388807611654, 2307.824622750831, 2282.041725624002, 2211.84457897743, 2208.969146642333, 2183.4730774099357, 1803.7241367762756, 1802.5351740038989, 1794.364155707952, 1775.5641217455857, 1701.1681654714214, 1686.9122653072177, 1693.0949871008481, 1608.5369469739285, 1548.6647968860404, 1534.741760147194, 1520.7632269412431, 4103.9432632058515, 3465.7049273950156, 3284.6634011692345, 3310.3603193412428, 3092.572871821363, 2839.06082472172, 2674.687977760424, 2563.071604597488, 2399.9487171379046, 2283.247614617397, 2176.6133572978897, 2134.4658956260055, 1982.7059780108927, 1986.701778882551, 1839.4656075754056, 1633.3308106947227, 1623.2423050717603, 1601.7073604025238, 1599.6867055840273, 1622.3810298085898, 1606.3845893974246, 1513.8699735033142, 1488.607248335183, 1446.9856535742679, 1404.4434908799626, 1392.2871807321117, 1370.4650713777714, 1320.1096225350905, 1317.8896480761143, 1302.2864865384531, 1619.1123846176497, 6258.098419310777, 3715.2102238181938, 3604.9758063057548, 3541.281843177669, 2041.4778430376043, 1794.6887644363544, 1682.421999610933, 1688.7425666977724, 1617.8776964484018, 1497.3710390937124, 1477.4506982904738, 1477.75355912466, 1432.7209550161224, 1384.3565669073844, 1335.5197851586295, 1287.2355985026034, 1289.4070980907525, 1247.813082075968, 1223.9293413176576, 1138.8090760554294, 1135.341445433658, 1081.83251585773, 1079.1263661535136, 1059.4638663307308, 1000.6728958392437, 962.7492572000931, 928.2433495546281, 938.5270017723872, 942.5507692585971, 921.8025983477777], \"Total\": [11670.0, 6258.0, 9576.0, 11373.0, 5331.0, 6728.0, 3715.0, 3605.0, 5786.0, 3541.0, 4104.0, 6735.0, 6581.0, 6356.0, 6346.0, 3466.0, 7802.0, 5627.0, 3310.0, 3285.0, 3367.0, 5247.0, 4304.0, 5160.0, 3093.0, 3180.0, 5126.0, 3135.0, 3050.0, 4027.0, 11373.112375111077, 6735.918061533268, 6581.082605322666, 6346.5283327748, 6356.752846395765, 5627.062077485666, 5247.850731583085, 5160.3370348273465, 5126.115262250671, 4878.0811805344065, 4547.023260658835, 4531.277355664388, 4377.781622719505, 4315.398885975548, 4326.1321354254915, 4123.6269439299695, 3975.849921849637, 3676.0255730250715, 3463.9972622900755, 3195.4560962801684, 3147.989838972625, 3009.725843971341, 2972.219245421615, 2937.013993090795, 2826.4413135675227, 2719.73976121166, 2698.5866211927137, 2566.825334301523, 2483.3245319843013, 2432.5962315733277, 2518.049326290637, 11670.911739530591, 9576.91650550744, 6728.223355066198, 5786.35105922674, 4304.421847241844, 4027.053985317675, 3672.6903376367195, 3444.6354931045084, 3383.2284881525366, 3279.014071124424, 3164.0004546632117, 3063.6127933673993, 2976.9368599671384, 2919.9945858044393, 2900.579673345017, 2742.99396083295, 2542.266574103412, 2546.0812061587367, 2378.690259846077, 2177.681371049504, 2204.112303058907, 2053.1687641540316, 2000.9813874607541, 1908.51384706043, 1887.1537776604287, 1792.475158623667, 1755.0688454853212, 1726.658960331324, 1677.4379284866297, 1684.2284522251834, 7802.623022678783, 5331.920291731586, 3367.4254828988487, 3180.137572263172, 3135.3493667210255, 3050.2067424964885, 3007.4977784590346, 2974.1499922833423, 2899.578040249498, 2859.360212118787, 2614.873466970212, 2532.2721146089143, 2462.6969540610235, 2398.686670121253, 2357.5577968718926, 2308.4463524418215, 2282.6709328678644, 2212.4637197965044, 2209.5920374743005, 2184.094570987911, 1804.344247673854, 1803.1555680088593, 1794.9849836537458, 1776.1847624261025, 1701.790839833206, 1687.5330816806788, 1693.7196325352047, 1609.1569723275366, 1549.2853784481183, 1535.3608089649724, 1521.383957971461, 4104.5636707362655, 3466.333317948374, 3285.285140660383, 3310.991925677317, 3093.1984991952822, 2839.681847941188, 2675.308908381762, 2563.693066309607, 2400.573527134706, 2283.883427273127, 2177.2321420101953, 2135.088658785365, 1983.329160030514, 1987.3276675079674, 1840.084569230846, 1633.954963587413, 1623.8640891714326, 1602.3273572134399, 1600.309145078274, 1623.015370793419, 1607.0152462006313, 1514.4919314277156, 1489.2257995185928, 1447.6070882203426, 1405.0697473971395, 1392.910695965127, 1371.0951767794406, 1320.7330716803122, 1318.51950428112, 1302.9113916112694, 1776.8362256880291, 6258.7059907380535, 3715.8208041983867, 3605.568749542602, 3541.8911419654746, 2042.0888960606196, 1795.2911538517433, 1683.0304334925163, 1689.356900313129, 1618.493056624365, 1497.9744662798753, 1478.059751771703, 1478.3629212379578, 1433.3395830754112, 1384.9617463000006, 1336.1336290921233, 1287.845975358645, 1290.0199770048325, 1248.4268096511978, 1224.5406102894824, 1139.4199586881828, 1135.9589794176097, 1082.4402359124977, 1079.7386636865817, 1060.087235901576, 1001.2728971235894, 963.3634611224018, 928.8426962631931, 939.1457600966719, 943.1728581139619, 922.4153511260461], \"Category\": [\"Default\", \"Default\", \"Default\", \"Default\", \"Default\", \"Default\", \"Default\", \"Default\", \"Default\", \"Default\", \"Default\", \"Default\", \"Default\", \"Default\", \"Default\", \"Default\", \"Default\", \"Default\", \"Default\", \"Default\", \"Default\", \"Default\", \"Default\", \"Default\", \"Default\", \"Default\", \"Default\", \"Default\", \"Default\", \"Default\", \"Topic1\", \"Topic1\", \"Topic1\", \"Topic1\", \"Topic1\", \"Topic1\", \"Topic1\", \"Topic1\", \"Topic1\", \"Topic1\", \"Topic1\", \"Topic1\", \"Topic1\", \"Topic1\", \"Topic1\", \"Topic1\", \"Topic1\", \"Topic1\", \"Topic1\", \"Topic1\", \"Topic1\", \"Topic1\", \"Topic1\", \"Topic1\", \"Topic1\", \"Topic1\", \"Topic1\", \"Topic1\", \"Topic1\", \"Topic1\", \"Topic1\", \"Topic2\", \"Topic2\", \"Topic2\", \"Topic2\", \"Topic2\", \"Topic2\", \"Topic2\", \"Topic2\", \"Topic2\", \"Topic2\", \"Topic2\", \"Topic2\", \"Topic2\", \"Topic2\", \"Topic2\", \"Topic2\", \"Topic2\", \"Topic2\", \"Topic2\", \"Topic2\", \"Topic2\", \"Topic2\", \"Topic2\", \"Topic2\", \"Topic2\", \"Topic2\", \"Topic2\", \"Topic2\", \"Topic2\", \"Topic2\", \"Topic2\", \"Topic3\", \"Topic3\", \"Topic3\", \"Topic3\", \"Topic3\", \"Topic3\", \"Topic3\", \"Topic3\", \"Topic3\", \"Topic3\", \"Topic3\", \"Topic3\", \"Topic3\", \"Topic3\", \"Topic3\", \"Topic3\", \"Topic3\", \"Topic3\", \"Topic3\", \"Topic3\", \"Topic3\", \"Topic3\", \"Topic3\", \"Topic3\", \"Topic3\", \"Topic3\", \"Topic3\", \"Topic3\", \"Topic3\", \"Topic3\", \"Topic4\", \"Topic4\", \"Topic4\", \"Topic4\", \"Topic4\", \"Topic4\", \"Topic4\", \"Topic4\", \"Topic4\", \"Topic4\", \"Topic4\", \"Topic4\", \"Topic4\", \"Topic4\", \"Topic4\", \"Topic4\", \"Topic4\", \"Topic4\", \"Topic4\", \"Topic4\", \"Topic4\", \"Topic4\", \"Topic4\", \"Topic4\", \"Topic4\", \"Topic4\", \"Topic4\", \"Topic4\", \"Topic4\", \"Topic4\", \"Topic4\", \"Topic5\", \"Topic5\", \"Topic5\", \"Topic5\", \"Topic5\", \"Topic5\", \"Topic5\", \"Topic5\", \"Topic5\", \"Topic5\", \"Topic5\", \"Topic5\", \"Topic5\", \"Topic5\", \"Topic5\", \"Topic5\", \"Topic5\", \"Topic5\", \"Topic5\", \"Topic5\", \"Topic5\", \"Topic5\", \"Topic5\", \"Topic5\", \"Topic5\", \"Topic5\", \"Topic5\", \"Topic5\", \"Topic5\", \"Topic5\"], \"logprob\": [30.0, 29.0, 28.0, 27.0, 26.0, 25.0, 24.0, 23.0, 22.0, 21.0, 20.0, 19.0, 18.0, 17.0, 16.0, 15.0, 14.0, 13.0, 12.0, 11.0, 10.0, 9.0, 8.0, 7.0, 6.0, 5.0, 4.0, 3.0, 2.0, 1.0, -3.7743, -4.2981, -4.3214, -4.3577, -4.3561, -4.478, -4.5478, -4.5646, -4.5713, -4.6209, -4.6912, -4.6946, -4.7291, -4.7435, -4.741, -4.7889, -4.8254, -4.9038, -4.9633, -5.044, -5.0589, -5.1039, -5.1164, -5.1283, -5.1667, -5.2052, -5.213, -5.2631, -5.2962, -5.3168, -5.3101, -3.5091, -3.7069, -4.0599, -4.2108, -4.5066, -4.5733, -4.6654, -4.7295, -4.7475, -4.7788, -4.8145, -4.8468, -4.8755, -4.8948, -4.9015, -4.9573, -5.0333, -5.0318, -5.0999, -5.1882, -5.1761, -5.2471, -5.2728, -5.3202, -5.3314, -5.3829, -5.404, -5.4203, -5.4493, -5.4452, -4.1849, -3.8389, -4.2985, -4.3558, -4.37, -4.3975, -4.4116, -4.4228, -4.4482, -4.4621, -4.5515, -4.5836, -4.6115, -4.6378, -4.6551, -4.6762, -4.6874, -4.7187, -4.72, -4.7316, -4.9227, -4.9233, -4.9279, -4.9384, -4.9812, -4.9896, -4.9859, -5.0372, -5.0751, -5.0841, -5.0933, -4.0473, -4.2164, -4.27, -4.2622, -4.3303, -4.4158, -4.4754, -4.5181, -4.5838, -4.6337, -4.6815, -4.7011, -4.7748, -4.7728, -4.8498, -4.9687, -4.9748, -4.9882, -4.9895, -4.9754, -4.9853, -5.0446, -5.0614, -5.0898, -5.1196, -5.1283, -5.1441, -5.1816, -5.1832, -5.1952, -4.9774, -3.2961, -3.8176, -3.8477, -3.8655, -4.4163, -4.5452, -4.6098, -4.606, -4.6489, -4.7263, -4.7397, -4.7395, -4.7704, -4.8048, -4.8407, -4.8775, -4.8758, -4.9086, -4.928, -5.0, -5.0031, -5.0514, -5.0539, -5.0723, -5.1293, -5.168, -5.2045, -5.1935, -5.1892, -5.2114], \"loglift\": [30.0, 29.0, 28.0, 27.0, 26.0, 25.0, 24.0, 23.0, 22.0, 21.0, 20.0, 19.0, 18.0, 17.0, 16.0, 15.0, 14.0, 13.0, 12.0, 11.0, 10.0, 9.0, 8.0, 7.0, 6.0, 5.0, 4.0, 3.0, 2.0, 1.0, 1.1321, 1.1321, 1.1321, 1.1321, 1.1321, 1.1321, 1.1321, 1.1321, 1.1321, 1.1321, 1.1321, 1.1321, 1.1321, 1.1321, 1.1321, 1.1321, 1.132, 1.132, 1.132, 1.132, 1.132, 1.132, 1.132, 1.132, 1.132, 1.132, 1.132, 1.132, 1.132, 1.1319, 1.1042, 1.3715, 1.3715, 1.3715, 1.3715, 1.3714, 1.3714, 1.3714, 1.3714, 1.3714, 1.3714, 1.3714, 1.3714, 1.3714, 1.3713, 1.3713, 1.3713, 1.3713, 1.3713, 1.3713, 1.3713, 1.3713, 1.3713, 1.3712, 1.3712, 1.3712, 1.3712, 1.3712, 1.3712, 1.3712, 1.3712, 1.0984, 1.8251, 1.825, 1.825, 1.825, 1.825, 1.825, 1.825, 1.825, 1.825, 1.825, 1.825, 1.825, 1.8249, 1.8249, 1.8249, 1.8249, 1.8249, 1.8249, 1.8249, 1.8249, 1.8249, 1.8249, 1.8249, 1.8248, 1.8248, 1.8248, 1.8248, 1.8248, 1.8248, 1.8248, 1.8783, 1.8783, 1.8782, 1.8782, 1.8782, 1.8782, 1.8782, 1.8782, 1.8782, 1.8782, 1.8782, 1.8781, 1.8781, 1.8781, 1.8781, 1.8781, 1.8781, 1.8781, 1.878, 1.878, 1.878, 1.878, 1.878, 1.878, 1.878, 1.878, 1.878, 1.878, 1.878, 1.878, 1.7855, 2.2076, 2.2075, 2.2075, 2.2075, 2.2074, 2.2074, 2.2073, 2.2073, 2.2073, 2.2073, 2.2073, 2.2073, 2.2073, 2.2073, 2.2072, 2.2072, 2.2072, 2.2072, 2.2072, 2.2072, 2.2071, 2.2071, 2.2071, 2.2071, 2.2071, 2.2071, 2.207, 2.207, 2.207, 2.207]}, \"token.table\": {\"Topic\": [4, 1, 2, 1, 2, 4, 4, 2, 3, 4, 5, 3, 3, 2, 1, 4, 3, 4, 4, 4, 2, 1, 5, 2, 3, 4, 4, 2, 2, 5, 2, 5, 5, 1, 5, 5, 2, 1, 5, 2, 5, 5, 3, 1, 4, 4, 1, 1, 1, 3, 2, 1, 3, 4, 5, 2, 1, 1, 2, 5, 4, 3, 4, 4, 3, 1, 4, 3, 4, 5, 1, 1, 5, 1, 4, 3, 5, 5, 3, 3, 5, 1, 5, 4, 1, 3, 5, 2, 1, 2, 3, 4, 2, 3, 4, 4, 2, 2, 5, 5, 2, 5, 4, 5, 5, 5, 4, 4, 2, 3, 4, 3, 4, 1, 2, 2, 5, 1, 2, 4, 3, 5, 5, 3, 2, 3, 3, 4, 3, 1, 3, 1, 3, 1, 1, 4, 2, 3, 5, 3, 1, 5, 4, 2, 2, 1, 3, 1, 2, 1, 3, 2, 2, 1, 3, 1], \"Freq\": [0.999467880854565, 0.9999262351113725, 0.9996838007207814, 0.999754899080419, 0.9998951431348201, 0.9996751838570366, 0.9993461921372526, 0.9995753449826654, 0.9998344875056601, 0.9997598857978818, 0.9997887359899718, 0.9998092117541884, 0.9998925413239184, 0.9997999768871817, 0.9997826190984174, 0.9999358272043214, 0.9997060755196013, 0.9995806263831652, 0.9998340366101868, 0.9993682410897895, 0.9997349148068351, 0.9999167524751963, 0.9997791055485078, 0.9996183610391728, 0.9999322201693387, 0.9997296609649905, 0.9998626721908873, 0.9993909951235983, 0.9997098151626846, 0.9997545114039698, 0.9997382738544063, 0.9996314276531839, 0.9992093323956108, 0.9998378895234262, 0.9991557974935843, 0.9993158866016155, 0.9996376365215736, 0.9996855647498062, 0.9993431082793814, 0.9996871116874295, 0.9997274498047701, 0.9993877511232058, 0.9995352896403629, 0.9721811143414624, 0.02740216376207553, 0.9996059942386646, 0.9998354973812682, 0.9996784610582988, 0.9997783594625852, 0.9998885716772957, 0.9996852939745761, 0.9999346874390042, 0.08835929712047953, 0.9111700766755183, 0.9996227165165904, 0.9998120348917944, 0.9997280029427041, 0.9998693155163083, 0.999659387791582, 0.9996953606798948, 0.9992012394194157, 0.9997320602788843, 0.9994901107357366, 0.9993004960911868, 0.9997650005374205, 0.9997121065016615, 0.999903841345364, 0.9999495680164984, 0.9996131907335648, 0.9997483993918063, 0.9998438624692456, 0.9998112554169403, 0.9995497135584972, 0.9998815674584246, 0.9998068216511636, 0.9997904056946312, 0.9997630826083219, 0.9992830115491388, 0.9999137245772803, 0.9998740235255215, 0.9990927459874709, 0.9998572672362173, 0.9998871986095691, 0.9998845335651542, 0.999977514697822, 0.9996841059375572, 0.9998447950223862, 0.9998001525866212, 0.9999021925507822, 0.9995095469318686, 0.9999024505811205, 0.9999132067238687, 0.9997307606328236, 0.9998006467694699, 0.9992386517472737, 0.9998351215487388, 0.9999185134448242, 0.9996907390140976, 0.9996581220077154, 0.9998167270055803, 0.9994953510048634, 0.9994667734285612, 0.9994155508513427, 0.9998999882278136, 0.9995932931002638, 0.9995585199176411, 0.9998483779164544, 0.9994105872909421, 0.9999019967705733, 0.999827399570655, 0.9994449509170089, 0.9997476258577269, 0.9997004143472461, 0.23902218453708038, 0.7608979676121428, 0.9998155122346674, 0.9989743901588899, 0.9998479629853781, 0.9997389301391171, 0.9997610874533842, 0.999806643788213, 0.9993055791594461, 0.99934947737641, 0.9998157999474544, 0.9999393297739548, 0.9994512579978576, 0.9999567401535167, 0.9997956989175987, 0.9997634005526258, 0.9998214568960112, 0.9998959779241378, 0.9997210103671211, 0.9997169956052148, 0.9998637065467719, 0.9999075668353986, 0.9993743923737933, 0.9999043005640789, 0.999498844508635, 0.9998378236025289, 0.9995751170846809, 0.9997749603201531, 0.9998422580230445, 0.9998933774650318, 0.9998643579350048, 0.9999324644630605, 0.9999387908435927, 0.9997137307970205, 0.9996547537420045, 0.9999668032622565, 0.9997588338576436, 0.9998736474196654, 0.9999218793226323, 0.9999178030773807, 0.9999694564517784, 0.9996659620508429, 0.9997862288903395], \"Term\": [\"abortion\", \"also\", \"america\", \"american\", \"americana\", \"amp\", \"attack\", \"back\", \"bad\", \"ban\", \"be\", \"believe\", \"big\", \"bill\", \"black\", \"call\", \"capitol\", \"case\", \"china\", \"city\", \"claim\", \"cmv\", \"conservative\", \"control\", \"country\", \"court\", \"covid\", \"crime\", \"day\", \"death\", \"democrat\", \"die\", \"drug\", \"e\", \"economic\", \"economy\", \"election\", \"even\", \"face\", \"federal\", \"felon\", \"florid\", \"force\", \"free\", \"free\", \"freedom\", \"get\", \"give\", \"go\", \"good\", \"gop\", \"government\", \"group\", \"group\", \"gt\", \"gun\", \"help\", \"high\", \"house\", \"idea\", \"inflation\", \"issue\", \"joe\", \"justice\", \"kill\", \"know\", \"law\", \"leave\", \"liberal\", \"libertarian\", \"life\", \"like\", \"major\", \"make\", \"mandate\", \"many\", \"market\", \"mask\", \"mean\", \"media\", \"musk\", \"need\", \"new\", \"news\", \"one\", \"opinion\", \"oppose\", \"party\", \"people\", \"plan\", \"point\", \"police\", \"policy\", \"political\", \"politics\", \"post\", \"power\", \"president\", \"private\", \"property\", \"public\", \"question\", \"race\", \"racism\", \"read\", \"real\", \"reddit\", \"report\", \"republican\", \"right\", \"rule\", \"russia\", \"s\", \"say\", \"say\", \"school\", \"second\", \"see\", \"senate\", \"show\", \"social\", \"socialism\", \"socialist\", \"society\", \"state\", \"stop\", \"support\", \"supreme\", \"system\", \"take\", \"talk\", \"tax\", \"thing\", \"think\", \"time\", \"today\", \"trump\", \"try\", \"twitter\", \"two\", \"use\", \"user\", \"vaccine\", \"video\", \"vote\", \"want\", \"war\", \"way\", \"we\", \"well\", \"white\", \"widen\", \"win\", \"work\", \"world\", \"year\"]}, \"R\": 30, \"lambda.step\": 0.01, \"plot.opts\": {\"xlab\": \"PC1\", \"ylab\": \"PC2\"}, \"topic.order\": [2, 3, 5, 4, 1]};\n",
       "\n",
       "function LDAvis_load_lib(url, callback){\n",
       "  var s = document.createElement('script');\n",
       "  s.src = url;\n",
       "  s.async = true;\n",
       "  s.onreadystatechange = s.onload = callback;\n",
       "  s.onerror = function(){console.warn(\"failed to load library \" + url);};\n",
       "  document.getElementsByTagName(\"head\")[0].appendChild(s);\n",
       "}\n",
       "\n",
       "if(typeof(LDAvis) !== \"undefined\"){\n",
       "   // already loaded: just create the visualization\n",
       "   !function(LDAvis){\n",
       "       new LDAvis(\"#\" + \"ldavis_el18139937140710128373433559\", ldavis_el18139937140710128373433559_data);\n",
       "   }(LDAvis);\n",
       "}else if(typeof define === \"function\" && define.amd){\n",
       "   // require.js is available: use it to load d3/LDAvis\n",
       "   require.config({paths: {d3: \"https://d3js.org/d3.v5\"}});\n",
       "   require([\"d3\"], function(d3){\n",
       "      window.d3 = d3;\n",
       "      LDAvis_load_lib(\"https://cdn.jsdelivr.net/gh/bmabey/pyLDAvis@3.4.0/pyLDAvis/js/ldavis.v3.0.0.js\", function(){\n",
       "        new LDAvis(\"#\" + \"ldavis_el18139937140710128373433559\", ldavis_el18139937140710128373433559_data);\n",
       "      });\n",
       "    });\n",
       "}else{\n",
       "    // require.js not available: dynamically load d3 & LDAvis\n",
       "    LDAvis_load_lib(\"https://d3js.org/d3.v5.js\", function(){\n",
       "         LDAvis_load_lib(\"https://cdn.jsdelivr.net/gh/bmabey/pyLDAvis@3.4.0/pyLDAvis/js/ldavis.v3.0.0.js\", function(){\n",
       "                 new LDAvis(\"#\" + \"ldavis_el18139937140710128373433559\", ldavis_el18139937140710128373433559_data);\n",
       "            })\n",
       "         });\n",
       "}\n",
       "</script>"
      ],
      "text/plain": [
       "PreparedData(topic_coordinates=              x         y  topics  cluster       Freq\n",
       "topic                                                \n",
       "1      0.416248 -0.027873       1        1  32.232283\n",
       "2      0.148737  0.358904       2        1  25.370988\n",
       "4     -0.343727 -0.212737       3        1  16.118455\n",
       "3     -0.308108  0.265578       4        1  15.282869\n",
       "0      0.086850 -0.383872       5        1  10.995405, topic_info=          Term          Freq         Total Category  logprob  loglift\n",
       "46       widen  11670.000000  11670.000000  Default  30.0000  30.0000\n",
       "9          new   6258.000000   6258.000000  Default  29.0000  29.0000\n",
       "249      trump   9576.000000   9576.000000  Default  28.0000  28.0000\n",
       "233     people  11373.000000  11373.000000  Default  27.0000  27.0000\n",
       "405      right   5331.000000   5331.000000  Default  26.0000  26.0000\n",
       "...        ...           ...           ...      ...      ...      ...\n",
       "4416        gt    962.749257    963.363461   Topic5  -5.1680   2.2071\n",
       "3056      musk    928.243350    928.842696   Topic5  -5.2045   2.2070\n",
       "1772    oppose    938.527002    939.145760   Topic5  -5.1935   2.2070\n",
       "3392  property    942.550769    943.172858   Topic5  -5.1892   2.2070\n",
       "2683     major    921.802598    922.415351   Topic5  -5.2114   2.2070\n",
       "\n",
       "[183 rows x 6 columns], token_table=      Topic      Freq       Term\n",
       "term                            \n",
       "1606      4  0.999468   abortion\n",
       "678       1  0.999926       also\n",
       "6         2  0.999684    america\n",
       "1810      1  0.999755   american\n",
       "761       2  0.999895  americana\n",
       "...     ...       ...        ...\n",
       "46        2  0.999922      widen\n",
       "117       2  0.999918        win\n",
       "429       1  0.999969       work\n",
       "734       3  0.999666      world\n",
       "319       1  0.999786       year\n",
       "\n",
       "[156 rows x 3 columns], R=30, lambda_step=0.01, plot_opts={'xlab': 'PC1', 'ylab': 'PC2'}, topic_order=[2, 3, 5, 4, 1])"
      ]
     },
     "execution_count": 21,
     "metadata": {},
     "output_type": "execute_result"
    }
   ],
   "source": [
    "pyLDAvis.enable_notebook()\n",
    "vis = pyLDAvis.gensim.prepare(lda_model, corpus, id2word, mds=\"mmds\", R=30, n_jobs=1)\n",
    "vis"
   ]
  },
  {
   "cell_type": "code",
   "execution_count": 22,
   "id": "0ed2f4d6-d571-4ed6-9acf-045a351905df",
   "metadata": {
    "tags": []
   },
   "outputs": [],
   "source": [
    "pyLDAvis.save_html(vis, '../../data/plots/lda_shared_users_subs.html')"
   ]
  },
  {
   "cell_type": "code",
   "execution_count": null,
   "id": "6020b58a-f2e7-4cc8-bd93-cd3781082cce",
   "metadata": {},
   "outputs": [],
   "source": []
  }
 ],
 "metadata": {
  "availableInstances": [
   {
    "_defaultOrder": 0,
    "_isFastLaunch": true,
    "category": "General purpose",
    "gpuNum": 0,
    "hideHardwareSpecs": false,
    "memoryGiB": 4,
    "name": "ml.t3.medium",
    "vcpuNum": 2
   },
   {
    "_defaultOrder": 1,
    "_isFastLaunch": false,
    "category": "General purpose",
    "gpuNum": 0,
    "hideHardwareSpecs": false,
    "memoryGiB": 8,
    "name": "ml.t3.large",
    "vcpuNum": 2
   },
   {
    "_defaultOrder": 2,
    "_isFastLaunch": false,
    "category": "General purpose",
    "gpuNum": 0,
    "hideHardwareSpecs": false,
    "memoryGiB": 16,
    "name": "ml.t3.xlarge",
    "vcpuNum": 4
   },
   {
    "_defaultOrder": 3,
    "_isFastLaunch": false,
    "category": "General purpose",
    "gpuNum": 0,
    "hideHardwareSpecs": false,
    "memoryGiB": 32,
    "name": "ml.t3.2xlarge",
    "vcpuNum": 8
   },
   {
    "_defaultOrder": 4,
    "_isFastLaunch": true,
    "category": "General purpose",
    "gpuNum": 0,
    "hideHardwareSpecs": false,
    "memoryGiB": 8,
    "name": "ml.m5.large",
    "vcpuNum": 2
   },
   {
    "_defaultOrder": 5,
    "_isFastLaunch": false,
    "category": "General purpose",
    "gpuNum": 0,
    "hideHardwareSpecs": false,
    "memoryGiB": 16,
    "name": "ml.m5.xlarge",
    "vcpuNum": 4
   },
   {
    "_defaultOrder": 6,
    "_isFastLaunch": false,
    "category": "General purpose",
    "gpuNum": 0,
    "hideHardwareSpecs": false,
    "memoryGiB": 32,
    "name": "ml.m5.2xlarge",
    "vcpuNum": 8
   },
   {
    "_defaultOrder": 7,
    "_isFastLaunch": false,
    "category": "General purpose",
    "gpuNum": 0,
    "hideHardwareSpecs": false,
    "memoryGiB": 64,
    "name": "ml.m5.4xlarge",
    "vcpuNum": 16
   },
   {
    "_defaultOrder": 8,
    "_isFastLaunch": false,
    "category": "General purpose",
    "gpuNum": 0,
    "hideHardwareSpecs": false,
    "memoryGiB": 128,
    "name": "ml.m5.8xlarge",
    "vcpuNum": 32
   },
   {
    "_defaultOrder": 9,
    "_isFastLaunch": false,
    "category": "General purpose",
    "gpuNum": 0,
    "hideHardwareSpecs": false,
    "memoryGiB": 192,
    "name": "ml.m5.12xlarge",
    "vcpuNum": 48
   },
   {
    "_defaultOrder": 10,
    "_isFastLaunch": false,
    "category": "General purpose",
    "gpuNum": 0,
    "hideHardwareSpecs": false,
    "memoryGiB": 256,
    "name": "ml.m5.16xlarge",
    "vcpuNum": 64
   },
   {
    "_defaultOrder": 11,
    "_isFastLaunch": false,
    "category": "General purpose",
    "gpuNum": 0,
    "hideHardwareSpecs": false,
    "memoryGiB": 384,
    "name": "ml.m5.24xlarge",
    "vcpuNum": 96
   },
   {
    "_defaultOrder": 12,
    "_isFastLaunch": false,
    "category": "General purpose",
    "gpuNum": 0,
    "hideHardwareSpecs": false,
    "memoryGiB": 8,
    "name": "ml.m5d.large",
    "vcpuNum": 2
   },
   {
    "_defaultOrder": 13,
    "_isFastLaunch": false,
    "category": "General purpose",
    "gpuNum": 0,
    "hideHardwareSpecs": false,
    "memoryGiB": 16,
    "name": "ml.m5d.xlarge",
    "vcpuNum": 4
   },
   {
    "_defaultOrder": 14,
    "_isFastLaunch": false,
    "category": "General purpose",
    "gpuNum": 0,
    "hideHardwareSpecs": false,
    "memoryGiB": 32,
    "name": "ml.m5d.2xlarge",
    "vcpuNum": 8
   },
   {
    "_defaultOrder": 15,
    "_isFastLaunch": false,
    "category": "General purpose",
    "gpuNum": 0,
    "hideHardwareSpecs": false,
    "memoryGiB": 64,
    "name": "ml.m5d.4xlarge",
    "vcpuNum": 16
   },
   {
    "_defaultOrder": 16,
    "_isFastLaunch": false,
    "category": "General purpose",
    "gpuNum": 0,
    "hideHardwareSpecs": false,
    "memoryGiB": 128,
    "name": "ml.m5d.8xlarge",
    "vcpuNum": 32
   },
   {
    "_defaultOrder": 17,
    "_isFastLaunch": false,
    "category": "General purpose",
    "gpuNum": 0,
    "hideHardwareSpecs": false,
    "memoryGiB": 192,
    "name": "ml.m5d.12xlarge",
    "vcpuNum": 48
   },
   {
    "_defaultOrder": 18,
    "_isFastLaunch": false,
    "category": "General purpose",
    "gpuNum": 0,
    "hideHardwareSpecs": false,
    "memoryGiB": 256,
    "name": "ml.m5d.16xlarge",
    "vcpuNum": 64
   },
   {
    "_defaultOrder": 19,
    "_isFastLaunch": false,
    "category": "General purpose",
    "gpuNum": 0,
    "hideHardwareSpecs": false,
    "memoryGiB": 384,
    "name": "ml.m5d.24xlarge",
    "vcpuNum": 96
   },
   {
    "_defaultOrder": 20,
    "_isFastLaunch": false,
    "category": "General purpose",
    "gpuNum": 0,
    "hideHardwareSpecs": true,
    "memoryGiB": 0,
    "name": "ml.geospatial.interactive",
    "supportedImageNames": [
     "sagemaker-geospatial-v1-0"
    ],
    "vcpuNum": 0
   },
   {
    "_defaultOrder": 21,
    "_isFastLaunch": true,
    "category": "Compute optimized",
    "gpuNum": 0,
    "hideHardwareSpecs": false,
    "memoryGiB": 4,
    "name": "ml.c5.large",
    "vcpuNum": 2
   },
   {
    "_defaultOrder": 22,
    "_isFastLaunch": false,
    "category": "Compute optimized",
    "gpuNum": 0,
    "hideHardwareSpecs": false,
    "memoryGiB": 8,
    "name": "ml.c5.xlarge",
    "vcpuNum": 4
   },
   {
    "_defaultOrder": 23,
    "_isFastLaunch": false,
    "category": "Compute optimized",
    "gpuNum": 0,
    "hideHardwareSpecs": false,
    "memoryGiB": 16,
    "name": "ml.c5.2xlarge",
    "vcpuNum": 8
   },
   {
    "_defaultOrder": 24,
    "_isFastLaunch": false,
    "category": "Compute optimized",
    "gpuNum": 0,
    "hideHardwareSpecs": false,
    "memoryGiB": 32,
    "name": "ml.c5.4xlarge",
    "vcpuNum": 16
   },
   {
    "_defaultOrder": 25,
    "_isFastLaunch": false,
    "category": "Compute optimized",
    "gpuNum": 0,
    "hideHardwareSpecs": false,
    "memoryGiB": 72,
    "name": "ml.c5.9xlarge",
    "vcpuNum": 36
   },
   {
    "_defaultOrder": 26,
    "_isFastLaunch": false,
    "category": "Compute optimized",
    "gpuNum": 0,
    "hideHardwareSpecs": false,
    "memoryGiB": 96,
    "name": "ml.c5.12xlarge",
    "vcpuNum": 48
   },
   {
    "_defaultOrder": 27,
    "_isFastLaunch": false,
    "category": "Compute optimized",
    "gpuNum": 0,
    "hideHardwareSpecs": false,
    "memoryGiB": 144,
    "name": "ml.c5.18xlarge",
    "vcpuNum": 72
   },
   {
    "_defaultOrder": 28,
    "_isFastLaunch": false,
    "category": "Compute optimized",
    "gpuNum": 0,
    "hideHardwareSpecs": false,
    "memoryGiB": 192,
    "name": "ml.c5.24xlarge",
    "vcpuNum": 96
   },
   {
    "_defaultOrder": 29,
    "_isFastLaunch": true,
    "category": "Accelerated computing",
    "gpuNum": 1,
    "hideHardwareSpecs": false,
    "memoryGiB": 16,
    "name": "ml.g4dn.xlarge",
    "vcpuNum": 4
   },
   {
    "_defaultOrder": 30,
    "_isFastLaunch": false,
    "category": "Accelerated computing",
    "gpuNum": 1,
    "hideHardwareSpecs": false,
    "memoryGiB": 32,
    "name": "ml.g4dn.2xlarge",
    "vcpuNum": 8
   },
   {
    "_defaultOrder": 31,
    "_isFastLaunch": false,
    "category": "Accelerated computing",
    "gpuNum": 1,
    "hideHardwareSpecs": false,
    "memoryGiB": 64,
    "name": "ml.g4dn.4xlarge",
    "vcpuNum": 16
   },
   {
    "_defaultOrder": 32,
    "_isFastLaunch": false,
    "category": "Accelerated computing",
    "gpuNum": 1,
    "hideHardwareSpecs": false,
    "memoryGiB": 128,
    "name": "ml.g4dn.8xlarge",
    "vcpuNum": 32
   },
   {
    "_defaultOrder": 33,
    "_isFastLaunch": false,
    "category": "Accelerated computing",
    "gpuNum": 4,
    "hideHardwareSpecs": false,
    "memoryGiB": 192,
    "name": "ml.g4dn.12xlarge",
    "vcpuNum": 48
   },
   {
    "_defaultOrder": 34,
    "_isFastLaunch": false,
    "category": "Accelerated computing",
    "gpuNum": 1,
    "hideHardwareSpecs": false,
    "memoryGiB": 256,
    "name": "ml.g4dn.16xlarge",
    "vcpuNum": 64
   },
   {
    "_defaultOrder": 35,
    "_isFastLaunch": false,
    "category": "Accelerated computing",
    "gpuNum": 1,
    "hideHardwareSpecs": false,
    "memoryGiB": 61,
    "name": "ml.p3.2xlarge",
    "vcpuNum": 8
   },
   {
    "_defaultOrder": 36,
    "_isFastLaunch": false,
    "category": "Accelerated computing",
    "gpuNum": 4,
    "hideHardwareSpecs": false,
    "memoryGiB": 244,
    "name": "ml.p3.8xlarge",
    "vcpuNum": 32
   },
   {
    "_defaultOrder": 37,
    "_isFastLaunch": false,
    "category": "Accelerated computing",
    "gpuNum": 8,
    "hideHardwareSpecs": false,
    "memoryGiB": 488,
    "name": "ml.p3.16xlarge",
    "vcpuNum": 64
   },
   {
    "_defaultOrder": 38,
    "_isFastLaunch": false,
    "category": "Accelerated computing",
    "gpuNum": 8,
    "hideHardwareSpecs": false,
    "memoryGiB": 768,
    "name": "ml.p3dn.24xlarge",
    "vcpuNum": 96
   },
   {
    "_defaultOrder": 39,
    "_isFastLaunch": false,
    "category": "Memory Optimized",
    "gpuNum": 0,
    "hideHardwareSpecs": false,
    "memoryGiB": 16,
    "name": "ml.r5.large",
    "vcpuNum": 2
   },
   {
    "_defaultOrder": 40,
    "_isFastLaunch": false,
    "category": "Memory Optimized",
    "gpuNum": 0,
    "hideHardwareSpecs": false,
    "memoryGiB": 32,
    "name": "ml.r5.xlarge",
    "vcpuNum": 4
   },
   {
    "_defaultOrder": 41,
    "_isFastLaunch": false,
    "category": "Memory Optimized",
    "gpuNum": 0,
    "hideHardwareSpecs": false,
    "memoryGiB": 64,
    "name": "ml.r5.2xlarge",
    "vcpuNum": 8
   },
   {
    "_defaultOrder": 42,
    "_isFastLaunch": false,
    "category": "Memory Optimized",
    "gpuNum": 0,
    "hideHardwareSpecs": false,
    "memoryGiB": 128,
    "name": "ml.r5.4xlarge",
    "vcpuNum": 16
   },
   {
    "_defaultOrder": 43,
    "_isFastLaunch": false,
    "category": "Memory Optimized",
    "gpuNum": 0,
    "hideHardwareSpecs": false,
    "memoryGiB": 256,
    "name": "ml.r5.8xlarge",
    "vcpuNum": 32
   },
   {
    "_defaultOrder": 44,
    "_isFastLaunch": false,
    "category": "Memory Optimized",
    "gpuNum": 0,
    "hideHardwareSpecs": false,
    "memoryGiB": 384,
    "name": "ml.r5.12xlarge",
    "vcpuNum": 48
   },
   {
    "_defaultOrder": 45,
    "_isFastLaunch": false,
    "category": "Memory Optimized",
    "gpuNum": 0,
    "hideHardwareSpecs": false,
    "memoryGiB": 512,
    "name": "ml.r5.16xlarge",
    "vcpuNum": 64
   },
   {
    "_defaultOrder": 46,
    "_isFastLaunch": false,
    "category": "Memory Optimized",
    "gpuNum": 0,
    "hideHardwareSpecs": false,
    "memoryGiB": 768,
    "name": "ml.r5.24xlarge",
    "vcpuNum": 96
   },
   {
    "_defaultOrder": 47,
    "_isFastLaunch": false,
    "category": "Accelerated computing",
    "gpuNum": 1,
    "hideHardwareSpecs": false,
    "memoryGiB": 16,
    "name": "ml.g5.xlarge",
    "vcpuNum": 4
   },
   {
    "_defaultOrder": 48,
    "_isFastLaunch": false,
    "category": "Accelerated computing",
    "gpuNum": 1,
    "hideHardwareSpecs": false,
    "memoryGiB": 32,
    "name": "ml.g5.2xlarge",
    "vcpuNum": 8
   },
   {
    "_defaultOrder": 49,
    "_isFastLaunch": false,
    "category": "Accelerated computing",
    "gpuNum": 1,
    "hideHardwareSpecs": false,
    "memoryGiB": 64,
    "name": "ml.g5.4xlarge",
    "vcpuNum": 16
   },
   {
    "_defaultOrder": 50,
    "_isFastLaunch": false,
    "category": "Accelerated computing",
    "gpuNum": 1,
    "hideHardwareSpecs": false,
    "memoryGiB": 128,
    "name": "ml.g5.8xlarge",
    "vcpuNum": 32
   },
   {
    "_defaultOrder": 51,
    "_isFastLaunch": false,
    "category": "Accelerated computing",
    "gpuNum": 1,
    "hideHardwareSpecs": false,
    "memoryGiB": 256,
    "name": "ml.g5.16xlarge",
    "vcpuNum": 64
   },
   {
    "_defaultOrder": 52,
    "_isFastLaunch": false,
    "category": "Accelerated computing",
    "gpuNum": 4,
    "hideHardwareSpecs": false,
    "memoryGiB": 192,
    "name": "ml.g5.12xlarge",
    "vcpuNum": 48
   },
   {
    "_defaultOrder": 53,
    "_isFastLaunch": false,
    "category": "Accelerated computing",
    "gpuNum": 4,
    "hideHardwareSpecs": false,
    "memoryGiB": 384,
    "name": "ml.g5.24xlarge",
    "vcpuNum": 96
   },
   {
    "_defaultOrder": 54,
    "_isFastLaunch": false,
    "category": "Accelerated computing",
    "gpuNum": 8,
    "hideHardwareSpecs": false,
    "memoryGiB": 768,
    "name": "ml.g5.48xlarge",
    "vcpuNum": 192
   },
   {
    "_defaultOrder": 55,
    "_isFastLaunch": false,
    "category": "Accelerated computing",
    "gpuNum": 8,
    "hideHardwareSpecs": false,
    "memoryGiB": 1152,
    "name": "ml.p4d.24xlarge",
    "vcpuNum": 96
   },
   {
    "_defaultOrder": 56,
    "_isFastLaunch": false,
    "category": "Accelerated computing",
    "gpuNum": 8,
    "hideHardwareSpecs": false,
    "memoryGiB": 1152,
    "name": "ml.p4de.24xlarge",
    "vcpuNum": 96
   },
   {
    "_defaultOrder": 57,
    "_isFastLaunch": false,
    "category": "Accelerated computing",
    "gpuNum": 0,
    "hideHardwareSpecs": false,
    "memoryGiB": 32,
    "name": "ml.trn1.2xlarge",
    "vcpuNum": 8
   },
   {
    "_defaultOrder": 58,
    "_isFastLaunch": false,
    "category": "Accelerated computing",
    "gpuNum": 0,
    "hideHardwareSpecs": false,
    "memoryGiB": 512,
    "name": "ml.trn1.32xlarge",
    "vcpuNum": 128
   },
   {
    "_defaultOrder": 59,
    "_isFastLaunch": false,
    "category": "Accelerated computing",
    "gpuNum": 0,
    "hideHardwareSpecs": false,
    "memoryGiB": 512,
    "name": "ml.trn1n.32xlarge",
    "vcpuNum": 128
   }
  ],
  "instance_type": "ml.t3.xlarge",
  "kernel_info": {
   "name": "synapse_pyspark"
  },
  "kernelspec": {
   "display_name": "Python 3 (Data Science 3.0)",
   "language": "python",
   "name": "python3__SAGEMAKER_INTERNAL__arn:aws:sagemaker:us-east-1:081325390199:image/sagemaker-data-science-310-v1"
  },
  "language_info": {
   "codemirror_mode": {
    "name": "ipython",
    "version": 3
   },
   "file_extension": ".py",
   "mimetype": "text/x-python",
   "name": "python",
   "nbconvert_exporter": "python",
   "pygments_lexer": "ipython3",
   "version": "3.10.6"
  },
  "microsoft": {
   "host": {
    "AzureML": {
     "notebookHasBeenCompleted": true
    }
   },
   "ms_spell_check": {
    "ms_spell_check_language": "en"
   }
  },
  "nteract": {
   "version": "nteract-front-end@1.0.0"
  }
 },
 "nbformat": 4,
 "nbformat_minor": 5
}
