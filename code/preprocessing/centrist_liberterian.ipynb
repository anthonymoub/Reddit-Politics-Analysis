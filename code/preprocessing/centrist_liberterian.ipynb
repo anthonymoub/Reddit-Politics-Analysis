{
 "cells": [
  {
   "cell_type": "markdown",
   "metadata": {},
   "source": [
    "# Processing large datasets with Apache Spark and Amazon SageMaker\n",
    "\n",
    "***This notebook run on `Data Science 3.0 - Python 3` kernel on a `ml.t3.large` instance***."
   ]
  },
  {
   "cell_type": "markdown",
   "metadata": {},
   "source": [
    "Amazon SageMaker Processing Jobs are used  to analyze data and evaluate machine learning models on Amazon SageMaker. With Processing, you can use a simplified, managed experience on SageMaker to run your data processing workloads, such as feature engineering, data validation, model evaluation, and model interpretation. You can also use the Amazon SageMaker Processing APIs during the experimentation phase and after the code is deployed in production to evaluate performance.\n",
    "\n",
    "        \n"
   ]
  },
  {
   "cell_type": "markdown",
   "metadata": {},
   "source": [
    "![](https://docs.aws.amazon.com/images/sagemaker/latest/dg/images/Processing-1.png)"
   ]
  },
  {
   "cell_type": "markdown",
   "metadata": {},
   "source": [
    "The preceding diagram shows how Amazon SageMaker spins up a Processing job. Amazon SageMaker takes your script, copies your data from Amazon Simple Storage Service (Amazon S3), and then pulls a processing container. The processing container image can either be an Amazon SageMaker built-in image or a custom image that you provide. The underlying infrastructure for a Processing job is fully managed by Amazon SageMaker. Cluster resources are provisioned for the duration of your job, and cleaned up when a job completes. The output of the Processing job is stored in the Amazon S3 bucket you specified."
   ]
  },
  {
   "cell_type": "markdown",
   "metadata": {},
   "source": [
    "## Our workflow for processing large amounts of data with SageMaker\n",
    "\n",
    "We can divide our workflow into two steps:\n",
    "    \n",
    "1. Work with a small subset of the data with Spark running in local model in a SageMaker Studio Notebook.\n",
    "\n",
    "1. Once we are able to work with the small subset of data we can provide the same code (as a Python script rather than a series of interactive steps) to SageMaker Processing which launched a Spark cluster, runs out code and terminates the cluster."
   ]
  },
  {
   "cell_type": "markdown",
   "metadata": {},
   "source": [
    "## In this notebook...\n",
    "\n",
    "We will analyze the [Pushshift Reddit dataset](https://arxiv.org/pdf/2001.08435.pdf) to be used for the project and then we will run a SageMaker Processing Job to filter out the comments and submissions from subreddits of interest. The filtered data will be stored in your account's s3 bucket and it is this filtered data that you will be using for your project."
   ]
  },
  {
   "cell_type": "markdown",
   "metadata": {},
   "source": [
    "## Setup\n",
    "We need an available Java installation to run pyspark. The easiest way to do this is to install JDK and set the proper paths using conda"
   ]
  },
  {
   "cell_type": "code",
   "execution_count": 3,
   "metadata": {
    "tags": []
   },
   "outputs": [
    {
     "name": "stdout",
     "output_type": "stream",
     "text": [
      "Collecting package metadata (current_repodata.json): done\n",
      "Solving environment: done\n",
      "\n",
      "\n",
      "==> WARNING: A newer version of conda exists. <==\n",
      "  current version: 23.3.1\n",
      "  latest version: 23.9.0\n",
      "\n",
      "Please update conda by running\n",
      "\n",
      "    $ conda update -n base -c defaults conda\n",
      "\n",
      "Or to minimize the number of packages updated during conda update use\n",
      "\n",
      "     conda install conda=23.9.0\n",
      "\n",
      "\n",
      "\n",
      "# All requested packages already installed.\n",
      "\n",
      "\n",
      "Note: you may need to restart the kernel to use updated packages.\n",
      "Requirement already satisfied: pyspark==3.3.0 in /opt/conda/lib/python3.10/site-packages (3.3.0)\n",
      "Requirement already satisfied: py4j==0.10.9.5 in /opt/conda/lib/python3.10/site-packages (from pyspark==3.3.0) (0.10.9.5)\n",
      "\u001b[33mWARNING: Running pip as the 'root' user can result in broken permissions and conflicting behaviour with the system package manager. It is recommended to use a virtual environment instead: https://pip.pypa.io/warnings/venv\u001b[0m\u001b[33m\n",
      "\u001b[0m\n",
      "\u001b[1m[\u001b[0m\u001b[34;49mnotice\u001b[0m\u001b[1;39;49m]\u001b[0m\u001b[39;49m A new release of pip is available: \u001b[0m\u001b[31;49m23.2.1\u001b[0m\u001b[39;49m -> \u001b[0m\u001b[32;49m23.3.1\u001b[0m\n",
      "\u001b[1m[\u001b[0m\u001b[34;49mnotice\u001b[0m\u001b[1;39;49m]\u001b[0m\u001b[39;49m To update, run: \u001b[0m\u001b[32;49mpip install --upgrade pip\u001b[0m\n",
      "Note: you may need to restart the kernel to use updated packages.\n"
     ]
    },
    {
     "data": {
      "text/html": [
       "<script>Jupyter.notebook.kernel.restart()</script>"
      ],
      "text/plain": [
       "<IPython.core.display.HTML object>"
      ]
     },
     "execution_count": 3,
     "metadata": {},
     "output_type": "execute_result"
    }
   ],
   "source": [
    "# Setup - Run only once per Kernel App\n",
    "%conda install openjdk -y\n",
    "\n",
    "# install PySpark\n",
    "%pip install pyspark==3.3.0\n",
    "\n",
    "# restart kernel\n",
    "from IPython.core.display import HTML\n",
    "HTML(\"<script>Jupyter.notebook.kernel.restart()</script>\")"
   ]
  },
  {
   "cell_type": "code",
   "execution_count": 4,
   "metadata": {
    "tags": []
   },
   "outputs": [
    {
     "name": "stderr",
     "output_type": "stream",
     "text": [
      "Warning: Ignoring non-Spark config property: fs.s3a.aws.credentials.provider\n"
     ]
    },
    {
     "name": "stdout",
     "output_type": "stream",
     "text": [
      ":: loading settings :: url = jar:file:/opt/conda/lib/python3.10/site-packages/pyspark/jars/ivy-2.5.0.jar!/org/apache/ivy/core/settings/ivysettings.xml\n"
     ]
    },
    {
     "name": "stderr",
     "output_type": "stream",
     "text": [
      "Ivy Default Cache set to: /root/.ivy2/cache\n",
      "The jars for the packages stored in: /root/.ivy2/jars\n",
      "org.apache.hadoop#hadoop-aws added as a dependency\n",
      ":: resolving dependencies :: org.apache.spark#spark-submit-parent-c0c02831-9312-41d7-a2f6-a926d4daf29a;1.0\n",
      "\tconfs: [default]\n",
      "\tfound org.apache.hadoop#hadoop-aws;3.2.2 in central\n",
      "\tfound com.amazonaws#aws-java-sdk-bundle;1.11.563 in central\n",
      ":: resolution report :: resolve 472ms :: artifacts dl 23ms\n",
      "\t:: modules in use:\n",
      "\tcom.amazonaws#aws-java-sdk-bundle;1.11.563 from central in [default]\n",
      "\torg.apache.hadoop#hadoop-aws;3.2.2 from central in [default]\n",
      "\t---------------------------------------------------------------------\n",
      "\t|                  |            modules            ||   artifacts   |\n",
      "\t|       conf       | number| search|dwnlded|evicted|| number|dwnlded|\n",
      "\t---------------------------------------------------------------------\n",
      "\t|      default     |   2   |   0   |   0   |   0   ||   2   |   0   |\n",
      "\t---------------------------------------------------------------------\n",
      ":: retrieving :: org.apache.spark#spark-submit-parent-c0c02831-9312-41d7-a2f6-a926d4daf29a\n",
      "\tconfs: [default]\n",
      "\t0 artifacts copied, 2 already retrieved (0kB/24ms)\n"
     ]
    },
    {
     "name": "stdout",
     "output_type": "stream",
     "text": [
      "23/10/30 16:06:10 WARN NativeCodeLoader: Unable to load native-hadoop library for your platform... using builtin-java classes where applicable\n"
     ]
    },
    {
     "name": "stderr",
     "output_type": "stream",
     "text": [
      "Setting default log level to \"WARN\".\n",
      "To adjust logging level use sc.setLogLevel(newLevel). For SparkR, use setLogLevel(newLevel).\n"
     ]
    },
    {
     "name": "stdout",
     "output_type": "stream",
     "text": [
      "3.3.0\n"
     ]
    }
   ],
   "source": [
    "# Import pyspark and build Spark session\n",
    "from pyspark.sql import SparkSession\n",
    "import time\n",
    "\n",
    "spark = (\n",
    "    SparkSession.builder.appName(\"PySparkApp\")\n",
    "    .config(\"spark.jars.packages\", \"org.apache.hadoop:hadoop-aws:3.2.2\")\n",
    "    .config(\n",
    "        \"fs.s3a.aws.credentials.provider\",\n",
    "        \"com.amazonaws.auth.ContainerCredentialsProvider\",\n",
    "    )\n",
    "    .getOrCreate()\n",
    ")\n",
    "\n",
    "print(spark.version)"
   ]
  },
  {
   "cell_type": "markdown",
   "metadata": {},
   "source": [
    "## Process S3 data with SageMaker Processing Job `PySparkProcessor`\n",
    "\n",
    "We are going to move the above processing code in a Python file and then submit that file to SageMaker Processing Job's [`PySparkProcessor`](https://sagemaker.readthedocs.io/en/stable/amazon_sagemaker_processing.html#pysparkprocessor)."
   ]
  },
  {
   "cell_type": "code",
   "execution_count": 14,
   "metadata": {
    "tags": []
   },
   "outputs": [],
   "source": [
    "#!mkdir -p ./code"
   ]
  },
  {
   "cell_type": "code",
   "execution_count": 15,
   "metadata": {
    "tags": []
   },
   "outputs": [
    {
     "name": "stdout",
     "output_type": "stream",
     "text": [
      "/root/fall-2023-reddit-project-team-01/code/preprocessing\n"
     ]
    }
   ],
   "source": [
    "!pwd"
   ]
  },
  {
   "cell_type": "code",
   "execution_count": 16,
   "metadata": {
    "tags": []
   },
   "outputs": [
    {
     "name": "stdout",
     "output_type": "stream",
     "text": [
      "Overwriting ./process_centrist_libertarian.py\n"
     ]
    }
   ],
   "source": [
    "%%writefile ./process_askpolitics_changemyview.py\n",
    "\n",
    "import os\n",
    "import time\n",
    "import logging\n",
    "import argparse\n",
    "\n",
    "# Import pyspark and build Spark session\n",
    "from pyspark.sql.functions import *\n",
    "from pyspark.sql.types import (\n",
    "    DoubleType,\n",
    "    IntegerType,\n",
    "    StringType,\n",
    "    StructField,\n",
    "    StructType,\n",
    ")\n",
    "from pyspark.sql import SparkSession\n",
    "from pyspark.sql.functions import col\n",
    "\n",
    "logging.basicConfig(format='%(asctime)s,%(levelname)s,%(module)s,%(filename)s,%(lineno)d,%(message)s', level=logging.DEBUG)\n",
    "logger = logging.getLogger()\n",
    "logger.setLevel(logging.DEBUG)\n",
    "logger.addHandler(logging.StreamHandler(sys.stdout))\n",
    "\n",
    "def main():\n",
    "    parser = argparse.ArgumentParser(description=\"app inputs and outputs\")\n",
    "    parser.add_argument(\"--s3_dataset_path\", type=str, help=\"Path of dataset in S3\")    \n",
    "    parser.add_argument(\"--s3_output_bucket\", type=str, help=\"s3 output bucket\")\n",
    "    parser.add_argument(\"--s3_output_prefix\", type=str, help=\"s3 output prefix\")\n",
    "    parser.add_argument(\"--col_name_for_filtering\", type=str, help=\"Name of the column to filter\")\n",
    "    parser.add_argument(\"--values_to_keep\", type=str, help=\"comma separated list of values to keep in the filtered set\")\n",
    "    args = parser.parse_args()\n",
    "\n",
    "    spark = SparkSession.builder.appName(\"PySparkApp\").getOrCreate()\n",
    "    logger.info(f\"spark version = {spark.version}\")\n",
    "    \n",
    "    # This is needed to save RDDs which is the only way to write nested Dataframes into CSV format\n",
    "    sc = spark.sparkContext\n",
    "    sc._jsc.hadoopConfiguration().set(\n",
    "        \"mapred.output.committer.class\", \"org.apache.hadoop.mapred.FileOutputCommitter\"\n",
    "    )\n",
    "\n",
    "   \n",
    "    # Downloading the data from S3 into a Dataframe\n",
    "    logger.info(f\"going to read {args.s3_dataset_path}\")\n",
    "    df = spark.read.parquet(args.s3_dataset_path, header=True)\n",
    "    logger.info(f\"finished reading files...\")\n",
    "    \n",
    "\n",
    "    \n",
    "    # filter the dataframe to only keep the values of interest\n",
    "    vals = [s.strip() for s in args.values_to_keep.split(\",\")]\n",
    "    df_filtered = df.where(col(args.col_name_for_filtering).isin(vals))\n",
    "    \n",
    "    # save the filtered dataframes so that these files can now be used for future analysis\n",
    "    s3_path = f\"s3://{args.s3_output_bucket}/{args.s3_output_prefix}\"\n",
    "    logger.info(f\"going to write data for {vals} in {s3_path}\")\n",
    "    logger.info(f\"shape of the df_filtered dataframe is {df_filtered.count():,}x{len(df_filtered.columns)}\")\n",
    "    df_filtered.write.mode(\"overwrite\").parquet(s3_path)\n",
    "    \n",
    "    logger.info(f\"all done...\")\n",
    "    \n",
    "if __name__ == \"__main__\":\n",
    "    main()"
   ]
  },
  {
   "cell_type": "markdown",
   "metadata": {},
   "source": [
    "Now submit this code to SageMaker Processing Job."
   ]
  },
  {
   "cell_type": "code",
   "execution_count": 5,
   "metadata": {
    "tags": []
   },
   "outputs": [
    {
     "name": "stdout",
     "output_type": "stream",
     "text": [
      "sagemaker.config INFO - Not applying SDK defaults from location: /etc/xdg/sagemaker/config.yaml\n",
      "sagemaker.config INFO - Not applying SDK defaults from location: /root/.config/sagemaker/config.yaml\n",
      "sagemaker.config INFO - Not applying SDK defaults from location: /etc/xdg/sagemaker/config.yaml\n",
      "sagemaker.config INFO - Not applying SDK defaults from location: /root/.config/sagemaker/config.yaml\n",
      "sagemaker.config INFO - Not applying SDK defaults from location: /etc/xdg/sagemaker/config.yaml\n",
      "sagemaker.config INFO - Not applying SDK defaults from location: /root/.config/sagemaker/config.yaml\n",
      "sagemaker.config INFO - Not applying SDK defaults from location: /etc/xdg/sagemaker/config.yaml\n",
      "sagemaker.config INFO - Not applying SDK defaults from location: /root/.config/sagemaker/config.yaml\n"
     ]
    }
   ],
   "source": [
    "import sagemaker\n",
    "from sagemaker.spark.processing import PySparkProcessor\n",
    "\n",
    "# Setup the PySpark processor to run the job. Note the instance type and instance count parameters. SageMaker will create these many instances of this type for the spark job.\n",
    "role = sagemaker.get_execution_role()\n",
    "spark_processor = PySparkProcessor(\n",
    "    base_job_name=\"sm-spark-project\",\n",
    "    framework_version=\"3.3\",\n",
    "    role=role,\n",
    "    instance_count=8,\n",
    "    instance_type=\"ml.m5.xlarge\",\n",
    "    max_runtime_in_seconds=7200,\n",
    ")\n",
    "\n",
    "# s3 paths\n",
    "session = sagemaker.Session()\n",
    "bucket = session.default_bucket()\n",
    "output_prefix_logs = f\"spark_logs\"\n",
    "col_name_for_filtering = \"subreddit\"\n",
    "\n",
    "# modify this comma separated list to choose the subreddits of interest\n",
    "subreddits = \"changemyview, Ask_Politics\" \n",
    "configuration = [\n",
    "    {\n",
    "        \"Classification\": \"spark-defaults\",\n",
    "        \"Properties\": {\"spark.executor.memory\": \"12g\", \"spark.executor.cores\": \"4\"},\n",
    "    }\n",
    "]\n",
    "\n",
    "years = [2021, 2022, 2023]"
   ]
  },
  {
   "cell_type": "code",
   "execution_count": 18,
   "metadata": {
    "tags": []
   },
   "outputs": [
    {
     "name": "stdout",
     "output_type": "stream",
     "text": [
      "Working on Comments for year 2021\n",
      "...............................................................................................................................................................................................!Working on Submissions for year 2021\n",
      ".....................................................................................................................................................................................................................................!Working on Comments for year 2022\n",
      "...................................................................................................................................................................................................................!Working on Submissions for year 2022\n",
      "................................................................................................................................................................................................................................!Working on Comments for year 2023\n",
      "................................................................................................................!Working on Submissions for year 2023\n",
      "....................................................................................................................!"
     ]
    }
   ],
   "source": [
    "for year in years:    \n",
    "    # comments\n",
    "    print(f\"Working on Comments for year {year}\")\n",
    "    \n",
    "    s3_dataset_path_commments = f\"s3://bigdatateaching/reddit-parquet/comments/year={year}/month=*/*.parquet\" \n",
    "    output_prefix_data_comments = f\"anthony_project/comments/year={year}\"\n",
    "\n",
    "    spark_processor.run(\n",
    "        submit_app=\"./process_askpolitics_changemyview.py\",\n",
    "        arguments=[\n",
    "            \"--s3_dataset_path\",\n",
    "            s3_dataset_path_commments,\n",
    "            \"--s3_output_bucket\",\n",
    "            bucket,\n",
    "            \"--s3_output_prefix\",\n",
    "            output_prefix_data_comments,\n",
    "            \"--col_name_for_filtering\",\n",
    "            col_name_for_filtering,\n",
    "            \"--values_to_keep\",\n",
    "            subreddits,\n",
    "        ],\n",
    "        spark_event_logs_s3_uri=\"s3://{}/{}/spark_event_logs\".format(bucket, output_prefix_logs),\n",
    "        logs=False,\n",
    "        configuration=configuration\n",
    "    )\n",
    "\n",
    "    time.sleep(60)\n",
    "    \n",
    "    # submissions\n",
    "    print(f\"Working on Submissions for year {year}\")\n",
    "    \n",
    "    s3_dataset_path_submissions = f\"s3://bigdatateaching/reddit-parquet/submissions/year={year}/month=*/*.parquet\"\n",
    "    output_prefix_data_submissions = f\"anthony_project/submissions/year={year}\"\n",
    "\n",
    "    spark_processor.run(\n",
    "        submit_app=\"./process_askpolitics_changemyview.py\",\n",
    "        arguments=[\n",
    "             \"--s3_dataset_path\",\n",
    "            s3_dataset_path_submissions,\n",
    "            \"--s3_output_bucket\",\n",
    "            bucket,\n",
    "            \"--s3_output_prefix\",\n",
    "            output_prefix_data_submissions,\n",
    "            \"--col_name_for_filtering\",\n",
    "            col_name_for_filtering,\n",
    "            \"--values_to_keep\",\n",
    "            subreddits,\n",
    "        ],\n",
    "        spark_event_logs_s3_uri=\"s3://{}/{}/spark_event_logs\".format(bucket, output_prefix_logs),\n",
    "        logs=False,\n",
    "        configuration=configuration\n",
    "    )\n",
    "    \n",
    "    time.sleep(60)"
   ]
  },
  {
   "cell_type": "markdown",
   "metadata": {},
   "source": [
    "## Read the filtered data\n",
    "\n",
    "Now that we have filtered the data to only keep submissions and comments from subreddits of interest. Let us read data from the s3 path where we saved the filtered data."
   ]
  },
  {
   "cell_type": "code",
   "execution_count": 19,
   "metadata": {
    "tags": []
   },
   "outputs": [
    {
     "name": "stdout",
     "output_type": "stream",
     "text": [
      "reading comments from s3a://sagemaker-us-east-1-433974840707/project/comments/year=*/\n",
      "23/10/30 17:46:50 WARN CacheManager: Asked to cache already cached data.\n",
      "CPU times: user 5.63 ms, sys: 656 µs, total: 6.29 ms\n",
      "Wall time: 1.69 s\n"
     ]
    },
    {
     "data": {
      "text/plain": [
       "DataFrame[author: string, author_cakeday: boolean, author_flair_css_class: string, author_flair_text: string, body: string, can_gild: boolean, controversiality: bigint, created_utc: timestamp, distinguished: string, edited: string, gilded: bigint, id: string, is_submitter: boolean, link_id: string, parent_id: string, permalink: string, retrieved_on: timestamp, score: bigint, stickied: boolean, subreddit: string, subreddit_id: string]"
      ]
     },
     "execution_count": 19,
     "metadata": {},
     "output_type": "execute_result"
    }
   ],
   "source": [
    "%%time\n",
    "s3_path = f\"s3a://{bucket}/project/comments/year=*/\"\n",
    "print(f\"reading comments from {s3_path}\")\n",
    "comments = spark.read.parquet(s3_path, header=True)\n",
    "comments.persist()\n",
    "#print(f\"shape of the comments dataframe is {comments.count():,}x{len(comments.columns)}\")"
   ]
  },
  {
   "cell_type": "code",
   "execution_count": 20,
   "metadata": {
    "tags": []
   },
   "outputs": [
    {
     "name": "stdout",
     "output_type": "stream",
     "text": [
      "23/10/30 17:46:51 WARN MemoryStore: Not enough space to cache rdd_61_1 in memory! (computed 3.4 MiB so far)\n",
      "23/10/30 17:46:52 WARN MemoryStore: Not enough space to cache rdd_61_0 in memory! (computed 13.9 MiB so far)\n",
      "23/10/30 17:46:52 WARN MemoryStore: Not enough space to cache rdd_61_2 in memory! (computed 12.5 MiB so far)\n",
      "23/10/30 17:46:52 WARN MemoryStore: Not enough space to cache rdd_61_4 in memory! (computed 12.1 MiB so far)\n"
     ]
    },
    {
     "name": "stderr",
     "output_type": "stream",
     "text": [
      "[Stage 23:=>                                                      (8 + 2) / 244]\r"
     ]
    },
    {
     "name": "stdout",
     "output_type": "stream",
     "text": [
      "23/10/30 17:46:52 WARN MemoryStore: Not enough space to cache rdd_61_7 in memory! (computed 3.4 MiB so far)\n",
      "23/10/30 17:46:52 WARN MemoryStore: Not enough space to cache rdd_61_8 in memory! (computed 3.4 MiB so far)\n",
      "23/10/30 17:46:52 WARN MemoryStore: Not enough space to cache rdd_61_9 in memory! (computed 3.4 MiB so far)\n",
      "23/10/30 17:46:52 WARN MemoryStore: Not enough space to cache rdd_61_11 in memory! (computed 3.4 MiB so far)\n"
     ]
    },
    {
     "name": "stderr",
     "output_type": "stream",
     "text": [
      "[Stage 23:===>                                                   (14 + 2) / 244]\r"
     ]
    },
    {
     "name": "stdout",
     "output_type": "stream",
     "text": [
      "23/10/30 17:46:52 WARN MemoryStore: Not enough space to cache rdd_61_13 in memory! (computed 10.9 MiB so far)\n",
      "23/10/30 17:46:52 WARN MemoryStore: Not enough space to cache rdd_61_15 in memory! (computed 10.8 MiB so far)\n",
      "23/10/30 17:46:53 WARN MemoryStore: Not enough space to cache rdd_61_17 in memory! (computed 10.7 MiB so far)\n",
      "23/10/30 17:46:53 WARN MemoryStore: Not enough space to cache rdd_61_19 in memory! (computed 10.5 MiB so far)\n",
      "23/10/30 17:46:53 WARN MemoryStore: Not enough space to cache rdd_61_21 in memory! (computed 3.4 MiB so far)\n"
     ]
    },
    {
     "name": "stderr",
     "output_type": "stream",
     "text": [
      "[Stage 23:====>                                                  (21 + 2) / 244]\r"
     ]
    },
    {
     "name": "stdout",
     "output_type": "stream",
     "text": [
      "23/10/30 17:46:53 WARN MemoryStore: Not enough space to cache rdd_61_23 in memory! (computed 3.4 MiB so far)\n",
      "23/10/30 17:46:53 WARN MemoryStore: Not enough space to cache rdd_61_26 in memory! (computed 3.4 MiB so far)\n",
      "23/10/30 17:46:53 WARN MemoryStore: Not enough space to cache rdd_61_25 in memory! (computed 10.2 MiB so far)\n"
     ]
    },
    {
     "name": "stderr",
     "output_type": "stream",
     "text": [
      "[Stage 23:======>                                                (27 + 2) / 244]\r"
     ]
    },
    {
     "name": "stdout",
     "output_type": "stream",
     "text": [
      "23/10/30 17:46:53 WARN MemoryStore: Not enough space to cache rdd_61_29 in memory! (computed 10.0 MiB so far)\n",
      "23/10/30 17:46:54 WARN MemoryStore: Not enough space to cache rdd_61_32 in memory! (computed 9.8 MiB so far)\n"
     ]
    },
    {
     "name": "stderr",
     "output_type": "stream",
     "text": [
      "[Stage 23:=======>                                               (33 + 2) / 244]\r"
     ]
    },
    {
     "name": "stdout",
     "output_type": "stream",
     "text": [
      "23/10/30 17:46:54 WARN MemoryStore: Not enough space to cache rdd_61_36 in memory! (computed 3.4 MiB so far)\n",
      "23/10/30 17:46:54 WARN MemoryStore: Not enough space to cache rdd_61_37 in memory! (computed 9.6 MiB so far)\n",
      "23/10/30 17:46:54 WARN MemoryStore: Not enough space to cache rdd_61_38 in memory! (computed 9.6 MiB so far)\n"
     ]
    },
    {
     "name": "stderr",
     "output_type": "stream",
     "text": [
      "[Stage 23:========>                                              (37 + 2) / 244]\r"
     ]
    },
    {
     "name": "stdout",
     "output_type": "stream",
     "text": [
      "23/10/30 17:46:55 WARN MemoryStore: Not enough space to cache rdd_61_41 in memory! (computed 9.5 MiB so far)\n",
      "23/10/30 17:46:55 WARN MemoryStore: Not enough space to cache rdd_61_43 in memory! (computed 9.4 MiB so far)\n"
     ]
    },
    {
     "name": "stderr",
     "output_type": "stream",
     "text": [
      "[Stage 23:=========>                                             (42 + 2) / 244]\r"
     ]
    },
    {
     "name": "stdout",
     "output_type": "stream",
     "text": [
      "23/10/30 17:46:55 WARN MemoryStore: Not enough space to cache rdd_61_46 in memory! (computed 3.4 MiB so far)\n",
      "23/10/30 17:46:55 WARN MemoryStore: Not enough space to cache rdd_61_47 in memory! (computed 9.2 MiB so far)\n",
      "23/10/30 17:46:55 WARN MemoryStore: Not enough space to cache rdd_61_49 in memory! (computed 9.1 MiB so far)\n"
     ]
    },
    {
     "name": "stderr",
     "output_type": "stream",
     "text": [
      "[Stage 23:===========>                                           (52 + 2) / 244]\r"
     ]
    },
    {
     "name": "stdout",
     "output_type": "stream",
     "text": [
      "23/10/30 17:46:55 WARN MemoryStore: Not enough space to cache rdd_61_51 in memory! (computed 9.1 MiB so far)\n",
      "23/10/30 17:46:55 WARN MemoryStore: Not enough space to cache rdd_61_53 in memory! (computed 9.0 MiB so far)\n",
      "23/10/30 17:46:55 WARN MemoryStore: Not enough space to cache rdd_61_54 in memory! (computed 3.4 MiB so far)\n"
     ]
    },
    {
     "name": "stderr",
     "output_type": "stream",
     "text": [
      "[Stage 23:=============>                                         (58 + 2) / 244]\r"
     ]
    },
    {
     "name": "stdout",
     "output_type": "stream",
     "text": [
      "23/10/30 17:46:56 WARN MemoryStore: Not enough space to cache rdd_61_57 in memory! (computed 3.4 MiB so far)\n",
      "23/10/30 17:46:56 WARN MemoryStore: Not enough space to cache rdd_61_61 in memory! (computed 8.7 MiB so far)\n"
     ]
    },
    {
     "name": "stderr",
     "output_type": "stream",
     "text": [
      "[Stage 23:===============>                                       (67 + 2) / 244]\r"
     ]
    },
    {
     "name": "stdout",
     "output_type": "stream",
     "text": [
      "23/10/30 17:46:56 WARN MemoryStore: Not enough space to cache rdd_61_65 in memory! (computed 8.6 MiB so far)\n",
      "23/10/30 17:46:56 WARN MemoryStore: Not enough space to cache rdd_61_68 in memory! (computed 8.4 MiB so far)\n",
      "23/10/30 17:46:57 WARN MemoryStore: Not enough space to cache rdd_61_69 in memory! (computed 8.4 MiB so far)\n"
     ]
    },
    {
     "name": "stderr",
     "output_type": "stream",
     "text": [
      "[Stage 23:================>                                      (72 + 2) / 244]\r"
     ]
    },
    {
     "name": "stdout",
     "output_type": "stream",
     "text": [
      "23/10/30 17:46:57 WARN MemoryStore: Not enough space to cache rdd_61_73 in memory! (computed 3.4 MiB so far)\n",
      "23/10/30 17:46:57 WARN MemoryStore: Not enough space to cache rdd_61_75 in memory! (computed 3.4 MiB so far)\n"
     ]
    },
    {
     "name": "stderr",
     "output_type": "stream",
     "text": [
      "[Stage 23:=================>                                     (76 + 2) / 244]\r"
     ]
    },
    {
     "name": "stdout",
     "output_type": "stream",
     "text": [
      "23/10/30 17:46:57 WARN MemoryStore: Not enough space to cache rdd_61_77 in memory! (computed 8.1 MiB so far)\n"
     ]
    },
    {
     "name": "stderr",
     "output_type": "stream",
     "text": [
      "[Stage 23:==================>                                    (84 + 2) / 244]\r"
     ]
    },
    {
     "name": "stdout",
     "output_type": "stream",
     "text": [
      "23/10/30 17:46:58 WARN MemoryStore: Not enough space to cache rdd_61_80 in memory! (computed 8.0 MiB so far)\n"
     ]
    },
    {
     "name": "stderr",
     "output_type": "stream",
     "text": [
      "[Stage 23:======================>                               (101 + 2) / 244]\r"
     ]
    },
    {
     "name": "stdout",
     "output_type": "stream",
     "text": [
      "23/10/30 17:46:58 WARN MemoryStore: Not enough space to cache rdd_61_96 in memory! (computed 3.4 MiB so far)\n",
      "23/10/30 17:46:59 WARN MemoryStore: Not enough space to cache rdd_61_103 in memory! (computed 3.4 MiB so far)\n",
      "23/10/30 17:46:59 WARN MemoryStore: Not enough space to cache rdd_61_106 in memory! (computed 3.4 MiB so far)\n"
     ]
    },
    {
     "name": "stderr",
     "output_type": "stream",
     "text": [
      "[Stage 23:===========================>                          (125 + 2) / 244]\r"
     ]
    },
    {
     "name": "stdout",
     "output_type": "stream",
     "text": [
      "23/10/30 17:46:59 WARN MemoryStore: Not enough space to cache rdd_61_121 in memory! (computed 3.4 MiB so far)\n",
      "23/10/30 17:46:59 WARN MemoryStore: Not enough space to cache rdd_61_129 in memory! (computed 3.4 MiB so far)\n",
      "23/10/30 17:47:00 WARN MemoryStore: Not enough space to cache rdd_61_134 in memory! (computed 3.4 MiB so far)\n"
     ]
    },
    {
     "name": "stderr",
     "output_type": "stream",
     "text": [
      "[Stage 23:==============================>                       (139 + 2) / 244]\r"
     ]
    },
    {
     "name": "stdout",
     "output_type": "stream",
     "text": [
      "23/10/30 17:47:00 WARN MemoryStore: Not enough space to cache rdd_61_144 in memory! (computed 3.4 MiB so far)\n"
     ]
    },
    {
     "name": "stderr",
     "output_type": "stream",
     "text": [
      "[Stage 23:====================================>                 (167 + 2) / 244]\r"
     ]
    },
    {
     "name": "stdout",
     "output_type": "stream",
     "text": [
      "23/10/30 17:47:01 WARN MemoryStore: Not enough space to cache rdd_61_171 in memory! (computed 3.4 MiB so far)\n"
     ]
    },
    {
     "name": "stderr",
     "output_type": "stream",
     "text": [
      "[Stage 23:========================================>             (183 + 2) / 244]\r"
     ]
    },
    {
     "name": "stdout",
     "output_type": "stream",
     "text": [
      "23/10/30 17:47:01 WARN MemoryStore: Failed to reserve initial memory threshold of 1024.0 KiB for computing block rdd_61_188 in memory.\n",
      "23/10/30 17:47:01 WARN MemoryStore: Not enough space to cache rdd_61_188 in memory! (computed 384.0 B so far)\n",
      "23/10/30 17:47:01 WARN MemoryStore: Not enough space to cache rdd_61_191 in memory! (computed 3.3 MiB so far)\n"
     ]
    },
    {
     "name": "stderr",
     "output_type": "stream",
     "text": [
      "[Stage 23:===================================================>  (234 + 2) / 244]\r"
     ]
    },
    {
     "name": "stdout",
     "output_type": "stream",
     "text": [
      "23/10/30 17:47:02 WARN MemoryStore: Not enough space to cache rdd_61_240 in memory! (computed 1694.5 KiB so far)\n",
      "+-----------+-------+\n",
      "|  subreddit|  count|\n",
      "+-----------+-------+\n",
      "|Libertarian|2706909|\n",
      "|   centrist| 921871|\n",
      "+-----------+-------+\n",
      "\n"
     ]
    },
    {
     "name": "stderr",
     "output_type": "stream",
     "text": [
      "                                                                                \r"
     ]
    }
   ],
   "source": [
    "# check counts (ensuring all needed subreddits exist)\n",
    "comments.groupBy('subreddit').count().show()"
   ]
  },
  {
   "cell_type": "code",
   "execution_count": 21,
   "metadata": {
    "tags": []
   },
   "outputs": [
    {
     "name": "stdout",
     "output_type": "stream",
     "text": [
      "23/10/30 17:47:03 WARN MemoryStore: Not enough space to cache rdd_61_1 in memory! (computed 12.9 MiB so far)\n",
      "23/10/30 17:47:03 WARN MemoryStore: Not enough space to cache rdd_61_0 in memory! (computed 13.9 MiB so far)\n",
      "23/10/30 17:47:03 WARN MemoryStore: Not enough space to cache rdd_61_2 in memory! (computed 12.5 MiB so far)\n",
      "23/10/30 17:47:03 WARN MemoryStore: Failed to reserve initial memory threshold of 1024.0 KiB for computing block rdd_61_4 in memory.\n",
      "23/10/30 17:47:03 WARN MemoryStore: Failed to reserve initial memory threshold of 1024.0 KiB for computing block rdd_61_5 in memory.\n",
      "23/10/30 17:47:03 WARN MemoryStore: Not enough space to cache rdd_61_4 in memory! (computed 384.0 B so far)\n",
      "23/10/30 17:47:03 WARN MemoryStore: Not enough space to cache rdd_61_5 in memory! (computed 384.0 B so far)\n",
      "23/10/30 17:47:03 WARN MemoryStore: Failed to reserve initial memory threshold of 1024.0 KiB for computing block rdd_61_6 in memory.\n",
      "23/10/30 17:47:03 WARN MemoryStore: Failed to reserve initial memory threshold of 1024.0 KiB for computing block rdd_61_7 in memory.\n",
      "23/10/30 17:47:03 WARN MemoryStore: Not enough space to cache rdd_61_6 in memory! (computed 384.0 B so far)\n",
      "23/10/30 17:47:03 WARN MemoryStore: Not enough space to cache rdd_61_7 in memory! (computed 384.0 B so far)\n",
      "23/10/30 17:47:03 WARN MemoryStore: Failed to reserve initial memory threshold of 1024.0 KiB for computing block rdd_61_8 in memory.\n",
      "23/10/30 17:47:03 WARN MemoryStore: Not enough space to cache rdd_61_8 in memory! (computed 384.0 B so far)\n",
      "23/10/30 17:47:03 WARN MemoryStore: Failed to reserve initial memory threshold of 1024.0 KiB for computing block rdd_61_9 in memory.\n",
      "23/10/30 17:47:03 WARN MemoryStore: Not enough space to cache rdd_61_9 in memory! (computed 384.0 B so far)\n",
      "23/10/30 17:47:03 WARN MemoryStore: Failed to reserve initial memory threshold of 1024.0 KiB for computing block rdd_61_10 in memory.\n",
      "23/10/30 17:47:03 WARN MemoryStore: Not enough space to cache rdd_61_10 in memory! (computed 384.0 B so far)\n",
      "23/10/30 17:47:03 WARN MemoryStore: Failed to reserve initial memory threshold of 1024.0 KiB for computing block rdd_61_11 in memory.\n",
      "23/10/30 17:47:03 WARN MemoryStore: Not enough space to cache rdd_61_11 in memory! (computed 384.0 B so far)\n",
      "23/10/30 17:47:03 WARN MemoryStore: Failed to reserve initial memory threshold of 1024.0 KiB for computing block rdd_61_12 in memory.\n",
      "23/10/30 17:47:03 WARN MemoryStore: Not enough space to cache rdd_61_12 in memory! (computed 384.0 B so far)\n",
      "23/10/30 17:47:03 WARN MemoryStore: Failed to reserve initial memory threshold of 1024.0 KiB for computing block rdd_61_13 in memory.\n",
      "23/10/30 17:47:03 WARN MemoryStore: Not enough space to cache rdd_61_13 in memory! (computed 384.0 B so far)\n",
      "23/10/30 17:47:03 WARN MemoryStore: Failed to reserve initial memory threshold of 1024.0 KiB for computing block rdd_61_14 in memory.\n",
      "23/10/30 17:47:03 WARN MemoryStore: Not enough space to cache rdd_61_14 in memory! (computed 384.0 B so far)\n",
      "23/10/30 17:47:03 WARN MemoryStore: Failed to reserve initial memory threshold of 1024.0 KiB for computing block rdd_61_15 in memory.\n",
      "23/10/30 17:47:03 WARN MemoryStore: Not enough space to cache rdd_61_15 in memory! (computed 384.0 B so far)\n",
      "23/10/30 17:47:03 WARN MemoryStore: Failed to reserve initial memory threshold of 1024.0 KiB for computing block rdd_61_16 in memory.\n",
      "23/10/30 17:47:03 WARN MemoryStore: Not enough space to cache rdd_61_16 in memory! (computed 384.0 B so far)\n",
      "23/10/30 17:47:03 WARN MemoryStore: Failed to reserve initial memory threshold of 1024.0 KiB for computing block rdd_61_17 in memory.\n",
      "23/10/30 17:47:03 WARN MemoryStore: Not enough space to cache rdd_61_17 in memory! (computed 384.0 B so far)\n",
      "23/10/30 17:47:03 WARN MemoryStore: Failed to reserve initial memory threshold of 1024.0 KiB for computing block rdd_61_18 in memory.\n",
      "23/10/30 17:47:03 WARN MemoryStore: Not enough space to cache rdd_61_18 in memory! (computed 384.0 B so far)\n",
      "23/10/30 17:47:03 WARN MemoryStore: Failed to reserve initial memory threshold of 1024.0 KiB for computing block rdd_61_19 in memory.\n",
      "23/10/30 17:47:03 WARN MemoryStore: Not enough space to cache rdd_61_19 in memory! (computed 384.0 B so far)\n",
      "23/10/30 17:47:03 WARN MemoryStore: Failed to reserve initial memory threshold of 1024.0 KiB for computing block rdd_61_20 in memory.\n",
      "23/10/30 17:47:03 WARN MemoryStore: Not enough space to cache rdd_61_20 in memory! (computed 384.0 B so far)\n",
      "23/10/30 17:47:03 WARN MemoryStore: Failed to reserve initial memory threshold of 1024.0 KiB for computing block rdd_61_21 in memory.\n",
      "23/10/30 17:47:03 WARN MemoryStore: Not enough space to cache rdd_61_21 in memory! (computed 384.0 B so far)\n",
      "23/10/30 17:47:03 WARN MemoryStore: Failed to reserve initial memory threshold of 1024.0 KiB for computing block rdd_61_22 in memory.\n",
      "23/10/30 17:47:03 WARN MemoryStore: Not enough space to cache rdd_61_22 in memory! (computed 384.0 B so far)\n",
      "23/10/30 17:47:03 WARN MemoryStore: Failed to reserve initial memory threshold of 1024.0 KiB for computing block rdd_61_23 in memory.\n",
      "23/10/30 17:47:03 WARN MemoryStore: Not enough space to cache rdd_61_23 in memory! (computed 384.0 B so far)\n",
      "23/10/30 17:47:03 WARN MemoryStore: Failed to reserve initial memory threshold of 1024.0 KiB for computing block rdd_61_24 in memory.\n",
      "23/10/30 17:47:03 WARN MemoryStore: Failed to reserve initial memory threshold of 1024.0 KiB for computing block rdd_61_25 in memory.\n",
      "23/10/30 17:47:03 WARN MemoryStore: Not enough space to cache rdd_61_24 in memory! (computed 384.0 B so far)\n",
      "23/10/30 17:47:03 WARN MemoryStore: Not enough space to cache rdd_61_25 in memory! (computed 384.0 B so far)\n",
      "23/10/30 17:47:03 WARN MemoryStore: Failed to reserve initial memory threshold of 1024.0 KiB for computing block rdd_61_26 in memory.\n",
      "23/10/30 17:47:03 WARN MemoryStore: Not enough space to cache rdd_61_26 in memory! (computed 384.0 B so far)\n",
      "23/10/30 17:47:03 WARN MemoryStore: Failed to reserve initial memory threshold of 1024.0 KiB for computing block rdd_61_27 in memory.\n",
      "23/10/30 17:47:03 WARN MemoryStore: Not enough space to cache rdd_61_27 in memory! (computed 384.0 B so far)\n",
      "23/10/30 17:47:03 WARN MemoryStore: Failed to reserve initial memory threshold of 1024.0 KiB for computing block rdd_61_28 in memory.\n",
      "23/10/30 17:47:03 WARN MemoryStore: Failed to reserve initial memory threshold of 1024.0 KiB for computing block rdd_61_29 in memory.\n"
     ]
    },
    {
     "name": "stderr",
     "output_type": "stream",
     "text": [
      "[Stage 26:=======>                                               (34 + 2) / 244]\r"
     ]
    },
    {
     "name": "stdout",
     "output_type": "stream",
     "text": [
      "23/10/30 17:47:03 WARN MemoryStore: Not enough space to cache rdd_61_28 in memory! (computed 384.0 B so far)\n",
      "23/10/30 17:47:03 WARN MemoryStore: Not enough space to cache rdd_61_29 in memory! (computed 384.0 B so far)\n",
      "23/10/30 17:47:03 WARN MemoryStore: Failed to reserve initial memory threshold of 1024.0 KiB for computing block rdd_61_30 in memory.\n",
      "23/10/30 17:47:03 WARN MemoryStore: Failed to reserve initial memory threshold of 1024.0 KiB for computing block rdd_61_31 in memory.\n",
      "23/10/30 17:47:03 WARN MemoryStore: Not enough space to cache rdd_61_30 in memory! (computed 384.0 B so far)\n",
      "23/10/30 17:47:03 WARN MemoryStore: Not enough space to cache rdd_61_31 in memory! (computed 384.0 B so far)\n",
      "23/10/30 17:47:03 WARN MemoryStore: Failed to reserve initial memory threshold of 1024.0 KiB for computing block rdd_61_32 in memory.\n",
      "23/10/30 17:47:03 WARN MemoryStore: Not enough space to cache rdd_61_32 in memory! (computed 384.0 B so far)\n",
      "23/10/30 17:47:03 WARN MemoryStore: Failed to reserve initial memory threshold of 1024.0 KiB for computing block rdd_61_33 in memory.\n",
      "23/10/30 17:47:03 WARN MemoryStore: Not enough space to cache rdd_61_33 in memory! (computed 384.0 B so far)\n",
      "23/10/30 17:47:03 WARN MemoryStore: Failed to reserve initial memory threshold of 1024.0 KiB for computing block rdd_61_34 in memory.\n",
      "23/10/30 17:47:03 WARN MemoryStore: Not enough space to cache rdd_61_34 in memory! (computed 384.0 B so far)\n",
      "23/10/30 17:47:03 WARN MemoryStore: Failed to reserve initial memory threshold of 1024.0 KiB for computing block rdd_61_35 in memory.\n",
      "23/10/30 17:47:03 WARN MemoryStore: Not enough space to cache rdd_61_35 in memory! (computed 384.0 B so far)\n",
      "23/10/30 17:47:03 WARN MemoryStore: Failed to reserve initial memory threshold of 1024.0 KiB for computing block rdd_61_36 in memory.\n",
      "23/10/30 17:47:03 WARN MemoryStore: Not enough space to cache rdd_61_36 in memory! (computed 384.0 B so far)\n",
      "23/10/30 17:47:03 WARN MemoryStore: Failed to reserve initial memory threshold of 1024.0 KiB for computing block rdd_61_37 in memory.\n",
      "23/10/30 17:47:03 WARN MemoryStore: Not enough space to cache rdd_61_37 in memory! (computed 384.0 B so far)\n",
      "23/10/30 17:47:03 WARN MemoryStore: Failed to reserve initial memory threshold of 1024.0 KiB for computing block rdd_61_38 in memory.\n",
      "23/10/30 17:47:03 WARN MemoryStore: Not enough space to cache rdd_61_38 in memory! (computed 384.0 B so far)\n",
      "23/10/30 17:47:04 WARN MemoryStore: Failed to reserve initial memory threshold of 1024.0 KiB for computing block rdd_61_39 in memory.\n",
      "23/10/30 17:47:04 WARN MemoryStore: Not enough space to cache rdd_61_39 in memory! (computed 384.0 B so far)\n",
      "23/10/30 17:47:04 WARN MemoryStore: Failed to reserve initial memory threshold of 1024.0 KiB for computing block rdd_61_40 in memory.\n",
      "23/10/30 17:47:04 WARN MemoryStore: Not enough space to cache rdd_61_40 in memory! (computed 384.0 B so far)\n",
      "23/10/30 17:47:04 WARN MemoryStore: Failed to reserve initial memory threshold of 1024.0 KiB for computing block rdd_61_41 in memory.\n",
      "23/10/30 17:47:04 WARN MemoryStore: Not enough space to cache rdd_61_41 in memory! (computed 384.0 B so far)\n",
      "23/10/30 17:47:04 WARN MemoryStore: Failed to reserve initial memory threshold of 1024.0 KiB for computing block rdd_61_42 in memory.\n"
     ]
    },
    {
     "name": "stderr",
     "output_type": "stream",
     "text": [
      "[Stage 26:=========>                                             (44 + 2) / 244]\r"
     ]
    },
    {
     "name": "stdout",
     "output_type": "stream",
     "text": [
      "23/10/30 17:47:04 WARN MemoryStore: Not enough space to cache rdd_61_42 in memory! (computed 384.0 B so far)\n",
      "23/10/30 17:47:04 WARN MemoryStore: Failed to reserve initial memory threshold of 1024.0 KiB for computing block rdd_61_43 in memory.\n",
      "23/10/30 17:47:04 WARN MemoryStore: Not enough space to cache rdd_61_43 in memory! (computed 384.0 B so far)\n",
      "23/10/30 17:47:04 WARN MemoryStore: Failed to reserve initial memory threshold of 1024.0 KiB for computing block rdd_61_44 in memory.\n",
      "23/10/30 17:47:04 WARN MemoryStore: Not enough space to cache rdd_61_44 in memory! (computed 384.0 B so far)\n",
      "23/10/30 17:47:04 WARN MemoryStore: Failed to reserve initial memory threshold of 1024.0 KiB for computing block rdd_61_45 in memory.\n",
      "23/10/30 17:47:04 WARN MemoryStore: Not enough space to cache rdd_61_45 in memory! (computed 384.0 B so far)\n",
      "23/10/30 17:47:04 WARN MemoryStore: Failed to reserve initial memory threshold of 1024.0 KiB for computing block rdd_61_46 in memory.\n",
      "23/10/30 17:47:04 WARN MemoryStore: Not enough space to cache rdd_61_46 in memory! (computed 384.0 B so far)\n",
      "23/10/30 17:47:04 WARN MemoryStore: Failed to reserve initial memory threshold of 1024.0 KiB for computing block rdd_61_47 in memory.\n",
      "23/10/30 17:47:04 WARN MemoryStore: Failed to reserve initial memory threshold of 1024.0 KiB for computing block rdd_61_48 in memory.\n",
      "23/10/30 17:47:04 WARN MemoryStore: Not enough space to cache rdd_61_47 in memory! (computed 384.0 B so far)\n",
      "23/10/30 17:47:04 WARN MemoryStore: Not enough space to cache rdd_61_48 in memory! (computed 384.0 B so far)\n",
      "23/10/30 17:47:04 WARN MemoryStore: Failed to reserve initial memory threshold of 1024.0 KiB for computing block rdd_61_49 in memory.\n",
      "23/10/30 17:47:04 WARN MemoryStore: Failed to reserve initial memory threshold of 1024.0 KiB for computing block rdd_61_50 in memory.\n",
      "23/10/30 17:47:04 WARN MemoryStore: Not enough space to cache rdd_61_49 in memory! (computed 384.0 B so far)\n",
      "23/10/30 17:47:04 WARN MemoryStore: Not enough space to cache rdd_61_50 in memory! (computed 384.0 B so far)\n",
      "23/10/30 17:47:04 WARN MemoryStore: Failed to reserve initial memory threshold of 1024.0 KiB for computing block rdd_61_51 in memory.\n",
      "23/10/30 17:47:04 WARN MemoryStore: Failed to reserve initial memory threshold of 1024.0 KiB for computing block rdd_61_52 in memory.\n"
     ]
    },
    {
     "name": "stderr",
     "output_type": "stream",
     "text": [
      "[Stage 26:===========>                                           (53 + 2) / 244]\r"
     ]
    },
    {
     "name": "stdout",
     "output_type": "stream",
     "text": [
      "23/10/30 17:47:04 WARN MemoryStore: Not enough space to cache rdd_61_51 in memory! (computed 384.0 B so far)\n",
      "23/10/30 17:47:04 WARN MemoryStore: Not enough space to cache rdd_61_52 in memory! (computed 384.0 B so far)\n",
      "23/10/30 17:47:04 WARN MemoryStore: Failed to reserve initial memory threshold of 1024.0 KiB for computing block rdd_61_53 in memory.\n",
      "23/10/30 17:47:04 WARN MemoryStore: Failed to reserve initial memory threshold of 1024.0 KiB for computing block rdd_61_54 in memory.\n",
      "23/10/30 17:47:04 WARN MemoryStore: Not enough space to cache rdd_61_53 in memory! (computed 384.0 B so far)\n",
      "23/10/30 17:47:04 WARN MemoryStore: Not enough space to cache rdd_61_54 in memory! (computed 384.0 B so far)\n",
      "23/10/30 17:47:04 WARN MemoryStore: Failed to reserve initial memory threshold of 1024.0 KiB for computing block rdd_61_55 in memory.\n",
      "23/10/30 17:47:04 WARN MemoryStore: Not enough space to cache rdd_61_55 in memory! (computed 384.0 B so far)\n",
      "23/10/30 17:47:04 WARN MemoryStore: Failed to reserve initial memory threshold of 1024.0 KiB for computing block rdd_61_56 in memory.\n",
      "23/10/30 17:47:04 WARN MemoryStore: Not enough space to cache rdd_61_56 in memory! (computed 384.0 B so far)\n",
      "23/10/30 17:47:04 WARN MemoryStore: Failed to reserve initial memory threshold of 1024.0 KiB for computing block rdd_61_57 in memory.\n",
      "23/10/30 17:47:04 WARN MemoryStore: Not enough space to cache rdd_61_57 in memory! (computed 384.0 B so far)\n",
      "23/10/30 17:47:04 WARN MemoryStore: Failed to reserve initial memory threshold of 1024.0 KiB for computing block rdd_61_58 in memory.\n",
      "23/10/30 17:47:04 WARN MemoryStore: Failed to reserve initial memory threshold of 1024.0 KiB for computing block rdd_61_59 in memory.\n",
      "23/10/30 17:47:04 WARN MemoryStore: Not enough space to cache rdd_61_58 in memory! (computed 384.0 B so far)\n",
      "23/10/30 17:47:04 WARN MemoryStore: Not enough space to cache rdd_61_59 in memory! (computed 384.0 B so far)\n",
      "23/10/30 17:47:04 WARN MemoryStore: Failed to reserve initial memory threshold of 1024.0 KiB for computing block rdd_61_60 in memory.\n",
      "23/10/30 17:47:04 WARN MemoryStore: Failed to reserve initial memory threshold of 1024.0 KiB for computing block rdd_61_61 in memory.\n",
      "23/10/30 17:47:04 WARN MemoryStore: Not enough space to cache rdd_61_60 in memory! (computed 384.0 B so far)\n",
      "23/10/30 17:47:04 WARN MemoryStore: Not enough space to cache rdd_61_61 in memory! (computed 384.0 B so far)\n",
      "23/10/30 17:47:04 WARN MemoryStore: Failed to reserve initial memory threshold of 1024.0 KiB for computing block rdd_61_62 in memory.\n",
      "23/10/30 17:47:04 WARN MemoryStore: Failed to reserve initial memory threshold of 1024.0 KiB for computing block rdd_61_63 in memory.\n",
      "23/10/30 17:47:04 WARN MemoryStore: Not enough space to cache rdd_61_62 in memory! (computed 384.0 B so far)\n",
      "23/10/30 17:47:04 WARN MemoryStore: Not enough space to cache rdd_61_63 in memory! (computed 384.0 B so far)\n",
      "23/10/30 17:47:04 WARN MemoryStore: Failed to reserve initial memory threshold of 1024.0 KiB for computing block rdd_61_64 in memory.\n",
      "23/10/30 17:47:04 WARN MemoryStore: Failed to reserve initial memory threshold of 1024.0 KiB for computing block rdd_61_65 in memory.\n",
      "23/10/30 17:47:04 WARN MemoryStore: Not enough space to cache rdd_61_64 in memory! (computed 384.0 B so far)\n",
      "23/10/30 17:47:04 WARN MemoryStore: Not enough space to cache rdd_61_65 in memory! (computed 384.0 B so far)\n",
      "23/10/30 17:47:04 WARN MemoryStore: Failed to reserve initial memory threshold of 1024.0 KiB for computing block rdd_61_66 in memory.\n",
      "23/10/30 17:47:04 WARN MemoryStore: Failed to reserve initial memory threshold of 1024.0 KiB for computing block rdd_61_67 in memory.\n",
      "23/10/30 17:47:04 WARN MemoryStore: Not enough space to cache rdd_61_66 in memory! (computed 384.0 B so far)\n",
      "23/10/30 17:47:04 WARN MemoryStore: Not enough space to cache rdd_61_67 in memory! (computed 384.0 B so far)\n",
      "23/10/30 17:47:04 WARN MemoryStore: Failed to reserve initial memory threshold of 1024.0 KiB for computing block rdd_61_68 in memory.\n",
      "23/10/30 17:47:04 WARN MemoryStore: Failed to reserve initial memory threshold of 1024.0 KiB for computing block rdd_61_69 in memory.\n",
      "23/10/30 17:47:04 WARN MemoryStore: Not enough space to cache rdd_61_68 in memory! (computed 384.0 B so far)\n",
      "23/10/30 17:47:04 WARN MemoryStore: Not enough space to cache rdd_61_69 in memory! (computed 384.0 B so far)\n"
     ]
    },
    {
     "name": "stderr",
     "output_type": "stream",
     "text": [
      "[Stage 26:=============>                                         (62 + 2) / 244]\r"
     ]
    },
    {
     "name": "stdout",
     "output_type": "stream",
     "text": [
      "23/10/30 17:47:04 WARN MemoryStore: Failed to reserve initial memory threshold of 1024.0 KiB for computing block rdd_61_70 in memory.\n",
      "23/10/30 17:47:04 WARN MemoryStore: Not enough space to cache rdd_61_70 in memory! (computed 384.0 B so far)\n",
      "23/10/30 17:47:04 WARN MemoryStore: Failed to reserve initial memory threshold of 1024.0 KiB for computing block rdd_61_71 in memory.\n",
      "23/10/30 17:47:04 WARN MemoryStore: Not enough space to cache rdd_61_71 in memory! (computed 384.0 B so far)\n",
      "23/10/30 17:47:04 WARN MemoryStore: Failed to reserve initial memory threshold of 1024.0 KiB for computing block rdd_61_72 in memory.\n",
      "23/10/30 17:47:04 WARN MemoryStore: Failed to reserve initial memory threshold of 1024.0 KiB for computing block rdd_61_73 in memory.\n",
      "23/10/30 17:47:04 WARN MemoryStore: Not enough space to cache rdd_61_72 in memory! (computed 384.0 B so far)\n",
      "23/10/30 17:47:04 WARN MemoryStore: Not enough space to cache rdd_61_73 in memory! (computed 384.0 B so far)\n",
      "23/10/30 17:47:05 WARN MemoryStore: Failed to reserve initial memory threshold of 1024.0 KiB for computing block rdd_61_74 in memory.\n",
      "23/10/30 17:47:05 WARN MemoryStore: Failed to reserve initial memory threshold of 1024.0 KiB for computing block rdd_61_75 in memory.\n",
      "23/10/30 17:47:05 WARN MemoryStore: Not enough space to cache rdd_61_74 in memory! (computed 384.0 B so far)\n",
      "23/10/30 17:47:05 WARN MemoryStore: Not enough space to cache rdd_61_75 in memory! (computed 384.0 B so far)\n",
      "23/10/30 17:47:05 WARN MemoryStore: Failed to reserve initial memory threshold of 1024.0 KiB for computing block rdd_61_76 in memory.\n",
      "23/10/30 17:47:05 WARN MemoryStore: Not enough space to cache rdd_61_76 in memory! (computed 384.0 B so far)\n",
      "23/10/30 17:47:05 WARN MemoryStore: Failed to reserve initial memory threshold of 1024.0 KiB for computing block rdd_61_77 in memory.\n",
      "23/10/30 17:47:05 WARN MemoryStore: Not enough space to cache rdd_61_77 in memory! (computed 384.0 B so far)\n",
      "23/10/30 17:47:05 WARN MemoryStore: Failed to reserve initial memory threshold of 1024.0 KiB for computing block rdd_61_78 in memory.\n",
      "23/10/30 17:47:05 WARN MemoryStore: Not enough space to cache rdd_61_78 in memory! (computed 384.0 B so far)\n",
      "23/10/30 17:47:05 WARN MemoryStore: Failed to reserve initial memory threshold of 1024.0 KiB for computing block rdd_61_79 in memory.\n",
      "23/10/30 17:47:05 WARN MemoryStore: Not enough space to cache rdd_61_79 in memory! (computed 384.0 B so far)\n",
      "23/10/30 17:47:05 WARN MemoryStore: Failed to reserve initial memory threshold of 1024.0 KiB for computing block rdd_61_80 in memory.\n"
     ]
    },
    {
     "name": "stderr",
     "output_type": "stream",
     "text": [
      "[Stage 26:==================>                                    (83 + 2) / 244]\r"
     ]
    },
    {
     "name": "stdout",
     "output_type": "stream",
     "text": [
      "23/10/30 17:47:05 WARN MemoryStore: Not enough space to cache rdd_61_80 in memory! (computed 384.0 B so far)\n",
      "23/10/30 17:47:05 WARN MemoryStore: Failed to reserve initial memory threshold of 1024.0 KiB for computing block rdd_61_81 in memory.\n",
      "23/10/30 17:47:05 WARN MemoryStore: Not enough space to cache rdd_61_81 in memory! (computed 384.0 B so far)\n",
      "23/10/30 17:47:05 WARN MemoryStore: Failed to reserve initial memory threshold of 1024.0 KiB for computing block rdd_61_82 in memory.\n",
      "23/10/30 17:47:05 WARN MemoryStore: Not enough space to cache rdd_61_82 in memory! (computed 384.0 B so far)\n",
      "23/10/30 17:47:05 WARN MemoryStore: Failed to reserve initial memory threshold of 1024.0 KiB for computing block rdd_61_83 in memory.\n",
      "23/10/30 17:47:05 WARN MemoryStore: Failed to reserve initial memory threshold of 1024.0 KiB for computing block rdd_61_84 in memory.\n",
      "23/10/30 17:47:05 WARN MemoryStore: Not enough space to cache rdd_61_83 in memory! (computed 384.0 B so far)\n",
      "23/10/30 17:47:05 WARN MemoryStore: Not enough space to cache rdd_61_84 in memory! (computed 384.0 B so far)\n",
      "23/10/30 17:47:05 WARN MemoryStore: Failed to reserve initial memory threshold of 1024.0 KiB for computing block rdd_61_85 in memory.\n",
      "23/10/30 17:47:05 WARN MemoryStore: Failed to reserve initial memory threshold of 1024.0 KiB for computing block rdd_61_86 in memory.\n",
      "23/10/30 17:47:05 WARN MemoryStore: Not enough space to cache rdd_61_85 in memory! (computed 384.0 B so far)\n",
      "23/10/30 17:47:05 WARN MemoryStore: Not enough space to cache rdd_61_86 in memory! (computed 384.0 B so far)\n",
      "23/10/30 17:47:05 WARN MemoryStore: Failed to reserve initial memory threshold of 1024.0 KiB for computing block rdd_61_87 in memory.\n",
      "23/10/30 17:47:05 WARN MemoryStore: Not enough space to cache rdd_61_87 in memory! (computed 384.0 B so far)\n",
      "23/10/30 17:47:05 WARN MemoryStore: Failed to reserve initial memory threshold of 1024.0 KiB for computing block rdd_61_88 in memory.\n",
      "23/10/30 17:47:05 WARN MemoryStore: Not enough space to cache rdd_61_88 in memory! (computed 384.0 B so far)\n",
      "23/10/30 17:47:05 WARN MemoryStore: Failed to reserve initial memory threshold of 1024.0 KiB for computing block rdd_61_89 in memory.\n",
      "23/10/30 17:47:05 WARN MemoryStore: Not enough space to cache rdd_61_89 in memory! (computed 384.0 B so far)\n",
      "23/10/30 17:47:05 WARN MemoryStore: Failed to reserve initial memory threshold of 1024.0 KiB for computing block rdd_61_90 in memory.\n",
      "23/10/30 17:47:05 WARN MemoryStore: Not enough space to cache rdd_61_90 in memory! (computed 384.0 B so far)\n",
      "23/10/30 17:47:05 WARN MemoryStore: Failed to reserve initial memory threshold of 1024.0 KiB for computing block rdd_61_91 in memory.\n",
      "23/10/30 17:47:05 WARN MemoryStore: Not enough space to cache rdd_61_91 in memory! (computed 384.0 B so far)\n",
      "23/10/30 17:47:05 WARN MemoryStore: Failed to reserve initial memory threshold of 1024.0 KiB for computing block rdd_61_92 in memory.\n",
      "23/10/30 17:47:05 WARN MemoryStore: Failed to reserve initial memory threshold of 1024.0 KiB for computing block rdd_61_93 in memory.\n",
      "23/10/30 17:47:05 WARN MemoryStore: Not enough space to cache rdd_61_92 in memory! (computed 384.0 B so far)\n",
      "23/10/30 17:47:05 WARN MemoryStore: Not enough space to cache rdd_61_93 in memory! (computed 384.0 B so far)\n",
      "23/10/30 17:47:05 WARN MemoryStore: Failed to reserve initial memory threshold of 1024.0 KiB for computing block rdd_61_94 in memory.\n",
      "23/10/30 17:47:05 WARN MemoryStore: Failed to reserve initial memory threshold of 1024.0 KiB for computing block rdd_61_95 in memory.\n",
      "23/10/30 17:47:05 WARN MemoryStore: Not enough space to cache rdd_61_94 in memory! (computed 384.0 B so far)\n",
      "23/10/30 17:47:05 WARN MemoryStore: Not enough space to cache rdd_61_95 in memory! (computed 384.0 B so far)\n",
      "23/10/30 17:47:05 WARN MemoryStore: Failed to reserve initial memory threshold of 1024.0 KiB for computing block rdd_61_96 in memory.\n",
      "23/10/30 17:47:05 WARN MemoryStore: Failed to reserve initial memory threshold of 1024.0 KiB for computing block rdd_61_97 in memory.\n",
      "23/10/30 17:47:05 WARN MemoryStore: Not enough space to cache rdd_61_96 in memory! (computed 384.0 B so far)\n",
      "23/10/30 17:47:05 WARN MemoryStore: Not enough space to cache rdd_61_97 in memory! (computed 384.0 B so far)\n"
     ]
    },
    {
     "name": "stderr",
     "output_type": "stream",
     "text": [
      "[Stage 26:======================>                               (101 + 2) / 244]\r"
     ]
    },
    {
     "name": "stdout",
     "output_type": "stream",
     "text": [
      "23/10/30 17:47:05 WARN MemoryStore: Failed to reserve initial memory threshold of 1024.0 KiB for computing block rdd_61_98 in memory.\n",
      "23/10/30 17:47:05 WARN MemoryStore: Failed to reserve initial memory threshold of 1024.0 KiB for computing block rdd_61_99 in memory.\n",
      "23/10/30 17:47:05 WARN MemoryStore: Not enough space to cache rdd_61_98 in memory! (computed 384.0 B so far)\n",
      "23/10/30 17:47:05 WARN MemoryStore: Not enough space to cache rdd_61_99 in memory! (computed 384.0 B so far)\n",
      "23/10/30 17:47:05 WARN MemoryStore: Failed to reserve initial memory threshold of 1024.0 KiB for computing block rdd_61_100 in memory.\n",
      "23/10/30 17:47:05 WARN MemoryStore: Not enough space to cache rdd_61_100 in memory! (computed 384.0 B so far)\n",
      "23/10/30 17:47:05 WARN MemoryStore: Failed to reserve initial memory threshold of 1024.0 KiB for computing block rdd_61_101 in memory.\n",
      "23/10/30 17:47:05 WARN MemoryStore: Not enough space to cache rdd_61_101 in memory! (computed 384.0 B so far)\n",
      "23/10/30 17:47:05 WARN MemoryStore: Failed to reserve initial memory threshold of 1024.0 KiB for computing block rdd_61_102 in memory.\n",
      "23/10/30 17:47:05 WARN MemoryStore: Not enough space to cache rdd_61_102 in memory! (computed 384.0 B so far)\n",
      "23/10/30 17:47:05 WARN MemoryStore: Failed to reserve initial memory threshold of 1024.0 KiB for computing block rdd_61_103 in memory.\n",
      "23/10/30 17:47:05 WARN MemoryStore: Not enough space to cache rdd_61_103 in memory! (computed 384.0 B so far)\n",
      "23/10/30 17:47:05 WARN MemoryStore: Failed to reserve initial memory threshold of 1024.0 KiB for computing block rdd_61_104 in memory.\n",
      "23/10/30 17:47:05 WARN MemoryStore: Not enough space to cache rdd_61_104 in memory! (computed 384.0 B so far)\n",
      "23/10/30 17:47:05 WARN MemoryStore: Failed to reserve initial memory threshold of 1024.0 KiB for computing block rdd_61_105 in memory.\n",
      "23/10/30 17:47:05 WARN MemoryStore: Failed to reserve initial memory threshold of 1024.0 KiB for computing block rdd_61_106 in memory.\n",
      "23/10/30 17:47:05 WARN MemoryStore: Not enough space to cache rdd_61_105 in memory! (computed 384.0 B so far)\n",
      "23/10/30 17:47:05 WARN MemoryStore: Not enough space to cache rdd_61_106 in memory! (computed 384.0 B so far)\n",
      "23/10/30 17:47:05 WARN MemoryStore: Failed to reserve initial memory threshold of 1024.0 KiB for computing block rdd_61_107 in memory.\n",
      "23/10/30 17:47:05 WARN MemoryStore: Failed to reserve initial memory threshold of 1024.0 KiB for computing block rdd_61_108 in memory.\n",
      "23/10/30 17:47:05 WARN MemoryStore: Not enough space to cache rdd_61_107 in memory! (computed 384.0 B so far)\n",
      "23/10/30 17:47:05 WARN MemoryStore: Not enough space to cache rdd_61_108 in memory! (computed 384.0 B so far)\n",
      "23/10/30 17:47:05 WARN MemoryStore: Failed to reserve initial memory threshold of 1024.0 KiB for computing block rdd_61_110 in memory.\n",
      "23/10/30 17:47:05 WARN MemoryStore: Failed to reserve initial memory threshold of 1024.0 KiB for computing block rdd_61_109 in memory.\n",
      "23/10/30 17:47:05 WARN MemoryStore: Not enough space to cache rdd_61_110 in memory! (computed 384.0 B so far)\n",
      "23/10/30 17:47:05 WARN MemoryStore: Not enough space to cache rdd_61_109 in memory! (computed 384.0 B so far)\n",
      "23/10/30 17:47:05 WARN MemoryStore: Failed to reserve initial memory threshold of 1024.0 KiB for computing block rdd_61_111 in memory.\n",
      "23/10/30 17:47:05 WARN MemoryStore: Not enough space to cache rdd_61_111 in memory! (computed 384.0 B so far)\n",
      "23/10/30 17:47:05 WARN MemoryStore: Failed to reserve initial memory threshold of 1024.0 KiB for computing block rdd_61_112 in memory.\n",
      "23/10/30 17:47:05 WARN MemoryStore: Not enough space to cache rdd_61_112 in memory! (computed 384.0 B so far)\n",
      "23/10/30 17:47:05 WARN MemoryStore: Failed to reserve initial memory threshold of 1024.0 KiB for computing block rdd_61_113 in memory.\n",
      "23/10/30 17:47:05 WARN MemoryStore: Not enough space to cache rdd_61_113 in memory! (computed 384.0 B so far)\n",
      "23/10/30 17:47:05 WARN MemoryStore: Failed to reserve initial memory threshold of 1024.0 KiB for computing block rdd_61_114 in memory.\n",
      "23/10/30 17:47:05 WARN MemoryStore: Failed to reserve initial memory threshold of 1024.0 KiB for computing block rdd_61_115 in memory.\n",
      "23/10/30 17:47:05 WARN MemoryStore: Not enough space to cache rdd_61_115 in memory! (computed 384.0 B so far)\n",
      "23/10/30 17:47:05 WARN MemoryStore: Not enough space to cache rdd_61_114 in memory! (computed 384.0 B so far)\n",
      "23/10/30 17:47:05 WARN MemoryStore: Failed to reserve initial memory threshold of 1024.0 KiB for computing block rdd_61_121 in memory.\n",
      "23/10/30 17:47:05 WARN MemoryStore: Not enough space to cache rdd_61_121 in memory! (computed 384.0 B so far)\n",
      "23/10/30 17:47:05 WARN MemoryStore: Failed to reserve initial memory threshold of 1024.0 KiB for computing block rdd_61_129 in memory.\n",
      "23/10/30 17:47:05 WARN MemoryStore: Not enough space to cache rdd_61_129 in memory! (computed 384.0 B so far)\n",
      "23/10/30 17:47:06 WARN MemoryStore: Failed to reserve initial memory threshold of 1024.0 KiB for computing block rdd_61_134 in memory.\n"
     ]
    },
    {
     "name": "stderr",
     "output_type": "stream",
     "text": [
      "[Stage 26:==============================>                       (136 + 2) / 244]\r"
     ]
    },
    {
     "name": "stdout",
     "output_type": "stream",
     "text": [
      "23/10/30 17:47:06 WARN MemoryStore: Not enough space to cache rdd_61_134 in memory! (computed 384.0 B so far)\n",
      "23/10/30 17:47:06 WARN MemoryStore: Failed to reserve initial memory threshold of 1024.0 KiB for computing block rdd_61_144 in memory.\n",
      "23/10/30 17:47:06 WARN MemoryStore: Not enough space to cache rdd_61_144 in memory! (computed 384.0 B so far)\n"
     ]
    },
    {
     "name": "stderr",
     "output_type": "stream",
     "text": [
      "[Stage 26:=========================================>            (189 + 2) / 244]\r"
     ]
    },
    {
     "name": "stdout",
     "output_type": "stream",
     "text": [
      "23/10/30 17:47:06 WARN MemoryStore: Failed to reserve initial memory threshold of 1024.0 KiB for computing block rdd_61_171 in memory.\n",
      "23/10/30 17:47:06 WARN MemoryStore: Not enough space to cache rdd_61_171 in memory! (computed 384.0 B so far)\n",
      "23/10/30 17:47:06 WARN MemoryStore: Failed to reserve initial memory threshold of 1024.0 KiB for computing block rdd_61_188 in memory.\n",
      "23/10/30 17:47:06 WARN MemoryStore: Not enough space to cache rdd_61_188 in memory! (computed 384.0 B so far)\n",
      "23/10/30 17:47:06 WARN MemoryStore: Failed to reserve initial memory threshold of 1024.0 KiB for computing block rdd_61_191 in memory.\n",
      "23/10/30 17:47:06 WARN MemoryStore: Not enough space to cache rdd_61_191 in memory! (computed 384.0 B so far)\n"
     ]
    },
    {
     "name": "stderr",
     "output_type": "stream",
     "text": [
      "[Stage 26:==============================================>       (210 + 2) / 244]\r"
     ]
    },
    {
     "name": "stdout",
     "output_type": "stream",
     "text": [
      "23/10/30 17:47:06 WARN MemoryStore: Failed to reserve initial memory threshold of 1024.0 KiB for computing block rdd_61_240 in memory.\n",
      "23/10/30 17:47:06 WARN MemoryStore: Not enough space to cache rdd_61_240 in memory! (computed 384.0 B so far)\n"
     ]
    },
    {
     "name": "stderr",
     "output_type": "stream",
     "text": [
      "                                                                                \r"
     ]
    },
    {
     "data": {
      "text/plain": [
       "Row(min_created_utc=datetime.datetime(2021, 1, 1, 0, 0, 8), max_created_utc=datetime.datetime(2023, 3, 31, 23, 59, 12))"
      ]
     },
     "execution_count": 21,
     "metadata": {},
     "output_type": "execute_result"
    }
   ],
   "source": [
    "from pyspark.sql.functions import min, max\n",
    "\n",
    "comments.select(min('created_utc').alias('min_created_utc'),\n",
    "                                     max('created_utc').alias('max_created_utc')).first()"
   ]
  },
  {
   "cell_type": "code",
   "execution_count": 22,
   "metadata": {
    "tags": []
   },
   "outputs": [
    {
     "name": "stdout",
     "output_type": "stream",
     "text": [
      "reading submissions from s3a://sagemaker-us-east-1-433974840707/project/submissions/year=*/\n",
      "23/10/30 17:47:08 WARN CacheManager: Asked to cache already cached data.\n",
      "CPU times: user 4.77 ms, sys: 242 µs, total: 5.01 ms\n",
      "Wall time: 1.13 s\n"
     ]
    },
    {
     "data": {
      "text/plain": [
       "DataFrame[adserver_click_url: string, adserver_imp_pixel: string, archived: boolean, author: string, author_cakeday: boolean, author_flair_css_class: string, author_flair_text: string, author_id: string, brand_safe: boolean, contest_mode: boolean, created_utc: timestamp, crosspost_parent: string, crosspost_parent_list: array<struct<approved_at_utc:string,approved_by:string,archived:boolean,author:string,author_flair_css_class:string,author_flair_text:string,banned_at_utc:string,banned_by:string,brand_safe:boolean,can_gild:boolean,can_mod_post:boolean,clicked:boolean,contest_mode:boolean,created:double,created_utc:double,distinguished:string,domain:string,downs:bigint,edited:boolean,gilded:bigint,hidden:boolean,hide_score:boolean,id:string,is_crosspostable:boolean,is_reddit_media_domain:boolean,is_self:boolean,is_video:boolean,likes:string,link_flair_css_class:string,link_flair_text:string,locked:boolean,media:string,mod_reports:array<string>,name:string,num_comments:bigint,num_crossposts:bigint,num_reports:string,over_18:boolean,parent_whitelist_status:string,permalink:string,pinned:boolean,quarantine:boolean,removal_reason:string,report_reasons:string,saved:boolean,score:bigint,secure_media:string,selftext:string,selftext_html:string,spoiler:boolean,stickied:boolean,subreddit:string,subreddit_id:string,subreddit_name_prefixed:string,subreddit_type:string,suggested_sort:string,thumbnail:string,thumbnail_height:string,thumbnail_width:string,title:string,ups:bigint,url:string,user_reports:array<string>,view_count:string,visited:boolean,whitelist_status:string>>, disable_comments: boolean, distinguished: string, domain: string, domain_override: string, edited: string, embed_type: string, embed_url: string, gilded: bigint, hidden: boolean, hide_score: boolean, href_url: string, id: string, imp_pixel: string, is_crosspostable: boolean, is_reddit_media_domain: boolean, is_self: boolean, is_video: boolean, link_flair_css_class: string, link_flair_text: string, locked: boolean, media: struct<event_id:string,oembed:struct<author_name:string,author_url:string,cache_age:bigint,description:string,height:bigint,html:string,provider_name:string,provider_url:string,thumbnail_height:bigint,thumbnail_url:string,thumbnail_width:bigint,title:string,type:string,url:string,version:string,width:bigint>,reddit_video:struct<dash_url:string,duration:bigint,fallback_url:string,height:bigint,hls_url:string,is_gif:boolean,scrubber_media_url:string,transcoding_status:string,width:bigint>,type:string>, media_embed: struct<content:string,height:bigint,scrolling:boolean,width:bigint>, mobile_ad_url: string, num_comments: bigint, num_crossposts: bigint, original_link: string, over_18: boolean, parent_whitelist_status: string, permalink: string, pinned: boolean, post_hint: string, preview: struct<enabled:boolean,images:array<struct<id:string,resolutions:array<struct<height:bigint,url:string,width:bigint>>,source:struct<height:bigint,url:string,width:bigint>,variants:struct<gif:struct<resolutions:array<struct<height:bigint,url:string,width:bigint>>,source:struct<height:bigint,url:string,width:bigint>>,mp4:struct<resolutions:array<struct<height:bigint,url:string,width:bigint>>,source:struct<height:bigint,url:string,width:bigint>>,nsfw:struct<resolutions:array<struct<height:bigint,url:string,width:bigint>>,source:struct<height:bigint,url:string,width:bigint>>,obfuscated:struct<resolutions:array<struct<height:bigint,url:string,width:bigint>>,source:struct<height:bigint,url:string,width:bigint>>>>>>, promoted: boolean, promoted_by: string, promoted_display_name: string, promoted_url: string, retrieved_on: timestamp, score: bigint, secure_media: struct<event_id:string,oembed:struct<author_name:string,author_url:string,cache_age:bigint,description:string,height:bigint,html:string,provider_name:string,provider_url:string,thumbnail_height:bigint,thumbnail_url:string,thumbnail_width:bigint,title:string,type:string,url:string,version:string,width:bigint>,type:string>, secure_media_embed: struct<content:string,height:bigint,media_domain_url:string,scrolling:boolean,width:bigint>, selftext: string, spoiler: boolean, stickied: boolean, subreddit: string, subreddit_id: string, suggested_sort: string, third_party_trackers: array<string>, third_party_tracking: string, third_party_tracking_2: string, thumbnail: string, thumbnail_height: bigint, thumbnail_width: bigint, title: string, url: string, whitelist_status: string]"
      ]
     },
     "execution_count": 22,
     "metadata": {},
     "output_type": "execute_result"
    }
   ],
   "source": [
    "%%time\n",
    "s3_path = f\"s3a://{bucket}/project/submissions/year=*/\"  # Use * as a wildcard to match all subdirectories\n",
    "print(f\"reading submissions from {s3_path}\")\n",
    "submissions = spark.read.parquet(s3_path, header=True) \n",
    "submissions.persist()\n",
    "#print(f\"shape of the submissions dataframe is {submissions.count():,}x{len(submissions.columns)}\")"
   ]
  },
  {
   "cell_type": "code",
   "execution_count": 23,
   "metadata": {
    "tags": []
   },
   "outputs": [
    {
     "name": "stderr",
     "output_type": "stream",
     "text": [
      "[Stage 30:==================================================>     (87 + 2) / 97]\r"
     ]
    },
    {
     "name": "stdout",
     "output_type": "stream",
     "text": [
      "+-----------+-----+\n",
      "|  subreddit|count|\n",
      "+-----------+-----+\n",
      "|Libertarian|51153|\n",
      "|   centrist|13594|\n",
      "+-----------+-----+\n",
      "\n"
     ]
    },
    {
     "name": "stderr",
     "output_type": "stream",
     "text": [
      "                                                                                \r"
     ]
    }
   ],
   "source": [
    "# check counts (ensuring all needed subreddits exist)\n",
    "submissions.groupBy('subreddit').count().show()"
   ]
  },
  {
   "cell_type": "code",
   "execution_count": 24,
   "metadata": {
    "tags": []
   },
   "outputs": [
    {
     "name": "stderr",
     "output_type": "stream",
     "text": [
      "                                                                                \r"
     ]
    },
    {
     "data": {
      "text/plain": [
       "Row(min_created_utc=datetime.datetime(2021, 1, 1, 0, 0, 58), max_created_utc=datetime.datetime(2023, 3, 31, 23, 39, 22))"
      ]
     },
     "execution_count": 24,
     "metadata": {},
     "output_type": "execute_result"
    }
   ],
   "source": [
    "from pyspark.sql.functions import min, max\n",
    "\n",
    "submissions.select(min('created_utc').alias('min_created_utc'),\n",
    "                                     max('created_utc').alias('max_created_utc')).first()"
   ]
  }
 ],
 "metadata": {
  "availableInstances": [
   {
    "_defaultOrder": 0,
    "_isFastLaunch": true,
    "category": "General purpose",
    "gpuNum": 0,
    "hideHardwareSpecs": false,
    "memoryGiB": 4,
    "name": "ml.t3.medium",
    "vcpuNum": 2
   },
   {
    "_defaultOrder": 1,
    "_isFastLaunch": false,
    "category": "General purpose",
    "gpuNum": 0,
    "hideHardwareSpecs": false,
    "memoryGiB": 8,
    "name": "ml.t3.large",
    "vcpuNum": 2
   },
   {
    "_defaultOrder": 2,
    "_isFastLaunch": false,
    "category": "General purpose",
    "gpuNum": 0,
    "hideHardwareSpecs": false,
    "memoryGiB": 16,
    "name": "ml.t3.xlarge",
    "vcpuNum": 4
   },
   {
    "_defaultOrder": 3,
    "_isFastLaunch": false,
    "category": "General purpose",
    "gpuNum": 0,
    "hideHardwareSpecs": false,
    "memoryGiB": 32,
    "name": "ml.t3.2xlarge",
    "vcpuNum": 8
   },
   {
    "_defaultOrder": 4,
    "_isFastLaunch": true,
    "category": "General purpose",
    "gpuNum": 0,
    "hideHardwareSpecs": false,
    "memoryGiB": 8,
    "name": "ml.m5.large",
    "vcpuNum": 2
   },
   {
    "_defaultOrder": 5,
    "_isFastLaunch": false,
    "category": "General purpose",
    "gpuNum": 0,
    "hideHardwareSpecs": false,
    "memoryGiB": 16,
    "name": "ml.m5.xlarge",
    "vcpuNum": 4
   },
   {
    "_defaultOrder": 6,
    "_isFastLaunch": false,
    "category": "General purpose",
    "gpuNum": 0,
    "hideHardwareSpecs": false,
    "memoryGiB": 32,
    "name": "ml.m5.2xlarge",
    "vcpuNum": 8
   },
   {
    "_defaultOrder": 7,
    "_isFastLaunch": false,
    "category": "General purpose",
    "gpuNum": 0,
    "hideHardwareSpecs": false,
    "memoryGiB": 64,
    "name": "ml.m5.4xlarge",
    "vcpuNum": 16
   },
   {
    "_defaultOrder": 8,
    "_isFastLaunch": false,
    "category": "General purpose",
    "gpuNum": 0,
    "hideHardwareSpecs": false,
    "memoryGiB": 128,
    "name": "ml.m5.8xlarge",
    "vcpuNum": 32
   },
   {
    "_defaultOrder": 9,
    "_isFastLaunch": false,
    "category": "General purpose",
    "gpuNum": 0,
    "hideHardwareSpecs": false,
    "memoryGiB": 192,
    "name": "ml.m5.12xlarge",
    "vcpuNum": 48
   },
   {
    "_defaultOrder": 10,
    "_isFastLaunch": false,
    "category": "General purpose",
    "gpuNum": 0,
    "hideHardwareSpecs": false,
    "memoryGiB": 256,
    "name": "ml.m5.16xlarge",
    "vcpuNum": 64
   },
   {
    "_defaultOrder": 11,
    "_isFastLaunch": false,
    "category": "General purpose",
    "gpuNum": 0,
    "hideHardwareSpecs": false,
    "memoryGiB": 384,
    "name": "ml.m5.24xlarge",
    "vcpuNum": 96
   },
   {
    "_defaultOrder": 12,
    "_isFastLaunch": false,
    "category": "General purpose",
    "gpuNum": 0,
    "hideHardwareSpecs": false,
    "memoryGiB": 8,
    "name": "ml.m5d.large",
    "vcpuNum": 2
   },
   {
    "_defaultOrder": 13,
    "_isFastLaunch": false,
    "category": "General purpose",
    "gpuNum": 0,
    "hideHardwareSpecs": false,
    "memoryGiB": 16,
    "name": "ml.m5d.xlarge",
    "vcpuNum": 4
   },
   {
    "_defaultOrder": 14,
    "_isFastLaunch": false,
    "category": "General purpose",
    "gpuNum": 0,
    "hideHardwareSpecs": false,
    "memoryGiB": 32,
    "name": "ml.m5d.2xlarge",
    "vcpuNum": 8
   },
   {
    "_defaultOrder": 15,
    "_isFastLaunch": false,
    "category": "General purpose",
    "gpuNum": 0,
    "hideHardwareSpecs": false,
    "memoryGiB": 64,
    "name": "ml.m5d.4xlarge",
    "vcpuNum": 16
   },
   {
    "_defaultOrder": 16,
    "_isFastLaunch": false,
    "category": "General purpose",
    "gpuNum": 0,
    "hideHardwareSpecs": false,
    "memoryGiB": 128,
    "name": "ml.m5d.8xlarge",
    "vcpuNum": 32
   },
   {
    "_defaultOrder": 17,
    "_isFastLaunch": false,
    "category": "General purpose",
    "gpuNum": 0,
    "hideHardwareSpecs": false,
    "memoryGiB": 192,
    "name": "ml.m5d.12xlarge",
    "vcpuNum": 48
   },
   {
    "_defaultOrder": 18,
    "_isFastLaunch": false,
    "category": "General purpose",
    "gpuNum": 0,
    "hideHardwareSpecs": false,
    "memoryGiB": 256,
    "name": "ml.m5d.16xlarge",
    "vcpuNum": 64
   },
   {
    "_defaultOrder": 19,
    "_isFastLaunch": false,
    "category": "General purpose",
    "gpuNum": 0,
    "hideHardwareSpecs": false,
    "memoryGiB": 384,
    "name": "ml.m5d.24xlarge",
    "vcpuNum": 96
   },
   {
    "_defaultOrder": 20,
    "_isFastLaunch": false,
    "category": "General purpose",
    "gpuNum": 0,
    "hideHardwareSpecs": true,
    "memoryGiB": 0,
    "name": "ml.geospatial.interactive",
    "supportedImageNames": [
     "sagemaker-geospatial-v1-0"
    ],
    "vcpuNum": 0
   },
   {
    "_defaultOrder": 21,
    "_isFastLaunch": true,
    "category": "Compute optimized",
    "gpuNum": 0,
    "hideHardwareSpecs": false,
    "memoryGiB": 4,
    "name": "ml.c5.large",
    "vcpuNum": 2
   },
   {
    "_defaultOrder": 22,
    "_isFastLaunch": false,
    "category": "Compute optimized",
    "gpuNum": 0,
    "hideHardwareSpecs": false,
    "memoryGiB": 8,
    "name": "ml.c5.xlarge",
    "vcpuNum": 4
   },
   {
    "_defaultOrder": 23,
    "_isFastLaunch": false,
    "category": "Compute optimized",
    "gpuNum": 0,
    "hideHardwareSpecs": false,
    "memoryGiB": 16,
    "name": "ml.c5.2xlarge",
    "vcpuNum": 8
   },
   {
    "_defaultOrder": 24,
    "_isFastLaunch": false,
    "category": "Compute optimized",
    "gpuNum": 0,
    "hideHardwareSpecs": false,
    "memoryGiB": 32,
    "name": "ml.c5.4xlarge",
    "vcpuNum": 16
   },
   {
    "_defaultOrder": 25,
    "_isFastLaunch": false,
    "category": "Compute optimized",
    "gpuNum": 0,
    "hideHardwareSpecs": false,
    "memoryGiB": 72,
    "name": "ml.c5.9xlarge",
    "vcpuNum": 36
   },
   {
    "_defaultOrder": 26,
    "_isFastLaunch": false,
    "category": "Compute optimized",
    "gpuNum": 0,
    "hideHardwareSpecs": false,
    "memoryGiB": 96,
    "name": "ml.c5.12xlarge",
    "vcpuNum": 48
   },
   {
    "_defaultOrder": 27,
    "_isFastLaunch": false,
    "category": "Compute optimized",
    "gpuNum": 0,
    "hideHardwareSpecs": false,
    "memoryGiB": 144,
    "name": "ml.c5.18xlarge",
    "vcpuNum": 72
   },
   {
    "_defaultOrder": 28,
    "_isFastLaunch": false,
    "category": "Compute optimized",
    "gpuNum": 0,
    "hideHardwareSpecs": false,
    "memoryGiB": 192,
    "name": "ml.c5.24xlarge",
    "vcpuNum": 96
   },
   {
    "_defaultOrder": 29,
    "_isFastLaunch": true,
    "category": "Accelerated computing",
    "gpuNum": 1,
    "hideHardwareSpecs": false,
    "memoryGiB": 16,
    "name": "ml.g4dn.xlarge",
    "vcpuNum": 4
   },
   {
    "_defaultOrder": 30,
    "_isFastLaunch": false,
    "category": "Accelerated computing",
    "gpuNum": 1,
    "hideHardwareSpecs": false,
    "memoryGiB": 32,
    "name": "ml.g4dn.2xlarge",
    "vcpuNum": 8
   },
   {
    "_defaultOrder": 31,
    "_isFastLaunch": false,
    "category": "Accelerated computing",
    "gpuNum": 1,
    "hideHardwareSpecs": false,
    "memoryGiB": 64,
    "name": "ml.g4dn.4xlarge",
    "vcpuNum": 16
   },
   {
    "_defaultOrder": 32,
    "_isFastLaunch": false,
    "category": "Accelerated computing",
    "gpuNum": 1,
    "hideHardwareSpecs": false,
    "memoryGiB": 128,
    "name": "ml.g4dn.8xlarge",
    "vcpuNum": 32
   },
   {
    "_defaultOrder": 33,
    "_isFastLaunch": false,
    "category": "Accelerated computing",
    "gpuNum": 4,
    "hideHardwareSpecs": false,
    "memoryGiB": 192,
    "name": "ml.g4dn.12xlarge",
    "vcpuNum": 48
   },
   {
    "_defaultOrder": 34,
    "_isFastLaunch": false,
    "category": "Accelerated computing",
    "gpuNum": 1,
    "hideHardwareSpecs": false,
    "memoryGiB": 256,
    "name": "ml.g4dn.16xlarge",
    "vcpuNum": 64
   },
   {
    "_defaultOrder": 35,
    "_isFastLaunch": false,
    "category": "Accelerated computing",
    "gpuNum": 1,
    "hideHardwareSpecs": false,
    "memoryGiB": 61,
    "name": "ml.p3.2xlarge",
    "vcpuNum": 8
   },
   {
    "_defaultOrder": 36,
    "_isFastLaunch": false,
    "category": "Accelerated computing",
    "gpuNum": 4,
    "hideHardwareSpecs": false,
    "memoryGiB": 244,
    "name": "ml.p3.8xlarge",
    "vcpuNum": 32
   },
   {
    "_defaultOrder": 37,
    "_isFastLaunch": false,
    "category": "Accelerated computing",
    "gpuNum": 8,
    "hideHardwareSpecs": false,
    "memoryGiB": 488,
    "name": "ml.p3.16xlarge",
    "vcpuNum": 64
   },
   {
    "_defaultOrder": 38,
    "_isFastLaunch": false,
    "category": "Accelerated computing",
    "gpuNum": 8,
    "hideHardwareSpecs": false,
    "memoryGiB": 768,
    "name": "ml.p3dn.24xlarge",
    "vcpuNum": 96
   },
   {
    "_defaultOrder": 39,
    "_isFastLaunch": false,
    "category": "Memory Optimized",
    "gpuNum": 0,
    "hideHardwareSpecs": false,
    "memoryGiB": 16,
    "name": "ml.r5.large",
    "vcpuNum": 2
   },
   {
    "_defaultOrder": 40,
    "_isFastLaunch": false,
    "category": "Memory Optimized",
    "gpuNum": 0,
    "hideHardwareSpecs": false,
    "memoryGiB": 32,
    "name": "ml.r5.xlarge",
    "vcpuNum": 4
   },
   {
    "_defaultOrder": 41,
    "_isFastLaunch": false,
    "category": "Memory Optimized",
    "gpuNum": 0,
    "hideHardwareSpecs": false,
    "memoryGiB": 64,
    "name": "ml.r5.2xlarge",
    "vcpuNum": 8
   },
   {
    "_defaultOrder": 42,
    "_isFastLaunch": false,
    "category": "Memory Optimized",
    "gpuNum": 0,
    "hideHardwareSpecs": false,
    "memoryGiB": 128,
    "name": "ml.r5.4xlarge",
    "vcpuNum": 16
   },
   {
    "_defaultOrder": 43,
    "_isFastLaunch": false,
    "category": "Memory Optimized",
    "gpuNum": 0,
    "hideHardwareSpecs": false,
    "memoryGiB": 256,
    "name": "ml.r5.8xlarge",
    "vcpuNum": 32
   },
   {
    "_defaultOrder": 44,
    "_isFastLaunch": false,
    "category": "Memory Optimized",
    "gpuNum": 0,
    "hideHardwareSpecs": false,
    "memoryGiB": 384,
    "name": "ml.r5.12xlarge",
    "vcpuNum": 48
   },
   {
    "_defaultOrder": 45,
    "_isFastLaunch": false,
    "category": "Memory Optimized",
    "gpuNum": 0,
    "hideHardwareSpecs": false,
    "memoryGiB": 512,
    "name": "ml.r5.16xlarge",
    "vcpuNum": 64
   },
   {
    "_defaultOrder": 46,
    "_isFastLaunch": false,
    "category": "Memory Optimized",
    "gpuNum": 0,
    "hideHardwareSpecs": false,
    "memoryGiB": 768,
    "name": "ml.r5.24xlarge",
    "vcpuNum": 96
   },
   {
    "_defaultOrder": 47,
    "_isFastLaunch": false,
    "category": "Accelerated computing",
    "gpuNum": 1,
    "hideHardwareSpecs": false,
    "memoryGiB": 16,
    "name": "ml.g5.xlarge",
    "vcpuNum": 4
   },
   {
    "_defaultOrder": 48,
    "_isFastLaunch": false,
    "category": "Accelerated computing",
    "gpuNum": 1,
    "hideHardwareSpecs": false,
    "memoryGiB": 32,
    "name": "ml.g5.2xlarge",
    "vcpuNum": 8
   },
   {
    "_defaultOrder": 49,
    "_isFastLaunch": false,
    "category": "Accelerated computing",
    "gpuNum": 1,
    "hideHardwareSpecs": false,
    "memoryGiB": 64,
    "name": "ml.g5.4xlarge",
    "vcpuNum": 16
   },
   {
    "_defaultOrder": 50,
    "_isFastLaunch": false,
    "category": "Accelerated computing",
    "gpuNum": 1,
    "hideHardwareSpecs": false,
    "memoryGiB": 128,
    "name": "ml.g5.8xlarge",
    "vcpuNum": 32
   },
   {
    "_defaultOrder": 51,
    "_isFastLaunch": false,
    "category": "Accelerated computing",
    "gpuNum": 1,
    "hideHardwareSpecs": false,
    "memoryGiB": 256,
    "name": "ml.g5.16xlarge",
    "vcpuNum": 64
   },
   {
    "_defaultOrder": 52,
    "_isFastLaunch": false,
    "category": "Accelerated computing",
    "gpuNum": 4,
    "hideHardwareSpecs": false,
    "memoryGiB": 192,
    "name": "ml.g5.12xlarge",
    "vcpuNum": 48
   },
   {
    "_defaultOrder": 53,
    "_isFastLaunch": false,
    "category": "Accelerated computing",
    "gpuNum": 4,
    "hideHardwareSpecs": false,
    "memoryGiB": 384,
    "name": "ml.g5.24xlarge",
    "vcpuNum": 96
   },
   {
    "_defaultOrder": 54,
    "_isFastLaunch": false,
    "category": "Accelerated computing",
    "gpuNum": 8,
    "hideHardwareSpecs": false,
    "memoryGiB": 768,
    "name": "ml.g5.48xlarge",
    "vcpuNum": 192
   },
   {
    "_defaultOrder": 55,
    "_isFastLaunch": false,
    "category": "Accelerated computing",
    "gpuNum": 8,
    "hideHardwareSpecs": false,
    "memoryGiB": 1152,
    "name": "ml.p4d.24xlarge",
    "vcpuNum": 96
   },
   {
    "_defaultOrder": 56,
    "_isFastLaunch": false,
    "category": "Accelerated computing",
    "gpuNum": 8,
    "hideHardwareSpecs": false,
    "memoryGiB": 1152,
    "name": "ml.p4de.24xlarge",
    "vcpuNum": 96
   }
  ],
  "instance_type": "ml.t3.large",
  "kernelspec": {
   "display_name": "Python 3 (Data Science 3.0)",
   "language": "python",
   "name": "python3__SAGEMAKER_INTERNAL__arn:aws:sagemaker:us-east-1:081325390199:image/sagemaker-data-science-310-v1"
  },
  "language_info": {
   "codemirror_mode": {
    "name": "ipython",
    "version": 3
   },
   "file_extension": ".py",
   "mimetype": "text/x-python",
   "name": "python",
   "nbconvert_exporter": "python",
   "pygments_lexer": "ipython3",
   "version": "3.10.6"
  }
 },
 "nbformat": 4,
 "nbformat_minor": 4
}
