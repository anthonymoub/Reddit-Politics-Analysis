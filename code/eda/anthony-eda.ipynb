{
 "cells": [
  {
   "cell_type": "markdown",
   "id": "51e0d3c8-e509-46e6-916f-a56bd6f97b7b",
   "metadata": {},
   "source": [
    "# Setup "
   ]
  },
  {
   "cell_type": "code",
   "execution_count": 2,
   "id": "7acc0590-6ee2-4fd0-8889-21742dd0e0b2",
   "metadata": {
    "tags": []
   },
   "outputs": [
    {
     "name": "stdout",
     "output_type": "stream",
     "text": [
      "Collecting package metadata (current_repodata.json): done\n",
      "Solving environment: done\n",
      "\n",
      "\n",
      "==> WARNING: A newer version of conda exists. <==\n",
      "  current version: 23.3.1\n",
      "  latest version: 23.9.0\n",
      "\n",
      "Please update conda by running\n",
      "\n",
      "    $ conda update -n base -c defaults conda\n",
      "\n",
      "Or to minimize the number of packages updated during conda update use\n",
      "\n",
      "     conda install conda=23.9.0\n",
      "\n",
      "\n",
      "\n",
      "# All requested packages already installed.\n",
      "\n",
      "\n",
      "Note: you may need to restart the kernel to use updated packages.\n",
      "Requirement already satisfied: pyspark==3.3.0 in /opt/conda/lib/python3.10/site-packages (3.3.0)\n",
      "Requirement already satisfied: py4j==0.10.9.5 in /opt/conda/lib/python3.10/site-packages (from pyspark==3.3.0) (0.10.9.5)\n",
      "\u001b[33mWARNING: Running pip as the 'root' user can result in broken permissions and conflicting behaviour with the system package manager. It is recommended to use a virtual environment instead: https://pip.pypa.io/warnings/venv\u001b[0m\u001b[33m\n",
      "\u001b[0m\n",
      "\u001b[1m[\u001b[0m\u001b[34;49mnotice\u001b[0m\u001b[1;39;49m]\u001b[0m\u001b[39;49m A new release of pip is available: \u001b[0m\u001b[31;49m23.2.1\u001b[0m\u001b[39;49m -> \u001b[0m\u001b[32;49m23.3.1\u001b[0m\n",
      "\u001b[1m[\u001b[0m\u001b[34;49mnotice\u001b[0m\u001b[1;39;49m]\u001b[0m\u001b[39;49m To update, run: \u001b[0m\u001b[32;49mpip install --upgrade pip\u001b[0m\n",
      "Note: you may need to restart the kernel to use updated packages.\n"
     ]
    },
    {
     "data": {
      "text/html": [
       "<script>Jupyter.notebook.kernel.restart()</script>"
      ],
      "text/plain": [
       "<IPython.core.display.HTML object>"
      ]
     },
     "execution_count": 2,
     "metadata": {},
     "output_type": "execute_result"
    }
   ],
   "source": [
    "# Setup - Run only once per Kernel App\n",
    "%conda install openjdk -y\n",
    "\n",
    "# install PySpark\n",
    "%pip install pyspark==3.3.0\n",
    "\n",
    "# restart kernel\n",
    "from IPython.core.display import HTML\n",
    "HTML(\"<script>Jupyter.notebook.kernel.restart()</script>\")"
   ]
  },
  {
   "cell_type": "code",
   "execution_count": 3,
   "id": "4831541c-4d77-44a8-860b-5f41acad8ced",
   "metadata": {
    "tags": []
   },
   "outputs": [
    {
     "name": "stderr",
     "output_type": "stream",
     "text": [
      "Warning: Ignoring non-Spark config property: fs.s3a.aws.credentials.provider\n"
     ]
    },
    {
     "name": "stdout",
     "output_type": "stream",
     "text": [
      ":: loading settings :: url = jar:file:/opt/conda/lib/python3.10/site-packages/pyspark/jars/ivy-2.5.0.jar!/org/apache/ivy/core/settings/ivysettings.xml\n"
     ]
    },
    {
     "name": "stderr",
     "output_type": "stream",
     "text": [
      "Ivy Default Cache set to: /root/.ivy2/cache\n",
      "The jars for the packages stored in: /root/.ivy2/jars\n",
      "org.apache.hadoop#hadoop-aws added as a dependency\n",
      ":: resolving dependencies :: org.apache.spark#spark-submit-parent-e5c18e9e-3599-48d1-aff2-57bc9b53157f;1.0\n",
      "\tconfs: [default]\n",
      "\tfound org.apache.hadoop#hadoop-aws;3.2.2 in central\n",
      "\tfound com.amazonaws#aws-java-sdk-bundle;1.11.563 in central\n",
      ":: resolution report :: resolve 469ms :: artifacts dl 39ms\n",
      "\t:: modules in use:\n",
      "\tcom.amazonaws#aws-java-sdk-bundle;1.11.563 from central in [default]\n",
      "\torg.apache.hadoop#hadoop-aws;3.2.2 from central in [default]\n",
      "\t---------------------------------------------------------------------\n",
      "\t|                  |            modules            ||   artifacts   |\n",
      "\t|       conf       | number| search|dwnlded|evicted|| number|dwnlded|\n",
      "\t---------------------------------------------------------------------\n",
      "\t|      default     |   2   |   0   |   0   |   0   ||   2   |   0   |\n",
      "\t---------------------------------------------------------------------\n",
      ":: retrieving :: org.apache.spark#spark-submit-parent-e5c18e9e-3599-48d1-aff2-57bc9b53157f\n",
      "\tconfs: [default]\n",
      "\t0 artifacts copied, 2 already retrieved (0kB/19ms)\n"
     ]
    },
    {
     "name": "stdout",
     "output_type": "stream",
     "text": [
      "23/11/06 17:13:45 WARN NativeCodeLoader: Unable to load native-hadoop library for your platform... using builtin-java classes where applicable\n"
     ]
    },
    {
     "name": "stderr",
     "output_type": "stream",
     "text": [
      "Setting default log level to \"WARN\".\n",
      "To adjust logging level use sc.setLogLevel(newLevel). For SparkR, use setLogLevel(newLevel).\n"
     ]
    },
    {
     "name": "stdout",
     "output_type": "stream",
     "text": [
      "3.3.0\n"
     ]
    }
   ],
   "source": [
    "# Import pyspark and build Spark session\n",
    "from pyspark.sql import SparkSession\n",
    "\n",
    "spark = (\n",
    "    SparkSession.builder.appName(\"PySparkApp\")\n",
    "    .config(\"spark.jars.packages\", \"org.apache.hadoop:hadoop-aws:3.2.2\")\n",
    "    .config(\n",
    "        \"fs.s3a.aws.credentials.provider\",\n",
    "        \"com.amazonaws.auth.ContainerCredentialsProvider\",\n",
    "    )\n",
    "    .getOrCreate()\n",
    ")\n",
    "\n",
    "print(spark.version)"
   ]
  },
  {
   "cell_type": "code",
   "execution_count": 4,
   "id": "43489746-6ffd-4cd4-b9bc-dc699ac76fb5",
   "metadata": {
    "tags": []
   },
   "outputs": [
    {
     "name": "stdout",
     "output_type": "stream",
     "text": [
      "sagemaker.config INFO - Not applying SDK defaults from location: /etc/xdg/sagemaker/config.yaml\n",
      "sagemaker.config INFO - Not applying SDK defaults from location: /root/.config/sagemaker/config.yaml\n",
      "sagemaker.config INFO - Not applying SDK defaults from location: /etc/xdg/sagemaker/config.yaml\n",
      "sagemaker.config INFO - Not applying SDK defaults from location: /root/.config/sagemaker/config.yaml\n",
      "sagemaker-us-east-1-711387073580\n",
      "23/11/06 17:13:54 WARN SparkSession: Using an existing Spark session; only runtime SQL configurations will take effect.\n"
     ]
    }
   ],
   "source": [
    "import sagemaker\n",
    "\n",
    "session = sagemaker.Session()\n",
    "bucket = session.default_bucket()\n",
    "print(bucket)\n",
    "\n",
    "# Create or retrieve a Spark session\n",
    "spark = SparkSession.builder.appName(\"ReadS3Parquet\").getOrCreate()\n"
   ]
  },
  {
   "cell_type": "code",
   "execution_count": 5,
   "id": "1e0fde6b-2a5d-4dde-9cbc-bbe3ac411c6b",
   "metadata": {
    "tags": []
   },
   "outputs": [],
   "source": [
    "from pyspark.sql.functions import date_format\n",
    "from pyspark.sql.functions import avg\n",
    "from pyspark.sql.functions import to_date\n",
    "from pyspark.sql.functions import date_format\n",
    "from pyspark.sql.functions import count"
   ]
  },
  {
   "cell_type": "markdown",
   "id": "0c7f3a57-82a8-493a-9e09-b95a2328c339",
   "metadata": {},
   "source": [
    "# Data"
   ]
  },
  {
   "cell_type": "code",
   "execution_count": 6,
   "id": "315f961d-4576-444a-a26b-6a99fe9d1dfa",
   "metadata": {
    "tags": []
   },
   "outputs": [
    {
     "name": "stdout",
     "output_type": "stream",
     "text": [
      "23/11/06 17:16:26 WARN MetricsConfig: Cannot locate configuration: tried hadoop-metrics2-s3a-file-system.properties,hadoop-metrics2.properties\n"
     ]
    },
    {
     "name": "stderr",
     "output_type": "stream",
     "text": [
      "                                                                                \r"
     ]
    }
   ],
   "source": [
    "# S3 directory path\n",
    "s3_directory = f\"s3a://{bucket}/project/cleaned/comments/\"\n",
    "\n",
    "# Read all the Parquet files in the directory into a DataFrame\n",
    "df_comments = spark.read.parquet(s3_directory)"
   ]
  },
  {
   "cell_type": "code",
   "execution_count": 7,
   "id": "ba8ca0c4-f6d8-4665-9885-6b39adca277c",
   "metadata": {
    "tags": []
   },
   "outputs": [
    {
     "name": "stdout",
     "output_type": "stream",
     "text": [
      "23/11/06 17:16:35 WARN package: Truncated the string representation of a plan since it was too large. This behavior can be adjusted by setting 'spark.sql.debug.maxToStringFields'.\n"
     ]
    }
   ],
   "source": [
    "# S3 directory path\n",
    "s3_directory = f\"s3a://{bucket}/project/cleaned/submissions/\"\n",
    "\n",
    "# Read all the Parquet files in the directory into a DataFrame\n",
    "df_submissions = spark.read.parquet(s3_directory)"
   ]
  },
  {
   "cell_type": "code",
   "execution_count": 8,
   "id": "2e4a4048-898f-41dc-bcb9-87b3673d9c6d",
   "metadata": {
    "tags": []
   },
   "outputs": [],
   "source": [
    "# Read in stocks data \n",
    "import pandas as pd\n",
    "\n",
    "df_sp = pd.read_csv(\"../../data/csv/SP500.csv\")\n",
    "df_dj = pd.read_csv(\"../../data/csv/DJ.csv\")"
   ]
  },
  {
   "cell_type": "markdown",
   "id": "5a3e4b22-be3e-41fc-99dc-7a9e75119651",
   "metadata": {},
   "source": [
    "# Importing Data for other Subreddits "
   ]
  },
  {
   "cell_type": "code",
   "execution_count": 9,
   "id": "95a7ddfb-8268-4c25-9128-960ae28f1f15",
   "metadata": {
    "tags": []
   },
   "outputs": [],
   "source": [
    "# Tegveer subreddits\n",
    "tegveer_bucket = 'sagemaker-us-east-1-433974840707'\n",
    "s3_directory_tegveer = f\"s3a://{tegveer_bucket}/project/cleaned/submissions/\"\n",
    "s3_directory_tegveer_comments = f\"s3a://{tegveer_bucket}/project/cleaned/comments/\"\n",
    "\n",
    "# Read all the Parquet files in the directory into a DataFrame\n",
    "df_submissions_centrist_liberterian = spark.read.parquet(s3_directory_tegveer)\n",
    "df_comments_centrist_liberterian = spark.read.parquet(s3_directory_tegveer_comments)\n"
   ]
  },
  {
   "cell_type": "code",
   "execution_count": 10,
   "id": "8646d738-c57b-43f8-91de-bb2931f2fe02",
   "metadata": {
    "tags": []
   },
   "outputs": [],
   "source": [
    "# Eric subreddits\n",
    "eric_bucket = 'sagemaker-us-east-1-395393721134'\n",
    "s3_directory_eric = f\"s3a://{eric_bucket}/project/cleaned/submissions/\"\n",
    "s3_directory_eric_comments = f\"s3a://{eric_bucket}/project/cleaned/comments/\"\n",
    "\n",
    "# Read all the Parquet files in the directory into a DataFrame\n",
    "df_submissions_socialism_economics = spark.read.parquet(s3_directory_eric)\n",
    "df_submissions_socialism_economics_comments = spark.read.parquet(s3_directory_eric_comments)"
   ]
  },
  {
   "cell_type": "code",
   "execution_count": 11,
   "id": "4d770c3e-feaf-4db1-b077-29b682a92c82",
   "metadata": {
    "tags": []
   },
   "outputs": [],
   "source": [
    "# Raunak subreddits\n",
    "\n",
    "raunak_bucket = 'sagemaker-us-east-1-224518912016'\n",
    "s3_directory_raunak = f\"s3a://{raunak_bucket}/project/cleaned/submissions/\"\n",
    "s3_directory_raunak_comments = f\"s3a://{raunak_bucket}/project/cleaned/comments/\"\n",
    "\n",
    "# Read all the Parquet files in the directory into a DataFrame\n",
    "df_submissions_conservative_finance = spark.read.parquet(s3_directory_raunak)\n",
    "df_submissions_conservative_finance_comments = spark.read.parquet(s3_directory_raunak_comments)"
   ]
  },
  {
   "cell_type": "code",
   "execution_count": 12,
   "id": "2ef29a1f-84c0-44b9-a02b-e8ce220a1753",
   "metadata": {
    "tags": []
   },
   "outputs": [],
   "source": [
    "# My subreddits \n",
    "\n",
    "df_submissions_askpol_cmv = df_submissions.filter(df_submissions['subreddit'].isin(['changemyview', 'Ask_Politics']))"
   ]
  },
  {
   "cell_type": "markdown",
   "id": "d35d7e33-522a-48c0-8283-c43c9cdd80fa",
   "metadata": {},
   "source": [
    "# EDA"
   ]
  },
  {
   "cell_type": "markdown",
   "id": "5a30c592-7ceb-48e3-858e-bcca65aaec4d",
   "metadata": {},
   "source": [
    "# Calendar Heatmap"
   ]
  },
  {
   "cell_type": "markdown",
   "id": "30c11892-88c5-40d7-9b9c-98bf87855e77",
   "metadata": {},
   "source": [
    "First we need to start by having each of the four political subreddits in a dataframe of its own."
   ]
  },
  {
   "cell_type": "code",
   "execution_count": 13,
   "id": "ed5ab909-bb3c-45f1-8529-0c87b18e62c3",
   "metadata": {},
   "outputs": [],
   "source": [
    "from pyspark.sql.functions import date_format\n",
    "\n",
    "# Convert created_utc to only have the date\n",
    "df_submissions_liberterian = df_submissions_centrist_liberterian.withColumn(\"created_utc\", date_format(\"created_utc\", \"yyyy-MM-dd\")).filter(df_submissions_centrist_liberterian['subreddit'] == 'Libertarian').select(['created_utc', 'subreddit'])\n",
    "df_submissions_centrist = df_submissions_centrist_liberterian.withColumn(\"created_utc\", date_format(\"created_utc\", \"yyyy-MM-dd\")).filter(df_submissions_centrist_liberterian['subreddit'] == 'centrist').select(['created_utc', 'subreddit'])\n",
    "df_submissions_liberal = df_submissions_socialism_economics.withColumn(\"created_utc\", date_format(\"created_utc\", \"yyyy-MM-dd\")).filter(df_submissions_socialism_economics['subreddit'] == 'Liberal').select(['created_utc', 'subreddit'])\n",
    "df_submissions_conservative = df_submissions_conservative_finance.withColumn(\"created_utc\", date_format(\"created_utc\", \"yyyy-MM-dd\")).filter(df_submissions_conservative_finance['subreddit'] == 'Conservative').select(['created_utc', 'subreddit'])\n",
    "df_submissions_socialism = df_submissions_socialism_economics.withColumn(\"created_utc\", date_format(\"created_utc\", \"yyyy-MM-dd\")).filter(df_submissions_socialism_economics['subreddit'] == 'socialism').select(['created_utc', 'subreddit'])"
   ]
  },
  {
   "cell_type": "code",
   "execution_count": 14,
   "id": "545d6edb-ae8a-473a-8c9c-cd64bdf582be",
   "metadata": {
    "tags": []
   },
   "outputs": [
    {
     "name": "stderr",
     "output_type": "stream",
     "text": [
      "[Stage 8:>                                                          (0 + 1) / 1]\r"
     ]
    },
    {
     "name": "stdout",
     "output_type": "stream",
     "text": [
      "+-----------+---------+\n",
      "|created_utc|subreddit|\n",
      "+-----------+---------+\n",
      "| 2021-05-09| centrist|\n",
      "| 2021-08-06| centrist|\n",
      "| 2021-01-07| centrist|\n",
      "| 2021-03-13| centrist|\n",
      "| 2021-06-25| centrist|\n",
      "+-----------+---------+\n",
      "only showing top 5 rows\n",
      "\n"
     ]
    },
    {
     "name": "stderr",
     "output_type": "stream",
     "text": [
      "                                                                                \r"
     ]
    }
   ],
   "source": [
    "# Display the modified dataframe\n",
    "df_submissions_centrist.show(5)"
   ]
  },
  {
   "cell_type": "code",
   "execution_count": 13,
   "id": "0b99a809-3fa9-4c93-9bcc-9909d2f76e9b",
   "metadata": {
    "tags": []
   },
   "outputs": [
    {
     "name": "stdout",
     "output_type": "stream",
     "text": [
      "+-----------+-----------+\n",
      "|created_utc|  subreddit|\n",
      "+-----------+-----------+\n",
      "| 2021-09-06|Libertarian|\n",
      "| 2021-09-06|Libertarian|\n",
      "| 2021-06-13|Libertarian|\n",
      "| 2021-06-13|Libertarian|\n",
      "| 2021-05-09|Libertarian|\n",
      "+-----------+-----------+\n",
      "only showing top 5 rows\n",
      "\n"
     ]
    }
   ],
   "source": [
    "df_submissions_liberterian.show(5)"
   ]
  },
  {
   "cell_type": "code",
   "execution_count": 14,
   "id": "55344cc6-7222-4241-99ee-959037fd8c4b",
   "metadata": {
    "tags": []
   },
   "outputs": [
    {
     "name": "stdout",
     "output_type": "stream",
     "text": [
      "+-----------+------------+\n",
      "|created_utc|   subreddit|\n",
      "+-----------+------------+\n",
      "| 2021-04-18|Conservative|\n",
      "| 2021-04-18|Conservative|\n",
      "| 2021-04-18|Conservative|\n",
      "| 2021-04-18|Conservative|\n",
      "| 2021-04-18|Conservative|\n",
      "+-----------+------------+\n",
      "only showing top 5 rows\n",
      "\n"
     ]
    }
   ],
   "source": [
    "df_submissions_conservative.show(5)"
   ]
  },
  {
   "cell_type": "code",
   "execution_count": 15,
   "id": "8a0696df-fe74-4bf0-8db5-0851c4260504",
   "metadata": {
    "tags": []
   },
   "outputs": [
    {
     "name": "stdout",
     "output_type": "stream",
     "text": [
      "+-----------+---------+\n",
      "|created_utc|subreddit|\n",
      "+-----------+---------+\n",
      "| 2021-12-22|socialism|\n",
      "| 2021-12-22|socialism|\n",
      "| 2021-12-22|socialism|\n",
      "| 2021-10-12|socialism|\n",
      "| 2021-10-12|socialism|\n",
      "+-----------+---------+\n",
      "only showing top 5 rows\n",
      "\n"
     ]
    }
   ],
   "source": [
    "df_submissions_socialism.show(5)"
   ]
  },
  {
   "cell_type": "code",
   "execution_count": 21,
   "id": "2d74a10d-7e53-4cd4-b96e-c30602087757",
   "metadata": {
    "tags": []
   },
   "outputs": [
    {
     "name": "stdout",
     "output_type": "stream",
     "text": [
      "+-----------+---------+\n",
      "|created_utc|subreddit|\n",
      "+-----------+---------+\n",
      "| 2022-06-28|  Liberal|\n",
      "| 2021-01-18|  Liberal|\n",
      "| 2021-01-18|  Liberal|\n",
      "| 2021-03-22|  Liberal|\n",
      "| 2021-07-29|  Liberal|\n",
      "+-----------+---------+\n",
      "only showing top 5 rows\n",
      "\n"
     ]
    }
   ],
   "source": [
    "df_submissions_liberal.show(5)"
   ]
  },
  {
   "cell_type": "code",
   "execution_count": 22,
   "id": "0242b3c8-8333-4712-905a-31c683503cd4",
   "metadata": {
    "tags": []
   },
   "outputs": [],
   "source": [
    " "
   ]
  },
  {
   "cell_type": "code",
   "execution_count": 17,
   "id": "d46a726c-c896-4c30-a1e1-2e31c6c30416",
   "metadata": {
    "tags": []
   },
   "outputs": [
    {
     "name": "stdout",
     "output_type": "stream",
     "text": [
      "+-----------+------------+------+-----+\n",
      "|created_utc|   subreddit|   Day|Month|\n",
      "+-----------+------------+------+-----+\n",
      "| 2021-04-18|Conservative|Sunday|April|\n",
      "| 2021-04-18|Conservative|Sunday|April|\n",
      "| 2021-04-18|Conservative|Sunday|April|\n",
      "| 2021-04-18|Conservative|Sunday|April|\n",
      "| 2021-04-18|Conservative|Sunday|April|\n",
      "| 2021-04-19|Conservative|Monday|April|\n",
      "| 2021-04-19|Conservative|Monday|April|\n",
      "| 2021-04-19|Conservative|Monday|April|\n",
      "| 2021-04-19|Conservative|Monday|April|\n",
      "| 2021-04-19|Conservative|Monday|April|\n",
      "| 2021-04-19|Conservative|Monday|April|\n",
      "| 2021-04-19|Conservative|Monday|April|\n",
      "| 2021-04-19|Conservative|Monday|April|\n",
      "| 2021-04-19|Conservative|Monday|April|\n",
      "| 2021-04-19|Conservative|Monday|April|\n",
      "| 2021-04-19|Conservative|Monday|April|\n",
      "| 2021-04-19|Conservative|Monday|April|\n",
      "| 2021-04-19|Conservative|Monday|April|\n",
      "| 2021-04-19|Conservative|Monday|April|\n",
      "| 2021-04-19|Conservative|Monday|April|\n",
      "+-----------+------------+------+-----+\n",
      "only showing top 20 rows\n",
      "\n"
     ]
    }
   ],
   "source": [
    "df_submissions_conservative.show()"
   ]
  },
  {
   "cell_type": "code",
   "execution_count": 24,
   "id": "a9d3723d-8ef9-4bff-bc38-e39c4746eb93",
   "metadata": {
    "tags": []
   },
   "outputs": [
    {
     "name": "stderr",
     "output_type": "stream",
     "text": [
      "[Stage 22:===========================================>              (3 + 1) / 4]\r"
     ]
    },
    {
     "name": "stdout",
     "output_type": "stream",
     "text": [
      "+---------+--------+-----+\n",
      "|      Day|   Month|Count|\n",
      "+---------+--------+-----+\n",
      "|   Friday|   April| 4825|\n",
      "|   Monday|   April| 3795|\n",
      "| Saturday|   April| 3591|\n",
      "|   Sunday|   April| 2862|\n",
      "| Thursday|   April| 4784|\n",
      "|  Tuesday|   April| 4285|\n",
      "|Wednesday|   April| 4187|\n",
      "|   Friday|  August| 3696|\n",
      "|   Monday|  August| 4301|\n",
      "| Saturday|  August| 2714|\n",
      "|   Sunday|  August| 3064|\n",
      "| Thursday|  August| 3851|\n",
      "|  Tuesday|  August| 4804|\n",
      "|Wednesday|  August| 4138|\n",
      "|   Friday|December| 3364|\n",
      "|   Monday|December| 2766|\n",
      "| Saturday|December| 2473|\n",
      "|   Sunday|December| 2245|\n",
      "| Thursday|December| 3679|\n",
      "|  Tuesday|December| 2864|\n",
      "+---------+--------+-----+\n",
      "only showing top 20 rows\n",
      "\n"
     ]
    },
    {
     "name": "stderr",
     "output_type": "stream",
     "text": [
      "                                                                                \r"
     ]
    }
   ],
   "source": [
    "from pyspark.sql.functions import count\n",
    "\n",
    "df_grouped_conservative = df_submissions_conservative.groupBy(\"Day\", \"Month\").agg(count(\"*\").alias(\"Count\")).orderBy(\"Month\", \"Day\")\n",
    "\n",
    "df_grouped_conservative.show()\n"
   ]
  },
  {
   "cell_type": "code",
   "execution_count": 25,
   "id": "d7a550f8-6d5b-46cf-836d-011466a639dc",
   "metadata": {
    "tags": []
   },
   "outputs": [
    {
     "name": "stderr",
     "output_type": "stream",
     "text": [
      "[Stage 25:===========================================>              (3 + 1) / 4]\r"
     ]
    },
    {
     "name": "stdout",
     "output_type": "stream",
     "text": [
      "+---------+--------+-----+\n",
      "|      Day|   Month|Count|\n",
      "+---------+--------+-----+\n",
      "|   Friday|   April|  829|\n",
      "|   Monday|   April|  604|\n",
      "| Saturday|   April|  579|\n",
      "|   Sunday|   April|  476|\n",
      "| Thursday|   April|  849|\n",
      "|  Tuesday|   April|  659|\n",
      "|Wednesday|   April|  694|\n",
      "|   Friday|  August|  504|\n",
      "|   Monday|  August|  596|\n",
      "| Saturday|  August|  376|\n",
      "|   Sunday|  August|  441|\n",
      "| Thursday|  August|  492|\n",
      "|  Tuesday|  August|  608|\n",
      "|Wednesday|  August|  533|\n",
      "|   Friday|December|  509|\n",
      "|   Monday|December|  357|\n",
      "| Saturday|December|  317|\n",
      "|   Sunday|December|  391|\n",
      "| Thursday|December|  488|\n",
      "|  Tuesday|December|  385|\n",
      "+---------+--------+-----+\n",
      "only showing top 20 rows\n",
      "\n"
     ]
    },
    {
     "name": "stderr",
     "output_type": "stream",
     "text": [
      "                                                                                \r"
     ]
    }
   ],
   "source": [
    "df_grouped_liberterian = df_submissions_liberterian.groupBy(\"Day\", \"Month\").agg(count(\"*\").alias(\"Count\")).orderBy(\"Month\", \"Day\")\n",
    "\n",
    "df_grouped_liberterian.show()\n"
   ]
  },
  {
   "cell_type": "code",
   "execution_count": 26,
   "id": "25584f07-c6c2-4e2b-8604-021913e8fc4e",
   "metadata": {},
   "outputs": [
    {
     "name": "stderr",
     "output_type": "stream",
     "text": [
      "[Stage 28:===========================================>              (3 + 1) / 4]\r"
     ]
    },
    {
     "name": "stdout",
     "output_type": "stream",
     "text": [
      "+---------+--------+-----+\n",
      "|      Day|   Month|Count|\n",
      "+---------+--------+-----+\n",
      "|   Friday|   April|  189|\n",
      "|   Monday|   April|  138|\n",
      "| Saturday|   April|  113|\n",
      "|   Sunday|   April|   82|\n",
      "| Thursday|   April|  197|\n",
      "|  Tuesday|   April|  150|\n",
      "|Wednesday|   April|  145|\n",
      "|   Friday|  August|  153|\n",
      "|   Monday|  August|  160|\n",
      "| Saturday|  August|   86|\n",
      "|   Sunday|  August|  121|\n",
      "| Thursday|  August|  179|\n",
      "|  Tuesday|  August|  185|\n",
      "|Wednesday|  August|  181|\n",
      "|   Friday|December|  151|\n",
      "|   Monday|December|   81|\n",
      "| Saturday|December|   87|\n",
      "|   Sunday|December|   83|\n",
      "| Thursday|December|  132|\n",
      "|  Tuesday|December|   88|\n",
      "+---------+--------+-----+\n",
      "only showing top 20 rows\n",
      "\n"
     ]
    },
    {
     "name": "stderr",
     "output_type": "stream",
     "text": [
      "                                                                                \r"
     ]
    }
   ],
   "source": [
    "df_grouped_centrist = df_submissions_centrist.groupBy(\"Day\", \"Month\").agg(count(\"*\").alias(\"Count\")).orderBy(\"Month\", \"Day\")\n",
    "\n",
    "df_grouped_centrist.show()"
   ]
  },
  {
   "cell_type": "code",
   "execution_count": 27,
   "id": "2ed4d3ca-7a67-42f2-8d00-f9c6546ba740",
   "metadata": {
    "tags": []
   },
   "outputs": [
    {
     "name": "stderr",
     "output_type": "stream",
     "text": [
      "[Stage 31:===========================================>              (3 + 1) / 4]\r"
     ]
    },
    {
     "name": "stdout",
     "output_type": "stream",
     "text": [
      "+---------+--------+-----+\n",
      "|      Day|   Month|Count|\n",
      "+---------+--------+-----+\n",
      "|   Friday|   April|  543|\n",
      "|   Monday|   April|  418|\n",
      "| Saturday|   April|  443|\n",
      "|   Sunday|   April|  413|\n",
      "| Thursday|   April|  491|\n",
      "|  Tuesday|   April|  447|\n",
      "|Wednesday|   April|  459|\n",
      "|   Friday|  August|  383|\n",
      "|   Monday|  August|  412|\n",
      "| Saturday|  August|  350|\n",
      "|   Sunday|  August|  363|\n",
      "| Thursday|  August|  359|\n",
      "|  Tuesday|  August|  459|\n",
      "|Wednesday|  August|  403|\n",
      "|   Friday|December|  420|\n",
      "|   Monday|December|  333|\n",
      "| Saturday|December|  329|\n",
      "|   Sunday|December|  310|\n",
      "| Thursday|December|  444|\n",
      "|  Tuesday|December|  362|\n",
      "+---------+--------+-----+\n",
      "only showing top 20 rows\n",
      "\n"
     ]
    },
    {
     "name": "stderr",
     "output_type": "stream",
     "text": [
      "                                                                                \r"
     ]
    }
   ],
   "source": [
    "df_grouped_socialism = df_submissions_socialism.groupBy(\"Day\", \"Month\").agg(count(\"*\").alias(\"Count\")).orderBy(\"Month\", \"Day\")\n",
    "\n",
    "df_grouped_socialism.show()"
   ]
  },
  {
   "cell_type": "code",
   "execution_count": null,
   "id": "69b24c74-a491-48c1-9c18-645fc54faac0",
   "metadata": {
    "tags": []
   },
   "outputs": [
    {
     "name": "stderr",
     "output_type": "stream",
     "text": [
      "[Stage 34:===========================================>              (3 + 1) / 4]\r"
     ]
    },
    {
     "name": "stdout",
     "output_type": "stream",
     "text": [
      "+---------+--------+-----+\n",
      "|      Day|   Month|Count|\n",
      "+---------+--------+-----+\n",
      "|   Friday|   April|  152|\n",
      "|   Monday|   April|  130|\n",
      "| Saturday|   April|  119|\n",
      "|   Sunday|   April|  115|\n",
      "| Thursday|   April|  155|\n",
      "|  Tuesday|   April|  145|\n",
      "|Wednesday|   April|  131|\n",
      "|   Friday|  August|  119|\n",
      "|   Monday|  August|  134|\n",
      "| Saturday|  August|   80|\n",
      "|   Sunday|  August|   86|\n",
      "| Thursday|  August|   90|\n",
      "|  Tuesday|  August|  143|\n",
      "|Wednesday|  August|  127|\n",
      "|   Friday|December|  108|\n",
      "|   Monday|December|   85|\n",
      "| Saturday|December|   71|\n",
      "|   Sunday|December|  156|\n",
      "| Thursday|December|  112|\n",
      "|  Tuesday|December|   71|\n",
      "+---------+--------+-----+\n",
      "only showing top 20 rows\n",
      "\n"
     ]
    },
    {
     "name": "stderr",
     "output_type": "stream",
     "text": [
      "                                                                                \r"
     ]
    }
   ],
   "source": [
    "df_grouped_liberal = df_submissions_liberal.groupBy(\"Day\", \"Month\").agg(count(\"*\").alias(\"Count\")).orderBy(\"Month\", \"Day\")\n",
    "\n",
    "df_grouped_liberal.show()"
   ]
  },
  {
   "cell_type": "markdown",
   "id": "adf7f379-c653-467a-9b91-818f983bf15d",
   "metadata": {},
   "source": [
    "Create a calendar heatmap as per: https://www.highcharts.com/demo/highcharts/heatmap"
   ]
  },
  {
   "cell_type": "code",
   "execution_count": 22,
   "id": "94580a61-79eb-4797-a791-444ebd66cced",
   "metadata": {
    "tags": []
   },
   "outputs": [
    {
     "name": "stderr",
     "output_type": "stream",
     "text": [
      "                                                                                \r"
     ]
    }
   ],
   "source": [
    " # Convert to HighChartJS data structure \n",
    "\n",
    "day_mapping = {\n",
    "    'Monday': 0,\n",
    "    'Tuesday': 1,\n",
    "    'Wednesday': 2,\n",
    "    'Thursday': 3,\n",
    "    'Friday': 4,\n",
    "    'Saturday': 5,\n",
    "    'Sunday': 6\n",
    "}\n",
    "\n",
    "month_mapping = {\n",
    "    'January': 0,\n",
    "    'February': 1,\n",
    "    'March': 2,\n",
    "    'April': 3,\n",
    "    'May': 4,\n",
    "    'June': 5,\n",
    "    'July': 6,\n",
    "    'August': 7,\n",
    "    'September': 8,\n",
    "    'October': 9,\n",
    "    'November': 10,\n",
    "    'December': 11\n",
    "}\n",
    "\n",
    "# Convert dataframe to table data\n",
    "table_data = [(row['Day'], row['Month'], row['Count']) for row in df_grouped_socialism.collect()]\n",
    "\n",
    "# Convert the table data to the desired array format:\n",
    "array_data = [[month_mapping[month], day_mapping[day], count] for day, month, count in table_data]"
   ]
  },
  {
   "cell_type": "code",
   "execution_count": 23,
   "id": "a2e233db-0255-448c-82e5-54df3279ff5d",
   "metadata": {
    "tags": []
   },
   "outputs": [
    {
     "data": {
      "text/plain": [
       "[[3, 4, 543],\n",
       " [3, 0, 418],\n",
       " [3, 5, 443],\n",
       " [3, 6, 413],\n",
       " [3, 3, 491],\n",
       " [3, 1, 447],\n",
       " [3, 2, 459],\n",
       " [7, 4, 383],\n",
       " [7, 0, 412],\n",
       " [7, 5, 350],\n",
       " [7, 6, 363],\n",
       " [7, 3, 359],\n",
       " [7, 1, 459],\n",
       " [7, 2, 403],\n",
       " [11, 4, 420],\n",
       " [11, 0, 333],\n",
       " [11, 5, 329],\n",
       " [11, 6, 310],\n",
       " [11, 3, 444],\n",
       " [11, 1, 362],\n",
       " [11, 2, 580],\n",
       " [1, 4, 652],\n",
       " [1, 0, 670],\n",
       " [1, 5, 628],\n",
       " [1, 6, 620],\n",
       " [1, 3, 672],\n",
       " [1, 1, 702],\n",
       " [1, 2, 637],\n",
       " [0, 4, 760],\n",
       " [0, 0, 774],\n",
       " [0, 5, 780],\n",
       " [0, 6, 785],\n",
       " [0, 3, 775],\n",
       " [0, 1, 756],\n",
       " [0, 2, 683],\n",
       " [6, 4, 477],\n",
       " [6, 0, 379],\n",
       " [6, 5, 432],\n",
       " [6, 6, 419],\n",
       " [6, 3, 446],\n",
       " [6, 1, 386],\n",
       " [6, 2, 371],\n",
       " [5, 4, 444],\n",
       " [5, 0, 328],\n",
       " [5, 5, 396],\n",
       " [5, 6, 315],\n",
       " [5, 3, 461],\n",
       " [5, 1, 439],\n",
       " [5, 2, 468],\n",
       " [2, 4, 624],\n",
       " [2, 0, 615],\n",
       " [2, 5, 512],\n",
       " [2, 6, 493],\n",
       " [2, 3, 684],\n",
       " [2, 1, 758],\n",
       " [2, 2, 769],\n",
       " [4, 4, 392],\n",
       " [4, 0, 497],\n",
       " [4, 5, 434],\n",
       " [4, 6, 518],\n",
       " [4, 3, 440],\n",
       " [4, 1, 495],\n",
       " [4, 2, 461],\n",
       " [10, 4, 338],\n",
       " [10, 0, 356],\n",
       " [10, 5, 314],\n",
       " [10, 6, 305],\n",
       " [10, 3, 305],\n",
       " [10, 1, 457],\n",
       " [10, 2, 406],\n",
       " [9, 4, 397],\n",
       " [9, 0, 375],\n",
       " [9, 5, 434],\n",
       " [9, 6, 394],\n",
       " [9, 3, 358],\n",
       " [9, 1, 373],\n",
       " [9, 2, 326],\n",
       " [8, 4, 428],\n",
       " [8, 0, 369],\n",
       " [8, 5, 367],\n",
       " [8, 6, 353],\n",
       " [8, 3, 524],\n",
       " [8, 1, 352],\n",
       " [8, 2, 495]]"
      ]
     },
     "execution_count": 23,
     "metadata": {},
     "output_type": "execute_result"
    }
   ],
   "source": [
    "array_data"
   ]
  },
  {
   "cell_type": "code",
   "execution_count": 24,
   "id": "61c3568c-9da6-4f8a-b4ce-64f8ec68ad91",
   "metadata": {
    "tags": []
   },
   "outputs": [],
   "source": [
    "# Convert the Spark DataFrame to a list of tuples\n",
    "table_data = [(row['Day'], row['Month'], row['Count']) for row in df_grouped_socialism.collect()]\n"
   ]
  },
  {
   "cell_type": "code",
   "execution_count": 25,
   "id": "0e9b3ffd-bc26-499e-a112-bcae56ec9bb1",
   "metadata": {
    "tags": []
   },
   "outputs": [
    {
     "name": "stderr",
     "output_type": "stream",
     "text": [
      "                                                                                \r"
     ]
    }
   ],
   "source": [
    "def dataframe_to_highchart_array(df):\n",
    "    \"\"\"Convert a Spark DataFrame to HighChartJS array format.\"\"\"\n",
    "    \n",
    "    # Mapping for days and months\n",
    "    day_mapping = {\n",
    "        'Monday': 0,\n",
    "        'Tuesday': 1,\n",
    "        'Wednesday': 2,\n",
    "        'Thursday': 3,\n",
    "        'Friday': 4,\n",
    "        'Saturday': 5,\n",
    "        'Sunday': 6\n",
    "    }\n",
    "\n",
    "    month_mapping = {\n",
    "        'January': 0,\n",
    "        'February': 1,\n",
    "        'March': 2,\n",
    "        'April': 3,\n",
    "        'May': 4,\n",
    "        'June': 5,\n",
    "        'July': 6,\n",
    "        'August': 7,\n",
    "        'September': 8,\n",
    "        'October': 9,\n",
    "        'November': 10,\n",
    "        'December': 11\n",
    "    }\n",
    "\n",
    "    # Convert dataframe to table data\n",
    "    table_data = [(row['Day'], row['Month'], row['Count']) for row in df.collect()]\n",
    "\n",
    "    # Convert the table data to the desired array format\n",
    "    array_data = [[month_mapping[month], day_mapping[day], count] for day, month, count in table_data]\n",
    "\n",
    "    return array_data\n",
    "\n",
    "# Now, you can use this function for your DataFrames:\n",
    "array_data_socialism = dataframe_to_highchart_array(df_grouped_socialism)\n",
    "array_data_centrist = dataframe_to_highchart_array(df_grouped_centrist)\n",
    "array_data_libertarian = dataframe_to_highchart_array(df_grouped_liberterian)\n",
    "array_data_conservative = dataframe_to_highchart_array(df_grouped_conservative)\n"
   ]
  },
  {
   "cell_type": "code",
   "execution_count": 26,
   "id": "abdc54ef-13a6-4dba-ac84-2dec7892f666",
   "metadata": {
    "tags": []
   },
   "outputs": [
    {
     "data": {
      "text/plain": [
       "[[3, 4, 4825],\n",
       " [3, 0, 3795],\n",
       " [3, 5, 3591],\n",
       " [3, 6, 2862],\n",
       " [3, 3, 4784],\n",
       " [3, 1, 4285],\n",
       " [3, 2, 4187],\n",
       " [7, 4, 3696],\n",
       " [7, 0, 4301],\n",
       " [7, 5, 2714],\n",
       " [7, 6, 3064],\n",
       " [7, 3, 3851],\n",
       " [7, 1, 4804],\n",
       " [7, 2, 4138],\n",
       " [11, 4, 3364],\n",
       " [11, 0, 2766],\n",
       " [11, 5, 2473],\n",
       " [11, 6, 2245],\n",
       " [11, 3, 3679],\n",
       " [11, 1, 2864],\n",
       " [11, 2, 3453],\n",
       " [1, 4, 5768],\n",
       " [1, 0, 4962],\n",
       " [1, 5, 4680],\n",
       " [1, 6, 4437],\n",
       " [1, 3, 5902],\n",
       " [1, 1, 5416],\n",
       " [1, 2, 5742],\n",
       " [0, 4, 6604],\n",
       " [0, 0, 6224],\n",
       " [0, 5, 5686],\n",
       " [0, 6, 5488],\n",
       " [0, 3, 6646],\n",
       " [0, 1, 5793],\n",
       " [0, 2, 6562],\n",
       " [6, 4, 4549],\n",
       " [6, 0, 3371],\n",
       " [6, 5, 3718],\n",
       " [6, 6, 3056],\n",
       " [6, 3, 4222],\n",
       " [6, 1, 3657],\n",
       " [6, 2, 3730],\n",
       " [5, 4, 3864],\n",
       " [5, 0, 3424],\n",
       " [5, 5, 3203],\n",
       " [5, 6, 2811],\n",
       " [5, 3, 4164],\n",
       " [5, 1, 4297],\n",
       " [5, 2, 4713],\n",
       " [2, 4, 5872],\n",
       " [2, 0, 5123],\n",
       " [2, 5, 4255],\n",
       " [2, 6, 3863],\n",
       " [2, 3, 6350],\n",
       " [2, 1, 6693],\n",
       " [2, 2, 6652],\n",
       " [4, 4, 3828],\n",
       " [4, 0, 4111],\n",
       " [4, 5, 3419],\n",
       " [4, 6, 3383],\n",
       " [4, 3, 3949],\n",
       " [4, 1, 4487],\n",
       " [4, 2, 4252],\n",
       " [10, 4, 3474],\n",
       " [10, 0, 3614],\n",
       " [10, 5, 2766],\n",
       " [10, 6, 2599],\n",
       " [10, 3, 3436],\n",
       " [10, 1, 4308],\n",
       " [10, 2, 4162],\n",
       " [9, 4, 3559],\n",
       " [9, 0, 3181],\n",
       " [9, 5, 3183],\n",
       " [9, 6, 2900],\n",
       " [9, 3, 3292],\n",
       " [9, 1, 3212],\n",
       " [9, 2, 3307],\n",
       " [8, 4, 3825],\n",
       " [8, 0, 2746],\n",
       " [8, 5, 2670],\n",
       " [8, 6, 2244],\n",
       " [8, 3, 4138],\n",
       " [8, 1, 2992],\n",
       " [8, 2, 3663]]"
      ]
     },
     "execution_count": 26,
     "metadata": {},
     "output_type": "execute_result"
    }
   ],
   "source": [
    "array_data_conservative"
   ]
  },
  {
   "cell_type": "markdown",
   "id": "c64d0dba-88f4-4da7-b1c6-4b0ec0a09b57",
   "metadata": {},
   "source": [
    "# Dependency Wheel"
   ]
  },
  {
   "cell_type": "markdown",
   "id": "86d2280c-4fec-4309-a3c3-d39a5d01b91a",
   "metadata": {},
   "source": [
    "### Common Users Analysis"
   ]
  },
  {
   "cell_type": "code",
   "execution_count": 17,
   "id": "df69612a-c239-4655-ac32-367140e790b0",
   "metadata": {
    "tags": []
   },
   "outputs": [],
   "source": [
    "df_submissions_liberterian_users = df_submissions_centrist_liberterian.withColumn(\"created_utc\", date_format(\"created_utc\", \"yyyy-MM-dd\")).filter(df_submissions_centrist_liberterian['subreddit'] == 'Libertarian').select(['author'])\n",
    "df_submissions_centrist_users = df_submissions_centrist_liberterian.withColumn(\"created_utc\", date_format(\"created_utc\", \"yyyy-MM-dd\")).filter(df_submissions_centrist_liberterian['subreddit'] == 'centrist').select(['author'])\n",
    "df_submissions_conservative_users = df_submissions_conservative_finance.withColumn(\"created_utc\", date_format(\"created_utc\", \"yyyy-MM-dd\")).filter(df_submissions_conservative_finance['subreddit'] == 'Conservative').select(['author'])\n",
    "df_submissions_socialism_users = df_submissions_socialism_economics.withColumn(\"created_utc\", date_format(\"created_utc\", \"yyyy-MM-dd\")).filter(df_submissions_socialism_economics['subreddit'] == 'socialism').select(['author'])\n",
    "df_submissions_liberal_users = df_submissions_socialism_economics.withColumn(\"created_utc\", date_format(\"created_utc\", \"yyyy-MM-dd\")).filter(df_submissions_socialism_economics['subreddit'] == 'Liberal').select(['author'])\n",
    "df_submissions_askpol_users = df_submissions_askpol_cmv.withColumn(\"created_utc\", date_format(\"created_utc\", \"yyyy-MM-dd\")).filter(df_submissions_askpol_cmv['subreddit'] == 'Ask_Politics').select(['author'])\n",
    "df_submissions_cmv_users = df_submissions_askpol_cmv.withColumn(\"created_utc\", date_format(\"created_utc\", \"yyyy-MM-dd\")).filter(df_submissions_askpol_cmv['subreddit'] == 'changemyview').select(['author'])"
   ]
  },
  {
   "cell_type": "code",
   "execution_count": 35,
   "id": "4df2e730-a760-4c20-aa53-237320d1dd0b",
   "metadata": {
    "tags": []
   },
   "outputs": [
    {
     "name": "stdout",
     "output_type": "stream",
     "text": [
      "+--------------------+\n",
      "|              author|\n",
      "+--------------------+\n",
      "|        mindvarious2|\n",
      "|          poohbadger|\n",
      "|        pashotboshot|\n",
      "|       EternityWatch|\n",
      "|        pashotboshot|\n",
      "|           [deleted]|\n",
      "|       MarxistZaheer|\n",
      "|          Thatsplumb|\n",
      "|           Mellows22|\n",
      "|Infamous_Apartment41|\n",
      "|              rewkom|\n",
      "|    Patterson9191717|\n",
      "|        pashotboshot|\n",
      "|              rewkom|\n",
      "|           [deleted]|\n",
      "|           [deleted]|\n",
      "|        sillychillly|\n",
      "|      Nick__________|\n",
      "|           kalhoon01|\n",
      "| Spartanwildcats2018|\n",
      "+--------------------+\n",
      "only showing top 20 rows\n",
      "\n"
     ]
    }
   ],
   "source": [
    "df_submissions_socialism_users.show()"
   ]
  },
  {
   "cell_type": "code",
   "execution_count": 19,
   "id": "7244d5f9-862c-4bfc-ab1d-27af62c10b22",
   "metadata": {
    "tags": []
   },
   "outputs": [
    {
     "name": "stdout",
     "output_type": "stream",
     "text": [
      "+-------------------+\n",
      "|             author|\n",
      "+-------------------+\n",
      "|  ModerateRockMusic|\n",
      "|    The6thMessenger|\n",
      "|     Fuligo_septica|\n",
      "|       Saith_Cassus|\n",
      "| Ok-Philosophy-5084|\n",
      "|          [deleted]|\n",
      "|          Scutarius|\n",
      "|          [deleted]|\n",
      "|          [deleted]|\n",
      "|          [deleted]|\n",
      "|    ThatAgnosticGuy|\n",
      "|              Frumk|\n",
      "|JUSTICEWILLRAINDOWN|\n",
      "|          [deleted]|\n",
      "|             KLombe|\n",
      "|    lonely_Deer8609|\n",
      "|       TwoCheap9240|\n",
      "|            Markdd8|\n",
      "|     Fuligo_septica|\n",
      "|         Ent3rpris3|\n",
      "+-------------------+\n",
      "only showing top 20 rows\n",
      "\n"
     ]
    }
   ],
   "source": [
    "df_submissions_askpol_users.show()"
   ]
  },
  {
   "cell_type": "code",
   "execution_count": 20,
   "id": "8c6ef32b-c0c3-4b81-a957-396be71f551e",
   "metadata": {
    "tags": []
   },
   "outputs": [],
   "source": [
    "# Clean\n",
    "\n",
    "df_submissions_liberterian_users = df_submissions_liberterian_users.filter(df_submissions_liberterian_users['author'] != \"[deleted]\")\n",
    "df_submissions_centrist_users = df_submissions_centrist_users.filter(df_submissions_centrist_users['author'] != \"[deleted]\")\n",
    "df_submissions_conservative_users = df_submissions_conservative_users.filter(df_submissions_conservative_users['author'] != \"[deleted]\")\n",
    "df_submissions_socialism_users = df_submissions_socialism_users.filter(df_submissions_socialism_users['author'] != \"[deleted]\")\n",
    "df_submissions_liberal_users = df_submissions_liberal_users.filter(df_submissions_liberal_users['author'] != \"[deleted]\")\n",
    "df_submissions_askpol_users = df_submissions_askpol_users.filter(df_submissions_askpol_users['author'] != \"[deleted]\")\n",
    "df_submissions_cmv_users = df_submissions_cmv_users.filter(df_submissions_cmv_users['author'] != \"[deleted]\")"
   ]
  },
  {
   "cell_type": "code",
   "execution_count": 21,
   "id": "def8ca4e-924f-4ce6-9e9c-0d7aa6c660ce",
   "metadata": {
    "tags": []
   },
   "outputs": [],
   "source": [
    "# Remove duplicates\n",
    "\n",
    "df_submissions_liberterian_users = df_submissions_liberterian_users.distinct()\n",
    "df_submissions_centrist_users = df_submissions_centrist_users.distinct()\n",
    "df_submissions_conservative_users = df_submissions_conservative_users.distinct()\n",
    "df_submissions_socialism_users = df_submissions_socialism_users.distinct()\n",
    "df_submissions_liberal_users = df_submissions_liberal_users.distinct()\n",
    "df_submissions_askpol_users = df_submissions_askpol_users.distinct()\n",
    "df_submissions_cmv_users = df_submissions_cmv_users.distinct()\n"
   ]
  },
  {
   "cell_type": "code",
   "execution_count": 52,
   "id": "9bd06c72-1409-42af-86e9-2a11c38c4d69",
   "metadata": {
    "tags": []
   },
   "outputs": [
    {
     "name": "stderr",
     "output_type": "stream",
     "text": [
      "[Stage 87:===========================================>              (3 + 1) / 4]\r"
     ]
    },
    {
     "name": "stdout",
     "output_type": "stream",
     "text": [
      "+-------------------+\n",
      "|             author|\n",
      "+-------------------+\n",
      "| Friendly-Risk-9422|\n",
      "|           space700|\n",
      "|  Wake-up-Neo-sheep|\n",
      "| SilverKnightGundam|\n",
      "|BrekfastLibertarian|\n",
      "|    SuperSweetStuff|\n",
      "|         TreginWork|\n",
      "|           Joshau-k|\n",
      "|      gbgghmre657u6|\n",
      "|ConversationDue4320|\n",
      "|           mrglass8|\n",
      "|  airassault_tanker|\n",
      "|          Jules0328|\n",
      "|  TheLemonEater5000|\n",
      "|  Fuckleberry__Finn|\n",
      "|         AtlasRoark|\n",
      "|      Steeler_Train|\n",
      "|       rytron3000om|\n",
      "|   ViolenceSolution|\n",
      "|        tareklawyer|\n",
      "+-------------------+\n",
      "only showing top 20 rows\n",
      "\n"
     ]
    },
    {
     "name": "stderr",
     "output_type": "stream",
     "text": [
      "                                                                                \r"
     ]
    }
   ],
   "source": [
    "df_submissions_liberterian_users.show()"
   ]
  },
  {
   "cell_type": "code",
   "execution_count": 39,
   "id": "bc3506e5-4572-4409-9ec4-95854c6e26e6",
   "metadata": {
    "tags": []
   },
   "outputs": [
    {
     "name": "stderr",
     "output_type": "stream",
     "text": [
      "[Stage 44:===========================================>              (3 + 1) / 4]\r"
     ]
    },
    {
     "name": "stdout",
     "output_type": "stream",
     "text": [
      "+-------------------+\n",
      "|             author|\n",
      "+-------------------+\n",
      "|            itcrygo|\n",
      "|           Helpbrin|\n",
      "|       nippleflick1|\n",
      "|    jackbenimble111|\n",
      "|   Minnesota__Scott|\n",
      "|   GlacnerTheMighty|\n",
      "|         progress18|\n",
      "|    Andalib_Odulate|\n",
      "|     medicatedincel|\n",
      "|        MilesAlston|\n",
      "|       nicholashuey|\n",
      "|       PogSlamShady|\n",
      "|    Uppersideofhell|\n",
      "|          jmooremcc|\n",
      "|    UnknownAuthor42|\n",
      "|       SpicyBunny28|\n",
      "|jesusgetsbuttfucked|\n",
      "|   televisiontunnel|\n",
      "|       matchettehdl|\n",
      "|      flamingo23232|\n",
      "+-------------------+\n",
      "only showing top 20 rows\n",
      "\n"
     ]
    },
    {
     "name": "stderr",
     "output_type": "stream",
     "text": [
      "                                                                                \r"
     ]
    }
   ],
   "source": [
    "df_submissions_liberal_users.show()"
   ]
  },
  {
   "cell_type": "code",
   "execution_count": 23,
   "id": "ebe3884a-db01-4f7f-b7b1-4e801684138a",
   "metadata": {
    "tags": []
   },
   "outputs": [
    {
     "name": "stderr",
     "output_type": "stream",
     "text": [
      "[Stage 13:===========================================>              (3 + 1) / 4]\r"
     ]
    },
    {
     "name": "stdout",
     "output_type": "stream",
     "text": [
      "+--------------------+\n",
      "|              author|\n",
      "+--------------------+\n",
      "|              a1996p|\n",
      "|          BanksRScam|\n",
      "|      dmkicksballs13|\n",
      "|          Mad_Prog_1|\n",
      "|        stilltilting|\n",
      "|        They_took_it|\n",
      "|            pragmojo|\n",
      "|         coinboi2012|\n",
      "|       TripleABeauty|\n",
      "|            poopspec|\n",
      "|            FarIdiom|\n",
      "|        Mad_Chemist_|\n",
      "|    Rough_Spirit4528|\n",
      "|         Ohm-Abc-123|\n",
      "|      throwaway-9844|\n",
      "|Affectionate_Chair15|\n",
      "|             rebsar1|\n",
      "|           Blackoffi|\n",
      "|       IdesOfCaesar7|\n",
      "|      trainwreck7775|\n",
      "+--------------------+\n",
      "only showing top 20 rows\n",
      "\n"
     ]
    },
    {
     "name": "stderr",
     "output_type": "stream",
     "text": [
      "                                                                                \r"
     ]
    }
   ],
   "source": [
    "df_submissions_cmv_users.show()"
   ]
  },
  {
   "cell_type": "code",
   "execution_count": 40,
   "id": "1ff0c7d1-44de-47a1-96cc-de02a503eff1",
   "metadata": {
    "tags": []
   },
   "outputs": [
    {
     "name": "stderr",
     "output_type": "stream",
     "text": [
      "[Stage 48:===========================================>              (3 + 1) / 4]\r"
     ]
    },
    {
     "name": "stdout",
     "output_type": "stream",
     "text": [
      "Common users between Libertarian and Liberal: 426\n"
     ]
    },
    {
     "name": "stderr",
     "output_type": "stream",
     "text": [
      "                                                                                \r"
     ]
    }
   ],
   "source": [
    "# Cell 1\n",
    "common_users_lib_liberal = df_submissions_liberterian_users.join(df_submissions_liberal_users, \"author\")\n",
    "num_common_users_lib_liberal = common_users_lib_liberal.count()\n",
    "print(f\"Common users between Libertarian and Liberal: {num_common_users_lib_liberal}\")\n"
   ]
  },
  {
   "cell_type": "code",
   "execution_count": 41,
   "id": "d2187742-5e38-41be-8bb0-ab19fd06514a",
   "metadata": {
    "tags": []
   },
   "outputs": [
    {
     "name": "stderr",
     "output_type": "stream",
     "text": [
      "[Stage 57:===========================================>              (3 + 1) / 4]\r"
     ]
    },
    {
     "name": "stdout",
     "output_type": "stream",
     "text": [
      "Common users between Centrist and Conservative: 378\n"
     ]
    },
    {
     "name": "stderr",
     "output_type": "stream",
     "text": [
      "                                                                                \r"
     ]
    }
   ],
   "source": [
    "# Cell 2\n",
    "common_users_centrist_conservative = df_submissions_centrist_users.join(df_submissions_conservative_users, \"author\")\n",
    "num_common_users_centrist_conservative = common_users_centrist_conservative.count()\n",
    "print(f\"Common users between Centrist and Conservative: {num_common_users_centrist_conservative}\")\n"
   ]
  },
  {
   "cell_type": "code",
   "execution_count": 42,
   "id": "dd9cb635-2f63-4cce-9e97-d0529f56d66e",
   "metadata": {
    "tags": []
   },
   "outputs": [
    {
     "name": "stderr",
     "output_type": "stream",
     "text": [
      "[Stage 66:===========================================>              (3 + 1) / 4]\r"
     ]
    },
    {
     "name": "stdout",
     "output_type": "stream",
     "text": [
      "Common users between Centrist and Liberal: 93\n"
     ]
    },
    {
     "name": "stderr",
     "output_type": "stream",
     "text": [
      "                                                                                \r"
     ]
    }
   ],
   "source": [
    "# Cell 3\n",
    "common_users_centrist_liberal = df_submissions_centrist_users.join(df_submissions_liberal_users, \"author\")\n",
    "num_common_users_centrist_liberal = common_users_centrist_liberal.count()\n",
    "print(f\"Common users between Centrist and Liberal: {num_common_users_centrist_liberal}\")\n"
   ]
  },
  {
   "cell_type": "code",
   "execution_count": 43,
   "id": "2ee545a8-8309-4023-9b44-58bc1ec31eab",
   "metadata": {
    "tags": []
   },
   "outputs": [
    {
     "name": "stderr",
     "output_type": "stream",
     "text": [
      "                                                                                \r"
     ]
    },
    {
     "name": "stdout",
     "output_type": "stream",
     "text": [
      "Common users between Conservative and Liberal: 815\n"
     ]
    }
   ],
   "source": [
    "# Cell 4\n",
    "common_users_conservative_liberal = df_submissions_conservative_users.join(df_submissions_liberal_users, \"author\")\n",
    "num_common_users_conservative_liberal = common_users_conservative_liberal.count()\n",
    "print(f\"Common users between Conservative and Liberal: {num_common_users_conservative_liberal}\")\n"
   ]
  },
  {
   "cell_type": "code",
   "execution_count": 44,
   "id": "7496bd5f-8e4b-40db-8143-1befe97004ab",
   "metadata": {
    "tags": []
   },
   "outputs": [
    {
     "name": "stderr",
     "output_type": "stream",
     "text": [
      "                                                                                \r"
     ]
    },
    {
     "name": "stdout",
     "output_type": "stream",
     "text": [
      "Common users between Conservative and Socialism: 863\n"
     ]
    }
   ],
   "source": [
    "# Cell 5\n",
    "common_users_conservative_socialism = df_submissions_conservative_users.join(df_submissions_socialism_users, \"author\")\n",
    "num_common_users_conservative_socialism = common_users_conservative_socialism.count()\n",
    "print(f\"Common users between Conservative and Socialism: {num_common_users_conservative_socialism}\")\n"
   ]
  },
  {
   "cell_type": "code",
   "execution_count": 45,
   "id": "8b0de127-ed07-4815-90a9-18e1f48b6b81",
   "metadata": {
    "tags": []
   },
   "outputs": [
    {
     "name": "stderr",
     "output_type": "stream",
     "text": [
      "[Stage 93:===========================================>              (3 + 1) / 4]\r"
     ]
    },
    {
     "name": "stdout",
     "output_type": "stream",
     "text": [
      "Common users between Liberal and Socialism: 293\n"
     ]
    },
    {
     "name": "stderr",
     "output_type": "stream",
     "text": [
      "                                                                                \r"
     ]
    }
   ],
   "source": [
    "# Cell 6\n",
    "common_users_liberal_socialism = df_submissions_liberal_users.join(df_submissions_socialism_users, \"author\")\n",
    "num_common_users_liberal_socialism = common_users_liberal_socialism.count()\n",
    "print(f\"Common users between Liberal and Socialism: {num_common_users_liberal_socialism}\")\n"
   ]
  },
  {
   "cell_type": "code",
   "execution_count": 24,
   "id": "6e62aa50-8d81-4242-944a-088a9102420f",
   "metadata": {},
   "outputs": [
    {
     "name": "stderr",
     "output_type": "stream",
     "text": [
      "[Stage 98:===========================================>              (3 + 1) / 4]\r"
     ]
    },
    {
     "name": "stdout",
     "output_type": "stream",
     "text": [
      "[['Libertarian', 'Centrist', 274], ['Libertarian', 'Conservative', 2494], ['Libertarian', 'Socialism', 648], ['Libertarian', 'Liberal', 426], ['Centrist', 'Conservative', 378], ['Centrist', 'Socialism', 82], ['Centrist', 'Liberal', 93], ['Conservative', 'Socialism', 863], ['Conservative', 'Liberal', 815], ['Socialism', 'Liberal', 293]]\n"
     ]
    },
    {
     "name": "stderr",
     "output_type": "stream",
     "text": [
      "                                                                                \r"
     ]
    }
   ],
   "source": [
    "# Define a function to find common users and return the count\n",
    "def count_common_users(df1, df1_name, df2, df2_name):\n",
    "    common_users = df1.join(df2, \"author\")\n",
    "    num_common_users = common_users.count()\n",
    "    return [df1_name, df2_name, num_common_users]\n",
    "\n",
    "# List to store the output\n",
    "common_users_counts = []\n",
    "\n",
    "# Calculate the number of common users between each pair of subreddits\n",
    "common_users_counts.append(count_common_users(df_submissions_liberterian_users, 'Libertarian', df_submissions_centrist_users, 'Centrist'))\n",
    "common_users_counts.append(count_common_users(df_submissions_liberterian_users, 'Libertarian', df_submissions_conservative_users, 'Conservative'))\n",
    "common_users_counts.append(count_common_users(df_submissions_liberterian_users, 'Libertarian', df_submissions_socialism_users, 'Socialism'))\n",
    "common_users_counts.append(count_common_users(df_submissions_liberterian_users, 'Libertarian', df_submissions_liberal_users, 'Liberal'))\n",
    "common_users_counts.append(count_common_users(df_submissions_centrist_users, 'Centrist', df_submissions_conservative_users, 'Conservative'))\n",
    "common_users_counts.append(count_common_users(df_submissions_centrist_users, 'Centrist', df_submissions_socialism_users, 'Socialism'))\n",
    "common_users_counts.append(count_common_users(df_submissions_centrist_users, 'Centrist', df_submissions_liberal_users, 'Liberal'))\n",
    "common_users_counts.append(count_common_users(df_submissions_conservative_users, 'Conservative', df_submissions_socialism_users, 'Socialism'))\n",
    "common_users_counts.append(count_common_users(df_submissions_conservative_users, 'Conservative', df_submissions_liberal_users, 'Liberal'))\n",
    "common_users_counts.append(count_common_users(df_submissions_socialism_users, 'Socialism', df_submissions_liberal_users, 'Liberal'))\n",
    "\n",
    "# Now print the list in the desired format\n",
    "print(common_users_counts)\n"
   ]
  },
  {
   "cell_type": "code",
   "execution_count": 26,
   "id": "92e45842-5e37-4961-bc4e-1a318b9b0492",
   "metadata": {
    "tags": []
   },
   "outputs": [
    {
     "name": "stderr",
     "output_type": "stream",
     "text": [
      "                                                                                \r"
     ]
    }
   ],
   "source": [
    "# Add the remainining calls\n",
    "\n",
    "# Append the comparisons with Ask_Politics and ChangeMyView\n",
    "common_users_counts.append(count_common_users(df_submissions_liberterian_users, 'Libertarian', df_submissions_askpol_users, 'Ask_Politics'))\n",
    "common_users_counts.append(count_common_users(df_submissions_liberterian_users, 'Libertarian', df_submissions_cmv_users, 'ChangeMyView'))\n",
    "common_users_counts.append(count_common_users(df_submissions_centrist_users, 'Centrist', df_submissions_askpol_users, 'Ask_Politics'))\n",
    "common_users_counts.append(count_common_users(df_submissions_centrist_users, 'Centrist', df_submissions_cmv_users, 'ChangeMyView'))\n",
    "common_users_counts.append(count_common_users(df_submissions_conservative_users, 'Conservative', df_submissions_askpol_users, 'Ask_Politics'))\n",
    "common_users_counts.append(count_common_users(df_submissions_conservative_users, 'Conservative', df_submissions_cmv_users, 'ChangeMyView'))\n",
    "common_users_counts.append(count_common_users(df_submissions_socialism_users, 'Socialism', df_submissions_askpol_users, 'Ask_Politics'))\n",
    "common_users_counts.append(count_common_users(df_submissions_socialism_users, 'Socialism', df_submissions_cmv_users, 'ChangeMyView'))\n",
    "common_users_counts.append(count_common_users(df_submissions_liberal_users, 'Liberal', df_submissions_askpol_users, 'Ask_Politics'))\n",
    "common_users_counts.append(count_common_users(df_submissions_liberal_users, 'Liberal', df_submissions_cmv_users, 'ChangeMyView'))\n",
    "common_users_counts.append(count_common_users(df_submissions_askpol_users, 'Ask_Politics', df_submissions_cmv_users, 'ChangeMyView'))\n"
   ]
  },
  {
   "cell_type": "code",
   "execution_count": 27,
   "id": "92d04b28-b208-4d19-b41e-68e66c66192b",
   "metadata": {
    "tags": []
   },
   "outputs": [
    {
     "data": {
      "text/plain": [
       "[['Libertarian', 'Centrist', 274],\n",
       " ['Libertarian', 'Conservative', 2494],\n",
       " ['Libertarian', 'Socialism', 648],\n",
       " ['Libertarian', 'Liberal', 426],\n",
       " ['Centrist', 'Conservative', 378],\n",
       " ['Centrist', 'Socialism', 82],\n",
       " ['Centrist', 'Liberal', 93],\n",
       " ['Conservative', 'Socialism', 863],\n",
       " ['Conservative', 'Liberal', 815],\n",
       " ['Socialism', 'Liberal', 293],\n",
       " ['Libertarian', 'Ask_Politics', 124],\n",
       " ['Libertarian', 'ChangeMyView', 446],\n",
       " ['Centrist', 'Ask_Politics', 47],\n",
       " ['Centrist', 'ChangeMyView', 170],\n",
       " ['Conservative', 'Ask_Politics', 208],\n",
       " ['Conservative', 'ChangeMyView', 880],\n",
       " ['Socialism', 'Ask_Politics', 93],\n",
       " ['Socialism', 'ChangeMyView', 266],\n",
       " ['Liberal', 'Ask_Politics', 50],\n",
       " ['Liberal', 'ChangeMyView', 126],\n",
       " ['Ask_Politics', 'ChangeMyView', 190]]"
      ]
     },
     "execution_count": 27,
     "metadata": {},
     "output_type": "execute_result"
    }
   ],
   "source": [
    "common_users_counts"
   ]
  },
  {
   "cell_type": "markdown",
   "id": "ea25f97a-b997-48a1-92b6-97904e363639",
   "metadata": {},
   "source": [
    "## Bubble Chart"
   ]
  },
  {
   "cell_type": "code",
   "execution_count": 51,
   "id": "40b190f6-1e64-429f-8d6e-3bcd1778a580",
   "metadata": {
    "tags": []
   },
   "outputs": [],
   "source": [
    "df_submissions_liberterian = df_submissions_centrist_liberterian.withColumn(\"created_utc\", date_format(\"created_utc\", \"yyyy-MM-dd\")).filter(df_submissions_centrist_liberterian['subreddit'] == 'Libertarian').select(['created_utc', 'subreddit' , 'title' , 'url' , 'score'])\n",
    "df_submissions_centrist = df_submissions_centrist_liberterian.withColumn(\"created_utc\", date_format(\"created_utc\", \"yyyy-MM-dd\")).filter(df_submissions_centrist_liberterian['subreddit'] == 'centrist').select(['created_utc', 'subreddit' , 'title', 'url', 'score'])\n",
    "df_submissions_liberal = df_submissions_socialism_economics.withColumn(\"created_utc\", date_format(\"created_utc\", \"yyyy-MM-dd\")).filter(df_submissions_socialism_economics['subreddit'] == 'Liberal').select(['created_utc', 'subreddit', 'title', 'url', 'score'])\n",
    "df_submissions_conservative = df_submissions_conservative_finance.withColumn(\"created_utc\", date_format(\"created_utc\", \"yyyy-MM-dd\")).filter(df_submissions_conservative_finance['subreddit'] == 'Conservative').select(['created_utc', 'subreddit', 'title', 'url', 'score'])\n",
    "df_submissions_socialism = df_submissions_socialism_economics.withColumn(\"created_utc\", date_format(\"created_utc\", \"yyyy-MM-dd\")).filter(df_submissions_socialism_economics['subreddit'] == 'socialism').select(['created_utc', 'subreddit', 'title', 'url', 'score'])"
   ]
  },
  {
   "cell_type": "code",
   "execution_count": 52,
   "id": "de1d83b9-55f1-45ba-bfc9-c9741e057693",
   "metadata": {
    "tags": []
   },
   "outputs": [],
   "source": [
    "from functools import reduce\n",
    "from pyspark.sql import DataFrame\n",
    "\n",
    "# Combine all the DataFrames into one using union\n",
    "df_combined = df_submissions_liberterian \\\n",
    "    .union(df_submissions_centrist) \\\n",
    "    .union(df_submissions_liberal) \\\n",
    "    .union(df_submissions_conservative) \\\n",
    "    .union(df_submissions_socialism)"
   ]
  },
  {
   "cell_type": "code",
   "execution_count": 53,
   "id": "50cf971e-7161-4c57-a03a-91ad19e23d4a",
   "metadata": {
    "tags": []
   },
   "outputs": [
    {
     "name": "stdout",
     "output_type": "stream",
     "text": [
      "+-----------+-----------+--------------------+--------------------+-----+\n",
      "|created_utc|  subreddit|               title|                 url|score|\n",
      "+-----------+-----------+--------------------+--------------------+-----+\n",
      "| 2021-09-06|Libertarian|I swear, people p...|https://www.reddi...|   38|\n",
      "| 2021-09-06|Libertarian|Is it abortion bl...|https://www.reddi...|    0|\n",
      "| 2021-06-13|Libertarian|What are your tho...|https://www.reddi...|    0|\n",
      "| 2021-06-13|Libertarian|9 Reasons Why Fed...|https://www.daily...|    5|\n",
      "| 2021-05-09|Libertarian|Economics and Ethics|https://the-mindf...|    7|\n",
      "| 2021-05-09|Libertarian|Great and inspiri...|https://www.youtu...|    0|\n",
      "| 2021-05-09|Libertarian|Social Media Cens...|https://www.reddi...|    2|\n",
      "| 2021-08-06|Libertarian|Is Ron Desantis a...|https://www.reddi...|    0|\n",
      "| 2021-08-06|Libertarian|'Buy America' Was...|https://www.bloom...|   12|\n",
      "| 2021-08-06|Libertarian|State Con Law Cas...|https://ij.org/cj...|   10|\n",
      "| 2021-08-06|Libertarian|More people need ...|https://iai.tv/vi...|    0|\n",
      "| 2021-01-06|Libertarian|Trump supporters ...|https://www.reddi...|  317|\n",
      "| 2021-01-06|Libertarian|Learn from histor...|https://www.reddi...|    2|\n",
      "| 2021-01-06|Libertarian|Blatant plug for ...|https://reconside...|    1|\n",
      "| 2021-01-06|Libertarian|Just today I real...|https://www.reddi...|   76|\n",
      "| 2021-01-07|Libertarian|Just like Muslims...|https://www.reddi...|    0|\n",
      "| 2021-01-07|Libertarian|Reddit is now CCP...|https://www.reddi...|    0|\n",
      "| 2021-01-07|Libertarian|The GOP can sit d...|https://www.reddi...|   23|\n",
      "| 2021-01-07|Libertarian|     My condolences.|https://twitter.c...|    0|\n",
      "| 2021-01-07|Libertarian|    Trump Supporters|https://www.reddi...|   96|\n",
      "+-----------+-----------+--------------------+--------------------+-----+\n",
      "only showing top 20 rows\n",
      "\n"
     ]
    }
   ],
   "source": [
    "df_combined.show()"
   ]
  },
  {
   "cell_type": "code",
   "execution_count": 55,
   "id": "2f9b370a-37ef-4c62-9cd3-57c2559cf355",
   "metadata": {
    "tags": []
   },
   "outputs": [
    {
     "name": "stderr",
     "output_type": "stream",
     "text": [
      "[Stage 222:>                                                        (0 + 1) / 1]\r"
     ]
    },
    {
     "name": "stdout",
     "output_type": "stream",
     "text": [
      "+-----------+---------+--------------------+--------------------+-----+\n",
      "|created_utc|subreddit|               title|                 url|score|\n",
      "+-----------+---------+--------------------+--------------------+-----+\n",
      "| 2021-01-27|  Liberal|Republicans now '...|https://www.msn.c...| 1127|\n",
      "| 2022-05-11|  Liberal|Pro-Trump Electio...|https://www.bloom...| 1074|\n",
      "| 2022-08-10|  Liberal|Most Americans su...|https://www.npr.o...|  969|\n",
      "| 2021-01-11|  Liberal|Report: QAnon Con...|https://www.pathe...|  967|\n",
      "| 2021-01-30|  Liberal|GOP group launche...|https://www.indep...|  922|\n",
      "| 2021-01-28|  Liberal|Joe Biden’s Done ...|https://www.theda...|  912|\n",
      "| 2023-03-31|  Liberal|'I reported 7 to ...|                    |  898|\n",
      "| 2022-11-09|  Liberal|Trump Reportedly ...|https://people.co...|  887|\n",
      "| 2021-09-04|  Liberal|Oh My Fucking God...|https://www.mcswe...|  855|\n",
      "| 2022-05-27|  Liberal|The Republican Pa...|https://www.msnbc...|  846|\n",
      "| 2021-08-02|  Liberal|Rudy Giuliani Is ...|https://www.mothe...|  819|\n",
      "| 2021-01-18|  Liberal|Biden to kill Key...|https://www.ctvne...|  806|\n",
      "| 2021-08-16|  Liberal|GOP removes page ...|https://www.newsw...|  800|\n",
      "| 2021-01-22|  Liberal|Pete Buttigieg co...|https://www.yahoo...|  797|\n",
      "| 2021-03-13|  Liberal|Trump's Twitter b...|https://www.busin...|  782|\n",
      "| 2021-04-13|  Liberal|Mike Lindell: Cos...|https://www.busin...|  780|\n",
      "| 2021-02-10|  Liberal|OAN parent compan...|https://www.usato...|  778|\n",
      "| 2021-01-19|  Liberal|The Trump preside...|https://www.vox.c...|  777|\n",
      "| 2021-02-04|  Liberal|Biden Ousts All 1...|https://slate.com...|  776|\n",
      "| 2022-07-18|  Liberal|Dems Should Sue N...|https://www.huffp...|  773|\n",
      "+-----------+---------+--------------------+--------------------+-----+\n",
      "only showing top 20 rows\n",
      "\n"
     ]
    },
    {
     "name": "stderr",
     "output_type": "stream",
     "text": [
      "                                                                                \r"
     ]
    }
   ],
   "source": [
    " # Keep highest 50 posts per subreddit (highest in terms of score)\n",
    "    \n",
    "from pyspark.sql.window import Window\n",
    "from pyspark.sql.functions import row_number\n",
    "\n",
    "# Define the window specification\n",
    "windowSpec = Window.partitionBy(\"subreddit\").orderBy(df_combined[\"score\"].desc())\n",
    "\n",
    "# Add row number for each row within each partition\n",
    "df_with_row_number = df_combined.withColumn(\"row_number\", row_number().over(windowSpec))\n",
    "\n",
    "# Filter for top 50 posts per subreddit\n",
    "top_50_per_subreddit = df_with_row_number.filter(df_with_row_number[\"row_number\"] <= 50)\n",
    "\n",
    "# Now you can drop the row_number column if you don't need it anymore\n",
    "top_50_per_subreddit = top_50_per_subreddit.drop(\"row_number\")\n",
    "\n",
    "# Show the result\n",
    "top_50_per_subreddit.show()\n"
   ]
  },
  {
   "cell_type": "code",
   "execution_count": 56,
   "id": "0e8c911f-fd2c-4537-8df9-062635d10852",
   "metadata": {
    "tags": []
   },
   "outputs": [
    {
     "name": "stderr",
     "output_type": "stream",
     "text": [
      "                                                                                \r"
     ]
    },
    {
     "data": {
      "text/html": [
       "<div>\n",
       "<style scoped>\n",
       "    .dataframe tbody tr th:only-of-type {\n",
       "        vertical-align: middle;\n",
       "    }\n",
       "\n",
       "    .dataframe tbody tr th {\n",
       "        vertical-align: top;\n",
       "    }\n",
       "\n",
       "    .dataframe thead th {\n",
       "        text-align: right;\n",
       "    }\n",
       "</style>\n",
       "<table border=\"1\" class=\"dataframe\">\n",
       "  <thead>\n",
       "    <tr style=\"text-align: right;\">\n",
       "      <th></th>\n",
       "      <th>created_utc</th>\n",
       "      <th>subreddit</th>\n",
       "      <th>title</th>\n",
       "      <th>url</th>\n",
       "      <th>score</th>\n",
       "    </tr>\n",
       "  </thead>\n",
       "  <tbody>\n",
       "    <tr>\n",
       "      <th>0</th>\n",
       "      <td>2021-01-27</td>\n",
       "      <td>Liberal</td>\n",
       "      <td>Republicans now 'shocked, shocked' that there'...</td>\n",
       "      <td>https://www.msn.com/en-us/news/politics/republ...</td>\n",
       "      <td>1127</td>\n",
       "    </tr>\n",
       "    <tr>\n",
       "      <th>1</th>\n",
       "      <td>2022-05-11</td>\n",
       "      <td>Liberal</td>\n",
       "      <td>Pro-Trump Election Deniers Lose in Nebraska Re...</td>\n",
       "      <td>https://www.bloomberg.com/news/articles/2022-0...</td>\n",
       "      <td>1074</td>\n",
       "    </tr>\n",
       "    <tr>\n",
       "      <th>2</th>\n",
       "      <td>2022-08-10</td>\n",
       "      <td>Liberal</td>\n",
       "      <td>Most Americans support using the popular vote ...</td>\n",
       "      <td>https://www.npr.org/2022/08/10/1116688726/most...</td>\n",
       "      <td>969</td>\n",
       "    </tr>\n",
       "    <tr>\n",
       "      <th>3</th>\n",
       "      <td>2021-01-11</td>\n",
       "      <td>Liberal</td>\n",
       "      <td>Report: QAnon Congresswoman Was Live-Tweeting ...</td>\n",
       "      <td>https://www.patheos.com/blogs/progressivesecul...</td>\n",
       "      <td>967</td>\n",
       "    </tr>\n",
       "    <tr>\n",
       "      <th>4</th>\n",
       "      <td>2021-01-30</td>\n",
       "      <td>Liberal</td>\n",
       "      <td>GOP group launches billboards demanding Cruz a...</td>\n",
       "      <td>https://www.independent.co.uk/news/world/ameri...</td>\n",
       "      <td>922</td>\n",
       "    </tr>\n",
       "    <tr>\n",
       "      <th>...</th>\n",
       "      <td>...</td>\n",
       "      <td>...</td>\n",
       "      <td>...</td>\n",
       "      <td>...</td>\n",
       "      <td>...</td>\n",
       "    </tr>\n",
       "    <tr>\n",
       "      <th>245</th>\n",
       "      <td>2021-05-13</td>\n",
       "      <td>Conservative</td>\n",
       "      <td>So  this is acceptable</td>\n",
       "      <td>https://i.redd.it/x5rmktghgyy61.png</td>\n",
       "      <td>12209</td>\n",
       "    </tr>\n",
       "    <tr>\n",
       "      <th>246</th>\n",
       "      <td>2021-12-23</td>\n",
       "      <td>Conservative</td>\n",
       "      <td>Nancy Pelosi s Husband Seems to be a Savant at...</td>\n",
       "      <td>https://politics.retalk.com/nancy-pelosis-husb...</td>\n",
       "      <td>12133</td>\n",
       "    </tr>\n",
       "    <tr>\n",
       "      <th>247</th>\n",
       "      <td>2022-02-24</td>\n",
       "      <td>Conservative</td>\n",
       "      <td>BREAKING  Russia Begins Full Scale Invasion In...</td>\n",
       "      <td>https://www.dailywire.com/news/breaking-russia...</td>\n",
       "      <td>11981</td>\n",
       "    </tr>\n",
       "    <tr>\n",
       "      <th>248</th>\n",
       "      <td>2021-01-08</td>\n",
       "      <td>Conservative</td>\n",
       "      <td>Reddit bans r Donaldtrump for repeated violati...</td>\n",
       "      <td>https://www.cnet.com/news/reddit-bans-rdonaldt...</td>\n",
       "      <td>11614</td>\n",
       "    </tr>\n",
       "    <tr>\n",
       "      <th>249</th>\n",
       "      <td>2022-12-21</td>\n",
       "      <td>Conservative</td>\n",
       "      <td>Trumps claimed negative income in four of six ...</td>\n",
       "      <td>https://nypost.com/2022/12/21/trumps-claimed-n...</td>\n",
       "      <td>11524</td>\n",
       "    </tr>\n",
       "  </tbody>\n",
       "</table>\n",
       "<p>250 rows × 5 columns</p>\n",
       "</div>"
      ],
      "text/plain": [
       "    created_utc     subreddit  \\\n",
       "0    2021-01-27       Liberal   \n",
       "1    2022-05-11       Liberal   \n",
       "2    2022-08-10       Liberal   \n",
       "3    2021-01-11       Liberal   \n",
       "4    2021-01-30       Liberal   \n",
       "..          ...           ...   \n",
       "245  2021-05-13  Conservative   \n",
       "246  2021-12-23  Conservative   \n",
       "247  2022-02-24  Conservative   \n",
       "248  2021-01-08  Conservative   \n",
       "249  2022-12-21  Conservative   \n",
       "\n",
       "                                                 title  \\\n",
       "0    Republicans now 'shocked, shocked' that there'...   \n",
       "1    Pro-Trump Election Deniers Lose in Nebraska Re...   \n",
       "2    Most Americans support using the popular vote ...   \n",
       "3    Report: QAnon Congresswoman Was Live-Tweeting ...   \n",
       "4    GOP group launches billboards demanding Cruz a...   \n",
       "..                                                 ...   \n",
       "245                             So  this is acceptable   \n",
       "246  Nancy Pelosi s Husband Seems to be a Savant at...   \n",
       "247  BREAKING  Russia Begins Full Scale Invasion In...   \n",
       "248  Reddit bans r Donaldtrump for repeated violati...   \n",
       "249  Trumps claimed negative income in four of six ...   \n",
       "\n",
       "                                                   url  score  \n",
       "0    https://www.msn.com/en-us/news/politics/republ...   1127  \n",
       "1    https://www.bloomberg.com/news/articles/2022-0...   1074  \n",
       "2    https://www.npr.org/2022/08/10/1116688726/most...    969  \n",
       "3    https://www.patheos.com/blogs/progressivesecul...    967  \n",
       "4    https://www.independent.co.uk/news/world/ameri...    922  \n",
       "..                                                 ...    ...  \n",
       "245                https://i.redd.it/x5rmktghgyy61.png  12209  \n",
       "246  https://politics.retalk.com/nancy-pelosis-husb...  12133  \n",
       "247  https://www.dailywire.com/news/breaking-russia...  11981  \n",
       "248  https://www.cnet.com/news/reddit-bans-rdonaldt...  11614  \n",
       "249  https://nypost.com/2022/12/21/trumps-claimed-n...  11524  \n",
       "\n",
       "[250 rows x 5 columns]"
      ]
     },
     "execution_count": 56,
     "metadata": {},
     "output_type": "execute_result"
    }
   ],
   "source": [
    "# Convert to pandas for ease of use\n",
    "\n",
    "# Ensure that the Spark DataFrame is small enough to fit into the local memory\n",
    "top_50_per_subreddit_pandas = top_50_per_subreddit.toPandas()\n",
    "\n",
    "# Now you have the DataFrame in pandas format\n",
    "top_50_per_subreddit_pandas\n"
   ]
  },
  {
   "cell_type": "code",
   "execution_count": 61,
   "id": "3e4ba396-01ba-4c1d-be60-324e21b8a960",
   "metadata": {
    "tags": []
   },
   "outputs": [
    {
     "data": {
      "text/html": [
       "<div>\n",
       "<style scoped>\n",
       "    .dataframe tbody tr th:only-of-type {\n",
       "        vertical-align: middle;\n",
       "    }\n",
       "\n",
       "    .dataframe tbody tr th {\n",
       "        vertical-align: top;\n",
       "    }\n",
       "\n",
       "    .dataframe thead th {\n",
       "        text-align: right;\n",
       "    }\n",
       "</style>\n",
       "<table border=\"1\" class=\"dataframe\">\n",
       "  <thead>\n",
       "    <tr style=\"text-align: right;\">\n",
       "      <th></th>\n",
       "      <th>created_utc</th>\n",
       "      <th>subreddit</th>\n",
       "      <th>title</th>\n",
       "      <th>url</th>\n",
       "      <th>score</th>\n",
       "    </tr>\n",
       "  </thead>\n",
       "  <tbody>\n",
       "    <tr>\n",
       "      <th>0</th>\n",
       "      <td>2021-01-27</td>\n",
       "      <td>Liberal</td>\n",
       "      <td>Republicans now 'shocked, shocked' that there'...</td>\n",
       "      <td>https://www.msn.com/en-us/news/politics/republ...</td>\n",
       "      <td>1127</td>\n",
       "    </tr>\n",
       "    <tr>\n",
       "      <th>1</th>\n",
       "      <td>2022-05-11</td>\n",
       "      <td>Liberal</td>\n",
       "      <td>Pro-Trump Election Deniers Lose in Nebraska Re...</td>\n",
       "      <td>https://www.bloomberg.com/news/articles/2022-0...</td>\n",
       "      <td>1074</td>\n",
       "    </tr>\n",
       "    <tr>\n",
       "      <th>2</th>\n",
       "      <td>2022-08-10</td>\n",
       "      <td>Liberal</td>\n",
       "      <td>Most Americans support using the popular vote ...</td>\n",
       "      <td>https://www.npr.org/2022/08/10/1116688726/most...</td>\n",
       "      <td>969</td>\n",
       "    </tr>\n",
       "    <tr>\n",
       "      <th>3</th>\n",
       "      <td>2021-01-11</td>\n",
       "      <td>Liberal</td>\n",
       "      <td>Report: QAnon Congresswoman Was Live-Tweeting ...</td>\n",
       "      <td>https://www.patheos.com/blogs/progressivesecul...</td>\n",
       "      <td>967</td>\n",
       "    </tr>\n",
       "    <tr>\n",
       "      <th>4</th>\n",
       "      <td>2021-01-30</td>\n",
       "      <td>Liberal</td>\n",
       "      <td>GOP group launches billboards demanding Cruz a...</td>\n",
       "      <td>https://www.independent.co.uk/news/world/ameri...</td>\n",
       "      <td>922</td>\n",
       "    </tr>\n",
       "  </tbody>\n",
       "</table>\n",
       "</div>"
      ],
      "text/plain": [
       "  created_utc subreddit                                              title  \\\n",
       "0  2021-01-27   Liberal  Republicans now 'shocked, shocked' that there'...   \n",
       "1  2022-05-11   Liberal  Pro-Trump Election Deniers Lose in Nebraska Re...   \n",
       "2  2022-08-10   Liberal  Most Americans support using the popular vote ...   \n",
       "3  2021-01-11   Liberal  Report: QAnon Congresswoman Was Live-Tweeting ...   \n",
       "4  2021-01-30   Liberal  GOP group launches billboards demanding Cruz a...   \n",
       "\n",
       "                                                 url  score  \n",
       "0  https://www.msn.com/en-us/news/politics/republ...   1127  \n",
       "1  https://www.bloomberg.com/news/articles/2022-0...   1074  \n",
       "2  https://www.npr.org/2022/08/10/1116688726/most...    969  \n",
       "3  https://www.patheos.com/blogs/progressivesecul...    967  \n",
       "4  https://www.independent.co.uk/news/world/ameri...    922  "
      ]
     },
     "execution_count": 61,
     "metadata": {},
     "output_type": "execute_result"
    }
   ],
   "source": [
    "top_50_per_subreddit_pandas.head()"
   ]
  },
  {
   "cell_type": "code",
   "execution_count": 64,
   "id": "9933403a-5a54-42d9-bc9d-c7156bb39b4f",
   "metadata": {
    "tags": []
   },
   "outputs": [
    {
     "data": {
      "text/plain": [
       "Liberal         50\n",
       "Libertarian     50\n",
       "centrist        50\n",
       "socialism       50\n",
       "Conservative    50\n",
       "Name: subreddit, dtype: int64"
      ]
     },
     "execution_count": 64,
     "metadata": {},
     "output_type": "execute_result"
    }
   ],
   "source": [
    "top_50_per_subreddit_pandas['subreddit'].value_counts()"
   ]
  },
  {
   "cell_type": "code",
   "execution_count": 75,
   "id": "9f3c6656-45db-478d-944f-e399ef61ac9e",
   "metadata": {
    "tags": []
   },
   "outputs": [],
   "source": [
    "import pandas as pd\n",
    "\n",
    "# Assume df is your DataFrame\n",
    "# Convert the DataFrame to the desired JSON-like list of dictionaries format\n",
    "def transform_dataframe(df):\n",
    "    result = []\n",
    "    # Group the DataFrame by subreddit and iterate over each group\n",
    "    for subreddit, group in df.groupby('subreddit'):\n",
    "        subreddit_data = {\n",
    "            'name': subreddit,\n",
    "            'data': [\n",
    "                {\n",
    "                    'name': title,\n",
    "                    'value': score,\n",
    "                    'score': score, # This line adds the score\n",
    "                    'url': url      # This line adds the url\n",
    "                } for title, score, url in zip(group['title'], group['score'], group['url']) # Ensure you are pulling the url here as well\n",
    "            ]\n",
    "        }\n",
    "        result.append(subreddit_data)\n",
    "    return result\n",
    "\n",
    "# Assuming top_50_per_subreddit_pandas is your DataFrame name\n",
    "json_like_structure = transform_dataframe(top_50_per_subreddit_pandas)\n"
   ]
  },
  {
   "cell_type": "code",
   "execution_count": 76,
   "id": "d60f3e81-d9b0-443a-9228-6c199a268e42",
   "metadata": {
    "tags": []
   },
   "outputs": [
    {
     "data": {
      "text/plain": [
       "[{'name': 'Conservative',\n",
       "  'data': [{'name': 'For those of you comparing these protests to Boston 1773  take a look at these pictures and tell me how this is patriotic to you  That is The Capitol Building',\n",
       "    'value': 110685,\n",
       "    'score': 110685,\n",
       "    'url': 'https://www.reddit.com/gallery/krxl6t'},\n",
       "   {'name': 'Fox News  McConnell believes Trump committed impeachable offenses  supports Democrats  impeachment efforts',\n",
       "    'value': 48994,\n",
       "    'score': 48994,\n",
       "    'url': 'https://www.foxnews.com/politics/mcconnell-believes-trump-committed-impeachable-offenses-supports-democrats-impeachment-efforts-report'},\n",
       "   {'name': 'House impeaches Trump for second time over Capitol riots',\n",
       "    'value': 45677,\n",
       "    'score': 45677,\n",
       "    'url': 'http://www.breakingthenews.net/news/details/54323954'},\n",
       "   {'name': 'New SEC Rule  Wall Street Will Now Only Allow Traders Who Wear A Top Hat And Monocle And Carry Around Giant Bags Of Money',\n",
       "    'value': 44190,\n",
       "    'score': 44190,\n",
       "    'url': 'https://babylonbee.com/news/wall-street-bans-anyone-who-doesnt-wear-a-top-hat-and-carry-around-giant-bags-of-money'},\n",
       "   {'name': 'Washington Post Reports Trump  Pressured  Georgia Secretary Of State To  Find  Votes',\n",
       "    'value': 37749,\n",
       "    'score': 37749,\n",
       "    'url': 'https://www.dailywire.com/news/washington-post-reports-trump-pressured-georgia-secretary-of-state-to-find-votes'},\n",
       "   {'name': 'Can t argue with that logic',\n",
       "    'value': 37099,\n",
       "    'score': 37099,\n",
       "    'url': 'https://i.redd.it/ouxqia215i191.jpg'},\n",
       "   {'name': 'Republican Starting To Think Trump Might Not Pull Off A Last Minute 4D Chess Move',\n",
       "    'value': 36019,\n",
       "    'score': 36019,\n",
       "    'url': 'https://babylonbee.com/news/republican-starting-to-think-trump-might-not-pull-off-a-last-minute-3d-chess-move'},\n",
       "   {'name': 'Romney rips Trump over Capitol Hill mayhem   This is what the president has caused',\n",
       "    'value': 34009,\n",
       "    'score': 34009,\n",
       "    'url': 'https://www.washingtonexaminer.com/news/romney-rips-trump-over-capitol-hill-mayhem-this-is-what-the-president-has-caused'},\n",
       "   {'name': 'And he s not the only one',\n",
       "    'value': 32291,\n",
       "    'score': 32291,\n",
       "    'url': 'https://i.redd.it/q507th72c0l61.png'},\n",
       "   {'name': 'M kay',\n",
       "    'value': 31075,\n",
       "    'score': 31075,\n",
       "    'url': 'https://i.redd.it/p36f1vkk82p61.jpg'},\n",
       "   {'name': 'Potential red wave turns into trickle in disappointing midterm elections for Republicans',\n",
       "    'value': 30068,\n",
       "    'score': 30068,\n",
       "    'url': 'https://www.foxnews.com/politics/potential-red-wave-turns-trickle-disappointing-midterm-elections-republicans'},\n",
       "   {'name': 'Joe IMMEDIATELY rips up Trump s legacy  New President will STOP building border wall  order federal mask mandate  scrap  Muslim  ban  rejoin climate accord and dissolve anti woke 1776 Commission',\n",
       "    'value': 29743,\n",
       "    'score': 29743,\n",
       "    'url': 'https://www.dailymail.co.uk/news/article-9167281/Bidens-act-orders-pandemic-climate-immigration.html'},\n",
       "   {'name': 'Parents begged police for upward of 40 minutes to stop Texas school shooter  Report',\n",
       "    'value': 27430,\n",
       "    'score': 27430,\n",
       "    'url': 'https://www.washingtonexaminer.com/news/parents-begged-police-for-upwards-of-40-minutes-to-stop-texas-school-shooter-report'},\n",
       "   {'name': 'found on r wholesomememes',\n",
       "    'value': 25190,\n",
       "    'score': 25190,\n",
       "    'url': 'https://i.redd.it/0vlwic1t2lb61.jpg'},\n",
       "   {'name': 'Poll  Nearly Two Thirds of Americans Want a Third Party to Represent Their Interests',\n",
       "    'value': 22276,\n",
       "    'score': 22276,\n",
       "    'url': 'https://www.westernjournal.com/poll-support-third-party-america-reaches-time-high/'},\n",
       "   {'name': 'Oppression from the Villa',\n",
       "    'value': 22127,\n",
       "    'score': 22127,\n",
       "    'url': 'https://i.redd.it/jggny4kre0m61.png'},\n",
       "   {'name': 'It s Time For Americans To Refuse To Trade With Slaveholders    Now that we know  beyond a doubt  of China s abhorrent treatment of the Uighurs we must reconsider our relations with the Slave Power rising in the East',\n",
       "    'value': 21040,\n",
       "    'score': 21040,\n",
       "    'url': 'https://thefederalist.com/2021/03/15/its-time-for-americans-to-refuse-to-trade-with-slaveholders/'},\n",
       "   {'name': 'Biden pardoning all prior federal offenses of simple marijuana possession',\n",
       "    'value': 20731,\n",
       "    'score': 20731,\n",
       "    'url': 'https://www.foxnews.com/politics/biden-pardoning-all-prior-federal-offenses-simple-marijuana-possession'},\n",
       "   {'name': 'After Being Kicked Off Social Media  Trump Forced To Go Door To Door And Shout  RIGGED ELECTION',\n",
       "    'value': 20575,\n",
       "    'score': 20575,\n",
       "    'url': 'https://babylonbee.com/news/after-being-kicked-off-social-media-trump-forced-to-go-door-to-door-and-shout-rigged-election'},\n",
       "   {'name': 'Sen  Cruz reintroduces amendment imposing term limits on members of Congress',\n",
       "    'value': 20319,\n",
       "    'score': 20319,\n",
       "    'url': 'https://www.cbs7.com/2021/01/25/sen-cruz-reintroduces-amendment-imposing-term-limits-on-members-of-congress/'},\n",
       "   {'name': 'Capitol rioters could face up to 10 years in prison under Trump monument executive order',\n",
       "    'value': 19934,\n",
       "    'score': 19934,\n",
       "    'url': 'https://www.foxnews.com/politics/capitol-rioters-prison-trump-executive-order-federal'},\n",
       "   {'name': 'Happy Birthday to this American hero',\n",
       "    'value': 19892,\n",
       "    'score': 19892,\n",
       "    'url': 'https://i.imgur.com/J7D2yW9.jpg'},\n",
       "   {'name': 'McConnell says Trump provoked Jan  6 riot',\n",
       "    'value': 19359,\n",
       "    'score': 19359,\n",
       "    'url': 'http://www.breakingthenews.net/news/details/54371888'},\n",
       "   {'name': 'Google deletes 100 000 negative reviews of Robinhood App',\n",
       "    'value': 18734,\n",
       "    'score': 18734,\n",
       "    'url': 'https://gizmodo.com/google-deletes-100-000-negative-reviews-of-robinhood-ap-1846156699'},\n",
       "   {'name': 'Biden s inaugural parade is canceled and replaced with a virtual version to avoid drawing large crowds amid the pandemic',\n",
       "    'value': 18416,\n",
       "    'score': 18416,\n",
       "    'url': 'https://www.dailymail.co.uk/news/article-9109493/Biden-inauguration-feature-virtual-nationwide-parade.html'},\n",
       "   {'name': 'Nevada Sen  Cortez Masto keeps critical seat  defeating GOP challenger Adam Laxalt',\n",
       "    'value': 18212,\n",
       "    'score': 18212,\n",
       "    'url': 'https://mynews4.com/news/election/nevada-senator-catherine-cortez-masto-keeps-critical-seat-defeating-gop-challenger-adam-laxalt-election-las-veags-reno-election'},\n",
       "   {'name': 'Somethings we can agree on',\n",
       "    'value': 18202,\n",
       "    'score': 18202,\n",
       "    'url': 'https://www.reddit.com/gallery/l7g5ei'},\n",
       "   {'name': 'Exit Poll  Generation Z  Millennials Break Big for Democrats  63  vs  35  for Republicans',\n",
       "    'value': 17701,\n",
       "    'score': 17701,\n",
       "    'url': 'https://www.breitbart.com/midterm-election/2022/11/09/exit-poll-generation-z-millennials-break-big-for-democrats/'},\n",
       "   {'name': 'Joe Biden sworn in as 46th U S  president',\n",
       "    'value': 16594,\n",
       "    'score': 16594,\n",
       "    'url': 'https://www.foxnews.com/politics/live-updates-inauguration-1-20-21'},\n",
       "   {'name': 'May 35th  1989   the Chinese Communist Party slaughters their own citizens   protestors and bystanders alike   after weeks of massive pro Democracy protests',\n",
       "    'value': 16584,\n",
       "    'score': 16584,\n",
       "    'url': 'https://i.imgur.com/4GETV4d.jpg'},\n",
       "   {'name': 'It s Time For Mitch McConnell To Go',\n",
       "    'value': 16433,\n",
       "    'score': 16433,\n",
       "    'url': 'https://amgreatness.com/2021/01/07/its-time-for-mitch-to-go/'},\n",
       "   {'name': 'BREAKING  Derek Chauvin Guilty On All 3 Counts In George Floyd s Death',\n",
       "    'value': 16386,\n",
       "    'score': 16386,\n",
       "    'url': 'https://minnesota.cbslocal.com/2021/04/20/derek-chauvin-guilty-verdict-george-floyd-death-trial/'},\n",
       "   {'name': 'Trump being investigated for Espionage Act violation  unsealed FBI warrant shows',\n",
       "    'value': 15793,\n",
       "    'score': 15793,\n",
       "    'url': 'https://www.washingtonexaminer.com/news/justice/trump-investigated-espionage-act-violation-unsealed-fbi-warrant'},\n",
       "   {'name': 'Supreme Court rules warrantless home gun confiscation is unconstitutional in 9 0 vote',\n",
       "    'value': 14857,\n",
       "    'score': 14857,\n",
       "    'url': 'https://americanmilitarynews.com/2021/05/supreme-court-rules-warrantless-home-gun-confiscation-is-unconstitutional-in-9-0-vote/'},\n",
       "   {'name': 'Your terms are acceptable',\n",
       "    'value': 14466,\n",
       "    'score': 14466,\n",
       "    'url': 'https://i.redd.it/16gdp3sgl9d81.jpg'},\n",
       "   {'name': 'Democrat Katie Hobbs Wins Arizona Governor s Race  Defeating Kari Lake',\n",
       "    'value': 14392,\n",
       "    'score': 14392,\n",
       "    'url': 'https://www.latestly.com/socially/world/breaking-democrat-katie-hobbs-wins-arizona-governors-race-defeating-kari-lake-nbc-latest-tweet-by-bno-news-live-4459869.html'},\n",
       "   {'name': 'After a lot of research  it appears that their excuse for this is closing the income and generational wealth gap between whites  minorities and  undocumented migrants',\n",
       "    'value': 14287,\n",
       "    'score': 14287,\n",
       "    'url': 'https://i.redd.it/rgjsrgq3oep61.jpg'},\n",
       "   {'name': 'It s time we start pushing for term limits in Congress',\n",
       "    'value': 13895,\n",
       "    'score': 13895,\n",
       "    'url': 'http://www.termlimits.com'},\n",
       "   {'name': 'Twitter permanently bans Donald Trump',\n",
       "    'value': 13259,\n",
       "    'score': 13259,\n",
       "    'url': 'https://www.theverge.com/2021/1/8/22218753/twitter-bans-trump-permanently-realdonaldtrump?utm_campaign=theverge&amp;utm_content=chorus&amp;utm_medium=social&amp;utm_source=twitter'},\n",
       "   {'name': 'Man Who Carries Smartphone Everywhere He Goes Worried Government Might Track Him Through Vaccine',\n",
       "    'value': 12778,\n",
       "    'score': 12778,\n",
       "    'url': 'https://babylonbee.com/news/the-government-can-track-you-through-the-vaccine-says-man-who-has-carried-around-smartphone-since-2009'},\n",
       "   {'name': 'U S  Ready To Evacuate Ukraine President Zelensky So He s Not Captured Or Killed  He Refuses To Go',\n",
       "    'value': 12768,\n",
       "    'score': 12768,\n",
       "    'url': 'https://www.dailywire.com/news/u-s-ready-to-evacuate-ukraine-president-zelensky-so-hes-not-captured-or-killed-he-refuses-to-go'},\n",
       "   {'name': 'Bill to ban biological men from women s sports gains bipartisan support in Congress',\n",
       "    'value': 12687,\n",
       "    'score': 12687,\n",
       "    'url': 'https://campusreform.org/article?id=16497'},\n",
       "   {'name': 'The passengers of United 93 are American Heroes',\n",
       "    'value': 12361,\n",
       "    'score': 12361,\n",
       "    'url': 'https://i.imgur.com/L3s3FXw.jpg'},\n",
       "   {'name': 'Bill Barr Urges Republicans to Pick an  Impressive  and  Younger  2024 Nominee Instead of Trump',\n",
       "    'value': 12348,\n",
       "    'score': 12348,\n",
       "    'url': 'https://www.nationalreview.com/corner/bill-barr-urges-republicans-to-pick-an-impressive-and-younger-2024-nominee-instead-of-trump/amp/'},\n",
       "   {'name': 'Biden Voter On CNN   They re Dropping Bombs In Syria And Those Bombs Are Pretty Expensive For A Guy Who Owes Me   2 000   VIDEO',\n",
       "    'value': 12257,\n",
       "    'score': 12257,\n",
       "    'url': 'https://www.usasupreme.com/biden-voter-on-cnn-theyre-dropping-bombs-in-syria-and-those-bombs-are-pretty-expensive-for-a-guy-who-owes-me-2000-video/'},\n",
       "   {'name': 'So  this is acceptable',\n",
       "    'value': 12209,\n",
       "    'score': 12209,\n",
       "    'url': 'https://i.redd.it/x5rmktghgyy61.png'},\n",
       "   {'name': 'Nancy Pelosi s Husband Seems to be a Savant at Timing His Stock Market Trades  Beating Nearly Every Hedge Fund by 30',\n",
       "    'value': 12133,\n",
       "    'score': 12133,\n",
       "    'url': 'https://politics.retalk.com/nancy-pelosis-husband-seems-to-be-a-savant-at-timing-his-stock-market-trades-beating-nearly-every-hedge-fund-by-30'},\n",
       "   {'name': 'BREAKING  Russia Begins Full Scale Invasion Into Ukraine  Putin Confirms  Military Operation  Underway',\n",
       "    'value': 11981,\n",
       "    'score': 11981,\n",
       "    'url': 'https://www.dailywire.com/news/breaking-russia-begins-full-scale-invasion-into-ukraine-putin-confirms-military-operation-underway'},\n",
       "   {'name': 'Reddit bans r Donaldtrump for repeated violations following Capitol Hill riot',\n",
       "    'value': 11614,\n",
       "    'score': 11614,\n",
       "    'url': 'https://www.cnet.com/news/reddit-bans-rdonaldtrump-for-repeated-violations-following-capitol-hill-riot/'},\n",
       "   {'name': 'Trumps claimed negative income in four of six years between 2015 and 2020  report',\n",
       "    'value': 11524,\n",
       "    'score': 11524,\n",
       "    'url': 'https://nypost.com/2022/12/21/trumps-claimed-negative-income-in-four-of-six-years-between-2015-2020-report/'}]},\n",
       " {'name': 'Liberal',\n",
       "  'data': [{'name': \"Republicans now 'shocked, shocked' that there's a deficit, HAHAHAHAHA HAHAHAHAHA HAHAHAHAHA the Republican Party folks\",\n",
       "    'value': 1127,\n",
       "    'score': 1127,\n",
       "    'url': 'https://www.msn.com/en-us/news/politics/republicans-now-shocked-shocked-that-theres-a-deficit/ar-BB1d91AL'},\n",
       "   {'name': 'Pro-Trump Election Deniers Lose in Nebraska Republican Primaries',\n",
       "    'value': 1074,\n",
       "    'score': 1074,\n",
       "    'url': 'https://www.bloomberg.com/news/articles/2022-05-11/candidates-backing-trump-2020-claims-lose-nebraska-primaries'},\n",
       "   {'name': 'Most Americans support using the popular vote to decide U.S. presidents',\n",
       "    'value': 969,\n",
       "    'score': 969,\n",
       "    'url': 'https://www.npr.org/2022/08/10/1116688726/most-americans-support-using-the-popular-vote-to-decide-u-s-presidents-data-show'},\n",
       "   {'name': 'Report: QAnon Congresswoman Was Live-Tweeting Nancy Pelosi’s Location To Terrorists',\n",
       "    'value': 967,\n",
       "    'score': 967,\n",
       "    'url': 'https://www.patheos.com/blogs/progressivesecularhumanist/2021/01/report-qanon-congresswoman-was-live-tweeting-nancy-pelosis-location-to-terrorists/'},\n",
       "   {'name': 'GOP group launches billboards demanding Cruz and Hawley resign',\n",
       "    'value': 922,\n",
       "    'score': 922,\n",
       "    'url': 'https://www.independent.co.uk/news/world/americas/us-politics/gop-cruz-hawley-billboards-trump-b1794894.html'},\n",
       "   {'name': 'Joe Biden’s Done More Good in a Week Than Donald Trump Did in Four Years',\n",
       "    'value': 912,\n",
       "    'score': 912,\n",
       "    'url': 'https://www.thedailybeast.com/joe-bidens-done-more-good-in-a-week-than-donald-trump-did-in-four-years'},\n",
       "   {'name': \"'I reported 7 to 8 guys': Sexy liberal woman joins conservative dating site, seduces several January 6 rioters into giving her their personal info, which she then forwards to the FBI\",\n",
       "    'value': 898,\n",
       "    'score': 898,\n",
       "    'url': ''},\n",
       "   {'name': \"Trump Reportedly 'Livid,' 'Screaming at Everyone' over Midterm Results\",\n",
       "    'value': 887,\n",
       "    'score': 887,\n",
       "    'url': 'https://people.com/politics/trump-reportedly-livid-screaming-after-midterm-election-results/?utm_campaign=peoplemagazine&amp;utm_content=new&amp;utm_medium=social&amp;utm_source=twitter.com&amp;utm_term=636bd7e88257d100016779a9'},\n",
       "   {'name': 'Oh My Fucking God, Get the Fucking Vaccine Already, You Fucking Fucks',\n",
       "    'value': 855,\n",
       "    'score': 855,\n",
       "    'url': 'https://www.mcsweeneys.net/articles/oh-my-fucking-god-get-the-fucking-vaccine-already-you-fucking-fucks'},\n",
       "   {'name': 'The Republican Party Needs To Be Abolished, Now. They Don’t Care About Anyone’s Safety, They Don’t Care About Human Life. So Many Lives Would Be Saved If Republicans Were Just Gone.',\n",
       "    'value': 846,\n",
       "    'score': 846,\n",
       "    'url': 'https://www.msnbc.com/msnbc/amp/rcna30497'},\n",
       "   {'name': 'Rudy Giuliani Is Reportedly Close to Broke—and Donald Trump Isn’t Taking His Calls; That’s what happens when you go to bat for a notoriously cheap, friendless, crappy businessman.',\n",
       "    'value': 819,\n",
       "    'score': 819,\n",
       "    'url': 'https://www.motherjones.com/politics/2021/08/rudy-giuliani-broke-trump-fundraising-legal-bills/'},\n",
       "   {'name': 'Biden to kill Keystone XL pipeline extension on inauguration day',\n",
       "    'value': 806,\n",
       "    'score': 806,\n",
       "    'url': 'https://www.ctvnews.ca/world/america-votes/biden-to-kill-keystone-xl-pipeline-extension-on-inauguration-day-1.5270600'},\n",
       "   {'name': 'GOP removes page praising Donald Trump\\'s \"historic\" peace deal with Taliban',\n",
       "    'value': 800,\n",
       "    'score': 800,\n",
       "    'url': 'https://www.newsweek.com/gop-removes-webpage-praising-trumps-historic-peace-deal-taliban-1619605'},\n",
       "   {'name': 'Pete Buttigieg congratulated for masterclass confirmation hearing as he’s set to be first openly gay cabinet member',\n",
       "    'value': 797,\n",
       "    'score': 797,\n",
       "    'url': 'https://www.yahoo.com/news/pete-buttigieg-congratulated-masterclass-confirmation-183832264.html'},\n",
       "   {'name': \"Trump's Twitter ban hurt him more than losing the election to Biden, his niece Mary says\",\n",
       "    'value': 782,\n",
       "    'score': 782,\n",
       "    'url': 'https://www.businessinsider.com/trump-twitter-ban-hurt-more-losing-to-biden-niece-mary-2021-3'},\n",
       "   {'name': 'Mike Lindell: Costco has stopped selling MyPillow products',\n",
       "    'value': 780,\n",
       "    'score': 780,\n",
       "    'url': 'https://www.businessinsider.com/mike-lindell-mypillow-costco-stopped-selling-products-retailer-sales-2021-4?amp'},\n",
       "   {'name': 'OAN parent company ordered to pay MSNBC, Rachel Maddow $250,000 after losing defamation lawsuit',\n",
       "    'value': 778,\n",
       "    'score': 778,\n",
       "    'url': 'https://www.usatoday.com/story/entertainment/tv/2021/02/09/msnbc-rachel-maddow-awarded-legal-fees-after-oan-lawsuit/4447175001/'},\n",
       "   {'name': 'The Trump presidency is over, and Obamacare is still alive: Trump managed to accomplish very little on health care, despite Republicans’ decade-long obsession with repealing the Affordable Care Act.',\n",
       "    'value': 777,\n",
       "    'score': 777,\n",
       "    'url': 'https://www.vox.com/policy-and-politics/22238505/donald-trump-obamacare-joe-biden'},\n",
       "   {'name': 'Biden Ousts All 10 of Trump’s Union Busters From Powerful Labor Panel',\n",
       "    'value': 776,\n",
       "    'score': 776,\n",
       "    'url': 'https://slate.com/news-and-politics/2021/02/biden-fires-trump-union-busters-federal-service-impasses-panel.html'},\n",
       "   {'name': 'Dems Should Sue Now To Stop Trump Run Under Constitution Insurrectionist Ban',\n",
       "    'value': 773,\n",
       "    'score': 773,\n",
       "    'url': 'https://www.huffpost.com/entry/14th-amendment-constitution-insurrectionist-ban-trump-lawsuit-alan-morrison_n_62d49f2be4b0f6913031334b'},\n",
       "   {'name': 'WE GOT THE SENATE',\n",
       "    'value': 763,\n",
       "    'score': 763,\n",
       "    'url': 'https://www.reddit.com/r/Liberal/comments/ytqgz7/we_got_the_senate/'},\n",
       "   {'name': 'Trump Jr wanted for questioning by DC attorney general over alleged inaugural funds abuse',\n",
       "    'value': 742,\n",
       "    'score': 742,\n",
       "    'url': 'https://www.yahoo.com/news/trump-jr-wanted-questioning-dc-093935643.html'},\n",
       "   {'name': \"Judge: Kim Davis violated gay couples' rights by refusing marriage licenses : NPR\",\n",
       "    'value': 726,\n",
       "    'score': 726,\n",
       "    'url': 'https://www.npr.org/2022/03/19/1087723875/kim-davis-court-same-sex-marriage'},\n",
       "   {'name': 'Bill Barr Reportedly Burns His Bridges in Scathing Tell All, Sounds Off on Trump’s ‘Erratic Personal Behavior’ and Blames Him for Jan. 6',\n",
       "    'value': 720,\n",
       "    'score': 720,\n",
       "    'url': 'https://www.mediaite.com/trump/bill-barr-reportedly-burns-his-bridges-in-scathing-tell-all-sounds-off-on-trumps-erratic-personal-behavior-and-pettiness/'},\n",
       "   {'name': 'Trump Will Be Deposed Under Oath Next Week, and You Know What Happens When Trumps Are Under Oath',\n",
       "    'value': 713,\n",
       "    'score': 713,\n",
       "    'url': 'https://www.vanityfair.com/news/2021/10/donald-trump-under-oath-depositions'},\n",
       "   {'name': 'White House backs bill to expand voting rights, curb gerrymandering',\n",
       "    'value': 710,\n",
       "    'score': 710,\n",
       "    'url': 'https://thehill.com/homenews/administration/541028-white-house-backs-bill-to-expand-voting-rights-curb-gerrymandering'},\n",
       "   {'name': \"LeVar Burton Doubles Down After Conservatives Criticize Him For Calling Book Bans 'Bullsh*t' On 'The View'\",\n",
       "    'value': 707,\n",
       "    'score': 707,\n",
       "    'url': 'https://www.comicsands.com/levar-burton-book-bans-view-2657502475.html'},\n",
       "   {'name': \"Trump's White House blocked government websites aimed at helping Americans vote, fighting human trafficking, easing homelessness, and stopping fraud, federal records show\",\n",
       "    'value': 706,\n",
       "    'score': 706,\n",
       "    'url': 'https://www.businessinsider.com/donald-trump-website-government-white-house-president-omb-2022-11#amp_tf=From%20%251%24s&amp;aoh=16689656971858&amp;csi=0&amp;referrer=https%3A%2F%2Fwww.google.com&amp;ampshare=https%3A%2F%2Fwww.businessinsider.com%2Fdonald-trump-website-government-white-house-president-omb-2022-11'},\n",
       "   {'name': \"Ex-GOP Senator Calls Party a 'Cult,' Says Trump 'Poisoned' US Democracy: Book\",\n",
       "    'value': 706,\n",
       "    'score': 706,\n",
       "    'url': 'https://www.businessinsider.com/alan-simpson-trump-gop-cult-democracy-book-2022-7'},\n",
       "   {'name': \"Former White House chief of staff says he is in 'disbelief' over GOP support for Putin after Trump called the Russian leader a genius\",\n",
       "    'value': 704,\n",
       "    'score': 704,\n",
       "    'url': 'https://www.businessinsider.com/trump-chief-of-staff-john-kelly-says-disbelief-gop-support-putin-2022-2'},\n",
       "   {'name': 'Opinion | The GOP is no longer a party. It’s a movement to impose White Christian nationalism.',\n",
       "    'value': 700,\n",
       "    'score': 700,\n",
       "    'url': 'https://www.washingtonpost.com/opinions/2022/04/27/gop-no-longer-a-party-movement-impose-christian-nationalism/'},\n",
       "   {'name': 'Democrats officially introduce impeachment article, Republican forces vote on 25th Amendment resolution',\n",
       "    'value': 694,\n",
       "    'score': 694,\n",
       "    'url': 'https://www.yahoo.com/news/house-democrats-pushing-25th-amendment-154917024.html'},\n",
       "   {'name': 'Nancy Pelosi Reveals Mitch McConnell Blocked Ruth Bader Ginsburg From Getting Capitol Rotunda Memorial',\n",
       "    'value': 693,\n",
       "    'score': 693,\n",
       "    'url': 'https://www.mediaite.com/news/nancy-pelosi-reveals-mitch-mcconnell-blocked-ruth-bader-ginsburg-from-getting-capitol-rotunda-memorial/'},\n",
       "   {'name': \"Beto O'Rourke promises marijuana legalization after winning Texas governor nomination\",\n",
       "    'value': 689,\n",
       "    'score': 689,\n",
       "    'url': 'https://www.kcentv.com/article/news/politics/beto-orourke-promises-marijuana-legalization-after-winning-governor-nomination-takes-on-incumbent-greg-abbott-in-fall/500-b2e485a5-66e7-41c1-b18e-4e84b42993fd'},\n",
       "   {'name': \"Trump's inner circle admits to the Jan. 6 committee: He lost the election, but wanted to overturn it; The panel aired never-before-seen footage of the deadly insurrection and statements from people in the mob saying they came to D.C. at Trump's urging.\",\n",
       "    'value': 688,\n",
       "    'score': 688,\n",
       "    'url': 'https://www.nbcnews.com/politics/congress/jan-6-panel-launches-case-trump-slew-allies-refuting-election-lie-rcna32890'},\n",
       "   {'name': 'Clarence Thomas Told His Clerks He Wants to Make Liberals Miserable',\n",
       "    'value': 688,\n",
       "    'score': 688,\n",
       "    'url': 'https://www.businessinsider.com/clarence-thomas-told-clerks-he-wants-to-make-liberals-miserable-2022-6'},\n",
       "   {'name': \"DOJ points out that Trump's legal filings don't align with his public statements about the Mar-a-Lago records\",\n",
       "    'value': 688,\n",
       "    'score': 688,\n",
       "    'url': 'https://www.businessinsider.com/mar-a-lago-doj-trump-legal-filings-dont-align-statements-2022-9#amp_tf=From%20%251%24s&amp;aoh=16631479786045&amp;csi=0&amp;referrer=https%3A%2F%2Fwww.google.com&amp;ampshare=https%3A%2F%2Fwww.businessinsider.com%2Fmar-a-lago-doj-trump-legal-filings-dont-align-statements-2022-9'},\n",
       "   {'name': 'It looks like some Capitol rioters are taking plea deals and agreeing to sell each other out',\n",
       "    'value': 679,\n",
       "    'score': 679,\n",
       "    'url': 'https://www.insider.com/capitol-rioters-may-be-taking-cooperation-deals-with-federal-prosecutors-2021-2'},\n",
       "   {'name': 'Almost Twice as Many Republicans Died From COVID Before the Midterms Than Democrats',\n",
       "    'value': 678,\n",
       "    'score': 678,\n",
       "    'url': 'https://www.vice.com/en/article/v7vjx8/almost-twice-as-many-republicans-died-from-covid-before-the-midterms-than-democrats'},\n",
       "   {'name': 'Trump Has Shocking Moment of Honesty During CPAC Speech, Says Straw Poll Is Only Accurate If It’s Good For Him; If It’s Bad, He’ll ‘Just Say It’s Fake’',\n",
       "    'value': 677,\n",
       "    'score': 677,\n",
       "    'url': 'https://www.mediaite.com/politics/trump-has-shocking-moment-of-honesty-during-cpac-speech-says-if-straw-poll-is-only-accurate-if-its-good-for-him-if-its-bad-hell-just-say-its-fake/'},\n",
       "   {'name': 'Dad of child with Down’s syndrome confronts Marjorie Taylor Greene over disabled slur, she is a disgusting pathetic human, Republicans are you proud.',\n",
       "    'value': 673,\n",
       "    'score': 673,\n",
       "    'url': 'https://www.independent.co.uk/news/world/americas/us-politics/marjorie-taylor-greene-gop-downs-syndrome-b1801455.html'},\n",
       "   {'name': 'Herschel Walker, running for U.S. Senate in Georgia, still gets tax break on $3 million Texas residence. Under Texas law, homeowners can claim a homestead exemption only on their primary residence. The Republican Senate candidate registered to vote in Georgia last year.',\n",
       "    'value': 671,\n",
       "    'score': 671,\n",
       "    'url': 'https://www.texastribune.org/2022/11/23/herschel-walker-texas-tax-break/'},\n",
       "   {'name': 'Majority of Americans in new poll say it would be bad for the country if Trump ran in 2024',\n",
       "    'value': 669,\n",
       "    'score': 669,\n",
       "    'url': 'https://thehill.com/homenews/campaign/566440-majority-of-americans-in-new-poll-say-it-would-be-bad-for-the-country-if'},\n",
       "   {'name': 'Fox is not news, it’s propaganda',\n",
       "    'value': 669,\n",
       "    'score': 669,\n",
       "    'url': 'https://www.latimes.com/entertainment-arts/business/story/2023-02-27/fox-news-rupert-murdoch-election-fraud-dominion'},\n",
       "   {'name': 'Florida is tied with Texas for having the most people facing charges linked to the Capitol riot, report says',\n",
       "    'value': 667,\n",
       "    'score': 667,\n",
       "    'url': 'https://www.businessinsider.com/florida-tied-with-texas-for-most-capitol-riot-arrests-report-2021-6'},\n",
       "   {'name': 'GOP demands right to filibuster after taking it away from Democrats in 2017',\n",
       "    'value': 664,\n",
       "    'score': 664,\n",
       "    'url': 'https://americanindependent.com/republicans-demand-filibuster-60-votes-democratic-senate/'},\n",
       "   {'name': 'Biden Kills Trump Plan to Take Food Aid Away from Millions; The former president’s heartless proposal would have denied nearly one million school children free meals',\n",
       "    'value': 663,\n",
       "    'score': 663,\n",
       "    'url': 'https://www.rollingstone.com/politics/politics-news/biden-trump-food-stamps-1182095/'},\n",
       "   {'name': 'Michael Moore On Exiting Donald Trump: “We Are Not Done With Him … He Must Pay For His Actions”',\n",
       "    'value': 661,\n",
       "    'score': 661,\n",
       "    'url': 'https://www.yahoo.com/entertainment/michael-moore-exiting-donald-trump-202326390.html'},\n",
       "   {'name': \"'All of them were saying: Trump sent us' | In first testimony, officers say no confusion about who sparked Capitol riot\",\n",
       "    'value': 658,\n",
       "    'score': 658,\n",
       "    'url': 'https://www.wusa9.com/article/news/national/capitol-riots/first-testimony-officers-assaulted-during-capitol-riot-fanone-hodges-cheney-kinzinger-raskin-dunn/65-33aed582-6f45-4f03-9622-1bdb0143809a'},\n",
       "   {'name': \"Ted Cruz's 'Pittsburgh over Paris' campaign shows us just how dumb the Biden years are going to be\",\n",
       "    'value': 653,\n",
       "    'score': 653,\n",
       "    'url': 'https://www.yahoo.com/news/ted-cruzs-pittsburgh-over-paris-143300116.html'}]},\n",
       " {'name': 'Libertarian',\n",
       "  'data': [{'name': 'Me thinks, you cannot claim to be a patriot if you’re charging the US Capitol waving confederate flag',\n",
       "    'value': 74585,\n",
       "    'score': 74585,\n",
       "    'url': 'https://www.reddit.com/r/Libertarian/comments/kruyq7/me_thinks_you_cannot_claim_to_be_a_patriot_if/'},\n",
       "   {'name': 'Texas Valedictorian’s Speech: “I am terrified that if my contraceptives fail me, that if I’m raped, then my hopes and efforts and dreams for myself will no longer be relevant.”',\n",
       "    'value': 55116,\n",
       "    'score': 55116,\n",
       "    'url': 'https://lakehighlands.advocatemag.com/2021/06/lhhs-valedictorian-overwhelmed-with-messages-after-graduation-speech-on-reproductive-rights/'},\n",
       "   {'name': 'Texas has set up a $10,000 bounty for turning in women who have abortions. What crime is up next for a bounty? Speeding? Gun violations? Pot growing?',\n",
       "    'value': 28750,\n",
       "    'score': 28750,\n",
       "    'url': 'https://www.reddit.com/r/Libertarian/comments/pgi2e0/texas_has_set_up_a_10000_bounty_for_turning_in/'},\n",
       "   {'name': '\\'Turning Point USA\\' leader deletes tweet saying he sent \"80+ buses full of patriots to D.C. to fight for the president\". Turning Point\\'s website openly advertised the campaign, offering free bus rides and complimentary hotel rooms to anyone willing to travel to D.C.',\n",
       "    'value': 25549,\n",
       "    'score': 25549,\n",
       "    'url': 'https://www.dailydot.com/debug/charlie-kirk-delete-tweet-buses-capitol/'},\n",
       "   {'name': 'Fuck Vladimir Putin. Long Live Ukraine.',\n",
       "    'value': 25215,\n",
       "    'score': 25215,\n",
       "    'url': 'https://www.reddit.com/r/Libertarian/comments/t01mcf/fuck_vladimir_putin_long_live_ukraine/'},\n",
       "   {'name': 'For the Love of God, Can We Please Stop?!',\n",
       "    'value': 24952,\n",
       "    'score': 24952,\n",
       "    'url': 'https://www.reddit.com/r/Libertarian/comments/mhtctg/for_the_love_of_god_can_we_please_stop/'},\n",
       "   {'name': \"Don't Let the Capitol Riot Become a 9/11-Style Excuse for Authoritarianism\",\n",
       "    'value': 22263,\n",
       "    'score': 22263,\n",
       "    'url': 'https://reason.com/2021/01/15/dont-let-the-capitol-riot-become-a-9-11-style-excuse-for-authoritarianism/#comments'},\n",
       "   {'name': 'Dr. Seuss wasn\\'t \"canceled\" and the people who claim he was are fearmongering idiots',\n",
       "    'value': 22195,\n",
       "    'score': 22195,\n",
       "    'url': 'https://www.reddit.com/r/Libertarian/comments/lxtzgg/dr_seuss_wasnt_canceled_and_the_people_who_claim/'},\n",
       "   {'name': 'Rand Paul: One-third of Republicans will leave party if GOP senators go along with convicting Trump',\n",
       "    'value': 21916,\n",
       "    'score': 21916,\n",
       "    'url': 'https://www.washingtonexaminer.com/news/rand-paul-warns-senate-conviction-will-destroy-gop'},\n",
       "   {'name': 'Methinks if you’ve defended businesses “rights to religious liberty”, but are outraged by companies removing Parler from app stores and hosting, you are a hypocrite',\n",
       "    'value': 20581,\n",
       "    'score': 20581,\n",
       "    'url': 'https://www.reddit.com/r/Libertarian/comments/ktruz1/methinks_if_youve_defended_businesses_rights_to/'},\n",
       "   {'name': \"Anybody calling for regulations to prevent another gamestop fiasco from happening: don't let them ever tell you that they are for small government again..\",\n",
       "    'value': 20226,\n",
       "    'score': 20226,\n",
       "    'url': 'https://www.reddit.com/r/Libertarian/comments/l69rkh/anybody_calling_for_regulations_to_prevent/'},\n",
       "   {'name': 'If Dems don’t act on marijuana and student loan debt they deserve to lose everything',\n",
       "    'value': 19846,\n",
       "    'score': 19846,\n",
       "    'url': 'https://www.reddit.com/r/Libertarian/comments/rg8lqv/if_dems_dont_act_on_marijuana_and_student_loan/'},\n",
       "   {'name': 'Joe Biden just stuck to his guns and stood up to the military industrial complex. He took responsibility for the withdrawal and said \"the buck stops here.\" I was surprised by that speech but I am impressed. We are leaving Afghanistan!',\n",
       "    'value': 19802,\n",
       "    'score': 19802,\n",
       "    'url': 'https://www.reddit.com/r/Libertarian/comments/p5oj22/joe_biden_just_stuck_to_his_guns_and_stood_up_to/'},\n",
       "   {'name': 'The elites don’t want a free market; they want a controlled market that protects their profiteering and keeps you subdued.',\n",
       "    'value': 19071,\n",
       "    'score': 19071,\n",
       "    'url': 'https://mobile.twitter.com/justinamash/status/1354620347325296647'},\n",
       "   {'name': 'Trump’s legacy: $8 trillion-plus in added debt in one term',\n",
       "    'value': 17493,\n",
       "    'score': 17493,\n",
       "    'url': 'https://www.washingtonexaminer.com/news/trumps-legacy-added-debt-one-term'},\n",
       "   {'name': \"Since 2015, American Police Have Killed 1600% More U.S. Citizens Than 'Mass Shooters'\",\n",
       "    'value': 17453,\n",
       "    'score': 17453,\n",
       "    'url': 'https://libertarianinstitute.org/articles/since-2015-american-police-have-killed-1600-more-u-s-citizens-than-mass-shooters/'},\n",
       "   {'name': \"Being so poorly trained that you don't know the difference between a taser and a gun is not a defense for murder\",\n",
       "    'value': 17384,\n",
       "    'score': 17384,\n",
       "    'url': 'https://www.nbcnews.com/news/us-news/minnesota-police-chief-says-he-believes-officer-meant-grab-taser-n1263817'},\n",
       "   {'name': \"The U.S. Doesn't Have a Labor Shortage. It Has an Incentive Shortage.\",\n",
       "    'value': 17014,\n",
       "    'score': 17014,\n",
       "    'url': 'https://reason.com/2021/05/19/unemployment-benefits-coronavirus-labor-shortage-american-rescue-plan/'},\n",
       "   {'name': 'Shout-Out to all the idiots trying to prove that the government has to control us',\n",
       "    'value': 16814,\n",
       "    'score': 16814,\n",
       "    'url': 'https://www.reddit.com/r/Libertarian/comments/ot9zow/shoutout_to_all_the_idiots_trying_to_prove_that/'},\n",
       "   {'name': 'Texas Gov. Greg Abbott, who recently signed a restrictive abortion law, has caught covid and will reportedly receive Regeneron’s monoclonal antibody treatment which was developed with fetal stem cells',\n",
       "    'value': 16273,\n",
       "    'score': 16273,\n",
       "    'url': 'https://thehill.com/homenews/state-watch/568272-abbott-tests-positive-for-covid-19-despite-being-fully-vaccinated'},\n",
       "   {'name': 'Libertarianism means letting women have the freedom to choose what they do with their own bodies.',\n",
       "    'value': 16254,\n",
       "    'score': 16254,\n",
       "    'url': 'https://www.reddit.com/r/Libertarian/comments/phj1mo/libertarianism_means_letting_women_have_the/'},\n",
       "   {'name': \"Conservatives: It's a private company, they don't have to bake your cake: • Also conservatives: I'm gonna threaten you with State violence if you keep insisting on your private property rights\",\n",
       "    'value': 15954,\n",
       "    'score': 15954,\n",
       "    'url': 'https://archive.is/391OB'},\n",
       "   {'name': \"You can't be libertarian and argue that George Floyd dying of a fentanyl overdose absolves a police officer from quite literally crushing his neck while having said overdose.\",\n",
       "    'value': 15913,\n",
       "    'score': 15913,\n",
       "    'url': 'https://www.reddit.com/r/Libertarian/comments/m2x4y5/you_cant_be_libertarian_and_argue_that_george/'},\n",
       "   {'name': 'Denver successfully sent mental health professionals, not police, to hundreds of calls.',\n",
       "    'value': 14816,\n",
       "    'score': 14816,\n",
       "    'url': 'https://www.usatoday.com/story/news/nation/2021/02/06/denver-sent-mental-health-help-not-police-hundreds-calls/4421364001/?fbclid=IwAR1mtYHtpbBdwAt7zcTSo2K5bU9ThsoGYZ1cGdzdlLvecglARGORHJKqHsA'},\n",
       "   {'name': 'Woman who won’t get vaccinated due to religious beliefs denied kidney transplant',\n",
       "    'value': 14789,\n",
       "    'score': 14789,\n",
       "    'url': 'https://www.independent.co.uk/news/world/americas/covid-vaccine-kidney-transplant-christian-b1934676.html'},\n",
       "   {'name': 'NOW: Supreme Court overturns Roe v. Wade in landmark opinion',\n",
       "    'value': 14252,\n",
       "    'score': 14252,\n",
       "    'url': 'https://www.foxnews.com/politics/supreme-court-overturns-roe-v-wade-dobbs-v-jackson-womens-health-organization'},\n",
       "   {'name': \"Stop saying Republicans are more likely than Democrats to protect freedom of speech. They don't give a fuck about first amendment rights when it goes against their narrative.\",\n",
       "    'value': 14176,\n",
       "    'score': 14176,\n",
       "    'url': 'https://www.reddit.com/r/Libertarian/comments/q7utta/stop_saying_republicans_are_more_likely_than/'},\n",
       "   {'name': '62 percent say third political party is needed in US',\n",
       "    'value': 13965,\n",
       "    'score': 13965,\n",
       "    'url': 'https://thehill.com/blogs/blog-briefing-room/news/538889-62-percent-say-third-political-party-is-needed-in-us'},\n",
       "   {'name': \"After seeing Zelenskyy be a complete badass in Ukraine I can't help but ask where are these age appropriate candidates in America? I refuse to believe we have zero possible candidates that are under 60 and am realizing even though we have elections they are decided before we even get to vote.\",\n",
       "    'value': 13827,\n",
       "    'score': 13827,\n",
       "    'url': 'https://www.reddit.com/r/Libertarian/comments/tetude/after_seeing_zelenskyy_be_a_complete_badass_in/'},\n",
       "   {'name': 'In France before the revolution in 1789, the 1% owned 35% of the wealth. In America today, the 1% own 32% of the wealth and increasing their share further.',\n",
       "    'value': 13705,\n",
       "    'score': 13705,\n",
       "    'url': 'https://www.reddit.com/r/Libertarian/comments/oe4xby/in_france_before_the_revolution_in_1789_the_1/'},\n",
       "   {'name': 'Supreme Court has voted to overturn abortion rights, draft opinion shows',\n",
       "    'value': 13529,\n",
       "    'score': 13529,\n",
       "    'url': 'https://www.politico.com/news/2022/05/02/supreme-court-abortion-draft-opinion-00029473'},\n",
       "   {'name': 'Biden Voter On CNN: “They’re Dropping Bombs In Syria And Those Bombs Are Pretty Expensive For A Guy Who Owes Me $ 2,000”',\n",
       "    'value': 13059,\n",
       "    'score': 13059,\n",
       "    'url': 'https://www.usasupreme.com/biden-voter-on-cnn-theyre-dropping-bombs-in-syria-and-those-bombs-are-pretty-expensive-for-a-guy-who-owes-me-2000-video/'},\n",
       "   {'name': 'President Joe Biden is reportedly gearing up to issue an executive order compelling the U.S. Federal Trade Commission to draft new “right to repair” rules — a set of regulations that will protect consumers’ ability to repair their equipment on their own and at independent shops.',\n",
       "    'value': 12340,\n",
       "    'score': 12340,\n",
       "    'url': 'https://gizmodo.com/the-biden-administration-is-ready-to-go-to-war-over-ri-1847240802'},\n",
       "   {'name': \"Take the Vaccine or Don't take it, but there is absolutely nothing Libertarian about not respecting the rights of individual property owners to deny access to the unvaccinated.\",\n",
       "    'value': 12310,\n",
       "    'score': 12310,\n",
       "    'url': 'https://www.reddit.com/r/Libertarian/comments/r7cgj2/take_the_vaccine_or_dont_take_it_but_there_is/'},\n",
       "   {'name': 'End civil asset forfeiture. End the drug war. End victimless crimes. End qualified immunity. End the Patriot Act. End FISA 702. End foreign wars. End corporate welfare.',\n",
       "    'value': 12166,\n",
       "    'score': 12166,\n",
       "    'url': 'https://twitter.com/justinamash/status/1351952729091010565?s=20'},\n",
       "   {'name': 'Biden to ban special bonuses for appointees, expand lobbying prohibitions in new ethics rules - Good news for democracy',\n",
       "    'value': 11177,\n",
       "    'score': 11177,\n",
       "    'url': 'https://www.washingtonpost.com/politics/biden-ethics-administration/2021/01/18/56a9a97a-59bd-11eb-a976-bad6431e03e2_story.html?utm_source=rss&amp;utm_medium=referral&amp;utm_campaign=wp_politics'},\n",
       "   {'name': 'Dem governor declares COVID-19 emergency ‘over,’ says it’s ‘their own darn fault’ if unvaccinated get sick',\n",
       "    'value': 11079,\n",
       "    'score': 11079,\n",
       "    'url': 'https://www.yahoo.com/news/dem-governor-declares-covid-19-213331865.html'},\n",
       "   {'name': \"Cop Indicted for Leaking Video of Cops Shoving Baton in Man's Mouth Until He Died\",\n",
       "    'value': 10713,\n",
       "    'score': 10713,\n",
       "    'url': 'https://thefreethoughtproject.com/good-cop-indicted-for-leaking-video-of-cops-shoving-baton-in-mans-mouth-until-he-died'},\n",
       "   {'name': \"Biden ousting staffers for pot use -- even when they only smoked in states where it's legal: report | Joe Biden's commitment to staff his White House with the best people possible has run head-on into his decades-long support for America's war on drugs.\",\n",
       "    'value': 10698,\n",
       "    'score': 10698,\n",
       "    'url': 'https://www.rawstory.com/joe-biden-marijuana/'},\n",
       "   {'name': 'Trump impeached for inciting US Capitol riots',\n",
       "    'value': 10557,\n",
       "    'score': 10557,\n",
       "    'url': 'https://www.bbc.co.uk/news/world-us-canada-55656385'},\n",
       "   {'name': \"Libertarians To Begin Wearing Masks Now That Government Says They Don't Have To\",\n",
       "    'value': 9717,\n",
       "    'score': 9717,\n",
       "    'url': 'https://babylonbee.com/news/libertarians-to-begin-wearing-masks-now-that-government-says-they-dont-have-to?fbclid=IwAR1KTub91CU1jz3K5y8lOyWH1DEfhdsUbYrU1zyU8drLzOxbCFu_xC7dxnE'},\n",
       "   {'name': 'Whopping 70 percent of unvaccinated Americans would quit their job if vaccines are mandated',\n",
       "    'value': 9566,\n",
       "    'score': 9566,\n",
       "    'url': 'https://thehill.com/changing-america/well-being/prevention-cures/571084-whopping-70-percent-of-unvaccinated-americans'},\n",
       "   {'name': 'Part of free speech is being criticized for your speech. Deal with it',\n",
       "    'value': 9494,\n",
       "    'score': 9494,\n",
       "    'url': 'https://www.reddit.com/r/Libertarian/comments/ojc2gs/part_of_free_speech_is_being_criticized_for_your/'},\n",
       "   {'name': 'After suing Mike Lindell, Sidney Powell, and Rudy Giuliani, Dominion says it will go after others who spread claims of election fraud - truth does matter it turns out.',\n",
       "    'value': 9460,\n",
       "    'score': 9460,\n",
       "    'url': 'https://www.businessinsider.com/dominion-voting-systems-machines-mike-lindell-giuliani-election-conspiracy-theory-2021-2?utm_source=reddit.com'},\n",
       "   {'name': 'At what point do personal liberties trump societies demand for safety?',\n",
       "    'value': 9326,\n",
       "    'score': 9326,\n",
       "    'url': 'https://www.reddit.com/r/Libertarian/comments/pkczh5/at_what_point_do_personal_liberties_trump/'},\n",
       "   {'name': 'Supreme Court rules 6-3 in allowing border patrol agents to enter any home within 100 miles of the border without warrant. (Court docs in link)',\n",
       "    'value': 9277,\n",
       "    'score': 9277,\n",
       "    'url': 'https://mobile.twitter.com/cristianafarias/status/1534539839529525251?s=20'},\n",
       "   {'name': \"This Gun Shop Says It Won't Do Business With Biden Voters\",\n",
       "    'value': 9010,\n",
       "    'score': 9010,\n",
       "    'url': 'https://reason.com/2021/02/12/this-gun-shop-says-it-wont-do-business-with-biden-voters/'},\n",
       "   {'name': \"The Supreme Court's first decision of the day is Kennedy v. Bremerton. In a 6–3 opinion by Gorsuch, the court holds that public school officials have a constitutional right to pray publicly, and lead students in prayer, during school events.\",\n",
       "    'value': 8853,\n",
       "    'score': 8853,\n",
       "    'url': 'https://twitter.com/mjs_DC/status/1541423574988234752'},\n",
       "   {'name': 'Corporations aren\\'t \"Left leaning or liberal biased\"',\n",
       "    'value': 8841,\n",
       "    'score': 8841,\n",
       "    'url': 'https://www.reddit.com/r/Libertarian/comments/kv017e/corporations_arent_left_leaning_or_liberal_biased/'},\n",
       "   {'name': \"AZ House criminal justice committee UNANIMOUSLY passes HB2810 which requires law enforcement to get a criminal conviction BEFORE taking someone's property under civil asset forfeiture\",\n",
       "    'value': 8358,\n",
       "    'score': 8358,\n",
       "    'url': 'https://indefenseofliberty.blog/2021/02/17/az-legislature-moves-to-stop-government-theft-of-private-property/'}]},\n",
       " {'name': 'centrist',\n",
       "  'data': [{'name': 'She has a point',\n",
       "    'value': 936,\n",
       "    'score': 936,\n",
       "    'url': 'https://i.redd.it/e30e14q0ei071.jpg'},\n",
       "   {'name': 'these fools',\n",
       "    'value': 881,\n",
       "    'score': 881,\n",
       "    'url': 'https://i.redd.it/kevupeqrsfz61.png'},\n",
       "   {'name': 'Centrism',\n",
       "    'value': 822,\n",
       "    'score': 822,\n",
       "    'url': 'https://www.reddit.com/r/centrist/comments/l3njkj/centrism/'},\n",
       "   {'name': 'Current state of politics ORL',\n",
       "    'value': 798,\n",
       "    'score': 798,\n",
       "    'url': 'https://i.redd.it/xhqzyfe2zul61.jpg'},\n",
       "   {'name': \"Anyone who cannot perceive any difference in police conduct between the killing of George Floyd and the shooting of 16 year old Ma'khia Bryant, ON EITHER SIDE, has been brainwashed.\",\n",
       "    'value': 775,\n",
       "    'score': 775,\n",
       "    'url': 'https://www.reddit.com/r/centrist/comments/mx0zq6/anyone_who_cannot_perceive_any_difference_in/'},\n",
       "   {'name': 'Rare Quadrant Unity? 😳',\n",
       "    'value': 769,\n",
       "    'score': 769,\n",
       "    'url': 'https://i.redd.it/k55tu9hk96e61.jpg'},\n",
       "   {'name': 'Cognitive dissonance',\n",
       "    'value': 748,\n",
       "    'score': 748,\n",
       "    'url': 'https://i.redd.it/dgn4o779fiq71.jpg'},\n",
       "   {'name': 'Simpleton post: Violence is violence, your “side” doing it should actually motivate you to condemn it more fiercly',\n",
       "    'value': 712,\n",
       "    'score': 712,\n",
       "    'url': 'https://www.reddit.com/r/centrist/comments/kuzul1/simpleton_post_violence_is_violence_your_side/'},\n",
       "   {'name': 'The United-States is in desperate need of centrism.',\n",
       "    'value': 697,\n",
       "    'score': 697,\n",
       "    'url': 'https://www.reddit.com/r/centrist/comments/kt855z/the_unitedstates_is_in_desperate_need_of_centrism/'},\n",
       "   {'name': 'Viral Video: Charles Barkley tells TV audience that politicians want Black people and White people to hate each other so that they can “keep their grasp on money and power.”',\n",
       "    'value': 656,\n",
       "    'score': 656,\n",
       "    'url': 'https://youtu.be/5bbb9L42NHc'},\n",
       "   {'name': 'Time to touch grass.',\n",
       "    'value': 652,\n",
       "    'score': 652,\n",
       "    'url': 'https://i.redd.it/5jhv2o1knwy71.jpg'},\n",
       "   {'name': 'Please remember this 🙏🏻',\n",
       "    'value': 629,\n",
       "    'score': 629,\n",
       "    'url': 'https://i.redd.it/875y7aokwkk81.jpg'},\n",
       "   {'name': 'The current life of a Centrist in the US.',\n",
       "    'value': 628,\n",
       "    'score': 628,\n",
       "    'url': 'https://i.redd.it/uc2jtj1xv0q71.jpg'},\n",
       "   {'name': 'Don\\'t let people pretend the \"stop the steal\" movement is valid',\n",
       "    'value': 621,\n",
       "    'score': 621,\n",
       "    'url': 'https://www.reddit.com/r/centrist/comments/ktpumk/dont_let_people_pretend_the_stop_the_steal/'},\n",
       "   {'name': 'Can most people here agree with this?',\n",
       "    'value': 578,\n",
       "    'score': 578,\n",
       "    'url': 'https://i.redd.it/uvzvgjthap281.jpg'},\n",
       "   {'name': '[deleted by user]',\n",
       "    'value': 565,\n",
       "    'score': 565,\n",
       "    'url': 'https://www.reddit.com/r/centrist/comments/ol59wj/deleted_by_user/'},\n",
       "   {'name': 'This sub is way more obsessed with race and BLM than any of the left wing subs I visit',\n",
       "    'value': 561,\n",
       "    'score': 561,\n",
       "    'url': 'https://www.reddit.com/r/centrist/comments/n0g12v/this_sub_is_way_more_obsessed_with_race_and_blm/'},\n",
       "   {'name': 'Black Lives Matter Website Lies About Ma’Khia Bryant Shooting',\n",
       "    'value': 555,\n",
       "    'score': 555,\n",
       "    'url': 'https://www.reddit.com/r/centrist/comments/mzgm75/black_lives_matter_website_lies_about_makhia/'},\n",
       "   {'name': 'do you think this is in a certain sense the essence of centrism?',\n",
       "    'value': 549,\n",
       "    'score': 549,\n",
       "    'url': 'https://i.redd.it/1anwypeu6mg71.jpg'},\n",
       "   {'name': 'I think Reddit is officially overran by activists engaging in what Chomskey would call \"Manufacturing Consent\" - And it\\'s wild to watch first hand',\n",
       "    'value': 540,\n",
       "    'score': 540,\n",
       "    'url': 'https://www.reddit.com/r/centrist/comments/pjmyjg/i_think_reddit_is_officially_overran_by_activists/'},\n",
       "   {'name': 'Anyone else notice that since Donald Trump stopped being president political content on Reddit has dropped?',\n",
       "    'value': 539,\n",
       "    'score': 539,\n",
       "    'url': 'https://www.reddit.com/r/centrist/comments/lgaz4n/anyone_else_notice_that_since_donald_trump/'},\n",
       "   {'name': 'Friendly reminder that the CCP is an authoritarian regime that has a body count of at least 40 million: Tiananmen Square Massacre footage',\n",
       "    'value': 537,\n",
       "    'score': 537,\n",
       "    'url': 'https://youtu.be/kMKvxJ-Js3A'},\n",
       "   {'name': \"It's okay go ahead and give me the downvotes\",\n",
       "    'value': 534,\n",
       "    'score': 534,\n",
       "    'url': 'https://i.redd.it/8pjggctz5ey61.jpg'},\n",
       "   {'name': 'R/politics is pretty far left',\n",
       "    'value': 530,\n",
       "    'score': 530,\n",
       "    'url': 'https://i.redd.it/wayhvctxbw171.jpg'},\n",
       "   {'name': 'My final thoughts on POTUS 45, Donald Trump',\n",
       "    'value': 528,\n",
       "    'score': 528,\n",
       "    'url': 'https://www.reddit.com/r/centrist/comments/l1cghh/my_final_thoughts_on_potus_45_donald_trump/'},\n",
       "   {'name': 'Good advice.',\n",
       "    'value': 520,\n",
       "    'score': 520,\n",
       "    'url': 'https://i.redd.it/38qgpz3jl4181.png'},\n",
       "   {'name': 'If you truly believe the media is worse for Biden than it was for the Cheeto you are the literal definition of brainwashed.',\n",
       "    'value': 520,\n",
       "    'score': 520,\n",
       "    'url': 'https://i.redd.it/2i68x3wv0fu71.jpg'},\n",
       "   {'name': 'Ana Kasparian, a huge American progressive political commentator, now hates to be called a \"person with a uterus, birthing person, or person who menstruates\", as opposed to just being called a woman.',\n",
       "    'value': 518,\n",
       "    'score': 518,\n",
       "    'url': 'https://i.redd.it/jnjbs9w54jpa1.png'},\n",
       "   {'name': \"120 anti-Trump Republicans are in talks to form a center-right 3rd party that would run on 'principled conservatism,' report says\",\n",
       "    'value': 509,\n",
       "    'score': 509,\n",
       "    'url': 'https://www.businessinsider.com/anti-trump-republicans-talks-to-form-third-party-reuters-2021-2'},\n",
       "   {'name': 'BLM Protesters shared a pizzas with Rittenhouse Supporters and spoke of unity outside of Kenosha court house',\n",
       "    'value': 507,\n",
       "    'score': 507,\n",
       "    'url': 'https://v.redd.it/w90s6gpg6d081'},\n",
       "   {'name': 'Makiyah Bryant... wtf?',\n",
       "    'value': 507,\n",
       "    'score': 507,\n",
       "    'url': 'https://www.reddit.com/r/centrist/comments/mvkyie/makiyah_bryant_wtf/'},\n",
       "   {'name': 'Gallup Poll: Only 5% of Hispanic Americans prefer the term \"Latinx\"',\n",
       "    'value': 506,\n",
       "    'score': 506,\n",
       "    'url': 'https://news.gallup.com/poll/353000/no-preferred-racial-term-among-black-hispanic-adults.aspx'},\n",
       "   {'name': 'As a European looking in, Jan 6 was obviously wrong but people who continue to downplay the summer 2020 riots have absolutely no moral authority here',\n",
       "    'value': 503,\n",
       "    'score': 503,\n",
       "    'url': 'https://www.reddit.com/r/centrist/comments/ot71q9/as_a_european_looking_in_jan_6_was_obviously/'},\n",
       "   {'name': 'I’m fed up with the absolutism in politics these days.',\n",
       "    'value': 478,\n",
       "    'score': 478,\n",
       "    'url': 'https://www.reddit.com/r/centrist/comments/nsyf9z/im_fed_up_with_the_absolutism_in_politics_these/'},\n",
       "   {'name': 'Hey moderators, can we change the comment section back to sorted by best please',\n",
       "    'value': 477,\n",
       "    'score': 477,\n",
       "    'url': 'https://www.reddit.com/r/centrist/comments/kwnmkp/hey_moderators_can_we_change_the_comment_section/'},\n",
       "   {'name': 'I’m not a centrist because my beliefs fall between two parties, I’m a centrist because I stand against the absolutism that is corrupting our nation and relationships. How about you?',\n",
       "    'value': 471,\n",
       "    'score': 471,\n",
       "    'url': 'https://www.reddit.com/r/centrist/comments/nw6gxz/im_not_a_centrist_because_my_beliefs_fall_between/'},\n",
       "   {'name': \"I'm So Fed Up With It All\",\n",
       "    'value': 467,\n",
       "    'score': 467,\n",
       "    'url': 'https://www.reddit.com/r/centrist/comments/ksag3y/im_so_fed_up_with_it_all/'},\n",
       "   {'name': 'Unlike Homosexuality, Bisexuality, Pansexuality and so on, the more you look at Gender-Fluidity/Neutrality, the less it makes sense. And people are right to question it.',\n",
       "    'value': 465,\n",
       "    'score': 465,\n",
       "    'url': 'https://www.reddit.com/r/centrist/comments/oa5sqd/unlike_homosexuality_bisexuality_pansexuality_and/'},\n",
       "   {'name': \"Sometimes it feels like I'm talking to brick walls when it comes to political issues.\",\n",
       "    'value': 462,\n",
       "    'score': 462,\n",
       "    'url': 'https://www.reddit.com/r/centrist/comments/m2ld09/sometimes_it_feels_like_im_talking_to_brick_walls/'},\n",
       "   {'name': 'Stop minimizing the storming of the Capitol Building',\n",
       "    'value': 457,\n",
       "    'score': 457,\n",
       "    'url': 'https://www.reddit.com/r/centrist/comments/ktlq4h/stop_minimizing_the_storming_of_the_capitol/'},\n",
       "   {'name': 'Only a sith deals in absolutes',\n",
       "    'value': 451,\n",
       "    'score': 451,\n",
       "    'url': 'https://i.redd.it/zxse8c41hpy71.jpg'},\n",
       "   {'name': 'Why can’t everyone seem to get this?',\n",
       "    'value': 449,\n",
       "    'score': 449,\n",
       "    'url': 'https://i.redd.it/qkmkbirxqpi91.jpg'},\n",
       "   {'name': \"It's pretty amazing how everyone seems to suddenly have an opinion on the Israel-Palestine conflict now\",\n",
       "    'value': 443,\n",
       "    'score': 443,\n",
       "    'url': 'https://www.reddit.com/r/centrist/comments/nekb0t/its_pretty_amazing_how_everyone_seems_to_suddenly/'},\n",
       "   {'name': 'Is “whiteness” a dog whistle for racist POC?',\n",
       "    'value': 441,\n",
       "    'score': 441,\n",
       "    'url': 'https://www.reddit.com/r/centrist/comments/mn5gec/is_whiteness_a_dog_whistle_for_racist_poc/'},\n",
       "   {'name': 'End Legalized Bribery',\n",
       "    'value': 435,\n",
       "    'score': 435,\n",
       "    'url': 'https://i.redd.it/rsqf1pwiaoea1.jpg'},\n",
       "   {'name': 'Calvin explaining why politicians don’t run as Centrists',\n",
       "    'value': 435,\n",
       "    'score': 435,\n",
       "    'url': 'https://i.redd.it/fvg57gapw0s71.jpg'},\n",
       "   {'name': \"Thoughts on Biden's 10-day executive actions plan following inauguration?\",\n",
       "    'value': 434,\n",
       "    'score': 434,\n",
       "    'url': 'https://i.redd.it/1s8cgj9br4c61.png'},\n",
       "   {'name': \"Dumbass opinions like this is why I won't identify as a liberal despite leaning more to the left for the most part.\",\n",
       "    'value': 434,\n",
       "    'score': 434,\n",
       "    'url': 'https://i.redd.it/ia5if8695ij61.jpg'},\n",
       "   {'name': 'I am in complete shock and disbelief',\n",
       "    'value': 430,\n",
       "    'score': 430,\n",
       "    'url': 'https://www.reddit.com/r/centrist/comments/krv9vg/i_am_in_complete_shock_and_disbelief/'},\n",
       "   {'name': 'If you took the Israel/Palestine conflict and replaced it with any other military conflict, you’d understand why Israel can’t just call it quits because people asked them to',\n",
       "    'value': 430,\n",
       "    'score': 430,\n",
       "    'url': 'https://www.reddit.com/r/centrist/comments/ng1fs6/if_you_took_the_israelpalestine_conflict_and/'}]},\n",
       " {'name': 'socialism',\n",
       "  'data': [{'name': \"You won't hear a better argument for unions than this.\",\n",
       "    'value': 62514,\n",
       "    'score': 62514,\n",
       "    'url': 'https://v.redd.it/dlrn6zmwge791'},\n",
       "   {'name': 'Fuck apartheid, free palestine!',\n",
       "    'value': 35782,\n",
       "    'score': 35782,\n",
       "    'url': 'https://v.redd.it/p0shjic3lds81'},\n",
       "   {'name': 'This is how you go on Fox News.',\n",
       "    'value': 35445,\n",
       "    'score': 35445,\n",
       "    'url': 'https://v.redd.it/hjfreobyf8e81'},\n",
       "   {'name': 'Irish Socialist Member of Parliament speaks the truth on parasitic landlords',\n",
       "    'value': 22983,\n",
       "    'score': 22983,\n",
       "    'url': 'https://v.redd.it/qc4agut84qb91'},\n",
       "   {'name': 'Word on the street in Portland, OR',\n",
       "    'value': 16419,\n",
       "    'score': 16419,\n",
       "    'url': 'https://i.redd.it/wkk0kthooix81.jpg'},\n",
       "   {'name': 'Man kicked out of McDonald’s after buying food to a homeless elderly',\n",
       "    'value': 14330,\n",
       "    'score': 14330,\n",
       "    'url': 'https://v.redd.it/xi2gkjkybbd91'},\n",
       "   {'name': \"This isn't a parody, nor an SNL skit. This is an actual scene from an American TV show. The narcissism that must have gone into creating this piece of propaganda is bleak.\",\n",
       "    'value': 13291,\n",
       "    'score': 13291,\n",
       "    'url': 'https://v.redd.it/wb5brhtlfen91'},\n",
       "   {'name': 'Remember who the enemy is:',\n",
       "    'value': 12873,\n",
       "    'score': 12873,\n",
       "    'url': 'https://i.redd.it/vbhgnfoi62h81.png'},\n",
       "   {'name': 'Frito-Lay worker Brandon Ingram was severely electrocuted on the job, disabled and denied medical care. Now Brandon, his wife, and children are being stalked and secretly filmed by company agents. This is the most disturbing Frito-Lay story we’ve covered. @moreperfectus',\n",
       "    'value': 12792,\n",
       "    'score': 12792,\n",
       "    'url': 'https://v.redd.it/sgslc4vjm0i81'},\n",
       "   {'name': 'I would love to see what a socialist country would look like without interference from the capitalist powers of the world',\n",
       "    'value': 11363,\n",
       "    'score': 11363,\n",
       "    'url': 'https://i.redd.it/fyjlka3rhf961.jpg'},\n",
       "   {'name': 'Mitch McConnell’s house was vandalized this morning. People are getting angry at congress’s inaction.',\n",
       "    'value': 11307,\n",
       "    'score': 11307,\n",
       "    'url': 'https://i.redd.it/v4fmywypiz861.jpg'},\n",
       "   {'name': 'Churches should pay taxes.',\n",
       "    'value': 10639,\n",
       "    'score': 10639,\n",
       "    'url': 'https://i.redd.it/pcznu822s8q81.jpg'},\n",
       "   {'name': '\"You are not a capitalist. You are an exploited worker with Stockholm Syndrome\" sticker spotted in St Louis, Missouri',\n",
       "    'value': 10563,\n",
       "    'score': 10563,\n",
       "    'url': 'https://i.redd.it/kmqxn6ldcvu61.jpg'},\n",
       "   {'name': 'Lanlords are leeches',\n",
       "    'value': 10425,\n",
       "    'score': 10425,\n",
       "    'url': 'https://v.redd.it/bwh8wej19ti81'},\n",
       "   {'name': 'Keep your religion out of my abortion access',\n",
       "    'value': 9906,\n",
       "    'score': 9906,\n",
       "    'url': 'https://v.redd.it/d095d8bdqcx81'},\n",
       "   {'name': \"Meanwhile let's not look at these\",\n",
       "    'value': 9725,\n",
       "    'score': 9725,\n",
       "    'url': 'https://i.redd.it/ph0okcy72zj81.jpg'},\n",
       "   {'name': \"Saudi Arabia dropping bombs on Yemen. Definitely won't see this being reported on the nightly news.\",\n",
       "    'value': 9280,\n",
       "    'score': 9280,\n",
       "    'url': 'https://v.redd.it/i5dzlc1qfyl81'},\n",
       "   {'name': 'Israeli police beats a 12 year old girl in East Jerusalem',\n",
       "    'value': 9258,\n",
       "    'score': 9258,\n",
       "    'url': 'https://v.redd.it/q6t1xvv2blk81'},\n",
       "   {'name': 'Basically my whole family.',\n",
       "    'value': 9193,\n",
       "    'score': 9193,\n",
       "    'url': 'https://i.redd.it/gfw1c71otkd61.jpg'},\n",
       "   {'name': \"Mick Lynch, the head of the British railroad worker's union calls on workers of the UK to unite and demand better conditions for all.\",\n",
       "    'value': 8851,\n",
       "    'score': 8851,\n",
       "    'url': 'https://v.redd.it/7nr1fwars0891'},\n",
       "   {'name': 'Billionaires don’t earn their wealth',\n",
       "    'value': 8383,\n",
       "    'score': 8383,\n",
       "    'url': 'https://i.redd.it/v85tmbqh8oj91.jpg'},\n",
       "   {'name': 'Berliners after voting to remove corporate landlords and turn 200,000 homes into public housing',\n",
       "    'value': 8202,\n",
       "    'score': 8202,\n",
       "    'url': 'https://v.redd.it/btndew18cyp71'},\n",
       "   {'name': \"Greta Thunberg: It's time to overthrow the West's oppressive and racist capitalist system\",\n",
       "    'value': 8162,\n",
       "    'score': 8162,\n",
       "    'url': 'https://www.msn.com/en-gb/entertainment/music/greta-thunberg-its-time-to-overthrow-the-wests-oppressive-and-racist-capitalist-system/ar-AA13Ebby'},\n",
       "   {'name': \"Fighting for Raising Teacher's Pay, 1930s...\",\n",
       "    'value': 7647,\n",
       "    'score': 7647,\n",
       "    'url': 'https://i.redd.it/zpilznvnk5e91.png'},\n",
       "   {'name': 'Happy 39th birthday to comrade Mike Prysner, whose burning hatred for imperialist George W. Bush and the U.S. war machine is an inspiration.',\n",
       "    'value': 7137,\n",
       "    'score': 7137,\n",
       "    'url': 'https://v.redd.it/5zgh9l7r9u591'},\n",
       "   {'name': \"We're f**ked aren't we.\",\n",
       "    'value': 7017,\n",
       "    'score': 7017,\n",
       "    'url': 'https://v.redd.it/9419h6j3iof81'},\n",
       "   {'name': 'We have enough resources to satisfy everybody’s needs, not everybody’s greed.',\n",
       "    'value': 7015,\n",
       "    'score': 7015,\n",
       "    'url': 'https://i.redd.it/ttno4sunmxf91.jpg'},\n",
       "   {'name': 'Another beloved historical figure who’s politics were conveniently ignored',\n",
       "    'value': 6960,\n",
       "    'score': 6960,\n",
       "    'url': 'https://i.redd.it/qb20td8o3if91.jpg'},\n",
       "   {'name': 'Irish politician Richard boyd Barett goes off in the government chamber over the hypocrisy of sanctions against Rvssia when Israel has escaped them for over 70 years',\n",
       "    'value': 6719,\n",
       "    'score': 6719,\n",
       "    'url': 'https://v.redd.it/63jhkdwh2cl81'},\n",
       "   {'name': 'Today, the President of France said he’s going to force through a raise of the retirement age without a vote. Tonight, Paris looks like this.',\n",
       "    'value': 6678,\n",
       "    'score': 6678,\n",
       "    'url': 'https://v.redd.it/wvsvxn74p5oa1'},\n",
       "   {'name': 'Money and Greed is why',\n",
       "    'value': 6672,\n",
       "    'score': 6672,\n",
       "    'url': 'https://i.redd.it/44uncz6fl5a81.jpg'},\n",
       "   {'name': 'Palestinian content creator Adnan Barq has gone viral for his hilarious reaction to Israeli forces storming a Palestinian protest in the occupied East Jerusalem',\n",
       "    'value': 6640,\n",
       "    'score': 6640,\n",
       "    'url': 'https://v.redd.it/kibxce735w291'},\n",
       "   {'name': 'The US will starve your people and then condemn you for not providing',\n",
       "    'value': 6391,\n",
       "    'score': 6391,\n",
       "    'url': 'https://i.redd.it/fbotg228w7b71.jpg'},\n",
       "   {'name': \"6,000 Amazon warehouse workers in Alabama will vote next month on forming the first union in the company's history\",\n",
       "    'value': 6271,\n",
       "    'score': 6271,\n",
       "    'url': 'https://www.businessinsider.com/amazon-workers-vote-on-union-2021-1'},\n",
       "   {'name': 'Don’t become a Doomer. Become a Revolutionary.',\n",
       "    'value': 6191,\n",
       "    'score': 6191,\n",
       "    'url': 'https://i.redd.it/7ibpkjbquz891.jpg'},\n",
       "   {'name': \"In case you're wondering why Catalonian protests aren't covered much, they have the wrong flags\",\n",
       "    'value': 6071,\n",
       "    'score': 6071,\n",
       "    'url': 'https://i.redd.it/acfqlzci9ji61.jpg'},\n",
       "   {'name': 'We are aware what happens when Latin Americans elect leftists, Ted',\n",
       "    'value': 6067,\n",
       "    'score': 6067,\n",
       "    'url': 'https://v.redd.it/pcp14r7bb5h91'},\n",
       "   {'name': 'A 6 billion pound funeral while 1/4 british cannot afford to turn on the heating this winter.',\n",
       "    'value': 6004,\n",
       "    'score': 6004,\n",
       "    'url': 'https://www.reddit.com/r/socialism/comments/xa2ipc/a_6_billion_pound_funeral_while_14_british_cannot/'},\n",
       "   {'name': 'Money and Greed is why',\n",
       "    'value': 5937,\n",
       "    'score': 5937,\n",
       "    'url': 'https://i.imgur.com/2dgAHW7.jpg'},\n",
       "   {'name': 'This is the way: Armed Antifa protects drag brunch in Texas',\n",
       "    'value': 5913,\n",
       "    'score': 5913,\n",
       "    'url': 'https://v.redd.it/mpx1iejfnik91'},\n",
       "   {'name': 'The US has been robbing Haiti for years.',\n",
       "    'value': 5872,\n",
       "    'score': 5872,\n",
       "    'url': 'https://i.redd.it/njk3ojj7xqp71.png'},\n",
       "   {'name': 'Modern day Capitalism visualized in under 20 seconds.',\n",
       "    'value': 5808,\n",
       "    'score': 5808,\n",
       "    'url': 'https://v.redd.it/qxbv5453m9k81'},\n",
       "   {'name': 'Propaganda pic lying about the purpose of this example of Hostile Architecture.',\n",
       "    'value': 5776,\n",
       "    'score': 5776,\n",
       "    'url': 'https://i.redd.it/9l6ejk817kl81.jpg'},\n",
       "   {'name': 'No war but class war.',\n",
       "    'value': 5767,\n",
       "    'score': 5767,\n",
       "    'url': 'https://i.redd.it/7uhcnfluxsj81.jpg'},\n",
       "   {'name': 'all the white moderates please stand up',\n",
       "    'value': 5761,\n",
       "    'score': 5761,\n",
       "    'url': 'https://i.redd.it/k1awfvecf9c81.jpg'},\n",
       "   {'name': 'Vacant Irish Housing Opened to Public by Socialist Republicans',\n",
       "    'value': 5733,\n",
       "    'score': 5733,\n",
       "    'url': 'https://v.redd.it/gjhkj31cuen81'},\n",
       "   {'name': 'Irish politician Richard Boyd Barett goes off in the government chamber over the hypocrisy of sanctions against Russia when Israel has escaped them for over 70 years',\n",
       "    'value': 5675,\n",
       "    'score': 5675,\n",
       "    'url': 'https://v.redd.it/hgh1svtqg3391'},\n",
       "   {'name': 'Remember This Next Time They Tell You Something Is Too Expensive',\n",
       "    'value': 5577,\n",
       "    'score': 5577,\n",
       "    'url': 'https://i.redd.it/arwr8y8gfij61.jpg'},\n",
       "   {'name': 'A man self immolated and died in front of the Supreme Court to protest climate inaction, the media will not even report that it was a protest or why. This is the inhumanity of capitalist media',\n",
       "    'value': 5512,\n",
       "    'score': 5512,\n",
       "    'url': 'https://twitter.com/jeremy_writes/status/1518048418924580865'},\n",
       "   {'name': 'Fuck you, Mr. President.',\n",
       "    'value': 5504,\n",
       "    'score': 5504,\n",
       "    'url': 'https://i.redd.it/rld5v3fmwic61.jpg'}]}]"
      ]
     },
     "execution_count": 76,
     "metadata": {},
     "output_type": "execute_result"
    }
   ],
   "source": [
    "json_like_structure"
   ]
  },
  {
   "cell_type": "code",
   "execution_count": 78,
   "id": "03169258-d8f5-40ff-bd1b-f31938c1b959",
   "metadata": {
    "tags": []
   },
   "outputs": [
    {
     "data": {
      "text/plain": [
       "https://www.usasupreme.com/biden-voter-on-cnn-theyre-dropping-bombs-in-syria-and-those-bombs-are-pretty-expensive-for-a-guy-who-owes-me-2000-video/                                2\n",
       "https://v.redd.it/wb5brhtlfen91                                                                                                                                                    1\n",
       "https://i.redd.it/vbhgnfoi62h81.png                                                                                                                                                1\n",
       "https://v.redd.it/sgslc4vjm0i81                                                                                                                                                    1\n",
       "https://i.redd.it/fyjlka3rhf961.jpg                                                                                                                                                1\n",
       "                                                                                                                                                                                  ..\n",
       "https://www.bbc.co.uk/news/world-us-canada-55656385                                                                                                                                1\n",
       "https://babylonbee.com/news/libertarians-to-begin-wearing-masks-now-that-government-says-they-dont-have-to?fbclid=IwAR1KTub91CU1jz3K5y8lOyWH1DEfhdsUbYrU1zyU8drLzOxbCFu_xC7dxnE    1\n",
       "https://thehill.com/changing-america/well-being/prevention-cures/571084-whopping-70-percent-of-unvaccinated-americans                                                              1\n",
       "https://www.reddit.com/r/Libertarian/comments/ojc2gs/part_of_free_speech_is_being_criticized_for_your/                                                                             1\n",
       "https://www.reddit.com/r/Libertarian/comments/q7utta/stop_saying_republicans_are_more_likely_than/                                                                                 1\n",
       "Name: url, Length: 249, dtype: int64"
      ]
     },
     "execution_count": 78,
     "metadata": {},
     "output_type": "execute_result"
    }
   ],
   "source": [
    "top_50_per_subreddit_pandas['url'].value_counts()"
   ]
  },
  {
   "cell_type": "code",
   "execution_count": null,
   "id": "1f7739c1-4782-40f8-9cc4-8bb0f5437a90",
   "metadata": {},
   "outputs": [],
   "source": []
  }
 ],
 "metadata": {
  "availableInstances": [
   {
    "_defaultOrder": 0,
    "_isFastLaunch": true,
    "category": "General purpose",
    "gpuNum": 0,
    "hideHardwareSpecs": false,
    "memoryGiB": 4,
    "name": "ml.t3.medium",
    "vcpuNum": 2
   },
   {
    "_defaultOrder": 1,
    "_isFastLaunch": false,
    "category": "General purpose",
    "gpuNum": 0,
    "hideHardwareSpecs": false,
    "memoryGiB": 8,
    "name": "ml.t3.large",
    "vcpuNum": 2
   },
   {
    "_defaultOrder": 2,
    "_isFastLaunch": false,
    "category": "General purpose",
    "gpuNum": 0,
    "hideHardwareSpecs": false,
    "memoryGiB": 16,
    "name": "ml.t3.xlarge",
    "vcpuNum": 4
   },
   {
    "_defaultOrder": 3,
    "_isFastLaunch": false,
    "category": "General purpose",
    "gpuNum": 0,
    "hideHardwareSpecs": false,
    "memoryGiB": 32,
    "name": "ml.t3.2xlarge",
    "vcpuNum": 8
   },
   {
    "_defaultOrder": 4,
    "_isFastLaunch": true,
    "category": "General purpose",
    "gpuNum": 0,
    "hideHardwareSpecs": false,
    "memoryGiB": 8,
    "name": "ml.m5.large",
    "vcpuNum": 2
   },
   {
    "_defaultOrder": 5,
    "_isFastLaunch": false,
    "category": "General purpose",
    "gpuNum": 0,
    "hideHardwareSpecs": false,
    "memoryGiB": 16,
    "name": "ml.m5.xlarge",
    "vcpuNum": 4
   },
   {
    "_defaultOrder": 6,
    "_isFastLaunch": false,
    "category": "General purpose",
    "gpuNum": 0,
    "hideHardwareSpecs": false,
    "memoryGiB": 32,
    "name": "ml.m5.2xlarge",
    "vcpuNum": 8
   },
   {
    "_defaultOrder": 7,
    "_isFastLaunch": false,
    "category": "General purpose",
    "gpuNum": 0,
    "hideHardwareSpecs": false,
    "memoryGiB": 64,
    "name": "ml.m5.4xlarge",
    "vcpuNum": 16
   },
   {
    "_defaultOrder": 8,
    "_isFastLaunch": false,
    "category": "General purpose",
    "gpuNum": 0,
    "hideHardwareSpecs": false,
    "memoryGiB": 128,
    "name": "ml.m5.8xlarge",
    "vcpuNum": 32
   },
   {
    "_defaultOrder": 9,
    "_isFastLaunch": false,
    "category": "General purpose",
    "gpuNum": 0,
    "hideHardwareSpecs": false,
    "memoryGiB": 192,
    "name": "ml.m5.12xlarge",
    "vcpuNum": 48
   },
   {
    "_defaultOrder": 10,
    "_isFastLaunch": false,
    "category": "General purpose",
    "gpuNum": 0,
    "hideHardwareSpecs": false,
    "memoryGiB": 256,
    "name": "ml.m5.16xlarge",
    "vcpuNum": 64
   },
   {
    "_defaultOrder": 11,
    "_isFastLaunch": false,
    "category": "General purpose",
    "gpuNum": 0,
    "hideHardwareSpecs": false,
    "memoryGiB": 384,
    "name": "ml.m5.24xlarge",
    "vcpuNum": 96
   },
   {
    "_defaultOrder": 12,
    "_isFastLaunch": false,
    "category": "General purpose",
    "gpuNum": 0,
    "hideHardwareSpecs": false,
    "memoryGiB": 8,
    "name": "ml.m5d.large",
    "vcpuNum": 2
   },
   {
    "_defaultOrder": 13,
    "_isFastLaunch": false,
    "category": "General purpose",
    "gpuNum": 0,
    "hideHardwareSpecs": false,
    "memoryGiB": 16,
    "name": "ml.m5d.xlarge",
    "vcpuNum": 4
   },
   {
    "_defaultOrder": 14,
    "_isFastLaunch": false,
    "category": "General purpose",
    "gpuNum": 0,
    "hideHardwareSpecs": false,
    "memoryGiB": 32,
    "name": "ml.m5d.2xlarge",
    "vcpuNum": 8
   },
   {
    "_defaultOrder": 15,
    "_isFastLaunch": false,
    "category": "General purpose",
    "gpuNum": 0,
    "hideHardwareSpecs": false,
    "memoryGiB": 64,
    "name": "ml.m5d.4xlarge",
    "vcpuNum": 16
   },
   {
    "_defaultOrder": 16,
    "_isFastLaunch": false,
    "category": "General purpose",
    "gpuNum": 0,
    "hideHardwareSpecs": false,
    "memoryGiB": 128,
    "name": "ml.m5d.8xlarge",
    "vcpuNum": 32
   },
   {
    "_defaultOrder": 17,
    "_isFastLaunch": false,
    "category": "General purpose",
    "gpuNum": 0,
    "hideHardwareSpecs": false,
    "memoryGiB": 192,
    "name": "ml.m5d.12xlarge",
    "vcpuNum": 48
   },
   {
    "_defaultOrder": 18,
    "_isFastLaunch": false,
    "category": "General purpose",
    "gpuNum": 0,
    "hideHardwareSpecs": false,
    "memoryGiB": 256,
    "name": "ml.m5d.16xlarge",
    "vcpuNum": 64
   },
   {
    "_defaultOrder": 19,
    "_isFastLaunch": false,
    "category": "General purpose",
    "gpuNum": 0,
    "hideHardwareSpecs": false,
    "memoryGiB": 384,
    "name": "ml.m5d.24xlarge",
    "vcpuNum": 96
   },
   {
    "_defaultOrder": 20,
    "_isFastLaunch": false,
    "category": "General purpose",
    "gpuNum": 0,
    "hideHardwareSpecs": true,
    "memoryGiB": 0,
    "name": "ml.geospatial.interactive",
    "supportedImageNames": [
     "sagemaker-geospatial-v1-0"
    ],
    "vcpuNum": 0
   },
   {
    "_defaultOrder": 21,
    "_isFastLaunch": true,
    "category": "Compute optimized",
    "gpuNum": 0,
    "hideHardwareSpecs": false,
    "memoryGiB": 4,
    "name": "ml.c5.large",
    "vcpuNum": 2
   },
   {
    "_defaultOrder": 22,
    "_isFastLaunch": false,
    "category": "Compute optimized",
    "gpuNum": 0,
    "hideHardwareSpecs": false,
    "memoryGiB": 8,
    "name": "ml.c5.xlarge",
    "vcpuNum": 4
   },
   {
    "_defaultOrder": 23,
    "_isFastLaunch": false,
    "category": "Compute optimized",
    "gpuNum": 0,
    "hideHardwareSpecs": false,
    "memoryGiB": 16,
    "name": "ml.c5.2xlarge",
    "vcpuNum": 8
   },
   {
    "_defaultOrder": 24,
    "_isFastLaunch": false,
    "category": "Compute optimized",
    "gpuNum": 0,
    "hideHardwareSpecs": false,
    "memoryGiB": 32,
    "name": "ml.c5.4xlarge",
    "vcpuNum": 16
   },
   {
    "_defaultOrder": 25,
    "_isFastLaunch": false,
    "category": "Compute optimized",
    "gpuNum": 0,
    "hideHardwareSpecs": false,
    "memoryGiB": 72,
    "name": "ml.c5.9xlarge",
    "vcpuNum": 36
   },
   {
    "_defaultOrder": 26,
    "_isFastLaunch": false,
    "category": "Compute optimized",
    "gpuNum": 0,
    "hideHardwareSpecs": false,
    "memoryGiB": 96,
    "name": "ml.c5.12xlarge",
    "vcpuNum": 48
   },
   {
    "_defaultOrder": 27,
    "_isFastLaunch": false,
    "category": "Compute optimized",
    "gpuNum": 0,
    "hideHardwareSpecs": false,
    "memoryGiB": 144,
    "name": "ml.c5.18xlarge",
    "vcpuNum": 72
   },
   {
    "_defaultOrder": 28,
    "_isFastLaunch": false,
    "category": "Compute optimized",
    "gpuNum": 0,
    "hideHardwareSpecs": false,
    "memoryGiB": 192,
    "name": "ml.c5.24xlarge",
    "vcpuNum": 96
   },
   {
    "_defaultOrder": 29,
    "_isFastLaunch": true,
    "category": "Accelerated computing",
    "gpuNum": 1,
    "hideHardwareSpecs": false,
    "memoryGiB": 16,
    "name": "ml.g4dn.xlarge",
    "vcpuNum": 4
   },
   {
    "_defaultOrder": 30,
    "_isFastLaunch": false,
    "category": "Accelerated computing",
    "gpuNum": 1,
    "hideHardwareSpecs": false,
    "memoryGiB": 32,
    "name": "ml.g4dn.2xlarge",
    "vcpuNum": 8
   },
   {
    "_defaultOrder": 31,
    "_isFastLaunch": false,
    "category": "Accelerated computing",
    "gpuNum": 1,
    "hideHardwareSpecs": false,
    "memoryGiB": 64,
    "name": "ml.g4dn.4xlarge",
    "vcpuNum": 16
   },
   {
    "_defaultOrder": 32,
    "_isFastLaunch": false,
    "category": "Accelerated computing",
    "gpuNum": 1,
    "hideHardwareSpecs": false,
    "memoryGiB": 128,
    "name": "ml.g4dn.8xlarge",
    "vcpuNum": 32
   },
   {
    "_defaultOrder": 33,
    "_isFastLaunch": false,
    "category": "Accelerated computing",
    "gpuNum": 4,
    "hideHardwareSpecs": false,
    "memoryGiB": 192,
    "name": "ml.g4dn.12xlarge",
    "vcpuNum": 48
   },
   {
    "_defaultOrder": 34,
    "_isFastLaunch": false,
    "category": "Accelerated computing",
    "gpuNum": 1,
    "hideHardwareSpecs": false,
    "memoryGiB": 256,
    "name": "ml.g4dn.16xlarge",
    "vcpuNum": 64
   },
   {
    "_defaultOrder": 35,
    "_isFastLaunch": false,
    "category": "Accelerated computing",
    "gpuNum": 1,
    "hideHardwareSpecs": false,
    "memoryGiB": 61,
    "name": "ml.p3.2xlarge",
    "vcpuNum": 8
   },
   {
    "_defaultOrder": 36,
    "_isFastLaunch": false,
    "category": "Accelerated computing",
    "gpuNum": 4,
    "hideHardwareSpecs": false,
    "memoryGiB": 244,
    "name": "ml.p3.8xlarge",
    "vcpuNum": 32
   },
   {
    "_defaultOrder": 37,
    "_isFastLaunch": false,
    "category": "Accelerated computing",
    "gpuNum": 8,
    "hideHardwareSpecs": false,
    "memoryGiB": 488,
    "name": "ml.p3.16xlarge",
    "vcpuNum": 64
   },
   {
    "_defaultOrder": 38,
    "_isFastLaunch": false,
    "category": "Accelerated computing",
    "gpuNum": 8,
    "hideHardwareSpecs": false,
    "memoryGiB": 768,
    "name": "ml.p3dn.24xlarge",
    "vcpuNum": 96
   },
   {
    "_defaultOrder": 39,
    "_isFastLaunch": false,
    "category": "Memory Optimized",
    "gpuNum": 0,
    "hideHardwareSpecs": false,
    "memoryGiB": 16,
    "name": "ml.r5.large",
    "vcpuNum": 2
   },
   {
    "_defaultOrder": 40,
    "_isFastLaunch": false,
    "category": "Memory Optimized",
    "gpuNum": 0,
    "hideHardwareSpecs": false,
    "memoryGiB": 32,
    "name": "ml.r5.xlarge",
    "vcpuNum": 4
   },
   {
    "_defaultOrder": 41,
    "_isFastLaunch": false,
    "category": "Memory Optimized",
    "gpuNum": 0,
    "hideHardwareSpecs": false,
    "memoryGiB": 64,
    "name": "ml.r5.2xlarge",
    "vcpuNum": 8
   },
   {
    "_defaultOrder": 42,
    "_isFastLaunch": false,
    "category": "Memory Optimized",
    "gpuNum": 0,
    "hideHardwareSpecs": false,
    "memoryGiB": 128,
    "name": "ml.r5.4xlarge",
    "vcpuNum": 16
   },
   {
    "_defaultOrder": 43,
    "_isFastLaunch": false,
    "category": "Memory Optimized",
    "gpuNum": 0,
    "hideHardwareSpecs": false,
    "memoryGiB": 256,
    "name": "ml.r5.8xlarge",
    "vcpuNum": 32
   },
   {
    "_defaultOrder": 44,
    "_isFastLaunch": false,
    "category": "Memory Optimized",
    "gpuNum": 0,
    "hideHardwareSpecs": false,
    "memoryGiB": 384,
    "name": "ml.r5.12xlarge",
    "vcpuNum": 48
   },
   {
    "_defaultOrder": 45,
    "_isFastLaunch": false,
    "category": "Memory Optimized",
    "gpuNum": 0,
    "hideHardwareSpecs": false,
    "memoryGiB": 512,
    "name": "ml.r5.16xlarge",
    "vcpuNum": 64
   },
   {
    "_defaultOrder": 46,
    "_isFastLaunch": false,
    "category": "Memory Optimized",
    "gpuNum": 0,
    "hideHardwareSpecs": false,
    "memoryGiB": 768,
    "name": "ml.r5.24xlarge",
    "vcpuNum": 96
   },
   {
    "_defaultOrder": 47,
    "_isFastLaunch": false,
    "category": "Accelerated computing",
    "gpuNum": 1,
    "hideHardwareSpecs": false,
    "memoryGiB": 16,
    "name": "ml.g5.xlarge",
    "vcpuNum": 4
   },
   {
    "_defaultOrder": 48,
    "_isFastLaunch": false,
    "category": "Accelerated computing",
    "gpuNum": 1,
    "hideHardwareSpecs": false,
    "memoryGiB": 32,
    "name": "ml.g5.2xlarge",
    "vcpuNum": 8
   },
   {
    "_defaultOrder": 49,
    "_isFastLaunch": false,
    "category": "Accelerated computing",
    "gpuNum": 1,
    "hideHardwareSpecs": false,
    "memoryGiB": 64,
    "name": "ml.g5.4xlarge",
    "vcpuNum": 16
   },
   {
    "_defaultOrder": 50,
    "_isFastLaunch": false,
    "category": "Accelerated computing",
    "gpuNum": 1,
    "hideHardwareSpecs": false,
    "memoryGiB": 128,
    "name": "ml.g5.8xlarge",
    "vcpuNum": 32
   },
   {
    "_defaultOrder": 51,
    "_isFastLaunch": false,
    "category": "Accelerated computing",
    "gpuNum": 1,
    "hideHardwareSpecs": false,
    "memoryGiB": 256,
    "name": "ml.g5.16xlarge",
    "vcpuNum": 64
   },
   {
    "_defaultOrder": 52,
    "_isFastLaunch": false,
    "category": "Accelerated computing",
    "gpuNum": 4,
    "hideHardwareSpecs": false,
    "memoryGiB": 192,
    "name": "ml.g5.12xlarge",
    "vcpuNum": 48
   },
   {
    "_defaultOrder": 53,
    "_isFastLaunch": false,
    "category": "Accelerated computing",
    "gpuNum": 4,
    "hideHardwareSpecs": false,
    "memoryGiB": 384,
    "name": "ml.g5.24xlarge",
    "vcpuNum": 96
   },
   {
    "_defaultOrder": 54,
    "_isFastLaunch": false,
    "category": "Accelerated computing",
    "gpuNum": 8,
    "hideHardwareSpecs": false,
    "memoryGiB": 768,
    "name": "ml.g5.48xlarge",
    "vcpuNum": 192
   },
   {
    "_defaultOrder": 55,
    "_isFastLaunch": false,
    "category": "Accelerated computing",
    "gpuNum": 8,
    "hideHardwareSpecs": false,
    "memoryGiB": 1152,
    "name": "ml.p4d.24xlarge",
    "vcpuNum": 96
   },
   {
    "_defaultOrder": 56,
    "_isFastLaunch": false,
    "category": "Accelerated computing",
    "gpuNum": 8,
    "hideHardwareSpecs": false,
    "memoryGiB": 1152,
    "name": "ml.p4de.24xlarge",
    "vcpuNum": 96
   }
  ],
  "instance_type": "ml.t3.large",
  "kernelspec": {
   "display_name": "Python 3 (Data Science 3.0)",
   "language": "python",
   "name": "python3__SAGEMAKER_INTERNAL__arn:aws:sagemaker:us-east-1:081325390199:image/sagemaker-data-science-310-v1"
  },
  "language_info": {
   "codemirror_mode": {
    "name": "ipython",
    "version": 3
   },
   "file_extension": ".py",
   "mimetype": "text/x-python",
   "name": "python",
   "nbconvert_exporter": "python",
   "pygments_lexer": "ipython3",
   "version": "3.10.6"
  }
 },
 "nbformat": 4,
 "nbformat_minor": 5
}
