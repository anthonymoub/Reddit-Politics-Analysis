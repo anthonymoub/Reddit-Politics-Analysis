{
 "cells": [
  {
   "cell_type": "markdown",
   "id": "51e0d3c8-e509-46e6-916f-a56bd6f97b7b",
   "metadata": {},
   "source": [
    "# Setup "
   ]
  },
  {
   "cell_type": "code",
   "execution_count": 2,
   "id": "7acc0590-6ee2-4fd0-8889-21742dd0e0b2",
   "metadata": {
    "tags": []
   },
   "outputs": [
    {
     "name": "stdout",
     "output_type": "stream",
     "text": [
      "Collecting package metadata (current_repodata.json): done\n",
      "Solving environment: done\n",
      "\n",
      "\n",
      "==> WARNING: A newer version of conda exists. <==\n",
      "  current version: 23.3.1\n",
      "  latest version: 23.10.0\n",
      "\n",
      "Please update conda by running\n",
      "\n",
      "    $ conda update -n base -c defaults conda\n",
      "\n",
      "Or to minimize the number of packages updated during conda update use\n",
      "\n",
      "     conda install conda=23.10.0\n",
      "\n",
      "\n",
      "\n",
      "## Package Plan ##\n",
      "\n",
      "  environment location: /opt/conda\n",
      "\n",
      "  added / updated specs:\n",
      "    - openjdk\n",
      "\n",
      "\n",
      "The following packages will be downloaded:\n",
      "\n",
      "    package                    |            build\n",
      "    ---------------------------|-----------------\n",
      "    ca-certificates-2023.08.22 |       h06a4308_0         123 KB\n",
      "    certifi-2023.11.17         |  py310h06a4308_0         158 KB\n",
      "    openjdk-11.0.13            |       h87a67e3_0       341.0 MB\n",
      "    ------------------------------------------------------------\n",
      "                                           Total:       341.3 MB\n",
      "\n",
      "The following NEW packages will be INSTALLED:\n",
      "\n",
      "  openjdk            pkgs/main/linux-64::openjdk-11.0.13-h87a67e3_0 \n",
      "\n",
      "The following packages will be UPDATED:\n",
      "\n",
      "  ca-certificates    conda-forge::ca-certificates-2023.7.2~ --> pkgs/main::ca-certificates-2023.08.22-h06a4308_0 \n",
      "  certifi            conda-forge/noarch::certifi-2023.7.22~ --> pkgs/main/linux-64::certifi-2023.11.17-py310h06a4308_0 \n",
      "\n",
      "\n",
      "\n",
      "Downloading and Extracting Packages\n",
      "certifi-2023.11.17   | 158 KB    |                                       |   0% \n",
      "openjdk-11.0.13      | 341.0 MB  |                                       |   0% \u001b[A\n",
      "\n",
      "ca-certificates-2023 | 123 KB    |                                       |   0% \u001b[A\u001b[A\n",
      "openjdk-11.0.13      | 341.0 MB  | 1                                     |   0% \u001b[A\n",
      "\n",
      "ca-certificates-2023 | 123 KB    | ##################################### | 100% \u001b[A\u001b[A\n",
      "\n",
      "certifi-2023.11.17   | 158 KB    | ##################################### | 100% \u001b[A\u001b[A\n",
      "openjdk-11.0.13      | 341.0 MB  | 7                                     |   2% \u001b[A\n",
      "openjdk-11.0.13      | 341.0 MB  | #8                                    |   5% \u001b[A\n",
      "openjdk-11.0.13      | 341.0 MB  | ###1                                  |   8% \u001b[A\n",
      "openjdk-11.0.13      | 341.0 MB  | ####5                                 |  12% \u001b[A\n",
      "openjdk-11.0.13      | 341.0 MB  | #####9                                |  16% \u001b[A\n",
      "openjdk-11.0.13      | 341.0 MB  | #######3                              |  20% \u001b[A\n",
      "openjdk-11.0.13      | 341.0 MB  | ########5                             |  23% \u001b[A\n",
      "openjdk-11.0.13      | 341.0 MB  | #########8                            |  27% \u001b[A\n",
      "openjdk-11.0.13      | 341.0 MB  | ##########8                           |  29% \u001b[A\n",
      "openjdk-11.0.13      | 341.0 MB  | ############3                         |  33% \u001b[A\n",
      "openjdk-11.0.13      | 341.0 MB  | #############7                        |  37% \u001b[A\n",
      "openjdk-11.0.13      | 341.0 MB  | ###############                       |  41% \u001b[A\n",
      "openjdk-11.0.13      | 341.0 MB  | ################5                     |  45% \u001b[A\n",
      "openjdk-11.0.13      | 341.0 MB  | ##################1                   |  49% \u001b[A\n",
      "openjdk-11.0.13      | 341.0 MB  | ###################7                  |  53% \u001b[A\n",
      "openjdk-11.0.13      | 341.0 MB  | #####################4                |  58% \u001b[A\n",
      "openjdk-11.0.13      | 341.0 MB  | #######################               |  62% \u001b[A\n",
      "openjdk-11.0.13      | 341.0 MB  | ########################6             |  67% \u001b[A\n",
      "openjdk-11.0.13      | 341.0 MB  | ##########################2           |  71% \u001b[A\n",
      "openjdk-11.0.13      | 341.0 MB  | ###########################9          |  75% \u001b[A\n",
      "openjdk-11.0.13      | 341.0 MB  | #############################4        |  80% \u001b[A\n",
      "openjdk-11.0.13      | 341.0 MB  | ###############################1      |  84% \u001b[A\n",
      "openjdk-11.0.13      | 341.0 MB  | ################################7     |  88% \u001b[A\n",
      "openjdk-11.0.13      | 341.0 MB  | ##################################3   |  93% \u001b[A\n",
      "openjdk-11.0.13      | 341.0 MB  | ###################################9  |  97% \u001b[A\n",
      "                                                                                \u001b[A\n",
      "                                                                                \u001b[A\n",
      "\n",
      "                                                                                \u001b[A\u001b[A\n",
      "Preparing transaction: done\n",
      "Verifying transaction: done\n",
      "Executing transaction: done\n",
      "\n",
      "Note: you may need to restart the kernel to use updated packages.\n",
      "Collecting pyspark==3.3.0\n",
      "  Using cached pyspark-3.3.0-py2.py3-none-any.whl\n",
      "Collecting py4j==0.10.9.5 (from pyspark==3.3.0)\n",
      "  Using cached py4j-0.10.9.5-py2.py3-none-any.whl (199 kB)\n",
      "Installing collected packages: py4j, pyspark\n",
      "Successfully installed py4j-0.10.9.5 pyspark-3.3.0\n",
      "\u001b[33mWARNING: Running pip as the 'root' user can result in broken permissions and conflicting behaviour with the system package manager. It is recommended to use a virtual environment instead: https://pip.pypa.io/warnings/venv\u001b[0m\u001b[33m\n",
      "\u001b[0m\n",
      "\u001b[1m[\u001b[0m\u001b[34;49mnotice\u001b[0m\u001b[1;39;49m]\u001b[0m\u001b[39;49m A new release of pip is available: \u001b[0m\u001b[31;49m23.2.1\u001b[0m\u001b[39;49m -> \u001b[0m\u001b[32;49m23.3.1\u001b[0m\n",
      "\u001b[1m[\u001b[0m\u001b[34;49mnotice\u001b[0m\u001b[1;39;49m]\u001b[0m\u001b[39;49m To update, run: \u001b[0m\u001b[32;49mpip install --upgrade pip\u001b[0m\n",
      "Note: you may need to restart the kernel to use updated packages.\n"
     ]
    },
    {
     "data": {
      "text/html": [
       "<script>Jupyter.notebook.kernel.restart()</script>"
      ],
      "text/plain": [
       "<IPython.core.display.HTML object>"
      ]
     },
     "execution_count": 2,
     "metadata": {},
     "output_type": "execute_result"
    }
   ],
   "source": [
    "# Setup - Run only once per Kernel App\n",
    "%conda install openjdk -y\n",
    "\n",
    "# install PySpark\n",
    "%pip install pyspark==3.3.0\n",
    "\n",
    "# restart kernel\n",
    "from IPython.core.display import HTML\n",
    "HTML(\"<script>Jupyter.notebook.kernel.restart()</script>\")"
   ]
  },
  {
   "cell_type": "code",
   "execution_count": 3,
   "id": "4831541c-4d77-44a8-860b-5f41acad8ced",
   "metadata": {
    "tags": []
   },
   "outputs": [
    {
     "name": "stderr",
     "output_type": "stream",
     "text": [
      "Warning: Ignoring non-Spark config property: fs.s3a.aws.credentials.provider\n"
     ]
    },
    {
     "name": "stdout",
     "output_type": "stream",
     "text": [
      ":: loading settings :: url = jar:file:/opt/conda/lib/python3.10/site-packages/pyspark/jars/ivy-2.5.0.jar!/org/apache/ivy/core/settings/ivysettings.xml\n"
     ]
    },
    {
     "name": "stderr",
     "output_type": "stream",
     "text": [
      "Ivy Default Cache set to: /root/.ivy2/cache\n",
      "The jars for the packages stored in: /root/.ivy2/jars\n",
      "org.apache.hadoop#hadoop-aws added as a dependency\n",
      ":: resolving dependencies :: org.apache.spark#spark-submit-parent-5dd58c32-cfaf-4635-9599-5d616a224709;1.0\n",
      "\tconfs: [default]\n",
      "\tfound org.apache.hadoop#hadoop-aws;3.2.2 in central\n",
      "\tfound com.amazonaws#aws-java-sdk-bundle;1.11.563 in central\n",
      ":: resolution report :: resolve 433ms :: artifacts dl 41ms\n",
      "\t:: modules in use:\n",
      "\tcom.amazonaws#aws-java-sdk-bundle;1.11.563 from central in [default]\n",
      "\torg.apache.hadoop#hadoop-aws;3.2.2 from central in [default]\n",
      "\t---------------------------------------------------------------------\n",
      "\t|                  |            modules            ||   artifacts   |\n",
      "\t|       conf       | number| search|dwnlded|evicted|| number|dwnlded|\n",
      "\t---------------------------------------------------------------------\n",
      "\t|      default     |   2   |   0   |   0   |   0   ||   2   |   0   |\n",
      "\t---------------------------------------------------------------------\n",
      ":: retrieving :: org.apache.spark#spark-submit-parent-5dd58c32-cfaf-4635-9599-5d616a224709\n",
      "\tconfs: [default]\n",
      "\t0 artifacts copied, 2 already retrieved (0kB/27ms)\n"
     ]
    },
    {
     "name": "stdout",
     "output_type": "stream",
     "text": [
      "23/11/30 23:56:25 WARN NativeCodeLoader: Unable to load native-hadoop library for your platform... using builtin-java classes where applicable\n"
     ]
    },
    {
     "name": "stderr",
     "output_type": "stream",
     "text": [
      "Setting default log level to \"WARN\".\n",
      "To adjust logging level use sc.setLogLevel(newLevel). For SparkR, use setLogLevel(newLevel).\n"
     ]
    },
    {
     "name": "stdout",
     "output_type": "stream",
     "text": [
      "3.3.0\n"
     ]
    }
   ],
   "source": [
    "# Import pyspark and build Spark session\n",
    "from pyspark.sql import SparkSession\n",
    "\n",
    "spark = (\n",
    "    SparkSession.builder.appName(\"PySparkApp\")\n",
    "    .config(\"spark.jars.packages\", \"org.apache.hadoop:hadoop-aws:3.2.2\")\n",
    "    .config(\n",
    "        \"fs.s3a.aws.credentials.provider\",\n",
    "        \"com.amazonaws.auth.ContainerCredentialsProvider\",\n",
    "    )\n",
    "    .getOrCreate()\n",
    ")\n",
    "\n",
    "print(spark.version)"
   ]
  },
  {
   "cell_type": "code",
   "execution_count": 4,
   "id": "43489746-6ffd-4cd4-b9bc-dc699ac76fb5",
   "metadata": {
    "tags": []
   },
   "outputs": [
    {
     "name": "stdout",
     "output_type": "stream",
     "text": [
      "sagemaker.config INFO - Not applying SDK defaults from location: /etc/xdg/sagemaker/config.yaml\n",
      "sagemaker.config INFO - Not applying SDK defaults from location: /root/.config/sagemaker/config.yaml\n",
      "sagemaker.config INFO - Not applying SDK defaults from location: /etc/xdg/sagemaker/config.yaml\n",
      "sagemaker.config INFO - Not applying SDK defaults from location: /root/.config/sagemaker/config.yaml\n",
      "sagemaker-us-east-1-433974840707\n",
      "23/11/30 23:56:33 WARN SparkSession: Using an existing Spark session; only runtime SQL configurations will take effect.\n"
     ]
    }
   ],
   "source": [
    "import sagemaker\n",
    "\n",
    "session = sagemaker.Session()\n",
    "bucket = session.default_bucket()\n",
    "print(bucket)\n",
    "\n",
    "# Create or retrieve a Spark session\n",
    "spark = SparkSession.builder.appName(\"ReadS3Parquet\").getOrCreate()\n"
   ]
  },
  {
   "cell_type": "code",
   "execution_count": 23,
   "id": "1e0fde6b-2a5d-4dde-9cbc-bbe3ac411c6b",
   "metadata": {
    "tags": []
   },
   "outputs": [],
   "source": [
    "import pyspark.sql.functions as F\n",
    "from pyspark.sql.functions import date_format\n",
    "from pyspark.sql.functions import avg\n",
    "from pyspark.sql.functions import to_date\n",
    "from pyspark.sql.functions import date_format\n",
    "from pyspark.sql.functions import count"
   ]
  },
  {
   "cell_type": "markdown",
   "id": "0c7f3a57-82a8-493a-9e09-b95a2328c339",
   "metadata": {},
   "source": [
    "# Data"
   ]
  },
  {
   "cell_type": "code",
   "execution_count": 79,
   "id": "ba8ca0c4-f6d8-4665-9885-6b39adca277c",
   "metadata": {
    "tags": []
   },
   "outputs": [],
   "source": [
    "# S3 directory path\n",
    "s3_directory = f\"s3a://sagemaker-us-east-1-433974840707/project/nlp_cleaned_submissions/\"\n",
    "\n",
    "# Read all the Parquet files in the directory into a DataFrame\n",
    "df_submissions = spark.read.parquet(s3_directory)"
   ]
  },
  {
   "cell_type": "code",
   "execution_count": 80,
   "id": "37310376-126b-4e2b-9ef9-300f571854a6",
   "metadata": {
    "tags": []
   },
   "outputs": [
    {
     "name": "stderr",
     "output_type": "stream",
     "text": [
      "                                                                                \r"
     ]
    },
    {
     "data": {
      "text/plain": [
       "599908"
      ]
     },
     "execution_count": 80,
     "metadata": {},
     "output_type": "execute_result"
    }
   ],
   "source": [
    "df_submissions.count()"
   ]
  },
  {
   "cell_type": "code",
   "execution_count": 81,
   "id": "614187b7-8b90-43eb-9e1b-b53766213f72",
   "metadata": {
    "tags": []
   },
   "outputs": [
    {
     "data": {
      "text/plain": [
       "['author',\n",
       " 'title',\n",
       " 'selftext',\n",
       " 'subreddit',\n",
       " 'score',\n",
       " 'num_comments',\n",
       " 'permalink',\n",
       " 'created_utc',\n",
       " 'url',\n",
       " 'domain',\n",
       " 'is_video',\n",
       " 'is_self',\n",
       " 'is_reddit_media_domain',\n",
       " 'spoiler',\n",
       " 'over_18',\n",
       " 'stickied',\n",
       " 'thumbnail',\n",
       " 'media',\n",
       " 'secure_media',\n",
       " 'gilded',\n",
       " 'archived',\n",
       " 'distinguished',\n",
       " 'cleaned_body',\n",
       " 'cleaned_title']"
      ]
     },
     "execution_count": 81,
     "metadata": {},
     "output_type": "execute_result"
    }
   ],
   "source": [
    "df_submissions.columns"
   ]
  },
  {
   "cell_type": "code",
   "execution_count": 82,
   "id": "3adda93c-59ef-4741-8d12-294fd3a36359",
   "metadata": {
    "tags": []
   },
   "outputs": [
    {
     "name": "stdout",
     "output_type": "stream",
     "text": [
      "root\n",
      " |-- author: string (nullable = true)\n",
      " |-- title: string (nullable = true)\n",
      " |-- selftext: string (nullable = true)\n",
      " |-- subreddit: string (nullable = true)\n",
      " |-- score: integer (nullable = true)\n",
      " |-- num_comments: string (nullable = true)\n",
      " |-- permalink: string (nullable = true)\n",
      " |-- created_utc: date (nullable = true)\n",
      " |-- url: string (nullable = true)\n",
      " |-- domain: string (nullable = true)\n",
      " |-- is_video: boolean (nullable = true)\n",
      " |-- is_self: boolean (nullable = true)\n",
      " |-- is_reddit_media_domain: boolean (nullable = true)\n",
      " |-- spoiler: boolean (nullable = true)\n",
      " |-- over_18: boolean (nullable = true)\n",
      " |-- stickied: boolean (nullable = true)\n",
      " |-- thumbnail: string (nullable = true)\n",
      " |-- media: string (nullable = true)\n",
      " |-- secure_media: string (nullable = true)\n",
      " |-- gilded: integer (nullable = true)\n",
      " |-- archived: boolean (nullable = true)\n",
      " |-- distinguished: string (nullable = true)\n",
      " |-- cleaned_body: array (nullable = true)\n",
      " |    |-- element: string (containsNull = true)\n",
      " |-- cleaned_title: array (nullable = true)\n",
      " |    |-- element: string (containsNull = true)\n",
      "\n"
     ]
    }
   ],
   "source": [
    "df_submissions.printSchema()"
   ]
  },
  {
   "cell_type": "code",
   "execution_count": 83,
   "id": "1f295e6d-a5cd-437c-beee-49a76582ffd5",
   "metadata": {
    "tags": []
   },
   "outputs": [
    {
     "name": "stderr",
     "output_type": "stream",
     "text": [
      "                                                                                \r"
     ]
    },
    {
     "name": "stdout",
     "output_type": "stream",
     "text": [
      "Number of records after dropping NAs:  599908\n",
      "+---------+-----+------------+--------+-------+-------+------+------------+----+-----+---+\n",
      "|subreddit|score|num_comments|is_video|spoiler|over_18|gilded|title_length|year|month|day|\n",
      "+---------+-----+------------+--------+-------+-------+------+------------+----+-----+---+\n",
      "|socialism|    6|           3|   false|  false|  false|     0|          48|2021|    7| 29|\n",
      "|socialism|   11|           0|   false|  false|  false|     0|          76|2022|    4| 15|\n",
      "|Economics|    1|           1|   false|  false|  false|     0|           7|2021|    2|  3|\n",
      "|  Liberal|   17|           2|   false|  false|  false|     0|         103|2021|    6| 22|\n",
      "|socialism| 1761|          43|   false|  false|  false|     0|         210|2021|    3| 25|\n",
      "|socialism|  135|           5|   false|  false|  false|     0|          20|2021|    2|  4|\n",
      "|socialism|    2|           1|   false|  false|  false|     0|          67|2022|   11| 27|\n",
      "|socialism|  500|           0|   false|  false|  false|     0|          49|2021|    9|  8|\n",
      "|Economics|    1|           1|   false|  false|  false|     0|          39|2022|    8| 26|\n",
      "|socialism|    1|           0|   false|  false|  false|     0|          15|2021|    3| 18|\n",
      "|Economics|    1|           2|   false|  false|  false|     0|          59|2023|    2|  8|\n",
      "|  Liberal|    1|           0|   false|  false|  false|     0|         161|2022|   11| 10|\n",
      "|Economics|    1|           1|   false|  false|  false|     0|          27|2023|    3|  4|\n",
      "|socialism|    5|           4|   false|  false|  false|     0|          43|2021|    2|  9|\n",
      "|Economics|  127|          39|   false|  false|  false|     0|          56|2021|    8| 14|\n",
      "|Economics|   51|          26|   false|  false|  false|     0|          61|2021|    1| 25|\n",
      "|  Liberal|    1|           0|   false|  false|  false|     0|          63|2022|    7|  2|\n",
      "|socialism|    2|           0|   false|  false|  false|     0|          97|2021|    8|  9|\n",
      "|socialism|    1|           3|   false|  false|  false|     0|          75|2022|   11| 26|\n",
      "|Economics|    1|           1|   false|  false|  false|     0|          60|2022|    9|  7|\n",
      "+---------+-----+------------+--------+-------+-------+------+------------+----+-----+---+\n",
      "only showing top 20 rows\n",
      "\n"
     ]
    }
   ],
   "source": [
    "# Keep relevant columns for the regression\n",
    "\n",
    "from pyspark.sql.functions import length\n",
    "from pyspark.sql.types import IntegerType\n",
    "\n",
    "df = df_submissions.select('title' , 'subreddit' , 'score' , 'num_comments' , 'is_video' , 'spoiler' , 'over_18', 'created_utc', 'gilded')\n",
    "\n",
    "df = df.withColumn('title_length', length(df['title'])) \\\n",
    "        .withColumn('year', F.year('created_utc')) \\\n",
    "        .withColumn('month', F.month('created_utc')) \\\n",
    "        .withColumn ('day', F.dayofmonth(\"created_utc\")) \\\n",
    "        .withColumn('is_video', F.col('is_video').cast(\"string\")) \\\n",
    "        .withColumn('spoiler', F.col('spoiler').cast(\"string\")) \\\n",
    "        .withColumn('over_18', F.col('over_18').cast(\"string\")) \\\n",
    "        .withColumn('num_comments', F.col('num_comments').cast(IntegerType()))\n",
    "\n",
    "df = df.drop('title', 'created_utc')\n",
    "\n",
    "df = df.dropna()\n",
    "\n",
    "print(\"Number of records after dropping NAs: \", df.count())\n",
    "\n",
    "df.show()"
   ]
  },
  {
   "cell_type": "markdown",
   "id": "c4ff39ab-89d7-4e2e-8d91-95295e63a974",
   "metadata": {},
   "source": [
    "## Percentile Table of `score` and Value Counts of `is_video`, `spoiler`, `over_18`"
   ]
  },
  {
   "cell_type": "code",
   "execution_count": 84,
   "id": "7ec02fa5-ec21-465d-b500-9deaaefd620d",
   "metadata": {
    "tags": []
   },
   "outputs": [
    {
     "name": "stderr",
     "output_type": "stream",
     "text": [
      "                                                                                \r"
     ]
    },
    {
     "name": "stdout",
     "output_type": "stream",
     "text": [
      "+------+---+---+---+----+--------+\n",
      "|Column| 1%|25%|50%| 75%|     99%|\n",
      "+------+---+---+---+----+--------+\n",
      "| score|0.0|1.0|1.0|29.0|110685.0|\n",
      "+------+---+---+---+----+--------+\n",
      "\n"
     ]
    }
   ],
   "source": [
    "# score\n",
    "\n",
    "percentile_columns = [\"score\"]\n",
    "\n",
    "# Specify the percentiles\n",
    "percentiles = [0.01, 0.25, 0.5, 0.75, 0.99]\n",
    "\n",
    "# Calculate percentiles and create a summary DataFrame\n",
    "percentile_data = []\n",
    "\n",
    "percentiles_values = df.approxQuantile(\"score\", percentiles, relativeError=0.01)\n",
    "percentile_data.append((column, *percentiles_values))\n",
    "\n",
    "percentile_df = spark.createDataFrame(percentile_data, [\"Column\", \"1%\", \"25%\", \"50%\", \"75%\", \"99%\"])\n",
    "\n",
    "# Display the percentile DataFrame\n",
    "percentile_df.show()"
   ]
  },
  {
   "cell_type": "code",
   "execution_count": 85,
   "id": "e5a3b6be-cbf7-4943-9c3e-1813e0a3f757",
   "metadata": {
    "tags": []
   },
   "outputs": [],
   "source": [
    "percentile_df = percentile_df.toPandas()\n",
    "percentile_df.to_csv(\"../../data/csv/score_percentile.csv\")"
   ]
  },
  {
   "cell_type": "code",
   "execution_count": 144,
   "id": "7331aacb-9165-4edf-89bc-c23772b1f5b2",
   "metadata": {
    "tags": []
   },
   "outputs": [
    {
     "data": {
      "image/png": "[encoded data removed]",
      "text/plain": [
       "<Figure size 800x600 with 1 Axes>"
      ]
     },
     "metadata": {},
     "output_type": "display_data"
    }
   ],
   "source": [
    "# Histogram up until 75th percentile\n",
    "\n",
    "import seaborn as sns\n",
    "import matplotlib.pyplot as plt\n",
    "\n",
    "#df_score_pd = df.filter(F.col('score') <= 29).select(\"score\").toPandas()\n",
    "plt.figure(figsize=(8, 6))\n",
    "sns.histplot(df_score_pd['score'], kde=False, bins=100)\n",
    "\n",
    "# Display the histogram\n",
    "plt.title('Histogram of Score (<= 75th Percentile)')\n",
    "plt.xlabel('Post Score (Number of Upvotes - Number of Downvotes)')\n",
    "plt.ylabel('Count', labelpad=5)\n",
    "plt.savefig(\"../../data/plots/score_histogram_75perc.png\")\n",
    "plt.savefig(\"../../website-source/score_histogram_75perc.png\")\n",
    "plt.tight_layout()\n",
    "plt.show()"
   ]
  },
  {
   "cell_type": "code",
   "execution_count": 87,
   "id": "15c20d97-acf6-4446-ba6d-d8655c7d509b",
   "metadata": {
    "tags": []
   },
   "outputs": [
    {
     "name": "stderr",
     "output_type": "stream",
     "text": [
      "[Stage 136:==========================================>              (3 + 1) / 4]\r"
     ]
    },
    {
     "name": "stdout",
     "output_type": "stream",
     "text": [
      "+--------+------+\n",
      "|is_video| count|\n",
      "+--------+------+\n",
      "|   false|596876|\n",
      "|    true|  3032|\n",
      "+--------+------+\n",
      "\n"
     ]
    },
    {
     "name": "stderr",
     "output_type": "stream",
     "text": [
      "                                                                                \r"
     ]
    }
   ],
   "source": [
    "video_value_count = df.groupby('is_video').count()\n",
    "video_value_count.show()"
   ]
  },
  {
   "cell_type": "code",
   "execution_count": 88,
   "id": "c1dbd4ca-ece5-4d25-82f4-3a71e6405409",
   "metadata": {
    "tags": []
   },
   "outputs": [
    {
     "name": "stderr",
     "output_type": "stream",
     "text": [
      "                                                                                \r"
     ]
    }
   ],
   "source": [
    "video_value_count = video_value_count.toPandas()\n",
    "video_value_count.to_csv(\"../../data/csv/video_val_count.csv\")"
   ]
  },
  {
   "cell_type": "code",
   "execution_count": 89,
   "id": "a3769e8b-904d-4014-a9ed-6c1f2ad039e0",
   "metadata": {
    "tags": []
   },
   "outputs": [
    {
     "name": "stderr",
     "output_type": "stream",
     "text": [
      "[Stage 142:============================>                            (2 + 2) / 4]\r"
     ]
    },
    {
     "name": "stdout",
     "output_type": "stream",
     "text": [
      "+-------+------+\n",
      "|spoiler| count|\n",
      "+-------+------+\n",
      "|  false|598852|\n",
      "|   true|  1056|\n",
      "+-------+------+\n",
      "\n"
     ]
    },
    {
     "name": "stderr",
     "output_type": "stream",
     "text": [
      "                                                                                \r"
     ]
    }
   ],
   "source": [
    "spoiler_value_count = df.groupby('spoiler').count()\n",
    "spoiler_value_count.show()"
   ]
  },
  {
   "cell_type": "code",
   "execution_count": 90,
   "id": "aa813388-e32c-49bd-bab7-04415700dbcd",
   "metadata": {
    "tags": []
   },
   "outputs": [
    {
     "name": "stderr",
     "output_type": "stream",
     "text": [
      "                                                                                \r"
     ]
    }
   ],
   "source": [
    "spoiler_value_count = spoiler_value_count.toPandas()\n",
    "spoiler_value_count.to_csv(\"../../data/csv/spoiler_val_count.csv\")"
   ]
  },
  {
   "cell_type": "code",
   "execution_count": 91,
   "id": "3fa08c8f-9501-4209-827c-1e4b97dd1df5",
   "metadata": {
    "tags": []
   },
   "outputs": [
    {
     "name": "stderr",
     "output_type": "stream",
     "text": [
      "[Stage 148:==========================================>              (3 + 1) / 4]\r"
     ]
    },
    {
     "name": "stdout",
     "output_type": "stream",
     "text": [
      "+-------+------+\n",
      "|over_18| count|\n",
      "+-------+------+\n",
      "|  false|595936|\n",
      "|   true|  3972|\n",
      "+-------+------+\n",
      "\n"
     ]
    },
    {
     "name": "stderr",
     "output_type": "stream",
     "text": [
      "                                                                                \r"
     ]
    }
   ],
   "source": [
    "over_18_value_count = df.groupby('over_18').count()\n",
    "over_18_value_count.show()"
   ]
  },
  {
   "cell_type": "code",
   "execution_count": 92,
   "id": "03310ef9-82dd-4fa1-8dcf-f46da088ff84",
   "metadata": {
    "tags": []
   },
   "outputs": [
    {
     "name": "stderr",
     "output_type": "stream",
     "text": [
      "                                                                                \r"
     ]
    }
   ],
   "source": [
    "over_18_value_count = over_18_value_count.toPandas()\n",
    "over_18_value_count.to_csv(\"../../data/csv/18_val_count.csv\")"
   ]
  },
  {
   "cell_type": "markdown",
   "id": "e0d3bb2b-8b06-4779-81a7-316ecfe29c4c",
   "metadata": {},
   "source": [
    "### ML"
   ]
  },
  {
   "cell_type": "markdown",
   "id": "c0835c7a-ae98-42a2-bb4c-5ef5a3dcc757",
   "metadata": {},
   "source": [
    "## Creating data processing pipeline"
   ]
  },
  {
   "cell_type": "code",
   "execution_count": 93,
   "id": "2455968d-645c-4536-b531-6375a9285a3e",
   "metadata": {
    "tags": []
   },
   "outputs": [
    {
     "name": "stderr",
     "output_type": "stream",
     "text": [
      "                                                                                \r"
     ]
    },
    {
     "name": "stdout",
     "output_type": "stream",
     "text": [
      "+---------+-----+------------+--------+-------+-------+------+------------+----+-----+---+---------------+--------------+-------------+-------------+-------------+\n",
      "|subreddit|score|num_comments|is_video|spoiler|over_18|gilded|title_length|year|month|day|subreddit_index|is_video_index|spoiler_index|over_18_index|subreddit_vec|\n",
      "+---------+-----+------------+--------+-------+-------+------+------------+----+-----+---+---------------+--------------+-------------+-------------+-------------+\n",
      "|socialism|    6|           3|   false|  false|  false|     0|          48|2021|    7| 29|            4.0|           0.0|          0.0|          0.0|(8,[4],[1.0])|\n",
      "|socialism|   11|           0|   false|  false|  false|     0|          76|2022|    4| 15|            4.0|           0.0|          0.0|          0.0|(8,[4],[1.0])|\n",
      "|Economics|    1|           1|   false|  false|  false|     0|           7|2021|    2|  3|            3.0|           0.0|          0.0|          0.0|(8,[3],[1.0])|\n",
      "|  Liberal|   17|           2|   false|  false|  false|     0|         103|2021|    6| 22|            7.0|           0.0|          0.0|          0.0|(8,[7],[1.0])|\n",
      "|socialism| 1761|          43|   false|  false|  false|     0|         210|2021|    3| 25|            4.0|           0.0|          0.0|          0.0|(8,[4],[1.0])|\n",
      "|socialism|  135|           5|   false|  false|  false|     0|          20|2021|    2|  4|            4.0|           0.0|          0.0|          0.0|(8,[4],[1.0])|\n",
      "|socialism|    2|           1|   false|  false|  false|     0|          67|2022|   11| 27|            4.0|           0.0|          0.0|          0.0|(8,[4],[1.0])|\n",
      "|socialism|  500|           0|   false|  false|  false|     0|          49|2021|    9|  8|            4.0|           0.0|          0.0|          0.0|(8,[4],[1.0])|\n",
      "|Economics|    1|           1|   false|  false|  false|     0|          39|2022|    8| 26|            3.0|           0.0|          0.0|          0.0|(8,[3],[1.0])|\n",
      "|socialism|    1|           0|   false|  false|  false|     0|          15|2021|    3| 18|            4.0|           0.0|          0.0|          0.0|(8,[4],[1.0])|\n",
      "|Economics|    1|           2|   false|  false|  false|     0|          59|2023|    2|  8|            3.0|           0.0|          0.0|          0.0|(8,[3],[1.0])|\n",
      "|  Liberal|    1|           0|   false|  false|  false|     0|         161|2022|   11| 10|            7.0|           0.0|          0.0|          0.0|(8,[7],[1.0])|\n",
      "|Economics|    1|           1|   false|  false|  false|     0|          27|2023|    3|  4|            3.0|           0.0|          0.0|          0.0|(8,[3],[1.0])|\n",
      "|socialism|    5|           4|   false|  false|  false|     0|          43|2021|    2|  9|            4.0|           0.0|          0.0|          0.0|(8,[4],[1.0])|\n",
      "|Economics|  127|          39|   false|  false|  false|     0|          56|2021|    8| 14|            3.0|           0.0|          0.0|          0.0|(8,[3],[1.0])|\n",
      "|Economics|   51|          26|   false|  false|  false|     0|          61|2021|    1| 25|            3.0|           0.0|          0.0|          0.0|(8,[3],[1.0])|\n",
      "|  Liberal|    1|           0|   false|  false|  false|     0|          63|2022|    7|  2|            7.0|           0.0|          0.0|          0.0|(8,[7],[1.0])|\n",
      "|socialism|    2|           0|   false|  false|  false|     0|          97|2021|    8|  9|            4.0|           0.0|          0.0|          0.0|(8,[4],[1.0])|\n",
      "|socialism|    1|           3|   false|  false|  false|     0|          75|2022|   11| 26|            4.0|           0.0|          0.0|          0.0|(8,[4],[1.0])|\n",
      "|Economics|    1|           1|   false|  false|  false|     0|          60|2022|    9|  7|            3.0|           0.0|          0.0|          0.0|(8,[3],[1.0])|\n",
      "+---------+-----+------------+--------+-------+-------+------+------------+----+-----+---+---------------+--------------+-------------+-------------+-------------+\n",
      "only showing top 20 rows\n",
      "\n"
     ]
    }
   ],
   "source": [
    "from pyspark.ml.feature import StringIndexer, OneHotEncoder\n",
    "from pyspark.ml import Pipeline\n",
    "from pyspark.sql.functions import col\n",
    "\n",
    "subreddit_indexer = StringIndexer(inputCol=\"subreddit\", outputCol=\"subreddit_index\")\n",
    "video_indexer = StringIndexer(inputCol=\"is_video\", outputCol=\"is_video_index\")\n",
    "spoiler_indexer = StringIndexer(inputCol=\"spoiler\", outputCol=\"spoiler_index\")\n",
    "over_18_indexer = StringIndexer(inputCol=\"over_18\", outputCol=\"over_18_index\")\n",
    "subreddit_encoder = OneHotEncoder(inputCol=\"subreddit_index\", outputCol=\"subreddit_vec\")\n",
    "\n",
    "pipeline = Pipeline(stages=[subreddit_indexer, video_indexer, spoiler_indexer, over_18_indexer, subreddit_encoder])\n",
    "\n",
    "df_encoded = pipeline.fit(df).transform(df)\n",
    "\n",
    "# Show the result\n",
    "df_encoded.show()"
   ]
  },
  {
   "cell_type": "markdown",
   "id": "7b0d7114-7324-4780-9601-ba886cf48145",
   "metadata": {},
   "source": [
    "### Linear Regression"
   ]
  },
  {
   "cell_type": "code",
   "execution_count": 146,
   "id": "23a9bc93-b31b-4488-982a-82700a160985",
   "metadata": {
    "tags": []
   },
   "outputs": [
    {
     "name": "stderr",
     "output_type": "stream",
     "text": [
      "                                                                                \r"
     ]
    },
    {
     "name": "stdout",
     "output_type": "stream",
     "text": [
      "23/12/01 02:39:44 WARN Instrumentation: [462af750] regParam is zero, which might cause numerical instability and overfitting.\n"
     ]
    },
    {
     "name": "stderr",
     "output_type": "stream",
     "text": [
      "Exception in thread \"serve-DataFrame\" java.net.SocketTimeoutException: Accept timed out\n",
      "\tat java.base/java.net.PlainSocketImpl.socketAccept(Native Method)\n",
      "\tat java.base/java.net.AbstractPlainSocketImpl.accept(AbstractPlainSocketImpl.java:458)\n",
      "\tat java.base/java.net.ServerSocket.implAccept(ServerSocket.java:565)\n",
      "\tat java.base/java.net.ServerSocket.accept(ServerSocket.java:533)\n",
      "\tat org.apache.spark.security.SocketAuthServer$$anon$1.run(SocketAuthServer.scala:64)\n",
      "                                                                                \r"
     ]
    },
    {
     "name": "stdout",
     "output_type": "stream",
     "text": [
      "R-squared of test data = 0.42904\n"
     ]
    },
    {
     "name": "stderr",
     "output_type": "stream",
     "text": [
      "[Stage 318:==========================================>              (3 + 1) / 4]\r"
     ]
    },
    {
     "name": "stdout",
     "output_type": "stream",
     "text": [
      "RMSE of test data = 402.07\n"
     ]
    },
    {
     "name": "stderr",
     "output_type": "stream",
     "text": [
      "                                                                                \r"
     ]
    }
   ],
   "source": [
    "from pyspark.ml.feature import VectorAssembler, StandardScaler\n",
    "from pyspark.ml.regression import LinearRegression\n",
    "from pyspark.ml.evaluation import RegressionEvaluator\n",
    "from pyspark.ml import Pipeline\n",
    "\n",
    "# Combine all features into a single vector\n",
    "assembler = VectorAssembler(\n",
    "    inputCols=[\"over_18_index\", \"spoiler_index\", \"is_video_index\", \"title_length\", \"subreddit_vec\", \"year\", \"month\", \"day\", 'gilded', 'num_comments'],\n",
    "    outputCol=\"assembled_features\")\n",
    "\n",
    "# Normalize the features\n",
    "scaler = StandardScaler(inputCol=\"assembled_features\", outputCol=\"features\", withStd=True, withMean=True)\n",
    "\n",
    "# Initialize the Linear Regression model\n",
    "lr = LinearRegression(featuresCol=\"features\", labelCol=\"score\")\n",
    "\n",
    "# Define the Pipeline\n",
    "pipeline = Pipeline(stages=[assembler, scaler, lr])\n",
    "\n",
    "# Split the data into training and testing sets (80-20 split)\n",
    "train_data, test_data = df_encoded.randomSplit([0.8, 0.2], seed=42)\n",
    "\n",
    "# Train the model\n",
    "model = pipeline.fit(test_data)\n",
    "\n",
    "# Make predictions\n",
    "predictions = model.transform(test_data)\n",
    "\n",
    "# Evaluate the model\n",
    "evaluator = RegressionEvaluator(labelCol=\"score\", predictionCol=\"prediction\", metricName=\"r2\")\n",
    "r2 = evaluator.evaluate(predictions)\n",
    "print(\"R-squared of test data = %g\" % r2)\n",
    "evaluator = RegressionEvaluator(labelCol=\"score\", predictionCol=\"prediction\", metricName=\"rmse\")\n",
    "rmse = evaluator.evaluate(predictions)\n",
    "print(\"RMSE of test data = %g\" % rmse)"
   ]
  },
  {
   "cell_type": "code",
   "execution_count": 148,
   "id": "111c24fe-3b91-4a8f-b6a5-5cf65ec932df",
   "metadata": {
    "tags": []
   },
   "outputs": [
    {
     "data": {
      "image/png": "[encoded data removed]",
      "text/plain": [
       "<Figure size 800x600 with 1 Axes>"
      ]
     },
     "metadata": {},
     "output_type": "display_data"
    }
   ],
   "source": [
    "residuals = predictions.select(\"score\", \"prediction\").toPandas()\n",
    "residuals['residual'] = residuals['score'] - residuals['prediction']\n",
    "\n",
    "# Plot residuals\n",
    "plt.figure(figsize=(8, 6))\n",
    "plt.scatter(residuals['prediction'], residuals['residual'], alpha=0.5)\n",
    "plt.title('Linear Regression Residuals Plot')\n",
    "plt.xlabel('Predicted Values')\n",
    "plt.ylabel('Residuals')\n",
    "plt.axhline(y=0, color='r', linestyle='--', linewidth=1)  # Add a horizontal line at y=0\n",
    "plt.savefig(\"../../data/plots/residuals_lr.png\")\n",
    "plt.savefig(\"../../website-source/residuals_lr.png\")\n",
    "plt.show()"
   ]
  },
  {
   "cell_type": "markdown",
   "id": "b66ddefe-baed-4419-8abb-7e254887dc7b",
   "metadata": {},
   "source": [
    "### Random Forest"
   ]
  },
  {
   "cell_type": "code",
   "execution_count": 149,
   "id": "63836429-1ceb-4435-ae91-a72c7c6ae292",
   "metadata": {
    "tags": []
   },
   "outputs": [
    {
     "name": "stderr",
     "output_type": "stream",
     "text": [
      "                                                                                \r"
     ]
    },
    {
     "name": "stdout",
     "output_type": "stream",
     "text": [
      "R-squared on test data = 0.385552\n"
     ]
    },
    {
     "name": "stderr",
     "output_type": "stream",
     "text": [
      "[Stage 338:==========================================>              (3 + 1) / 4]\r"
     ]
    },
    {
     "name": "stdout",
     "output_type": "stream",
     "text": [
      "RMSE of test data = 417.101\n"
     ]
    },
    {
     "name": "stderr",
     "output_type": "stream",
     "text": [
      "                                                                                \r"
     ]
    }
   ],
   "source": [
    "from pyspark.ml.feature import VectorAssembler\n",
    "from pyspark.ml.regression import RandomForestRegressor\n",
    "from pyspark.ml.evaluation import RegressionEvaluator\n",
    "from pyspark.ml import Pipeline\n",
    "\n",
    "# Combine all features into a single vector\n",
    "assembler = VectorAssembler(\n",
    "    inputCols=[\"over_18_index\", \"spoiler_index\", \"is_video_index\", \"title_length\", \"subreddit_vec\", \"year\", \"month\", \"day\", 'gilded', 'num_comments'],\n",
    "    outputCol=\"assembled_features\")\n",
    "\n",
    "# Normalize the features\n",
    "scaler = StandardScaler(inputCol=\"assembled_features\", outputCol=\"features\", withStd=True, withMean=True)\n",
    "\n",
    "# Initialize the Random Forest Regressor\n",
    "rf = RandomForestRegressor(featuresCol=\"features\", labelCol=\"score\", numTrees=100)\n",
    "\n",
    "# Define the Pipeline\n",
    "pipeline = Pipeline(stages=[assembler, scaler, rf])\n",
    "\n",
    "# Split the data into training and testing sets (80-20 split)\n",
    "train_data, test_data = df_encoded.randomSplit([0.8, 0.2], seed=42)\n",
    "\n",
    "# Train the model\n",
    "model = pipeline.fit(test_data)\n",
    "\n",
    "# Make predictions\n",
    "predictions = model.transform(test_data)\n",
    "\n",
    "# Evaluate the model\n",
    "evaluator = RegressionEvaluator(labelCol=\"score\", predictionCol=\"prediction\", metricName=\"r2\")\n",
    "r2 = evaluator.evaluate(predictions)\n",
    "print(\"R-squared on test data = %g\" % r2)\n",
    "evaluator = RegressionEvaluator(labelCol=\"score\", predictionCol=\"prediction\", metricName=\"rmse\")\n",
    "rmse = evaluator.evaluate(predictions)\n",
    "print(\"RMSE of test data = %g\" % rmse)"
   ]
  },
  {
   "cell_type": "code",
   "execution_count": 150,
   "id": "d90dfcdc-bc4b-4e8b-84d9-6e86e4247a43",
   "metadata": {
    "tags": []
   },
   "outputs": [
    {
     "name": "stderr",
     "output_type": "stream",
     "text": [
      "                                                                                \r"
     ]
    },
    {
     "data": {
      "image/png": "[encoded data removed]",
      "text/plain": [
       "<Figure size 800x600 with 1 Axes>"
      ]
     },
     "metadata": {},
     "output_type": "display_data"
    }
   ],
   "source": [
    "residuals = predictions.select(\"score\", \"prediction\").toPandas()\n",
    "residuals['residual'] = residuals['score'] - residuals['prediction']\n",
    "\n",
    "# Plot residuals\n",
    "plt.figure(figsize=(8, 6))\n",
    "plt.scatter(residuals['prediction'], residuals['residual'], alpha=0.5)\n",
    "plt.title('Random Forest Residuals Plot')\n",
    "plt.xlabel('Predicted Values')\n",
    "plt.ylabel('Residuals')\n",
    "plt.axhline(y=0, color='r', linestyle='--', linewidth=1)  # Add a horizontal line at y=0\n",
    "plt.savefig(\"../../data/plots/residuals_rf.png\")\n",
    "plt.savefig(\"../../website-source/residuals_rf.png\")\n",
    "plt.show()"
   ]
  },
  {
   "cell_type": "code",
   "execution_count": 109,
   "id": "3517a42e-1def-41e1-b5f2-2b266dfc1db6",
   "metadata": {
    "tags": []
   },
   "outputs": [
    {
     "name": "stdout",
     "output_type": "stream",
     "text": [
      "day: 0.041162724763995\n",
      "title_length: 0.02911211944794473\n",
      "subreddit_vec: 0.018456931691532435\n",
      "gilded: 0.01006361390871375\n",
      "year: 0.007720383501115649\n",
      "over_18_index: 0.006963511628588753\n",
      "month: 0.0066206518431535955\n",
      "is_video_index: 0.004671689038955979\n",
      "num_comments: 0.0007592638545857677\n",
      "spoiler_index: 1.066149091657243e-06\n"
     ]
    }
   ],
   "source": [
    "# Access the RandomForest model from the pipeline stages\n",
    "rf_model = model.stages[-1]\n",
    "\n",
    "# Get feature importance values\n",
    "feature_importance = rf_model.featureImportances\n",
    "\n",
    "# Extract feature names\n",
    "feature_names = [\"over_18_index\", \"spoiler_index\", \"is_video_index\", \"title_length\", \"subreddit_vec\", \"year\", \"month\", \"day\", 'gilded', 'num_comments']\n",
    "\n",
    "# Create a dictionary to pair feature names with their importance values\n",
    "feature_importance_dict = dict(zip(feature_names, feature_importance))\n",
    "\n",
    "# Sort features based on importance scores (descending order)\n",
    "sorted_features = sorted(feature_importance_dict.items(), key=lambda x: x[1], reverse=True)\n",
    "\n",
    "# Display sorted feature importance\n",
    "for feature, importance in sorted_features:\n",
    "    print(f\"{feature}: {importance}\")"
   ]
  },
  {
   "cell_type": "code",
   "execution_count": 122,
   "id": "bddcdf15-ddd0-498c-a52d-6fdbd8b4f688",
   "metadata": {
    "tags": []
   },
   "outputs": [
    {
     "name": "stdout",
     "output_type": "stream",
     "text": [
      "          feature  importance\n",
      "7             day    0.041163\n",
      "3    title_length    0.029112\n",
      "4   subreddit_vec    0.018457\n",
      "8          gilded    0.010064\n",
      "5            year    0.007720\n",
      "0   over_18_index    0.006964\n",
      "6           month    0.006621\n",
      "2  is_video_index    0.004672\n",
      "9    num_comments    0.000759\n",
      "1   spoiler_index    0.000001\n"
     ]
    }
   ],
   "source": [
    "import pandas as pd\n",
    "\n",
    "df = pd.DataFrame.from_dict(feature_importance_dict, orient='index', columns=['importance'])\n",
    "\n",
    "# Reset the index and move it to columns\n",
    "df_reset = df.reset_index()\n",
    "\n",
    "# Rename the columns as needed\n",
    "df_reset.columns = ['feature', 'importance']\n",
    "\n",
    "# Sort the DataFrame by importance in descending order\n",
    "df_reset = df_reset.sort_values(by='importance', ascending=False)\n",
    "\n",
    "# Display the sorted DataFrame\n",
    "print(df_reset)"
   ]
  },
  {
   "cell_type": "code",
   "execution_count": 128,
   "id": "53488496-4abb-4878-a267-bbbbd0c0401c",
   "metadata": {
    "tags": []
   },
   "outputs": [
    {
     "data": {
      "image/png": "[encoded data removed]",
      "text/plain": [
       "<Figure size 1000x600 with 1 Axes>"
      ]
     },
     "metadata": {},
     "output_type": "display_data"
    }
   ],
   "source": [
    "# Feature Importance plot\n",
    "\n",
    "df_reset = pd.DataFrame({\n",
    "    'feature': ['day', 'title_length', 'subreddit_vec', 'gilded', 'year', 'over_18_index', 'month', 'is_video_index', 'num_comments', 'spoiler_index'],\n",
    "    'importance': [0.041163, 0.029112, 0.018457, 0.010064, 0.007720, 0.006964, 0.006621, 0.004672, 0.000759, 0.000001]\n",
    "})\n",
    "\n",
    "# Sort the DataFrame by importance in descending order\n",
    "df_reset = df_reset.sort_values(by='importance', ascending=True)\n",
    "\n",
    "# Plotting feature importance\n",
    "plt.figure(figsize=(10, 6))\n",
    "plt.barh(df_reset['feature'], df_reset['importance'], color='#303c4c')\n",
    "plt.xlabel('Importance')\n",
    "plt.ylabel('Feature')\n",
    "plt.title('Random Forest Regressor Feature Importance')\n",
    "plt.savefig(\"../../data/plots/rf_feature_imp.png\")\n",
    "plt.savefig(\"../../website-source/rf_feature_imp.png\") \n",
    "plt.show()"
   ]
  }
 ],
 "metadata": {
  "availableInstances": [
   {
    "_defaultOrder": 0,
    "_isFastLaunch": true,
    "category": "General purpose",
    "gpuNum": 0,
    "hideHardwareSpecs": false,
    "memoryGiB": 4,
    "name": "ml.t3.medium",
    "vcpuNum": 2
   },
   {
    "_defaultOrder": 1,
    "_isFastLaunch": false,
    "category": "General purpose",
    "gpuNum": 0,
    "hideHardwareSpecs": false,
    "memoryGiB": 8,
    "name": "ml.t3.large",
    "vcpuNum": 2
   },
   {
    "_defaultOrder": 2,
    "_isFastLaunch": false,
    "category": "General purpose",
    "gpuNum": 0,
    "hideHardwareSpecs": false,
    "memoryGiB": 16,
    "name": "ml.t3.xlarge",
    "vcpuNum": 4
   },
   {
    "_defaultOrder": 3,
    "_isFastLaunch": false,
    "category": "General purpose",
    "gpuNum": 0,
    "hideHardwareSpecs": false,
    "memoryGiB": 32,
    "name": "ml.t3.2xlarge",
    "vcpuNum": 8
   },
   {
    "_defaultOrder": 4,
    "_isFastLaunch": true,
    "category": "General purpose",
    "gpuNum": 0,
    "hideHardwareSpecs": false,
    "memoryGiB": 8,
    "name": "ml.m5.large",
    "vcpuNum": 2
   },
   {
    "_defaultOrder": 5,
    "_isFastLaunch": false,
    "category": "General purpose",
    "gpuNum": 0,
    "hideHardwareSpecs": false,
    "memoryGiB": 16,
    "name": "ml.m5.xlarge",
    "vcpuNum": 4
   },
   {
    "_defaultOrder": 6,
    "_isFastLaunch": false,
    "category": "General purpose",
    "gpuNum": 0,
    "hideHardwareSpecs": false,
    "memoryGiB": 32,
    "name": "ml.m5.2xlarge",
    "vcpuNum": 8
   },
   {
    "_defaultOrder": 7,
    "_isFastLaunch": false,
    "category": "General purpose",
    "gpuNum": 0,
    "hideHardwareSpecs": false,
    "memoryGiB": 64,
    "name": "ml.m5.4xlarge",
    "vcpuNum": 16
   },
   {
    "_defaultOrder": 8,
    "_isFastLaunch": false,
    "category": "General purpose",
    "gpuNum": 0,
    "hideHardwareSpecs": false,
    "memoryGiB": 128,
    "name": "ml.m5.8xlarge",
    "vcpuNum": 32
   },
   {
    "_defaultOrder": 9,
    "_isFastLaunch": false,
    "category": "General purpose",
    "gpuNum": 0,
    "hideHardwareSpecs": false,
    "memoryGiB": 192,
    "name": "ml.m5.12xlarge",
    "vcpuNum": 48
   },
   {
    "_defaultOrder": 10,
    "_isFastLaunch": false,
    "category": "General purpose",
    "gpuNum": 0,
    "hideHardwareSpecs": false,
    "memoryGiB": 256,
    "name": "ml.m5.16xlarge",
    "vcpuNum": 64
   },
   {
    "_defaultOrder": 11,
    "_isFastLaunch": false,
    "category": "General purpose",
    "gpuNum": 0,
    "hideHardwareSpecs": false,
    "memoryGiB": 384,
    "name": "ml.m5.24xlarge",
    "vcpuNum": 96
   },
   {
    "_defaultOrder": 12,
    "_isFastLaunch": false,
    "category": "General purpose",
    "gpuNum": 0,
    "hideHardwareSpecs": false,
    "memoryGiB": 8,
    "name": "ml.m5d.large",
    "vcpuNum": 2
   },
   {
    "_defaultOrder": 13,
    "_isFastLaunch": false,
    "category": "General purpose",
    "gpuNum": 0,
    "hideHardwareSpecs": false,
    "memoryGiB": 16,
    "name": "ml.m5d.xlarge",
    "vcpuNum": 4
   },
   {
    "_defaultOrder": 14,
    "_isFastLaunch": false,
    "category": "General purpose",
    "gpuNum": 0,
    "hideHardwareSpecs": false,
    "memoryGiB": 32,
    "name": "ml.m5d.2xlarge",
    "vcpuNum": 8
   },
   {
    "_defaultOrder": 15,
    "_isFastLaunch": false,
    "category": "General purpose",
    "gpuNum": 0,
    "hideHardwareSpecs": false,
    "memoryGiB": 64,
    "name": "ml.m5d.4xlarge",
    "vcpuNum": 16
   },
   {
    "_defaultOrder": 16,
    "_isFastLaunch": false,
    "category": "General purpose",
    "gpuNum": 0,
    "hideHardwareSpecs": false,
    "memoryGiB": 128,
    "name": "ml.m5d.8xlarge",
    "vcpuNum": 32
   },
   {
    "_defaultOrder": 17,
    "_isFastLaunch": false,
    "category": "General purpose",
    "gpuNum": 0,
    "hideHardwareSpecs": false,
    "memoryGiB": 192,
    "name": "ml.m5d.12xlarge",
    "vcpuNum": 48
   },
   {
    "_defaultOrder": 18,
    "_isFastLaunch": false,
    "category": "General purpose",
    "gpuNum": 0,
    "hideHardwareSpecs": false,
    "memoryGiB": 256,
    "name": "ml.m5d.16xlarge",
    "vcpuNum": 64
   },
   {
    "_defaultOrder": 19,
    "_isFastLaunch": false,
    "category": "General purpose",
    "gpuNum": 0,
    "hideHardwareSpecs": false,
    "memoryGiB": 384,
    "name": "ml.m5d.24xlarge",
    "vcpuNum": 96
   },
   {
    "_defaultOrder": 20,
    "_isFastLaunch": false,
    "category": "General purpose",
    "gpuNum": 0,
    "hideHardwareSpecs": true,
    "memoryGiB": 0,
    "name": "ml.geospatial.interactive",
    "supportedImageNames": [
     "sagemaker-geospatial-v1-0"
    ],
    "vcpuNum": 0
   },
   {
    "_defaultOrder": 21,
    "_isFastLaunch": true,
    "category": "Compute optimized",
    "gpuNum": 0,
    "hideHardwareSpecs": false,
    "memoryGiB": 4,
    "name": "ml.c5.large",
    "vcpuNum": 2
   },
   {
    "_defaultOrder": 22,
    "_isFastLaunch": false,
    "category": "Compute optimized",
    "gpuNum": 0,
    "hideHardwareSpecs": false,
    "memoryGiB": 8,
    "name": "ml.c5.xlarge",
    "vcpuNum": 4
   },
   {
    "_defaultOrder": 23,
    "_isFastLaunch": false,
    "category": "Compute optimized",
    "gpuNum": 0,
    "hideHardwareSpecs": false,
    "memoryGiB": 16,
    "name": "ml.c5.2xlarge",
    "vcpuNum": 8
   },
   {
    "_defaultOrder": 24,
    "_isFastLaunch": false,
    "category": "Compute optimized",
    "gpuNum": 0,
    "hideHardwareSpecs": false,
    "memoryGiB": 32,
    "name": "ml.c5.4xlarge",
    "vcpuNum": 16
   },
   {
    "_defaultOrder": 25,
    "_isFastLaunch": false,
    "category": "Compute optimized",
    "gpuNum": 0,
    "hideHardwareSpecs": false,
    "memoryGiB": 72,
    "name": "ml.c5.9xlarge",
    "vcpuNum": 36
   },
   {
    "_defaultOrder": 26,
    "_isFastLaunch": false,
    "category": "Compute optimized",
    "gpuNum": 0,
    "hideHardwareSpecs": false,
    "memoryGiB": 96,
    "name": "ml.c5.12xlarge",
    "vcpuNum": 48
   },
   {
    "_defaultOrder": 27,
    "_isFastLaunch": false,
    "category": "Compute optimized",
    "gpuNum": 0,
    "hideHardwareSpecs": false,
    "memoryGiB": 144,
    "name": "ml.c5.18xlarge",
    "vcpuNum": 72
   },
   {
    "_defaultOrder": 28,
    "_isFastLaunch": false,
    "category": "Compute optimized",
    "gpuNum": 0,
    "hideHardwareSpecs": false,
    "memoryGiB": 192,
    "name": "ml.c5.24xlarge",
    "vcpuNum": 96
   },
   {
    "_defaultOrder": 29,
    "_isFastLaunch": true,
    "category": "Accelerated computing",
    "gpuNum": 1,
    "hideHardwareSpecs": false,
    "memoryGiB": 16,
    "name": "ml.g4dn.xlarge",
    "vcpuNum": 4
   },
   {
    "_defaultOrder": 30,
    "_isFastLaunch": false,
    "category": "Accelerated computing",
    "gpuNum": 1,
    "hideHardwareSpecs": false,
    "memoryGiB": 32,
    "name": "ml.g4dn.2xlarge",
    "vcpuNum": 8
   },
   {
    "_defaultOrder": 31,
    "_isFastLaunch": false,
    "category": "Accelerated computing",
    "gpuNum": 1,
    "hideHardwareSpecs": false,
    "memoryGiB": 64,
    "name": "ml.g4dn.4xlarge",
    "vcpuNum": 16
   },
   {
    "_defaultOrder": 32,
    "_isFastLaunch": false,
    "category": "Accelerated computing",
    "gpuNum": 1,
    "hideHardwareSpecs": false,
    "memoryGiB": 128,
    "name": "ml.g4dn.8xlarge",
    "vcpuNum": 32
   },
   {
    "_defaultOrder": 33,
    "_isFastLaunch": false,
    "category": "Accelerated computing",
    "gpuNum": 4,
    "hideHardwareSpecs": false,
    "memoryGiB": 192,
    "name": "ml.g4dn.12xlarge",
    "vcpuNum": 48
   },
   {
    "_defaultOrder": 34,
    "_isFastLaunch": false,
    "category": "Accelerated computing",
    "gpuNum": 1,
    "hideHardwareSpecs": false,
    "memoryGiB": 256,
    "name": "ml.g4dn.16xlarge",
    "vcpuNum": 64
   },
   {
    "_defaultOrder": 35,
    "_isFastLaunch": false,
    "category": "Accelerated computing",
    "gpuNum": 1,
    "hideHardwareSpecs": false,
    "memoryGiB": 61,
    "name": "ml.p3.2xlarge",
    "vcpuNum": 8
   },
   {
    "_defaultOrder": 36,
    "_isFastLaunch": false,
    "category": "Accelerated computing",
    "gpuNum": 4,
    "hideHardwareSpecs": false,
    "memoryGiB": 244,
    "name": "ml.p3.8xlarge",
    "vcpuNum": 32
   },
   {
    "_defaultOrder": 37,
    "_isFastLaunch": false,
    "category": "Accelerated computing",
    "gpuNum": 8,
    "hideHardwareSpecs": false,
    "memoryGiB": 488,
    "name": "ml.p3.16xlarge",
    "vcpuNum": 64
   },
   {
    "_defaultOrder": 38,
    "_isFastLaunch": false,
    "category": "Accelerated computing",
    "gpuNum": 8,
    "hideHardwareSpecs": false,
    "memoryGiB": 768,
    "name": "ml.p3dn.24xlarge",
    "vcpuNum": 96
   },
   {
    "_defaultOrder": 39,
    "_isFastLaunch": false,
    "category": "Memory Optimized",
    "gpuNum": 0,
    "hideHardwareSpecs": false,
    "memoryGiB": 16,
    "name": "ml.r5.large",
    "vcpuNum": 2
   },
   {
    "_defaultOrder": 40,
    "_isFastLaunch": false,
    "category": "Memory Optimized",
    "gpuNum": 0,
    "hideHardwareSpecs": false,
    "memoryGiB": 32,
    "name": "ml.r5.xlarge",
    "vcpuNum": 4
   },
   {
    "_defaultOrder": 41,
    "_isFastLaunch": false,
    "category": "Memory Optimized",
    "gpuNum": 0,
    "hideHardwareSpecs": false,
    "memoryGiB": 64,
    "name": "ml.r5.2xlarge",
    "vcpuNum": 8
   },
   {
    "_defaultOrder": 42,
    "_isFastLaunch": false,
    "category": "Memory Optimized",
    "gpuNum": 0,
    "hideHardwareSpecs": false,
    "memoryGiB": 128,
    "name": "ml.r5.4xlarge",
    "vcpuNum": 16
   },
   {
    "_defaultOrder": 43,
    "_isFastLaunch": false,
    "category": "Memory Optimized",
    "gpuNum": 0,
    "hideHardwareSpecs": false,
    "memoryGiB": 256,
    "name": "ml.r5.8xlarge",
    "vcpuNum": 32
   },
   {
    "_defaultOrder": 44,
    "_isFastLaunch": false,
    "category": "Memory Optimized",
    "gpuNum": 0,
    "hideHardwareSpecs": false,
    "memoryGiB": 384,
    "name": "ml.r5.12xlarge",
    "vcpuNum": 48
   },
   {
    "_defaultOrder": 45,
    "_isFastLaunch": false,
    "category": "Memory Optimized",
    "gpuNum": 0,
    "hideHardwareSpecs": false,
    "memoryGiB": 512,
    "name": "ml.r5.16xlarge",
    "vcpuNum": 64
   },
   {
    "_defaultOrder": 46,
    "_isFastLaunch": false,
    "category": "Memory Optimized",
    "gpuNum": 0,
    "hideHardwareSpecs": false,
    "memoryGiB": 768,
    "name": "ml.r5.24xlarge",
    "vcpuNum": 96
   },
   {
    "_defaultOrder": 47,
    "_isFastLaunch": false,
    "category": "Accelerated computing",
    "gpuNum": 1,
    "hideHardwareSpecs": false,
    "memoryGiB": 16,
    "name": "ml.g5.xlarge",
    "vcpuNum": 4
   },
   {
    "_defaultOrder": 48,
    "_isFastLaunch": false,
    "category": "Accelerated computing",
    "gpuNum": 1,
    "hideHardwareSpecs": false,
    "memoryGiB": 32,
    "name": "ml.g5.2xlarge",
    "vcpuNum": 8
   },
   {
    "_defaultOrder": 49,
    "_isFastLaunch": false,
    "category": "Accelerated computing",
    "gpuNum": 1,
    "hideHardwareSpecs": false,
    "memoryGiB": 64,
    "name": "ml.g5.4xlarge",
    "vcpuNum": 16
   },
   {
    "_defaultOrder": 50,
    "_isFastLaunch": false,
    "category": "Accelerated computing",
    "gpuNum": 1,
    "hideHardwareSpecs": false,
    "memoryGiB": 128,
    "name": "ml.g5.8xlarge",
    "vcpuNum": 32
   },
   {
    "_defaultOrder": 51,
    "_isFastLaunch": false,
    "category": "Accelerated computing",
    "gpuNum": 1,
    "hideHardwareSpecs": false,
    "memoryGiB": 256,
    "name": "ml.g5.16xlarge",
    "vcpuNum": 64
   },
   {
    "_defaultOrder": 52,
    "_isFastLaunch": false,
    "category": "Accelerated computing",
    "gpuNum": 4,
    "hideHardwareSpecs": false,
    "memoryGiB": 192,
    "name": "ml.g5.12xlarge",
    "vcpuNum": 48
   },
   {
    "_defaultOrder": 53,
    "_isFastLaunch": false,
    "category": "Accelerated computing",
    "gpuNum": 4,
    "hideHardwareSpecs": false,
    "memoryGiB": 384,
    "name": "ml.g5.24xlarge",
    "vcpuNum": 96
   },
   {
    "_defaultOrder": 54,
    "_isFastLaunch": false,
    "category": "Accelerated computing",
    "gpuNum": 8,
    "hideHardwareSpecs": false,
    "memoryGiB": 768,
    "name": "ml.g5.48xlarge",
    "vcpuNum": 192
   },
   {
    "_defaultOrder": 55,
    "_isFastLaunch": false,
    "category": "Accelerated computing",
    "gpuNum": 8,
    "hideHardwareSpecs": false,
    "memoryGiB": 1152,
    "name": "ml.p4d.24xlarge",
    "vcpuNum": 96
   },
   {
    "_defaultOrder": 56,
    "_isFastLaunch": false,
    "category": "Accelerated computing",
    "gpuNum": 8,
    "hideHardwareSpecs": false,
    "memoryGiB": 1152,
    "name": "ml.p4de.24xlarge",
    "vcpuNum": 96
   },
   {
    "_defaultOrder": 57,
    "_isFastLaunch": false,
    "category": "Accelerated computing",
    "gpuNum": 0,
    "hideHardwareSpecs": false,
    "memoryGiB": 32,
    "name": "ml.trn1.2xlarge",
    "vcpuNum": 8
   },
   {
    "_defaultOrder": 58,
    "_isFastLaunch": false,
    "category": "Accelerated computing",
    "gpuNum": 0,
    "hideHardwareSpecs": false,
    "memoryGiB": 512,
    "name": "ml.trn1.32xlarge",
    "vcpuNum": 128
   },
   {
    "_defaultOrder": 59,
    "_isFastLaunch": false,
    "category": "Accelerated computing",
    "gpuNum": 0,
    "hideHardwareSpecs": false,
    "memoryGiB": 512,
    "name": "ml.trn1n.32xlarge",
    "vcpuNum": 128
   }
  ],
  "instance_type": "ml.t3.xlarge",
  "kernelspec": {
   "display_name": "Python 3 (Data Science 3.0)",
   "language": "python",
   "name": "python3__SAGEMAKER_INTERNAL__arn:aws:sagemaker:us-east-1:081325390199:image/sagemaker-data-science-310-v1"
  },
  "language_info": {
   "codemirror_mode": {
    "name": "ipython",
    "version": 3
   },
   "file_extension": ".py",
   "mimetype": "text/x-python",
   "name": "python",
   "nbconvert_exporter": "python",
   "pygments_lexer": "ipython3",
   "version": "3.10.6"
  }
 },
 "nbformat": 4,
 "nbformat_minor": 5
}
