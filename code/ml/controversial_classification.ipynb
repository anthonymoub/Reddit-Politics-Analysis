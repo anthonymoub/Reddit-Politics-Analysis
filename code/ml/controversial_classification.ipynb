{
 "cells": [
  {
   "cell_type": "markdown",
   "id": "469a0cbd-1377-4671-9fb8-37401cc0af7a",
   "metadata": {},
   "source": [
    "# Setup"
   ]
  },
  {
   "cell_type": "code",
   "execution_count": 2,
   "id": "19d1254c-0d13-4fa8-b86a-7602c80c8a7c",
   "metadata": {
    "tags": []
   },
   "outputs": [
    {
     "name": "stdout",
     "output_type": "stream",
     "text": [
      "Retrieving notices: ...working... done\n",
      "Collecting package metadata (current_repodata.json): done\n",
      "Solving environment: done\n",
      "\n",
      "\n",
      "==> WARNING: A newer version of conda exists. <==\n",
      "  current version: 23.3.1\n",
      "  latest version: 23.11.0\n",
      "\n",
      "Please update conda by running\n",
      "\n",
      "    $ conda update -n base -c defaults conda\n",
      "\n",
      "Or to minimize the number of packages updated during conda update use\n",
      "\n",
      "     conda install conda=23.11.0\n",
      "\n",
      "\n",
      "\n",
      "## Package Plan ##\n",
      "\n",
      "  environment location: /opt/conda\n",
      "\n",
      "  added / updated specs:\n",
      "    - openjdk\n",
      "\n",
      "\n",
      "The following packages will be downloaded:\n",
      "\n",
      "    package                    |            build\n",
      "    ---------------------------|-----------------\n",
      "    ca-certificates-2023.08.22 |       h06a4308_0         123 KB\n",
      "    certifi-2023.11.17         |  py310h06a4308_0         158 KB\n",
      "    openjdk-11.0.13            |       h87a67e3_0       341.0 MB\n",
      "    ------------------------------------------------------------\n",
      "                                           Total:       341.3 MB\n",
      "\n",
      "The following NEW packages will be INSTALLED:\n",
      "\n",
      "  openjdk            pkgs/main/linux-64::openjdk-11.0.13-h87a67e3_0 \n",
      "\n",
      "The following packages will be UPDATED:\n",
      "\n",
      "  ca-certificates    conda-forge::ca-certificates-2023.7.2~ --> pkgs/main::ca-certificates-2023.08.22-h06a4308_0 \n",
      "  certifi            conda-forge/noarch::certifi-2023.7.22~ --> pkgs/main/linux-64::certifi-2023.11.17-py310h06a4308_0 \n",
      "\n",
      "\n",
      "\n",
      "Downloading and Extracting Packages\n",
      "ca-certificates-2023 | 123 KB    |                                       |   0% \n",
      "certifi-2023.11.17   | 158 KB    |                                       |   0% \u001b[A\n",
      "\n",
      "ca-certificates-2023 | 123 KB    | ##################################### | 100% \u001b[A\u001b[A\n",
      "\n",
      "ca-certificates-2023 | 123 KB    | ##################################### | 100% \u001b[A\u001b[A\n",
      "certifi-2023.11.17   | 158 KB    | ##################################### | 100% \u001b[A\n",
      "certifi-2023.11.17   | 158 KB    | ##################################### | 100% \u001b[A\n",
      "\n",
      "openjdk-11.0.13      | 341.0 MB  | #4                                    |   4% \u001b[A\u001b[A\n",
      "\n",
      "openjdk-11.0.13      | 341.0 MB  | ##4                                   |   7% \u001b[A\u001b[A\n",
      "\n",
      "openjdk-11.0.13      | 341.0 MB  | ###5                                  |   9% \u001b[A\u001b[A\n",
      "\n",
      "openjdk-11.0.13      | 341.0 MB  | ####6                                 |  13% \u001b[A\u001b[A\n",
      "\n",
      "openjdk-11.0.13      | 341.0 MB  | #####8                                |  16% \u001b[A\u001b[A\n",
      "\n",
      "openjdk-11.0.13      | 341.0 MB  | #######2                              |  20% \u001b[A\u001b[A\n",
      "\n",
      "openjdk-11.0.13      | 341.0 MB  | ########6                             |  23% \u001b[A\u001b[A\n",
      "\n",
      "openjdk-11.0.13      | 341.0 MB  | ##########                            |  27% \u001b[A\u001b[A\n",
      "\n",
      "openjdk-11.0.13      | 341.0 MB  | ###########6                          |  31% \u001b[A\u001b[A\n",
      "\n",
      "openjdk-11.0.13      | 341.0 MB  | #############                         |  35% \u001b[A\u001b[A\n",
      "\n",
      "openjdk-11.0.13      | 341.0 MB  | ##############3                       |  39% \u001b[A\u001b[A\n",
      "\n",
      "openjdk-11.0.13      | 341.0 MB  | ###############6                      |  42% \u001b[A\u001b[A\n",
      "\n",
      "openjdk-11.0.13      | 341.0 MB  | ################9                     |  46% \u001b[A\u001b[A\n",
      "\n",
      "openjdk-11.0.13      | 341.0 MB  | ##################5                   |  50% \u001b[A\u001b[A\n",
      "\n",
      "openjdk-11.0.13      | 341.0 MB  | ####################1                 |  55% \u001b[A\u001b[A\n",
      "\n",
      "openjdk-11.0.13      | 341.0 MB  | #####################6                |  59% \u001b[A\u001b[A\n",
      "\n",
      "openjdk-11.0.13      | 341.0 MB  | #######################               |  62% \u001b[A\u001b[A\n",
      "\n",
      "openjdk-11.0.13      | 341.0 MB  | ########################6             |  67% \u001b[A\u001b[A\n",
      "\n",
      "openjdk-11.0.13      | 341.0 MB  | ##########################3           |  71% \u001b[A\u001b[A\n",
      "\n",
      "openjdk-11.0.13      | 341.0 MB  | ############################1         |  76% \u001b[A\u001b[A\n",
      "\n",
      "openjdk-11.0.13      | 341.0 MB  | #############################7        |  80% \u001b[A\u001b[A\n",
      "\n",
      "openjdk-11.0.13      | 341.0 MB  | ###############################5      |  85% \u001b[A\u001b[A\n",
      "\n",
      "openjdk-11.0.13      | 341.0 MB  | #################################2    |  90% \u001b[A\u001b[A\n",
      "\n",
      "openjdk-11.0.13      | 341.0 MB  | ##################################9   |  94% \u001b[A\u001b[A\n",
      "\n",
      "openjdk-11.0.13      | 341.0 MB  | ####################################6 |  99% \u001b[A\u001b[A\n",
      "\n",
      "                                                                                \u001b[A\u001b[A\n",
      "                                                                                \u001b[A\n",
      "\n",
      "                                                                                \u001b[A\u001b[A\n",
      "Preparing transaction: done\n",
      "Verifying transaction: done\n",
      "Executing transaction: done\n",
      "\n",
      "Note: you may need to restart the kernel to use updated packages.\n",
      "Collecting pyspark==3.4.0\n",
      "  Using cached pyspark-3.4.0-py2.py3-none-any.whl\n",
      "Collecting py4j==0.10.9.7 (from pyspark==3.4.0)\n",
      "  Using cached py4j-0.10.9.7-py2.py3-none-any.whl (200 kB)\n",
      "Installing collected packages: py4j, pyspark\n",
      "Successfully installed py4j-0.10.9.7 pyspark-3.4.0\n",
      "\u001b[33mWARNING: Running pip as the 'root' user can result in broken permissions and conflicting behaviour with the system package manager. It is recommended to use a virtual environment instead: https://pip.pypa.io/warnings/venv\u001b[0m\u001b[33m\n",
      "\u001b[0m\n",
      "\u001b[1m[\u001b[0m\u001b[34;49mnotice\u001b[0m\u001b[1;39;49m]\u001b[0m\u001b[39;49m A new release of pip is available: \u001b[0m\u001b[31;49m23.2.1\u001b[0m\u001b[39;49m -> \u001b[0m\u001b[32;49m23.3.1\u001b[0m\n",
      "\u001b[1m[\u001b[0m\u001b[34;49mnotice\u001b[0m\u001b[1;39;49m]\u001b[0m\u001b[39;49m To update, run: \u001b[0m\u001b[32;49mpip install --upgrade pip\u001b[0m\n",
      "Note: you may need to restart the kernel to use updated packages.\n",
      "Collecting spark-nlp==5.1.3\n",
      "  Obtaining dependency information for spark-nlp==5.1.3 from https://files.pythonhosted.org/packages/cd/7d/bc0eca4c9ec4c9c1d9b28c42c2f07942af70980a7d912d0aceebf8db32dd/spark_nlp-5.1.3-py2.py3-none-any.whl.metadata\n",
      "  Using cached spark_nlp-5.1.3-py2.py3-none-any.whl.metadata (53 kB)\n",
      "Using cached spark_nlp-5.1.3-py2.py3-none-any.whl (537 kB)\n",
      "Installing collected packages: spark-nlp\n",
      "Successfully installed spark-nlp-5.1.3\n",
      "\u001b[33mWARNING: Running pip as the 'root' user can result in broken permissions and conflicting behaviour with the system package manager. It is recommended to use a virtual environment instead: https://pip.pypa.io/warnings/venv\u001b[0m\u001b[33m\n",
      "\u001b[0m\n",
      "\u001b[1m[\u001b[0m\u001b[34;49mnotice\u001b[0m\u001b[1;39;49m]\u001b[0m\u001b[39;49m A new release of pip is available: \u001b[0m\u001b[31;49m23.2.1\u001b[0m\u001b[39;49m -> \u001b[0m\u001b[32;49m23.3.1\u001b[0m\n",
      "\u001b[1m[\u001b[0m\u001b[34;49mnotice\u001b[0m\u001b[1;39;49m]\u001b[0m\u001b[39;49m To update, run: \u001b[0m\u001b[32;49mpip install --upgrade pip\u001b[0m\n",
      "Note: you may need to restart the kernel to use updated packages.\n"
     ]
    },
    {
     "data": {
      "text/html": [
       "<script>Jupyter.notebook.kernel.restart()</script>"
      ],
      "text/plain": [
       "<IPython.core.display.HTML object>"
      ]
     },
     "execution_count": 2,
     "metadata": {},
     "output_type": "execute_result"
    }
   ],
   "source": [
    "# Setup - Run only once per Kernel App\n",
    "%conda install openjdk -y\n",
    "\n",
    "# install PySpark\n",
    "%pip install pyspark==3.4.0\n",
    "\n",
    "# install spark-nlp\n",
    "%pip install spark-nlp==5.1.3\n",
    "\n",
    "# restart kernel\n",
    "from IPython.core.display import HTML\n",
    "HTML(\"<script>Jupyter.notebook.kernel.restart()</script>\")"
   ]
  },
  {
   "cell_type": "code",
   "execution_count": 3,
   "id": "92ec8839-8e1d-4007-b7e2-b85165e7cba7",
   "metadata": {
    "tags": []
   },
   "outputs": [
    {
     "name": "stdout",
     "output_type": "stream",
     "text": [
      "sagemaker.config INFO - Not applying SDK defaults from location: /etc/xdg/sagemaker/config.yaml\n",
      "sagemaker.config INFO - Not applying SDK defaults from location: /root/.config/sagemaker/config.yaml\n",
      "sagemaker.config INFO - Not applying SDK defaults from location: /etc/xdg/sagemaker/config.yaml\n",
      "sagemaker.config INFO - Not applying SDK defaults from location: /root/.config/sagemaker/config.yaml\n"
     ]
    },
    {
     "name": "stderr",
     "output_type": "stream",
     "text": [
      "Warning: Ignoring non-Spark config property: fs.s3a.aws.credentials.provider\n"
     ]
    },
    {
     "name": "stdout",
     "output_type": "stream",
     "text": [
      ":: loading settings :: url = jar:file:/opt/conda/lib/python3.10/site-packages/pyspark/jars/ivy-2.5.1.jar!/org/apache/ivy/core/settings/ivysettings.xml\n"
     ]
    },
    {
     "name": "stderr",
     "output_type": "stream",
     "text": [
      "Ivy Default Cache set to: /root/.ivy2/cache\n",
      "The jars for the packages stored in: /root/.ivy2/jars\n",
      "org.apache.hadoop#hadoop-aws added as a dependency\n",
      ":: resolving dependencies :: org.apache.spark#spark-submit-parent-8476217e-eb24-47a1-be75-90bef2003fc9;1.0\n",
      "\tconfs: [default]\n",
      "\tfound org.apache.hadoop#hadoop-aws;3.2.2 in central\n",
      "\tfound com.amazonaws#aws-java-sdk-bundle;1.11.563 in central\n",
      ":: resolution report :: resolve 378ms :: artifacts dl 22ms\n",
      "\t:: modules in use:\n",
      "\tcom.amazonaws#aws-java-sdk-bundle;1.11.563 from central in [default]\n",
      "\torg.apache.hadoop#hadoop-aws;3.2.2 from central in [default]\n",
      "\t---------------------------------------------------------------------\n",
      "\t|                  |            modules            ||   artifacts   |\n",
      "\t|       conf       | number| search|dwnlded|evicted|| number|dwnlded|\n",
      "\t---------------------------------------------------------------------\n",
      "\t|      default     |   2   |   0   |   0   |   0   ||   2   |   0   |\n",
      "\t---------------------------------------------------------------------\n",
      ":: retrieving :: org.apache.spark#spark-submit-parent-8476217e-eb24-47a1-be75-90bef2003fc9\n",
      "\tconfs: [default]\n",
      "\t0 artifacts copied, 2 already retrieved (0kB/16ms)\n",
      "23/12/07 02:13:54 WARN NativeCodeLoader: Unable to load native-hadoop library for your platform... using builtin-java classes where applicable\n",
      "Setting default log level to \"WARN\".\n",
      "To adjust logging level use sc.setLogLevel(newLevel). For SparkR, use setLogLevel(newLevel).\n"
     ]
    },
    {
     "name": "stdout",
     "output_type": "stream",
     "text": [
      "3.4.0\n"
     ]
    }
   ],
   "source": [
    "import sagemaker\n",
    "session = sagemaker.Session()\n",
    "bucket = session.default_bucket()\n",
    "\n",
    "# Import pyspark and build Spark session\n",
    "from pyspark.sql import SparkSession\n",
    "\n",
    "spark = (\n",
    "    SparkSession.builder.appName(\"PySparkApp\")\n",
    "    .config(\"spark.jars.packages\", \"org.apache.hadoop:hadoop-aws:3.2.2\")\n",
    "    .config(\n",
    "        \"fs.s3a.aws.credentials.provider\",\n",
    "        \"com.amazonaws.auth.ContainerCredentialsProvider\",\n",
    "    )\n",
    "    .getOrCreate()\n",
    ")\n",
    "\n",
    "print(spark.version)"
   ]
  },
  {
   "cell_type": "markdown",
   "id": "3432de79-c9ee-4971-a671-6335316bdefe",
   "metadata": {},
   "source": [
    "## Load in Comments Dataframes"
   ]
  },
  {
   "cell_type": "code",
   "execution_count": 4,
   "id": "d696120d-15b2-4bdf-81dc-85ff0535c1b8",
   "metadata": {
    "tags": []
   },
   "outputs": [
    {
     "name": "stderr",
     "output_type": "stream",
     "text": [
      "23/12/07 02:13:59 WARN MetricsConfig: Cannot locate configuration: tried hadoop-metrics2-s3a-file-system.properties,hadoop-metrics2.properties\n",
      "                                                                                \r"
     ]
    }
   ],
   "source": [
    "# Tegveer's S3 -- DO NOT CHANGE\n",
    "s3_directory_comms = f\"s3a://sagemaker-us-east-1-433974840707/project/ml_comments/\"\n",
    "\n",
    "# Read all the Parquet files in the directory into a DataFrame\n",
    "df_comments = spark.read.parquet(s3_directory_comms)"
   ]
  },
  {
   "cell_type": "code",
   "execution_count": 5,
   "id": "c4906f32-9a9f-41d8-92db-3cc6d1849801",
   "metadata": {
    "tags": []
   },
   "outputs": [
    {
     "name": "stderr",
     "output_type": "stream",
     "text": [
      "[Stage 1:=============================>                             (2 + 2) / 4]\r"
     ]
    },
    {
     "name": "stdout",
     "output_type": "stream",
     "text": [
      "Number of records in sampled and filtered df:  13242001\n"
     ]
    },
    {
     "name": "stderr",
     "output_type": "stream",
     "text": [
      "                                                                                \r"
     ]
    }
   ],
   "source": [
    "print(\"Number of records in sampled and filtered df: \", df_comments.count())"
   ]
  },
  {
   "cell_type": "code",
   "execution_count": 6,
   "id": "36973a06-bb9f-4815-8513-0bceae3f88c1",
   "metadata": {
    "tags": []
   },
   "outputs": [
    {
     "name": "stderr",
     "output_type": "stream",
     "text": [
      "[Stage 4:============================================>              (3 + 1) / 4]\r"
     ]
    },
    {
     "name": "stdout",
     "output_type": "stream",
     "text": [
      "+----------------+--------+\n",
      "|controversiality|   count|\n",
      "+----------------+--------+\n",
      "|               0|12311780|\n",
      "|               1|  930221|\n",
      "+----------------+--------+\n",
      "\n"
     ]
    },
    {
     "name": "stderr",
     "output_type": "stream",
     "text": [
      "                                                                                \r"
     ]
    }
   ],
   "source": [
    "df_comments.groupby('controversiality').count().show()"
   ]
  },
  {
   "cell_type": "code",
   "execution_count": 7,
   "id": "4fe71bd7-89d3-4c11-b8a0-1037309e53d0",
   "metadata": {
    "tags": []
   },
   "outputs": [
    {
     "name": "stdout",
     "output_type": "stream",
     "text": [
      "root\n",
      " |-- controversiality: string (nullable = true)\n",
      " |-- distinguished: string (nullable = true)\n",
      " |-- subreddit: string (nullable = true)\n",
      " |-- year: integer (nullable = true)\n",
      " |-- month: integer (nullable = true)\n",
      " |-- day: integer (nullable = true)\n",
      " |-- gilded: integer (nullable = true)\n",
      " |-- score: integer (nullable = true)\n",
      " |-- weight: double (nullable = true)\n",
      "\n"
     ]
    }
   ],
   "source": [
    "df_comments.printSchema()"
   ]
  },
  {
   "cell_type": "markdown",
   "id": "eb003fb5-e22c-44a1-b8ad-ad502181d640",
   "metadata": {},
   "source": [
    "# Load in models + Evaluate performance"
   ]
  },
  {
   "cell_type": "code",
   "execution_count": 5,
   "id": "8dacd045-7a41-4b2a-bc71-2bb005d774f6",
   "metadata": {
    "tags": []
   },
   "outputs": [],
   "source": [
    "from pyspark.ml.feature import OneHotEncoder, StringIndexer, IndexToString, VectorAssembler\n",
    "from pyspark.ml.classification import RandomForestClassifier, LogisticRegression, NaiveBayes\n",
    "from pyspark.ml.evaluation import BinaryClassificationEvaluator, MulticlassClassificationEvaluator\n",
    "from pyspark.ml import Pipeline, Model\n",
    "from sklearn.metrics import confusion_matrix, ConfusionMatrixDisplay\n",
    "from sklearn.metrics import roc_curve, auc\n",
    "from pyspark.ml.pipeline import PipelineModel\n",
    "import matplotlib.pyplot as plt\n",
    "import seaborn as sns"
   ]
  },
  {
   "cell_type": "code",
   "execution_count": 6,
   "id": "a114c35e-1d4c-408e-8879-54d4b8a40c80",
   "metadata": {
    "tags": []
   },
   "outputs": [
    {
     "name": "stderr",
     "output_type": "stream",
     "text": [
      "WARNING: An illegal reflective access operation has occurred                    \n",
      "WARNING: Illegal reflective access by org.apache.spark.util.SizeEstimator$ (file:/opt/conda/lib/python3.10/site-packages/pyspark/jars/spark-core_2.12-3.4.0.jar) to field java.math.BigInteger.mag\n",
      "WARNING: Please consider reporting this to the maintainers of org.apache.spark.util.SizeEstimator$\n",
      "WARNING: Use --illegal-access=warn to enable warnings of further illegal reflective access operations\n",
      "WARNING: All illegal access operations will be denied in a future release\n"
     ]
    }
   ],
   "source": [
    "# random forest\n",
    "rf_path = \"s3a://sagemaker-us-east-1-433974840707/project/ml/rf/rf.model\"\n",
    "rf = PipelineModel.load(rf_path)\n",
    "\n",
    "# log reg\n",
    "lr_path = \"s3a://sagemaker-us-east-1-433974840707/project/ml/lr/lr.model\"\n",
    "lr = PipelineModel.load(lr_path)\n",
    "\n",
    "# gradient boosted tree\n",
    "gbt_path = \"s3a://sagemaker-us-east-1-433974840707/project/ml/gbt/gbt.model\"\n",
    "gbt = PipelineModel.load(gbt_path)\n",
    "\n",
    "# svm\n",
    "svm_path = \"s3a://sagemaker-us-east-1-433974840707/project/ml/svm/svm.model\"\n",
    "svm = PipelineModel.load(svm_path)"
   ]
  },
  {
   "cell_type": "markdown",
   "id": "03422a99-49d2-4255-992d-2643bb8cb571",
   "metadata": {
    "tags": []
   },
   "source": [
    "## Split data into train, test, and validation"
   ]
  },
  {
   "cell_type": "code",
   "execution_count": 7,
   "id": "59cbbf87-1c27-4714-ad56-87ef3d5b8e12",
   "metadata": {
    "tags": []
   },
   "outputs": [
    {
     "name": "stderr",
     "output_type": "stream",
     "text": [
      "                                                                                \r"
     ]
    },
    {
     "name": "stdout",
     "output_type": "stream",
     "text": [
      "Number of training records: 9931987\n"
     ]
    },
    {
     "name": "stderr",
     "output_type": "stream",
     "text": [
      "[Stage 118:==========================================>              (3 + 1) / 4]\r"
     ]
    },
    {
     "name": "stdout",
     "output_type": "stream",
     "text": [
      "Number of testing records : 3310014\n"
     ]
    },
    {
     "name": "stderr",
     "output_type": "stream",
     "text": [
      "                                                                                \r"
     ]
    },
    {
     "data": {
      "text/plain": [
       "DataFrame[controversiality: string, distinguished: string, subreddit: string, year: int, month: int, day: int, gilded: int, score: int, weight: double]"
      ]
     },
     "execution_count": 7,
     "metadata": {},
     "output_type": "execute_result"
    }
   ],
   "source": [
    "train_data, test_data = df_comments.randomSplit([0.75, 0.25], 24)\n",
    "print(\"Number of training records: \" + str(train_data.count()))\n",
    "print(\"Number of testing records : \" + str(test_data.count()))\n",
    "#print(\"Number of validation records : \" + str(val_data.count()))\n",
    "train_data.cache()"
   ]
  },
  {
   "cell_type": "markdown",
   "id": "ae0124df-41ac-4005-87f8-a9ec190e0cce",
   "metadata": {},
   "source": [
    "# Random Forests"
   ]
  },
  {
   "cell_type": "markdown",
   "id": "578017b3-fdf1-4d22-a999-e8f2377894c3",
   "metadata": {},
   "source": [
    "## Fit Pipeline and Train Model"
   ]
  },
  {
   "cell_type": "code",
   "execution_count": 11,
   "id": "6597266f-9ec9-478c-a9e6-2cb4d7baf8e0",
   "metadata": {
    "tags": []
   },
   "outputs": [
    {
     "name": "stderr",
     "output_type": "stream",
     "text": [
      "[Stage 127:>                                                        (0 + 1) / 1]\r"
     ]
    },
    {
     "name": "stdout",
     "output_type": "stream",
     "text": [
      "+----------------+-------------+------------+----+-----+---+------+-----+------------------+--------------------+----------------+------------+-------------+--------------------+--------------------+--------------------+----------+-------------------------+\n",
      "|controversiality|distinguished|   subreddit|year|month|day|gilded|score|            weight|controversiality_str|distinguished_ix|subreddit_ix|subreddit_vec|            features|       rawPrediction|         probability|prediction|predictedControversiality|\n",
      "+----------------+-------------+------------+----+-----+---+------+-----+------------------+--------------------+----------------+------------+-------------+--------------------+--------------------+--------------------+----------+-------------------------+\n",
      "|               0|           no|Ask_Politics|2021|    1|  1|     0|   -9|0.5377776812126273|                 0.0|             0.0|         8.0|    (8,[],[])|[0.0,2021.0,1.0,1...|[5.96373789345213...|[0.19879126311507...|       1.0|                        1|\n",
      "|               0|           no|Ask_Politics|2021|    1|  1|     0|   -2|0.5377776812126273|                 0.0|             0.0|         8.0|    (8,[],[])|[0.0,2021.0,1.0,1...|[5.96373789345213...|[0.19879126311507...|       1.0|                        1|\n",
      "|               0|           no|Ask_Politics|2021|    1|  1|     0|    1|0.5377776812126273|                 0.0|             0.0|         8.0|    (8,[],[])|[0.0,2021.0,1.0,1...|[19.1578118084798...|[0.63859372694932...|       0.0|                        0|\n",
      "|               0|           no|Ask_Politics|2021|    1|  1|     0|    1|0.5377776812126273|                 0.0|             0.0|         8.0|    (8,[],[])|[0.0,2021.0,1.0,1...|[19.1578118084798...|[0.63859372694932...|       0.0|                        0|\n",
      "|               0|           no|Ask_Politics|2021|    1|  1|     0|    1|0.5377776812126273|                 0.0|             0.0|         8.0|    (8,[],[])|[0.0,2021.0,1.0,1...|[19.1578118084798...|[0.63859372694932...|       0.0|                        0|\n",
      "+----------------+-------------+------------+----+-----+---+------+-----+------------------+--------------------+----------------+------------+-------------+--------------------+--------------------+--------------------+----------+-------------------------+\n",
      "only showing top 5 rows\n",
      "\n"
     ]
    },
    {
     "name": "stderr",
     "output_type": "stream",
     "text": [
      "                                                                                \r"
     ]
    }
   ],
   "source": [
    "predictions_train = rf.transform(train_data)\n",
    "predictions_train.show(5)"
   ]
  },
  {
   "cell_type": "markdown",
   "id": "7471a3f2-e2df-4038-9b67-6da8f9d472fc",
   "metadata": {},
   "source": [
    "## Model Train Results"
   ]
  },
  {
   "cell_type": "code",
   "execution_count": 12,
   "id": "b2866207-950f-4fe2-a39d-abbec6b3b56e",
   "metadata": {
    "tags": []
   },
   "outputs": [
    {
     "name": "stderr",
     "output_type": "stream",
     "text": [
      "                                                                                \r"
     ]
    }
   ],
   "source": [
    "evaluator = MulticlassClassificationEvaluator(labelCol=\"controversiality_str\", predictionCol=\"prediction\", metricName=\"accuracy\")\n",
    "accuracy = evaluator.evaluate(predictions_train)"
   ]
  },
  {
   "cell_type": "code",
   "execution_count": 13,
   "id": "466db621-a6e4-484e-86c8-f2b8f23de707",
   "metadata": {
    "tags": []
   },
   "outputs": [
    {
     "name": "stdout",
     "output_type": "stream",
     "text": [
      "Train Accuracy = 0.841495\n",
      "Train Error = 0.158505\n"
     ]
    }
   ],
   "source": [
    "print(\"Train Accuracy = %g\" % accuracy)\n",
    "print(\"Train Error = %g\" % (1.0 - accuracy))"
   ]
  },
  {
   "cell_type": "code",
   "execution_count": 14,
   "id": "5a454cc1-3fe3-475c-af5a-50d6b511ea25",
   "metadata": {},
   "outputs": [
    {
     "name": "stderr",
     "output_type": "stream",
     "text": [
      "                                                                                \r"
     ]
    }
   ],
   "source": [
    "y_pred_train=predictions_train.select(\"prediction\").collect()\n",
    "y_orig_train=predictions_train.select(\"controversiality_str\").collect()"
   ]
  },
  {
   "cell_type": "code",
   "execution_count": 15,
   "id": "a4e1a620-bf90-4e2e-a48a-c88bbcb40590",
   "metadata": {
    "tags": []
   },
   "outputs": [
    {
     "name": "stdout",
     "output_type": "stream",
     "text": [
      "Confusion Matrix:\n",
      "[[8010817 1223481]\n",
      " [ 350792  346897]]\n"
     ]
    }
   ],
   "source": [
    "cm = confusion_matrix(y_orig_train, y_pred_train)\n",
    "print(\"Confusion Matrix:\")\n",
    "print(cm)"
   ]
  },
  {
   "cell_type": "markdown",
   "id": "e2bcb58f-53f6-4f08-beb8-47de14049244",
   "metadata": {},
   "source": [
    "## Model Test Results"
   ]
  },
  {
   "cell_type": "code",
   "execution_count": 8,
   "id": "be01f19c-c15d-4aea-b72f-430759d68cd8",
   "metadata": {
    "tags": []
   },
   "outputs": [],
   "source": [
    "predictions_test = rf.transform(test_data)"
   ]
  },
  {
   "cell_type": "code",
   "execution_count": 17,
   "id": "3997e47a-480c-4ba5-add7-35c06f59a43b",
   "metadata": {
    "tags": []
   },
   "outputs": [
    {
     "name": "stderr",
     "output_type": "stream",
     "text": [
      "                                                                                \r"
     ]
    }
   ],
   "source": [
    "# Evaluate the model using ROC AUC\n",
    "rf_fpr, rf_tpr, thresholds = roc_curve(predictions_test.select(\"controversiality_str\").collect(), predictions_test.select(\"probability\").rdd.map(lambda x: x[0][1]).collect())\n",
    "rf_roc_auc = auc(rf_fpr, rf_tpr)"
   ]
  },
  {
   "cell_type": "code",
   "execution_count": 18,
   "id": "442a1cab-1c04-4b7f-a188-dd38076e2c78",
   "metadata": {
    "tags": []
   },
   "outputs": [
    {
     "name": "stderr",
     "output_type": "stream",
     "text": [
      "                                                                                \r"
     ]
    }
   ],
   "source": [
    "evaluator = MulticlassClassificationEvaluator(labelCol=\"controversiality_str\", predictionCol=\"prediction\", metricName=\"accuracy\")\n",
    "accuracy = evaluator.evaluate(predictions_test)\n",
    "f1_score = evaluator.evaluate(predictions_test)\n",
    "precision = evaluator.evaluate(predictions_test)\n",
    "recall = evaluator.evaluate(predictions_test)"
   ]
  },
  {
   "cell_type": "code",
   "execution_count": 19,
   "id": "e339962d-5b35-4ecf-8165-e07b54be342e",
   "metadata": {
    "tags": []
   },
   "outputs": [
    {
     "name": "stdout",
     "output_type": "stream",
     "text": [
      "Test Accuracy = 0.841073\n",
      "Test Error = 0.158927\n"
     ]
    }
   ],
   "source": [
    "print(\"Test Accuracy = %g\" % accuracy)\n",
    "print(\"Test Error = %g\" % (1.0 - accuracy))\n",
    "print(f\"F1-score: {f1_score}\")\n",
    "print(f\"Precision: {precision}\")\n",
    "print(f\"Recall: {recall}\")"
   ]
  },
  {
   "cell_type": "code",
   "execution_count": 9,
   "id": "1eca830f-a555-4696-b25d-368ce4a3fa45",
   "metadata": {
    "tags": []
   },
   "outputs": [
    {
     "name": "stderr",
     "output_type": "stream",
     "text": [
      "                                                                                \r"
     ]
    }
   ],
   "source": [
    "y_pred_test=predictions_test.select(\"prediction\").collect()\n",
    "y_orig_test=predictions_test.select(\"controversiality_str\").collect()"
   ]
  },
  {
   "cell_type": "code",
   "execution_count": 10,
   "id": "c21ebcdd-f7fb-4e01-83d9-878f6cf594e2",
   "metadata": {
    "tags": []
   },
   "outputs": [
    {
     "name": "stdout",
     "output_type": "stream",
     "text": [
      "Confusion Matrix:\n",
      "[[2668634  408848]\n",
      " [ 117204  115328]]\n"
     ]
    }
   ],
   "source": [
    "cm = confusion_matrix(y_orig_test, y_pred_test)\n",
    "print(\"Confusion Matrix:\")\n",
    "print(cm)"
   ]
  },
  {
   "cell_type": "code",
   "execution_count": 22,
   "id": "d6fcd12b-06e6-4dcd-9cd6-90833b584749",
   "metadata": {
    "tags": []
   },
   "outputs": [
    {
     "name": "stderr",
     "output_type": "stream",
     "text": [
      "                                                                                \r"
     ]
    }
   ],
   "source": [
    "binary_evaluator = BinaryClassificationEvaluator(labelCol=\"controversiality_str\", rawPredictionCol=\"prediction\", metricName=\"areaUnderROC\")\n",
    "au_roc_test = binary_evaluator.evaluate(predictions_test)"
   ]
  },
  {
   "cell_type": "code",
   "execution_count": 23,
   "id": "307299af-a165-4bd4-8781-50bf10131e3f",
   "metadata": {
    "tags": []
   },
   "outputs": [
    {
     "name": "stdout",
     "output_type": "stream",
     "text": [
      "Test Area Under ROC = 0.681557\n"
     ]
    }
   ],
   "source": [
    "print(\"Test Area Under ROC = %g\" % au_roc_test)"
   ]
  },
  {
   "cell_type": "code",
   "execution_count": 11,
   "id": "859dc95e-b872-4b52-88d9-cf7e7cfe1305",
   "metadata": {
    "tags": []
   },
   "outputs": [
    {
     "data": {
      "image/png": "[encoded data removed]",
      "text/plain": [
       "<Figure size 640x480 with 2 Axes>"
      ]
     },
     "metadata": {},
     "output_type": "display_data"
    }
   ],
   "source": [
    "sns.heatmap(cm, annot=True, fmt='d')\n",
    "# Save plot\n",
    "plt.title(\"Test Set Confusion Matrix - Random Forest\")\n",
    "plt.xlabel(\"Predicted Label\")\n",
    "plt.ylabel(\"True Label\")  \n",
    "plt.savefig('../../data/plots/test_conf_mtx_rf.png',bbox_inches='tight')\n",
    "plt.savefig('../../website-source/test_conf_mtx_rf.png',bbox_inches='tight')\n",
    "plt.show()"
   ]
  },
  {
   "cell_type": "markdown",
   "id": "408b34bd-8ecc-4a23-9c86-0eb3f1595f39",
   "metadata": {},
   "source": [
    "# Logistic Regression"
   ]
  },
  {
   "cell_type": "markdown",
   "id": "4d0c67c4-1d94-42b6-af23-5d2db9b72b5a",
   "metadata": {},
   "source": [
    "## Model Train Results"
   ]
  },
  {
   "cell_type": "code",
   "execution_count": 25,
   "id": "2cddb06a-c163-4819-88cd-9595f7f14ff2",
   "metadata": {
    "tags": []
   },
   "outputs": [
    {
     "name": "stdout",
     "output_type": "stream",
     "text": [
      "+----------------+-------------+------------+----+-----+---+------+-----+------------------+--------------------+----------------+------------+-------------+--------------------+--------------------+--------------------+----------+-------------------------+\n",
      "|controversiality|distinguished|   subreddit|year|month|day|gilded|score|            weight|controversiality_str|distinguished_ix|subreddit_ix|subreddit_vec|            features|       rawPrediction|         probability|prediction|predictedControversiality|\n",
      "+----------------+-------------+------------+----+-----+---+------+-----+------------------+--------------------+----------------+------------+-------------+--------------------+--------------------+--------------------+----------+-------------------------+\n",
      "|               0|           no|Ask_Politics|2021|    1|  1|     0|   -9|0.5377776812126273|                 0.0|             0.0|         8.0|    (8,[],[])|[0.0,2021.0,1.0,1...|[-1.0670038598624...|[0.25597328462265...|       1.0|                        1|\n",
      "|               0|           no|Ask_Politics|2021|    1|  1|     0|   -2|0.5377776812126273|                 0.0|             0.0|         8.0|    (8,[],[])|[0.0,2021.0,1.0,1...|[-0.4465814496405...|[0.39017386377133...|       1.0|                        1|\n",
      "|               0|           no|Ask_Politics|2021|    1|  1|     0|    1|0.5377776812126273|                 0.0|             0.0|         8.0|    (8,[],[])|[0.0,2021.0,1.0,1...|[-0.1806861309739...|[0.45495096207553...|       1.0|                        1|\n",
      "|               0|           no|Ask_Politics|2021|    1|  1|     0|    1|0.5377776812126273|                 0.0|             0.0|         8.0|    (8,[],[])|[0.0,2021.0,1.0,1...|[-0.1806861309739...|[0.45495096207553...|       1.0|                        1|\n",
      "|               0|           no|Ask_Politics|2021|    1|  1|     0|    1|0.5377776812126273|                 0.0|             0.0|         8.0|    (8,[],[])|[0.0,2021.0,1.0,1...|[-0.1806861309739...|[0.45495096207553...|       1.0|                        1|\n",
      "+----------------+-------------+------------+----+-----+---+------+-----+------------------+--------------------+----------------+------------+-------------+--------------------+--------------------+--------------------+----------+-------------------------+\n",
      "only showing top 5 rows\n",
      "\n"
     ]
    },
    {
     "name": "stderr",
     "output_type": "stream",
     "text": [
      "23/11/29 21:49:57 WARN InstanceBuilder: Failed to load implementation from:dev.ludovic.netlib.blas.JNIBLAS\n"
     ]
    }
   ],
   "source": [
    "predictions_train = lr.transform(train_data)\n",
    "predictions_train.show(5)"
   ]
  },
  {
   "cell_type": "code",
   "execution_count": 26,
   "id": "b23e8105-8d74-4723-9bcd-9aaf5291ba7f",
   "metadata": {
    "tags": []
   },
   "outputs": [
    {
     "name": "stderr",
     "output_type": "stream",
     "text": [
      "                                                                                \r"
     ]
    }
   ],
   "source": [
    "evaluator = MulticlassClassificationEvaluator(labelCol=\"controversiality_str\", predictionCol=\"prediction\", metricName=\"accuracy\")\n",
    "accuracy = evaluator.evaluate(predictions_train)"
   ]
  },
  {
   "cell_type": "code",
   "execution_count": 27,
   "id": "f84d495f-c7f8-4148-9ffe-2d650ea8f344",
   "metadata": {
    "tags": []
   },
   "outputs": [
    {
     "name": "stdout",
     "output_type": "stream",
     "text": [
      "Train Accuracy = 0.43819\n",
      "Train Error = 0.56181\n"
     ]
    }
   ],
   "source": [
    "print(\"Train Accuracy = %g\" % accuracy)\n",
    "print(\"Train Error = %g\" % (1.0 - accuracy))"
   ]
  },
  {
   "cell_type": "code",
   "execution_count": 28,
   "id": "9fd45452-f8a8-4271-a972-f6f139b35a0a",
   "metadata": {
    "tags": []
   },
   "outputs": [
    {
     "name": "stderr",
     "output_type": "stream",
     "text": [
      "                                                                                \r"
     ]
    }
   ],
   "source": [
    "y_pred_train=predictions_train.select(\"prediction\").collect()\n",
    "y_orig_train=predictions_train.select(\"controversiality_str\").collect()"
   ]
  },
  {
   "cell_type": "code",
   "execution_count": 29,
   "id": "20b46382-64e0-4685-b136-5237291814e3",
   "metadata": {
    "tags": []
   },
   "outputs": [
    {
     "name": "stdout",
     "output_type": "stream",
     "text": [
      "Confusion Matrix:\n",
      "[[3817686 5416612]\n",
      " [ 163278  534411]]\n"
     ]
    }
   ],
   "source": [
    "cm = confusion_matrix(y_orig_train, y_pred_train)\n",
    "print(\"Confusion Matrix:\")\n",
    "print(cm)"
   ]
  },
  {
   "cell_type": "markdown",
   "id": "15f45718-be66-4926-b6f1-ae9c2e55c9d8",
   "metadata": {},
   "source": [
    "## Model Test Results"
   ]
  },
  {
   "cell_type": "code",
   "execution_count": 12,
   "id": "fdd609ed-535a-4677-a7eb-169b0d259afb",
   "metadata": {
    "tags": []
   },
   "outputs": [],
   "source": [
    "predictions_test = lr.transform(test_data)"
   ]
  },
  {
   "cell_type": "code",
   "execution_count": 31,
   "id": "2ee543e5-d556-446d-9f74-9af20a8193ad",
   "metadata": {
    "tags": []
   },
   "outputs": [
    {
     "name": "stderr",
     "output_type": "stream",
     "text": [
      "                                                                                \r"
     ]
    }
   ],
   "source": [
    "# Evaluate the model using ROC AUC\n",
    "l_fpr, l_tpr, l_thresholds = roc_curve(predictions_test.select(\"controversiality_str\").collect(), predictions_test.select(\"probability\").rdd.map(lambda x: x[0][1]).collect())\n",
    "l_roc_auc = auc(l_fpr, l_tpr)"
   ]
  },
  {
   "cell_type": "code",
   "execution_count": 32,
   "id": "e9a4a2b7-9c82-40de-bc99-ca42f47368c0",
   "metadata": {
    "tags": []
   },
   "outputs": [
    {
     "name": "stderr",
     "output_type": "stream",
     "text": [
      "                                                                                \r"
     ]
    }
   ],
   "source": [
    "evaluator = MulticlassClassificationEvaluator(labelCol=\"controversiality_str\", predictionCol=\"prediction\", metricName=\"accuracy\")\n",
    "accuracy = evaluator.evaluate(predictions_test)\n",
    "f1_score = evaluator.evaluate(predictions_test)\n",
    "precision = evaluator.evaluate(predictions_test)\n",
    "recall = evaluator.evaluate(predictions_test)"
   ]
  },
  {
   "cell_type": "code",
   "execution_count": 33,
   "id": "f1082fa8-520d-4d6d-a389-726d7463390f",
   "metadata": {
    "tags": []
   },
   "outputs": [
    {
     "name": "stdout",
     "output_type": "stream",
     "text": [
      "Test Accuracy = 0.438004\n",
      "Test Error = 0.561996\n"
     ]
    }
   ],
   "source": [
    "print(\"Test Accuracy = %g\" % accuracy)\n",
    "print(\"Test Error = %g\" % (1.0 - accuracy))\n",
    "print(f\"F1-score: {f1_score}\")\n",
    "print(f\"Precision: {precision}\")\n",
    "print(f\"Recall: {recall}\")"
   ]
  },
  {
   "cell_type": "code",
   "execution_count": 13,
   "id": "506e4323-9af0-46d7-a0f5-d2bb9f434a5a",
   "metadata": {
    "tags": []
   },
   "outputs": [
    {
     "name": "stderr",
     "output_type": "stream",
     "text": [
      "23/12/07 02:18:27 WARN InstanceBuilder: Failed to load implementation from:dev.ludovic.netlib.blas.JNIBLAS\n",
      "                                                                                \r"
     ]
    }
   ],
   "source": [
    "y_pred_test=predictions_test.select(\"prediction\").collect()\n",
    "y_orig_test=predictions_test.select(\"controversiality_str\").collect()"
   ]
  },
  {
   "cell_type": "code",
   "execution_count": 14,
   "id": "51b0bba1-5ad1-4a4a-a5ab-d05a76c53f25",
   "metadata": {
    "tags": []
   },
   "outputs": [
    {
     "name": "stdout",
     "output_type": "stream",
     "text": [
      "Confusion Matrix:\n",
      "[[1271788 1805694]\n",
      " [  54519  178013]]\n"
     ]
    }
   ],
   "source": [
    "cm = confusion_matrix(y_orig_test, y_pred_test)\n",
    "print(\"Confusion Matrix:\")\n",
    "print(cm)"
   ]
  },
  {
   "cell_type": "code",
   "execution_count": 18,
   "id": "8d5db713-acdf-41f3-98cf-49f50d86138f",
   "metadata": {
    "tags": []
   },
   "outputs": [
    {
     "data": {
      "image/png": "[encoded data removed]",
      "text/plain": [
       "<Figure size 640x480 with 2 Axes>"
      ]
     },
     "metadata": {},
     "output_type": "display_data"
    },
    {
     "name": "stderr",
     "output_type": "stream",
     "text": [
      "                                                                                \r"
     ]
    }
   ],
   "source": [
    "sns.heatmap(cm, annot=True, fmt='d')\n",
    "# Save plot\n",
    "plt.title(\"Test Set Confusion Matrix - Logistic Regression\")\n",
    "plt.xlabel(\"Predicted Label\")\n",
    "plt.ylabel(\"True Label\") \n",
    "plt.savefig('../../data/plots/test_conf_mtx_lr.png',bbox_inches='tight')\n",
    "plt.savefig('../../website-source/test_conf_mtx_lr.png',bbox_inches='tight')\n",
    "plt.show()"
   ]
  },
  {
   "cell_type": "markdown",
   "id": "62764137-04e5-4525-9478-cfd1d5de8bcf",
   "metadata": {},
   "source": [
    "# Gradient Boosted Trees\n",
    "\n",
    "## Model Train Results"
   ]
  },
  {
   "cell_type": "code",
   "execution_count": 37,
   "id": "55ba92f7-f142-4192-a92e-2a16d4055689",
   "metadata": {
    "tags": []
   },
   "outputs": [
    {
     "name": "stdout",
     "output_type": "stream",
     "text": [
      "+----------------+-------------+------------+----+-----+---+------+-----+------------------+--------------------+----------------+------------+-------------+--------------------+--------------------+--------------------+----------+-------------------------+\n",
      "|controversiality|distinguished|   subreddit|year|month|day|gilded|score|            weight|controversiality_str|distinguished_ix|subreddit_ix|subreddit_vec|            features|       rawPrediction|         probability|prediction|predictedControversiality|\n",
      "+----------------+-------------+------------+----+-----+---+------+-----+------------------+--------------------+----------------+------------+-------------+--------------------+--------------------+--------------------+----------+-------------------------+\n",
      "|               0|           no|Ask_Politics|2021|    1|  1|     0|   -9|0.5377776812126273|                 0.0|             0.0|         8.0|    (8,[],[])|[0.0,2021.0,1.0,1...|[-0.4716534436838...|[0.28023285097629...|       1.0|                        1|\n",
      "|               0|           no|Ask_Politics|2021|    1|  1|     0|   -2|0.5377776812126273|                 0.0|             0.0|         8.0|    (8,[],[])|[0.0,2021.0,1.0,1...|[-0.9396621162782...|[0.13246651286669...|       1.0|                        1|\n",
      "|               0|           no|Ask_Politics|2021|    1|  1|     0|    1|0.5377776812126273|                 0.0|             0.0|         8.0|    (8,[],[])|[0.0,2021.0,1.0,1...|[0.36279697972754...|[0.67383765361903...|       0.0|                        0|\n",
      "|               0|           no|Ask_Politics|2021|    1|  1|     0|    1|0.5377776812126273|                 0.0|             0.0|         8.0|    (8,[],[])|[0.0,2021.0,1.0,1...|[0.36279697972754...|[0.67383765361903...|       0.0|                        0|\n",
      "|               0|           no|Ask_Politics|2021|    1|  1|     0|    1|0.5377776812126273|                 0.0|             0.0|         8.0|    (8,[],[])|[0.0,2021.0,1.0,1...|[0.36279697972754...|[0.67383765361903...|       0.0|                        0|\n",
      "+----------------+-------------+------------+----+-----+---+------+-----+------------------+--------------------+----------------+------------+-------------+--------------------+--------------------+--------------------+----------+-------------------------+\n",
      "only showing top 5 rows\n",
      "\n"
     ]
    }
   ],
   "source": [
    "predictions_train = gbt.transform(train_data)\n",
    "predictions_train.show(5)"
   ]
  },
  {
   "cell_type": "code",
   "execution_count": 38,
   "id": "d6d6a966-f2b9-431f-bbb6-de26f7f460b8",
   "metadata": {},
   "outputs": [
    {
     "name": "stderr",
     "output_type": "stream",
     "text": [
      "                                                                                \r"
     ]
    }
   ],
   "source": [
    "evaluator = MulticlassClassificationEvaluator(labelCol=\"controversiality_str\", predictionCol=\"prediction\", metricName=\"accuracy\")\n",
    "accuracy = evaluator.evaluate(predictions_train)"
   ]
  },
  {
   "cell_type": "code",
   "execution_count": 39,
   "id": "5a6d97ed-fb21-49ef-aa77-6f2a43d92541",
   "metadata": {},
   "outputs": [
    {
     "name": "stdout",
     "output_type": "stream",
     "text": [
      "Train Accuracy = 0.745802\n",
      "Train Error = 0.254198\n"
     ]
    }
   ],
   "source": [
    "print(\"Train Accuracy = %g\" % accuracy)\n",
    "print(\"Train Error = %g\" % (1.0 - accuracy))"
   ]
  },
  {
   "cell_type": "code",
   "execution_count": 40,
   "id": "d6f8264d-41e7-4fba-82fa-416de629e21f",
   "metadata": {},
   "outputs": [
    {
     "name": "stderr",
     "output_type": "stream",
     "text": [
      "                                                                                \r"
     ]
    }
   ],
   "source": [
    "y_pred_train=predictions_train.select(\"prediction\").collect()\n",
    "y_orig_train=predictions_train.select(\"controversiality_str\").collect()"
   ]
  },
  {
   "cell_type": "code",
   "execution_count": 41,
   "id": "7b6b8306-dbcc-43c0-8b71-12b34c4ae9c9",
   "metadata": {},
   "outputs": [
    {
     "name": "stdout",
     "output_type": "stream",
     "text": [
      "Confusion Matrix:\n",
      "[[6971788 2262510]\n",
      " [ 262180  435509]]\n"
     ]
    }
   ],
   "source": [
    "cm = confusion_matrix(y_orig_train, y_pred_train)\n",
    "print(\"Confusion Matrix:\")\n",
    "print(cm)"
   ]
  },
  {
   "cell_type": "markdown",
   "id": "bfa34217-2220-499a-8689-1970ca5e7766",
   "metadata": {},
   "source": [
    "## Model Test Results"
   ]
  },
  {
   "cell_type": "code",
   "execution_count": 19,
   "id": "f09cc8fe-5001-45eb-be01-b930114870e9",
   "metadata": {
    "tags": []
   },
   "outputs": [],
   "source": [
    "predictions_test = gbt.transform(test_data)"
   ]
  },
  {
   "cell_type": "code",
   "execution_count": 43,
   "id": "1ccb71ca-4807-46cc-9e04-e36eacd3408d",
   "metadata": {},
   "outputs": [
    {
     "name": "stderr",
     "output_type": "stream",
     "text": [
      "                                                                                \r"
     ]
    }
   ],
   "source": [
    "# Evaluate the model using ROC AUC\n",
    "gbt_fpr, gbt_tpr, gbt_thresholds = roc_curve(predictions_test.select(\"controversiality_str\").collect(), predictions_test.select(\"probability\").rdd.map(lambda x: x[0][1]).collect())\n",
    "gbt_roc_auc = auc(gbt_fpr, gbt_tpr)"
   ]
  },
  {
   "cell_type": "code",
   "execution_count": 44,
   "id": "a7acb180-ea46-4716-b896-ea434c6d28ba",
   "metadata": {},
   "outputs": [
    {
     "name": "stderr",
     "output_type": "stream",
     "text": [
      "                                                                                \r"
     ]
    }
   ],
   "source": [
    "evaluator = MulticlassClassificationEvaluator(labelCol=\"controversiality_str\", predictionCol=\"prediction\", metricName=\"accuracy\")\n",
    "accuracy = evaluator.evaluate(predictions_test)\n",
    "f1_score = evaluator.evaluate(predictions_test)\n",
    "precision = evaluator.evaluate(predictions_test)\n",
    "recall = evaluator.evaluate(predictions_test)"
   ]
  },
  {
   "cell_type": "code",
   "execution_count": 45,
   "id": "1b1b1e99-52e7-442c-a177-a82b8c2eaa36",
   "metadata": {},
   "outputs": [
    {
     "name": "stdout",
     "output_type": "stream",
     "text": [
      "Test Accuracy = 0.745551\n",
      "Test Error = 0.254449\n"
     ]
    }
   ],
   "source": [
    "print(\"Test Accuracy = %g\" % accuracy)\n",
    "print(\"Test Error = %g\" % (1.0 - accuracy))\n",
    "print(f\"F1-score: {f1_score}\")\n",
    "print(f\"Precision: {precision}\")\n",
    "print(f\"Recall: {recall}\")"
   ]
  },
  {
   "cell_type": "code",
   "execution_count": 20,
   "id": "66884db2-6308-46ff-9b44-964d573267d1",
   "metadata": {
    "tags": []
   },
   "outputs": [
    {
     "name": "stderr",
     "output_type": "stream",
     "text": [
      "Exception in thread \"serve-DataFrame\" java.net.SocketTimeoutException: Accept timed out\n",
      "\tat java.base/java.net.PlainSocketImpl.socketAccept(Native Method)\n",
      "\tat java.base/java.net.AbstractPlainSocketImpl.accept(AbstractPlainSocketImpl.java:458)\n",
      "\tat java.base/java.net.ServerSocket.implAccept(ServerSocket.java:565)\n",
      "\tat java.base/java.net.ServerSocket.accept(ServerSocket.java:533)\n",
      "\tat org.apache.spark.security.SocketAuthServer$$anon$1.run(SocketAuthServer.scala:65)\n",
      "                                                                                \r"
     ]
    }
   ],
   "source": [
    "y_pred_test=predictions_test.select(\"prediction\").collect()\n",
    "y_orig_test=predictions_test.select(\"controversiality_str\").collect()"
   ]
  },
  {
   "cell_type": "code",
   "execution_count": 21,
   "id": "23a64783-37b0-4796-b9ce-e2527697c2bd",
   "metadata": {
    "tags": []
   },
   "outputs": [
    {
     "name": "stdout",
     "output_type": "stream",
     "text": [
      "Confusion Matrix:\n",
      "[[2322902  754580]\n",
      " [  87650  144882]]\n"
     ]
    }
   ],
   "source": [
    "cm = confusion_matrix(y_orig_test, y_pred_test)\n",
    "print(\"Confusion Matrix:\")\n",
    "print(cm)"
   ]
  },
  {
   "cell_type": "code",
   "execution_count": 22,
   "id": "6d797831-d2b3-4016-9d99-850c43753417",
   "metadata": {
    "tags": []
   },
   "outputs": [
    {
     "data": {
      "image/png": "[encoded data removed]",
      "text/plain": [
       "<Figure size 640x480 with 2 Axes>"
      ]
     },
     "metadata": {},
     "output_type": "display_data"
    }
   ],
   "source": [
    "sns.heatmap(cm, annot=True, fmt='d')\n",
    "# Save plot\n",
    "plt.title(\"Test Set Confusion Matrix - Gradient Boosted Trees\")\n",
    "plt.xlabel(\"Predicted Label\")\n",
    "plt.ylabel(\"True Label\") \n",
    "plt.savefig('../../data/plots/test_conf_mtx_gbt.png',bbox_inches='tight')\n",
    "plt.savefig('../../website-source/test_conf_mtx_gbt.png',bbox_inches='tight')\n",
    "plt.show()"
   ]
  },
  {
   "cell_type": "markdown",
   "id": "2f2087f9-160d-4bc9-b661-3e91d47d9fae",
   "metadata": {},
   "source": [
    "# Support Vector Machines\n",
    "\n",
    "## Model Train Results"
   ]
  },
  {
   "cell_type": "code",
   "execution_count": 49,
   "id": "cc42fe2a-36ef-46e2-b1f9-ad82adca1fbd",
   "metadata": {},
   "outputs": [
    {
     "name": "stdout",
     "output_type": "stream",
     "text": [
      "+----------------+-------------+------------+----+-----+---+------+-----+------------------+--------------------+----------------+------------+-------------+--------------------+--------------------+----------+-------------------------+\n",
      "|controversiality|distinguished|   subreddit|year|month|day|gilded|score|            weight|controversiality_str|distinguished_ix|subreddit_ix|subreddit_vec|            features|       rawPrediction|prediction|predictedControversiality|\n",
      "+----------------+-------------+------------+----+-----+---+------+-----+------------------+--------------------+----------------+------------+-------------+--------------------+--------------------+----------+-------------------------+\n",
      "|               0|           no|Ask_Politics|2021|    1|  1|     0|   -9|0.5377776812126273|                 0.0|             0.0|         8.0|    (8,[],[])|[0.0,2021.0,1.0,1...|[-1.8473000333116...|       1.0|                        1|\n",
      "|               0|           no|Ask_Politics|2021|    1|  1|     0|   -2|0.5377776812126273|                 0.0|             0.0|         8.0|    (8,[],[])|[0.0,2021.0,1.0,1...|[-0.9935543771013...|       1.0|                        1|\n",
      "|               0|           no|Ask_Politics|2021|    1|  1|     0|    1|0.5377776812126273|                 0.0|             0.0|         8.0|    (8,[],[])|[0.0,2021.0,1.0,1...|[-0.6276633815825...|       1.0|                        1|\n",
      "|               0|           no|Ask_Politics|2021|    1|  1|     0|    1|0.5377776812126273|                 0.0|             0.0|         8.0|    (8,[],[])|[0.0,2021.0,1.0,1...|[-0.6276633815825...|       1.0|                        1|\n",
      "|               0|           no|Ask_Politics|2021|    1|  1|     0|    1|0.5377776812126273|                 0.0|             0.0|         8.0|    (8,[],[])|[0.0,2021.0,1.0,1...|[-0.6276633815825...|       1.0|                        1|\n",
      "+----------------+-------------+------------+----+-----+---+------+-----+------------------+--------------------+----------------+------------+-------------+--------------------+--------------------+----------+-------------------------+\n",
      "only showing top 5 rows\n",
      "\n"
     ]
    }
   ],
   "source": [
    "predictions_train = svm.transform(train_data)\n",
    "predictions_train.show(5)"
   ]
  },
  {
   "cell_type": "code",
   "execution_count": 50,
   "id": "1677ed05-9ddf-4df1-9860-66813349939b",
   "metadata": {},
   "outputs": [
    {
     "name": "stderr",
     "output_type": "stream",
     "text": [
      "                                                                                \r"
     ]
    }
   ],
   "source": [
    "evaluator = MulticlassClassificationEvaluator(labelCol=\"controversiality_str\", predictionCol=\"prediction\", metricName=\"accuracy\")\n",
    "accuracy = evaluator.evaluate(predictions_train)"
   ]
  },
  {
   "cell_type": "code",
   "execution_count": 51,
   "id": "6011baed-4306-4674-a05f-9afb3b1c1a4c",
   "metadata": {},
   "outputs": [
    {
     "name": "stdout",
     "output_type": "stream",
     "text": [
      "Train Accuracy = 0.319869\n",
      "Train Error = 0.680131\n"
     ]
    }
   ],
   "source": [
    "print(\"Train Accuracy = %g\" % accuracy)\n",
    "print(\"Train Error = %g\" % (1.0 - accuracy))"
   ]
  },
  {
   "cell_type": "code",
   "execution_count": 52,
   "id": "f8bbbcd0-9045-4b92-a16f-5040bd19925d",
   "metadata": {},
   "outputs": [
    {
     "name": "stderr",
     "output_type": "stream",
     "text": [
      "                                                                                \r"
     ]
    }
   ],
   "source": [
    "y_pred_train=predictions_train.select(\"prediction\").collect()\n",
    "y_orig_train=predictions_train.select(\"controversiality_str\").collect()"
   ]
  },
  {
   "cell_type": "code",
   "execution_count": null,
   "id": "369dc8d1-9bdb-498c-bb32-ea3af548ec69",
   "metadata": {},
   "outputs": [],
   "source": [
    "cm = confusion_matrix(y_orig_train, y_pred_train)\n",
    "print(\"Confusion Matrix:\")\n",
    "print(cm)"
   ]
  },
  {
   "cell_type": "markdown",
   "id": "8e21e62c-b23b-45ad-a57e-d8f9761b8076",
   "metadata": {
    "tags": []
   },
   "source": [
    "## Model Test Results"
   ]
  },
  {
   "cell_type": "code",
   "execution_count": null,
   "id": "b926f814-77ab-46b3-8903-a97f9eb3726d",
   "metadata": {},
   "outputs": [],
   "source": [
    "predictions_test = svm.transform(test_data)"
   ]
  },
  {
   "cell_type": "code",
   "execution_count": null,
   "id": "280524ae-f3d5-4939-aeb3-70667d20a143",
   "metadata": {},
   "outputs": [],
   "source": [
    "# Evaluate the model using ROC AUC\n",
    "svm_fpr, svm_tpr, svm_thresholds = roc_curve(predictions_test.select(\"controversiality_str\").collect(), predictions_test.select(\"probability\").rdd.map(lambda x: x[0][1]).collect())\n",
    "svm_roc_auc = auc(svm_fpr, svm_tpr)"
   ]
  },
  {
   "cell_type": "code",
   "execution_count": null,
   "id": "8a0903b5-3733-4d33-bf4f-1bb4698f0338",
   "metadata": {},
   "outputs": [],
   "source": [
    "evaluator = MulticlassClassificationEvaluator(labelCol=\"controversiality_str\", predictionCol=\"prediction\", metricName=\"accuracy\")\n",
    "accuracy = evaluator.evaluate(predictions_test)\n",
    "f1_score = evaluator.evaluate(predictions_test)\n",
    "precision = evaluator.evaluate(predictions_test)\n",
    "recall = evaluator.evaluate(predictions_test)"
   ]
  },
  {
   "cell_type": "code",
   "execution_count": null,
   "id": "37b91c6e-2d6b-4866-87e6-375dc2cb2254",
   "metadata": {},
   "outputs": [],
   "source": [
    "print(\"Test Accuracy = %g\" % accuracy)\n",
    "print(\"Test Error = %g\" % (1.0 - accuracy))\n",
    "print(f\"F1-score: {f1_score}\")\n",
    "print(f\"Precision: {precision}\")\n",
    "print(f\"Recall: {recall}\")"
   ]
  },
  {
   "cell_type": "code",
   "execution_count": null,
   "id": "86fcaa9f-c6de-4ec0-9419-c55c5a9b9bd4",
   "metadata": {},
   "outputs": [],
   "source": [
    "y_pred_test=predictions_test.select(\"prediction\").collect()\n",
    "y_orig_test=predictions_test.select(\"controversiality_str\").collect()"
   ]
  },
  {
   "cell_type": "code",
   "execution_count": null,
   "id": "e0f9dbda-6b56-4bfe-9ae4-d851edc9da5e",
   "metadata": {},
   "outputs": [],
   "source": [
    "cm = confusion_matrix(y_orig_test, y_pred_test)\n",
    "print(\"Confusion Matrix:\")\n",
    "print(cm)"
   ]
  },
  {
   "cell_type": "code",
   "execution_count": null,
   "id": "86478a65-a6fc-4828-bc66-e6d130246368",
   "metadata": {},
   "outputs": [],
   "source": [
    "sns.heatmap(cm, annot=True, fmt='d')\n",
    "# Save plot\n",
    "plt.title(\"Test Set Confusion Matrix - Support Vector Machines\")\n",
    "plt.xlabel(\"True Label\")\n",
    "plt.ylabel(\"Predicted Label\")  \n",
    "plt.savefig('../../data/plots/test_conf_mtx_svm.png',bbox_inches='tight')\n",
    "plt.savefig('../../website-source/test_conf_mtx_svm.png',bbox_inches='tight')\n",
    "plt.show()"
   ]
  },
  {
   "cell_type": "markdown",
   "id": "96cc3687-aa59-4c6a-9cf7-c5701f9d401e",
   "metadata": {},
   "source": [
    "# Test Set AUC-ROC Curve Plot"
   ]
  },
  {
   "cell_type": "code",
   "execution_count": null,
   "id": "f1a61b8e-410e-40fc-93c7-553eb2b780f8",
   "metadata": {
    "tags": []
   },
   "outputs": [],
   "source": [
    "# Create a plot of the ROC curve\n",
    "plt.figure(figsize=(8,6))\n",
    "lw = 2\n",
    "plt.plot(rf_fpr, rf_tpr, color='darkgreen', lw=lw, label='Random Forest (area = %0.2f)' % rf_roc_auc)\n",
    "plt.plot(l_fpr, l_tpr, color='darkorange', lw=lw, label='Logistic Regression (area = %0.2f)' % l_roc_auc)\n",
    "plt.plot(gbt_fpr, gbt_tpr, color='darkred', lw=lw, label='Gradient Boosted Trees (area = %0.2f)' % gbt_roc_auc)\n",
    "plt.plot(svm_fpr, svm_tpr, color='darkblue', lw=lw, label='Support Vector Machines (area = %0.2f)' % svm_roc_auc)\n",
    "plt.plot([0, 1], [0, 1], color='darkgoldenrod', lw=lw, linestyle='--')\n",
    "plt.xlim([0.0, 1.0])\n",
    "plt.ylim([0.0, 1.05])\n",
    "plt.xlabel('False Positive Rate')\n",
    "plt.ylabel('True Positive Rate')\n",
    "plt.title('Test Set Receiver Operating Curve - Classifier Models')\n",
    "plt.legend(loc=\"lower right\")\n",
    "\n",
    "# Save plot\n",
    "plt.savefig('../../data/plots/AUC-ROC-controv.png',bbox_inches='tight')\n",
    "plt.savefig('../../website-source/AUC-ROC-controv.png',bbox_inches='tight')\n",
    "\n",
    "plt.show()"
   ]
  },
  {
   "cell_type": "code",
   "execution_count": null,
   "id": "bf1b2553-7588-4c90-b0cc-9af968a9f58d",
   "metadata": {},
   "outputs": [],
   "source": []
  }
 ],
 "metadata": {
  "availableInstances": [
   {
    "_defaultOrder": 0,
    "_isFastLaunch": true,
    "category": "General purpose",
    "gpuNum": 0,
    "hideHardwareSpecs": false,
    "memoryGiB": 4,
    "name": "ml.t3.medium",
    "vcpuNum": 2
   },
   {
    "_defaultOrder": 1,
    "_isFastLaunch": false,
    "category": "General purpose",
    "gpuNum": 0,
    "hideHardwareSpecs": false,
    "memoryGiB": 8,
    "name": "ml.t3.large",
    "vcpuNum": 2
   },
   {
    "_defaultOrder": 2,
    "_isFastLaunch": false,
    "category": "General purpose",
    "gpuNum": 0,
    "hideHardwareSpecs": false,
    "memoryGiB": 16,
    "name": "ml.t3.xlarge",
    "vcpuNum": 4
   },
   {
    "_defaultOrder": 3,
    "_isFastLaunch": false,
    "category": "General purpose",
    "gpuNum": 0,
    "hideHardwareSpecs": false,
    "memoryGiB": 32,
    "name": "ml.t3.2xlarge",
    "vcpuNum": 8
   },
   {
    "_defaultOrder": 4,
    "_isFastLaunch": true,
    "category": "General purpose",
    "gpuNum": 0,
    "hideHardwareSpecs": false,
    "memoryGiB": 8,
    "name": "ml.m5.large",
    "vcpuNum": 2
   },
   {
    "_defaultOrder": 5,
    "_isFastLaunch": false,
    "category": "General purpose",
    "gpuNum": 0,
    "hideHardwareSpecs": false,
    "memoryGiB": 16,
    "name": "ml.m5.xlarge",
    "vcpuNum": 4
   },
   {
    "_defaultOrder": 6,
    "_isFastLaunch": false,
    "category": "General purpose",
    "gpuNum": 0,
    "hideHardwareSpecs": false,
    "memoryGiB": 32,
    "name": "ml.m5.2xlarge",
    "vcpuNum": 8
   },
   {
    "_defaultOrder": 7,
    "_isFastLaunch": false,
    "category": "General purpose",
    "gpuNum": 0,
    "hideHardwareSpecs": false,
    "memoryGiB": 64,
    "name": "ml.m5.4xlarge",
    "vcpuNum": 16
   },
   {
    "_defaultOrder": 8,
    "_isFastLaunch": false,
    "category": "General purpose",
    "gpuNum": 0,
    "hideHardwareSpecs": false,
    "memoryGiB": 128,
    "name": "ml.m5.8xlarge",
    "vcpuNum": 32
   },
   {
    "_defaultOrder": 9,
    "_isFastLaunch": false,
    "category": "General purpose",
    "gpuNum": 0,
    "hideHardwareSpecs": false,
    "memoryGiB": 192,
    "name": "ml.m5.12xlarge",
    "vcpuNum": 48
   },
   {
    "_defaultOrder": 10,
    "_isFastLaunch": false,
    "category": "General purpose",
    "gpuNum": 0,
    "hideHardwareSpecs": false,
    "memoryGiB": 256,
    "name": "ml.m5.16xlarge",
    "vcpuNum": 64
   },
   {
    "_defaultOrder": 11,
    "_isFastLaunch": false,
    "category": "General purpose",
    "gpuNum": 0,
    "hideHardwareSpecs": false,
    "memoryGiB": 384,
    "name": "ml.m5.24xlarge",
    "vcpuNum": 96
   },
   {
    "_defaultOrder": 12,
    "_isFastLaunch": false,
    "category": "General purpose",
    "gpuNum": 0,
    "hideHardwareSpecs": false,
    "memoryGiB": 8,
    "name": "ml.m5d.large",
    "vcpuNum": 2
   },
   {
    "_defaultOrder": 13,
    "_isFastLaunch": false,
    "category": "General purpose",
    "gpuNum": 0,
    "hideHardwareSpecs": false,
    "memoryGiB": 16,
    "name": "ml.m5d.xlarge",
    "vcpuNum": 4
   },
   {
    "_defaultOrder": 14,
    "_isFastLaunch": false,
    "category": "General purpose",
    "gpuNum": 0,
    "hideHardwareSpecs": false,
    "memoryGiB": 32,
    "name": "ml.m5d.2xlarge",
    "vcpuNum": 8
   },
   {
    "_defaultOrder": 15,
    "_isFastLaunch": false,
    "category": "General purpose",
    "gpuNum": 0,
    "hideHardwareSpecs": false,
    "memoryGiB": 64,
    "name": "ml.m5d.4xlarge",
    "vcpuNum": 16
   },
   {
    "_defaultOrder": 16,
    "_isFastLaunch": false,
    "category": "General purpose",
    "gpuNum": 0,
    "hideHardwareSpecs": false,
    "memoryGiB": 128,
    "name": "ml.m5d.8xlarge",
    "vcpuNum": 32
   },
   {
    "_defaultOrder": 17,
    "_isFastLaunch": false,
    "category": "General purpose",
    "gpuNum": 0,
    "hideHardwareSpecs": false,
    "memoryGiB": 192,
    "name": "ml.m5d.12xlarge",
    "vcpuNum": 48
   },
   {
    "_defaultOrder": 18,
    "_isFastLaunch": false,
    "category": "General purpose",
    "gpuNum": 0,
    "hideHardwareSpecs": false,
    "memoryGiB": 256,
    "name": "ml.m5d.16xlarge",
    "vcpuNum": 64
   },
   {
    "_defaultOrder": 19,
    "_isFastLaunch": false,
    "category": "General purpose",
    "gpuNum": 0,
    "hideHardwareSpecs": false,
    "memoryGiB": 384,
    "name": "ml.m5d.24xlarge",
    "vcpuNum": 96
   },
   {
    "_defaultOrder": 20,
    "_isFastLaunch": false,
    "category": "General purpose",
    "gpuNum": 0,
    "hideHardwareSpecs": true,
    "memoryGiB": 0,
    "name": "ml.geospatial.interactive",
    "supportedImageNames": [
     "sagemaker-geospatial-v1-0"
    ],
    "vcpuNum": 0
   },
   {
    "_defaultOrder": 21,
    "_isFastLaunch": true,
    "category": "Compute optimized",
    "gpuNum": 0,
    "hideHardwareSpecs": false,
    "memoryGiB": 4,
    "name": "ml.c5.large",
    "vcpuNum": 2
   },
   {
    "_defaultOrder": 22,
    "_isFastLaunch": false,
    "category": "Compute optimized",
    "gpuNum": 0,
    "hideHardwareSpecs": false,
    "memoryGiB": 8,
    "name": "ml.c5.xlarge",
    "vcpuNum": 4
   },
   {
    "_defaultOrder": 23,
    "_isFastLaunch": false,
    "category": "Compute optimized",
    "gpuNum": 0,
    "hideHardwareSpecs": false,
    "memoryGiB": 16,
    "name": "ml.c5.2xlarge",
    "vcpuNum": 8
   },
   {
    "_defaultOrder": 24,
    "_isFastLaunch": false,
    "category": "Compute optimized",
    "gpuNum": 0,
    "hideHardwareSpecs": false,
    "memoryGiB": 32,
    "name": "ml.c5.4xlarge",
    "vcpuNum": 16
   },
   {
    "_defaultOrder": 25,
    "_isFastLaunch": false,
    "category": "Compute optimized",
    "gpuNum": 0,
    "hideHardwareSpecs": false,
    "memoryGiB": 72,
    "name": "ml.c5.9xlarge",
    "vcpuNum": 36
   },
   {
    "_defaultOrder": 26,
    "_isFastLaunch": false,
    "category": "Compute optimized",
    "gpuNum": 0,
    "hideHardwareSpecs": false,
    "memoryGiB": 96,
    "name": "ml.c5.12xlarge",
    "vcpuNum": 48
   },
   {
    "_defaultOrder": 27,
    "_isFastLaunch": false,
    "category": "Compute optimized",
    "gpuNum": 0,
    "hideHardwareSpecs": false,
    "memoryGiB": 144,
    "name": "ml.c5.18xlarge",
    "vcpuNum": 72
   },
   {
    "_defaultOrder": 28,
    "_isFastLaunch": false,
    "category": "Compute optimized",
    "gpuNum": 0,
    "hideHardwareSpecs": false,
    "memoryGiB": 192,
    "name": "ml.c5.24xlarge",
    "vcpuNum": 96
   },
   {
    "_defaultOrder": 29,
    "_isFastLaunch": true,
    "category": "Accelerated computing",
    "gpuNum": 1,
    "hideHardwareSpecs": false,
    "memoryGiB": 16,
    "name": "ml.g4dn.xlarge",
    "vcpuNum": 4
   },
   {
    "_defaultOrder": 30,
    "_isFastLaunch": false,
    "category": "Accelerated computing",
    "gpuNum": 1,
    "hideHardwareSpecs": false,
    "memoryGiB": 32,
    "name": "ml.g4dn.2xlarge",
    "vcpuNum": 8
   },
   {
    "_defaultOrder": 31,
    "_isFastLaunch": false,
    "category": "Accelerated computing",
    "gpuNum": 1,
    "hideHardwareSpecs": false,
    "memoryGiB": 64,
    "name": "ml.g4dn.4xlarge",
    "vcpuNum": 16
   },
   {
    "_defaultOrder": 32,
    "_isFastLaunch": false,
    "category": "Accelerated computing",
    "gpuNum": 1,
    "hideHardwareSpecs": false,
    "memoryGiB": 128,
    "name": "ml.g4dn.8xlarge",
    "vcpuNum": 32
   },
   {
    "_defaultOrder": 33,
    "_isFastLaunch": false,
    "category": "Accelerated computing",
    "gpuNum": 4,
    "hideHardwareSpecs": false,
    "memoryGiB": 192,
    "name": "ml.g4dn.12xlarge",
    "vcpuNum": 48
   },
   {
    "_defaultOrder": 34,
    "_isFastLaunch": false,
    "category": "Accelerated computing",
    "gpuNum": 1,
    "hideHardwareSpecs": false,
    "memoryGiB": 256,
    "name": "ml.g4dn.16xlarge",
    "vcpuNum": 64
   },
   {
    "_defaultOrder": 35,
    "_isFastLaunch": false,
    "category": "Accelerated computing",
    "gpuNum": 1,
    "hideHardwareSpecs": false,
    "memoryGiB": 61,
    "name": "ml.p3.2xlarge",
    "vcpuNum": 8
   },
   {
    "_defaultOrder": 36,
    "_isFastLaunch": false,
    "category": "Accelerated computing",
    "gpuNum": 4,
    "hideHardwareSpecs": false,
    "memoryGiB": 244,
    "name": "ml.p3.8xlarge",
    "vcpuNum": 32
   },
   {
    "_defaultOrder": 37,
    "_isFastLaunch": false,
    "category": "Accelerated computing",
    "gpuNum": 8,
    "hideHardwareSpecs": false,
    "memoryGiB": 488,
    "name": "ml.p3.16xlarge",
    "vcpuNum": 64
   },
   {
    "_defaultOrder": 38,
    "_isFastLaunch": false,
    "category": "Accelerated computing",
    "gpuNum": 8,
    "hideHardwareSpecs": false,
    "memoryGiB": 768,
    "name": "ml.p3dn.24xlarge",
    "vcpuNum": 96
   },
   {
    "_defaultOrder": 39,
    "_isFastLaunch": false,
    "category": "Memory Optimized",
    "gpuNum": 0,
    "hideHardwareSpecs": false,
    "memoryGiB": 16,
    "name": "ml.r5.large",
    "vcpuNum": 2
   },
   {
    "_defaultOrder": 40,
    "_isFastLaunch": false,
    "category": "Memory Optimized",
    "gpuNum": 0,
    "hideHardwareSpecs": false,
    "memoryGiB": 32,
    "name": "ml.r5.xlarge",
    "vcpuNum": 4
   },
   {
    "_defaultOrder": 41,
    "_isFastLaunch": false,
    "category": "Memory Optimized",
    "gpuNum": 0,
    "hideHardwareSpecs": false,
    "memoryGiB": 64,
    "name": "ml.r5.2xlarge",
    "vcpuNum": 8
   },
   {
    "_defaultOrder": 42,
    "_isFastLaunch": false,
    "category": "Memory Optimized",
    "gpuNum": 0,
    "hideHardwareSpecs": false,
    "memoryGiB": 128,
    "name": "ml.r5.4xlarge",
    "vcpuNum": 16
   },
   {
    "_defaultOrder": 43,
    "_isFastLaunch": false,
    "category": "Memory Optimized",
    "gpuNum": 0,
    "hideHardwareSpecs": false,
    "memoryGiB": 256,
    "name": "ml.r5.8xlarge",
    "vcpuNum": 32
   },
   {
    "_defaultOrder": 44,
    "_isFastLaunch": false,
    "category": "Memory Optimized",
    "gpuNum": 0,
    "hideHardwareSpecs": false,
    "memoryGiB": 384,
    "name": "ml.r5.12xlarge",
    "vcpuNum": 48
   },
   {
    "_defaultOrder": 45,
    "_isFastLaunch": false,
    "category": "Memory Optimized",
    "gpuNum": 0,
    "hideHardwareSpecs": false,
    "memoryGiB": 512,
    "name": "ml.r5.16xlarge",
    "vcpuNum": 64
   },
   {
    "_defaultOrder": 46,
    "_isFastLaunch": false,
    "category": "Memory Optimized",
    "gpuNum": 0,
    "hideHardwareSpecs": false,
    "memoryGiB": 768,
    "name": "ml.r5.24xlarge",
    "vcpuNum": 96
   },
   {
    "_defaultOrder": 47,
    "_isFastLaunch": false,
    "category": "Accelerated computing",
    "gpuNum": 1,
    "hideHardwareSpecs": false,
    "memoryGiB": 16,
    "name": "ml.g5.xlarge",
    "vcpuNum": 4
   },
   {
    "_defaultOrder": 48,
    "_isFastLaunch": false,
    "category": "Accelerated computing",
    "gpuNum": 1,
    "hideHardwareSpecs": false,
    "memoryGiB": 32,
    "name": "ml.g5.2xlarge",
    "vcpuNum": 8
   },
   {
    "_defaultOrder": 49,
    "_isFastLaunch": false,
    "category": "Accelerated computing",
    "gpuNum": 1,
    "hideHardwareSpecs": false,
    "memoryGiB": 64,
    "name": "ml.g5.4xlarge",
    "vcpuNum": 16
   },
   {
    "_defaultOrder": 50,
    "_isFastLaunch": false,
    "category": "Accelerated computing",
    "gpuNum": 1,
    "hideHardwareSpecs": false,
    "memoryGiB": 128,
    "name": "ml.g5.8xlarge",
    "vcpuNum": 32
   },
   {
    "_defaultOrder": 51,
    "_isFastLaunch": false,
    "category": "Accelerated computing",
    "gpuNum": 1,
    "hideHardwareSpecs": false,
    "memoryGiB": 256,
    "name": "ml.g5.16xlarge",
    "vcpuNum": 64
   },
   {
    "_defaultOrder": 52,
    "_isFastLaunch": false,
    "category": "Accelerated computing",
    "gpuNum": 4,
    "hideHardwareSpecs": false,
    "memoryGiB": 192,
    "name": "ml.g5.12xlarge",
    "vcpuNum": 48
   },
   {
    "_defaultOrder": 53,
    "_isFastLaunch": false,
    "category": "Accelerated computing",
    "gpuNum": 4,
    "hideHardwareSpecs": false,
    "memoryGiB": 384,
    "name": "ml.g5.24xlarge",
    "vcpuNum": 96
   },
   {
    "_defaultOrder": 54,
    "_isFastLaunch": false,
    "category": "Accelerated computing",
    "gpuNum": 8,
    "hideHardwareSpecs": false,
    "memoryGiB": 768,
    "name": "ml.g5.48xlarge",
    "vcpuNum": 192
   },
   {
    "_defaultOrder": 55,
    "_isFastLaunch": false,
    "category": "Accelerated computing",
    "gpuNum": 8,
    "hideHardwareSpecs": false,
    "memoryGiB": 1152,
    "name": "ml.p4d.24xlarge",
    "vcpuNum": 96
   },
   {
    "_defaultOrder": 56,
    "_isFastLaunch": false,
    "category": "Accelerated computing",
    "gpuNum": 8,
    "hideHardwareSpecs": false,
    "memoryGiB": 1152,
    "name": "ml.p4de.24xlarge",
    "vcpuNum": 96
   },
   {
    "_defaultOrder": 57,
    "_isFastLaunch": false,
    "category": "Accelerated computing",
    "gpuNum": 0,
    "hideHardwareSpecs": false,
    "memoryGiB": 32,
    "name": "ml.trn1.2xlarge",
    "vcpuNum": 8
   },
   {
    "_defaultOrder": 58,
    "_isFastLaunch": false,
    "category": "Accelerated computing",
    "gpuNum": 0,
    "hideHardwareSpecs": false,
    "memoryGiB": 512,
    "name": "ml.trn1.32xlarge",
    "vcpuNum": 128
   },
   {
    "_defaultOrder": 59,
    "_isFastLaunch": false,
    "category": "Accelerated computing",
    "gpuNum": 0,
    "hideHardwareSpecs": false,
    "memoryGiB": 512,
    "name": "ml.trn1n.32xlarge",
    "vcpuNum": 128
   }
  ],
  "instance_type": "ml.t3.xlarge",
  "kernelspec": {
   "display_name": "Python 3 (Data Science 3.0)",
   "language": "python",
   "name": "python3__SAGEMAKER_INTERNAL__arn:aws:sagemaker:us-east-1:081325390199:image/sagemaker-data-science-310-v1"
  },
  "language_info": {
   "codemirror_mode": {
    "name": "ipython",
    "version": 3
   },
   "file_extension": ".py",
   "mimetype": "text/x-python",
   "name": "python",
   "nbconvert_exporter": "python",
   "pygments_lexer": "ipython3",
   "version": "3.10.6"
  }
 },
 "nbformat": 4,
 "nbformat_minor": 5
}
