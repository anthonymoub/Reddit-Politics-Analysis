{
 "cells": [
  {
   "cell_type": "markdown",
   "id": "51e0d3c8-e509-46e6-916f-a56bd6f97b7b",
   "metadata": {},
   "source": [
    "# Setup "
   ]
  },
  {
   "cell_type": "code",
   "execution_count": 2,
   "id": "7acc0590-6ee2-4fd0-8889-21742dd0e0b2",
   "metadata": {
    "tags": []
   },
   "outputs": [
    {
     "name": "stdout",
     "output_type": "stream",
     "text": [
      "Retrieving notices: ...working... done\n",
      "Collecting package metadata (current_repodata.json): done\n",
      "Solving environment: done\n",
      "\n",
      "\n",
      "==> WARNING: A newer version of conda exists. <==\n",
      "  current version: 23.3.1\n",
      "  latest version: 23.10.0\n",
      "\n",
      "Please update conda by running\n",
      "\n",
      "    $ conda update -n base -c defaults conda\n",
      "\n",
      "Or to minimize the number of packages updated during conda update use\n",
      "\n",
      "     conda install conda=23.10.0\n",
      "\n",
      "\n",
      "\n",
      "## Package Plan ##\n",
      "\n",
      "  environment location: /opt/conda\n",
      "\n",
      "  added / updated specs:\n",
      "    - openjdk\n",
      "\n",
      "\n",
      "The following packages will be downloaded:\n",
      "\n",
      "    package                    |            build\n",
      "    ---------------------------|-----------------\n",
      "    ca-certificates-2023.08.22 |       h06a4308_0         123 KB\n",
      "    certifi-2023.11.17         |  py310h06a4308_0         158 KB\n",
      "    openjdk-11.0.13            |       h87a67e3_0       341.0 MB\n",
      "    ------------------------------------------------------------\n",
      "                                           Total:       341.3 MB\n",
      "\n",
      "The following NEW packages will be INSTALLED:\n",
      "\n",
      "  openjdk            pkgs/main/linux-64::openjdk-11.0.13-h87a67e3_0 \n",
      "\n",
      "The following packages will be UPDATED:\n",
      "\n",
      "  ca-certificates    conda-forge::ca-certificates-2023.7.2~ --> pkgs/main::ca-certificates-2023.08.22-h06a4308_0 \n",
      "  certifi            conda-forge/noarch::certifi-2023.7.22~ --> pkgs/main/linux-64::certifi-2023.11.17-py310h06a4308_0 \n",
      "\n",
      "\n",
      "\n",
      "Downloading and Extracting Packages\n",
      "ca-certificates-2023 | 123 KB    |                                       |   0% \n",
      "certifi-2023.11.17   | 158 KB    |                                       |   0% \u001b[A\n",
      "\n",
      "openjdk-11.0.13      | 341.0 MB  |                                       |   0% \u001b[A\u001b[A\n",
      "certifi-2023.11.17   | 158 KB    | ##################################### | 100% \u001b[A\n",
      "\n",
      "ca-certificates-2023 | 123 KB    | ##################################### | 100% \u001b[A\u001b[A\n",
      "\n",
      "openjdk-11.0.13      | 341.0 MB  | #3                                    |   4% \u001b[A\u001b[A\n",
      "\n",
      "openjdk-11.0.13      | 341.0 MB  | ##9                                   |   8% \u001b[A\u001b[A\n",
      "\n",
      "openjdk-11.0.13      | 341.0 MB  | ####4                                 |  12% \u001b[A\u001b[A\n",
      "\n",
      "openjdk-11.0.13      | 341.0 MB  | #####8                                |  16% \u001b[A\u001b[A\n",
      "\n",
      "openjdk-11.0.13      | 341.0 MB  | #######2                              |  20% \u001b[A\u001b[A\n",
      "\n",
      "openjdk-11.0.13      | 341.0 MB  | ########7                             |  24% \u001b[A\u001b[A\n",
      "\n",
      "openjdk-11.0.13      | 341.0 MB  | ##########2                           |  28% \u001b[A\u001b[A\n",
      "\n",
      "openjdk-11.0.13      | 341.0 MB  | ###########9                          |  32% \u001b[A\u001b[A\n",
      "\n",
      "openjdk-11.0.13      | 341.0 MB  | #############5                        |  37% \u001b[A\u001b[A\n",
      "\n",
      "openjdk-11.0.13      | 341.0 MB  | ##############9                       |  40% \u001b[A\u001b[A\n",
      "\n",
      "openjdk-11.0.13      | 341.0 MB  | ################5                     |  45% \u001b[A\u001b[A\n",
      "\n",
      "openjdk-11.0.13      | 341.0 MB  | ##################                    |  49% \u001b[A\u001b[A\n",
      "\n",
      "openjdk-11.0.13      | 341.0 MB  | ###################6                  |  53% \u001b[A\u001b[A\n",
      "\n",
      "openjdk-11.0.13      | 341.0 MB  | #####################                 |  57% \u001b[A\u001b[A\n",
      "\n",
      "openjdk-11.0.13      | 341.0 MB  | ######################5               |  61% \u001b[A\u001b[A\n",
      "\n",
      "openjdk-11.0.13      | 341.0 MB  | #######################9              |  65% \u001b[A\u001b[A\n",
      "\n",
      "openjdk-11.0.13      | 341.0 MB  | #########################3            |  69% \u001b[A\u001b[A\n",
      "\n",
      "openjdk-11.0.13      | 341.0 MB  | ##########################6           |  72% \u001b[A\u001b[A\n",
      "\n",
      "openjdk-11.0.13      | 341.0 MB  | ############################1         |  76% \u001b[A\u001b[A\n",
      "\n",
      "openjdk-11.0.13      | 341.0 MB  | #############################4        |  80% \u001b[A\u001b[A\n",
      "\n",
      "openjdk-11.0.13      | 341.0 MB  | ###############################       |  84% \u001b[A\u001b[A\n",
      "\n",
      "openjdk-11.0.13      | 341.0 MB  | ################################8     |  89% \u001b[A\u001b[A\n",
      "\n",
      "openjdk-11.0.13      | 341.0 MB  | ##################################5   |  93% \u001b[A\u001b[A\n",
      "\n",
      "openjdk-11.0.13      | 341.0 MB  | ####################################2 |  98% \u001b[A\u001b[A\n",
      "\n",
      "                                                                                \u001b[A\u001b[A\n",
      "                                                                                \u001b[A\n",
      "\n",
      "                                                                                \u001b[A\u001b[A\n",
      "Preparing transaction: done\n",
      "Verifying transaction: done\n",
      "Executing transaction: done\n",
      "\n",
      "Note: you may need to restart the kernel to use updated packages.\n",
      "Collecting pyspark==3.3.0\n",
      "  Using cached pyspark-3.3.0-py2.py3-none-any.whl\n",
      "Collecting py4j==0.10.9.5 (from pyspark==3.3.0)\n",
      "  Using cached py4j-0.10.9.5-py2.py3-none-any.whl (199 kB)\n",
      "Installing collected packages: py4j, pyspark\n",
      "Successfully installed py4j-0.10.9.5 pyspark-3.3.0\n",
      "\u001b[33mWARNING: Running pip as the 'root' user can result in broken permissions and conflicting behaviour with the system package manager. It is recommended to use a virtual environment instead: https://pip.pypa.io/warnings/venv\u001b[0m\u001b[33m\n",
      "\u001b[0m\n",
      "\u001b[1m[\u001b[0m\u001b[34;49mnotice\u001b[0m\u001b[1;39;49m]\u001b[0m\u001b[39;49m A new release of pip is available: \u001b[0m\u001b[31;49m23.2.1\u001b[0m\u001b[39;49m -> \u001b[0m\u001b[32;49m23.3.1\u001b[0m\n",
      "\u001b[1m[\u001b[0m\u001b[34;49mnotice\u001b[0m\u001b[1;39;49m]\u001b[0m\u001b[39;49m To update, run: \u001b[0m\u001b[32;49mpip install --upgrade pip\u001b[0m\n",
      "Note: you may need to restart the kernel to use updated packages.\n"
     ]
    },
    {
     "data": {
      "text/html": [
       "<script>Jupyter.notebook.kernel.restart()</script>"
      ],
      "text/plain": [
       "<IPython.core.display.HTML object>"
      ]
     },
     "execution_count": 2,
     "metadata": {},
     "output_type": "execute_result"
    }
   ],
   "source": [
    "# Setup - Run only once per Kernel App\n",
    "%conda install openjdk -y\n",
    "\n",
    "# install PySpark\n",
    "%pip install pyspark==3.3.0\n",
    "\n",
    "# restart kernel\n",
    "from IPython.core.display import HTML\n",
    "HTML(\"<script>Jupyter.notebook.kernel.restart()</script>\")"
   ]
  },
  {
   "cell_type": "code",
   "execution_count": 3,
   "id": "4831541c-4d77-44a8-860b-5f41acad8ced",
   "metadata": {
    "tags": []
   },
   "outputs": [
    {
     "name": "stderr",
     "output_type": "stream",
     "text": [
      "Warning: Ignoring non-Spark config property: fs.s3a.aws.credentials.provider\n"
     ]
    },
    {
     "name": "stdout",
     "output_type": "stream",
     "text": [
      ":: loading settings :: url = jar:file:/opt/conda/lib/python3.10/site-packages/pyspark/jars/ivy-2.5.0.jar!/org/apache/ivy/core/settings/ivysettings.xml\n"
     ]
    },
    {
     "name": "stderr",
     "output_type": "stream",
     "text": [
      "Ivy Default Cache set to: /root/.ivy2/cache\n",
      "The jars for the packages stored in: /root/.ivy2/jars\n",
      "org.apache.hadoop#hadoop-aws added as a dependency\n",
      ":: resolving dependencies :: org.apache.spark#spark-submit-parent-8e528a5e-b498-493f-81ba-bf7be85d6b9f;1.0\n",
      "\tconfs: [default]\n",
      "\tfound org.apache.hadoop#hadoop-aws;3.2.2 in central\n",
      "\tfound com.amazonaws#aws-java-sdk-bundle;1.11.563 in central\n",
      ":: resolution report :: resolve 448ms :: artifacts dl 57ms\n",
      "\t:: modules in use:\n",
      "\tcom.amazonaws#aws-java-sdk-bundle;1.11.563 from central in [default]\n",
      "\torg.apache.hadoop#hadoop-aws;3.2.2 from central in [default]\n",
      "\t---------------------------------------------------------------------\n",
      "\t|                  |            modules            ||   artifacts   |\n",
      "\t|       conf       | number| search|dwnlded|evicted|| number|dwnlded|\n",
      "\t---------------------------------------------------------------------\n",
      "\t|      default     |   2   |   0   |   0   |   0   ||   2   |   0   |\n",
      "\t---------------------------------------------------------------------\n",
      ":: retrieving :: org.apache.spark#spark-submit-parent-8e528a5e-b498-493f-81ba-bf7be85d6b9f\n",
      "\tconfs: [default]\n",
      "\t0 artifacts copied, 2 already retrieved (0kB/27ms)\n"
     ]
    },
    {
     "name": "stdout",
     "output_type": "stream",
     "text": [
      "23/11/29 15:05:36 WARN NativeCodeLoader: Unable to load native-hadoop library for your platform... using builtin-java classes where applicable\n"
     ]
    },
    {
     "name": "stderr",
     "output_type": "stream",
     "text": [
      "Setting default log level to \"WARN\".\n",
      "To adjust logging level use sc.setLogLevel(newLevel). For SparkR, use setLogLevel(newLevel).\n"
     ]
    },
    {
     "name": "stdout",
     "output_type": "stream",
     "text": [
      "3.3.0\n"
     ]
    }
   ],
   "source": [
    "# Import pyspark and build Spark session\n",
    "from pyspark.sql import SparkSession\n",
    "\n",
    "spark = (\n",
    "    SparkSession.builder.appName(\"PySparkApp\")\n",
    "    .config(\"spark.jars.packages\", \"org.apache.hadoop:hadoop-aws:3.2.2\")\n",
    "    .config(\n",
    "        \"fs.s3a.aws.credentials.provider\",\n",
    "        \"com.amazonaws.auth.ContainerCredentialsProvider\",\n",
    "    )\n",
    "    .getOrCreate()\n",
    ")\n",
    "\n",
    "print(spark.version)"
   ]
  },
  {
   "cell_type": "code",
   "execution_count": 4,
   "id": "43489746-6ffd-4cd4-b9bc-dc699ac76fb5",
   "metadata": {
    "tags": []
   },
   "outputs": [
    {
     "name": "stdout",
     "output_type": "stream",
     "text": [
      "sagemaker.config INFO - Not applying SDK defaults from location: /etc/xdg/sagemaker/config.yaml\n",
      "sagemaker.config INFO - Not applying SDK defaults from location: /root/.config/sagemaker/config.yaml\n",
      "sagemaker.config INFO - Not applying SDK defaults from location: /etc/xdg/sagemaker/config.yaml\n",
      "sagemaker.config INFO - Not applying SDK defaults from location: /root/.config/sagemaker/config.yaml\n",
      "sagemaker-us-east-1-711387073580\n",
      "23/11/29 15:05:45 WARN SparkSession: Using an existing Spark session; only runtime SQL configurations will take effect.\n"
     ]
    }
   ],
   "source": [
    "import sagemaker\n",
    "\n",
    "session = sagemaker.Session()\n",
    "bucket = session.default_bucket()\n",
    "print(bucket)\n",
    "\n",
    "# Create or retrieve a Spark session\n",
    "spark = SparkSession.builder.appName(\"ReadS3Parquet\").getOrCreate()\n"
   ]
  },
  {
   "cell_type": "code",
   "execution_count": 5,
   "id": "1e0fde6b-2a5d-4dde-9cbc-bbe3ac411c6b",
   "metadata": {
    "tags": []
   },
   "outputs": [],
   "source": [
    "from pyspark.sql.functions import date_format\n",
    "from pyspark.sql.functions import avg\n",
    "from pyspark.sql.functions import to_date\n",
    "from pyspark.sql.functions import date_format\n",
    "from pyspark.sql.functions import count"
   ]
  },
  {
   "cell_type": "markdown",
   "id": "0c7f3a57-82a8-493a-9e09-b95a2328c339",
   "metadata": {},
   "source": [
    "# Data"
   ]
  },
  {
   "cell_type": "code",
   "execution_count": 6,
   "id": "315f961d-4576-444a-a26b-6a99fe9d1dfa",
   "metadata": {
    "tags": []
   },
   "outputs": [
    {
     "name": "stdout",
     "output_type": "stream",
     "text": [
      "23/11/29 15:05:45 WARN MetricsConfig: Cannot locate configuration: tried hadoop-metrics2-s3a-file-system.properties,hadoop-metrics2.properties\n"
     ]
    },
    {
     "name": "stderr",
     "output_type": "stream",
     "text": [
      "                                                                                \r"
     ]
    }
   ],
   "source": [
    "# S3 directory path\n",
    "s3_directory = f\"s3a://{bucket}/project/cleaned/comments/\"\n",
    "\n",
    "# Read all the Parquet files in the directory into a DataFrame\n",
    "df_comments = spark.read.parquet(s3_directory)"
   ]
  },
  {
   "cell_type": "code",
   "execution_count": 7,
   "id": "ba8ca0c4-f6d8-4665-9885-6b39adca277c",
   "metadata": {
    "tags": []
   },
   "outputs": [
    {
     "name": "stdout",
     "output_type": "stream",
     "text": [
      "23/11/29 15:05:53 WARN package: Truncated the string representation of a plan since it was too large. This behavior can be adjusted by setting 'spark.sql.debug.maxToStringFields'.\n"
     ]
    }
   ],
   "source": [
    "# S3 directory path\n",
    "s3_directory = f\"s3a://{bucket}/project/cleaned/submissions/\"\n",
    "\n",
    "# Read all the Parquet files in the directory into a DataFrame\n",
    "df_submissions = spark.read.parquet(s3_directory)"
   ]
  },
  {
   "cell_type": "markdown",
   "id": "5a3e4b22-be3e-41fc-99dc-7a9e75119651",
   "metadata": {},
   "source": [
    "# Importing Data for other Subreddits "
   ]
  },
  {
   "cell_type": "code",
   "execution_count": 9,
   "id": "95a7ddfb-8268-4c25-9128-960ae28f1f15",
   "metadata": {
    "tags": []
   },
   "outputs": [],
   "source": [
    "# Tegveer subreddits\n",
    "tegveer_bucket = 'sagemaker-us-east-1-433974840707'\n",
    "s3_directory_tegveer = f\"s3a://{tegveer_bucket}/project/cleaned/submissions/\"\n",
    "s3_directory_tegveer_comments = f\"s3a://{tegveer_bucket}/project/cleaned/comments/\"\n",
    "\n",
    "# Read all the Parquet files in the directory into a DataFrame\n",
    "df_submissions_centrist_liberterian = spark.read.parquet(s3_directory_tegveer)\n",
    "df_comments_centrist_liberterian = spark.read.parquet(s3_directory_tegveer_comments)\n"
   ]
  },
  {
   "cell_type": "code",
   "execution_count": 10,
   "id": "8646d738-c57b-43f8-91de-bb2931f2fe02",
   "metadata": {
    "tags": []
   },
   "outputs": [],
   "source": [
    "# Eric subreddits\n",
    "eric_bucket = 'sagemaker-us-east-1-395393721134'\n",
    "s3_directory_eric = f\"s3a://{eric_bucket}/project/cleaned/submissions/\"\n",
    "s3_directory_eric_comments = f\"s3a://{eric_bucket}/project/cleaned/comments/\"\n",
    "\n",
    "# Read all the Parquet files in the directory into a DataFrame\n",
    "df_submissions_socialism_economics = spark.read.parquet(s3_directory_eric)\n",
    "df_submissions_socialism_economics_comments = spark.read.parquet(s3_directory_eric_comments)"
   ]
  },
  {
   "cell_type": "code",
   "execution_count": 11,
   "id": "4d770c3e-feaf-4db1-b077-29b682a92c82",
   "metadata": {
    "tags": []
   },
   "outputs": [],
   "source": [
    "# Raunak subreddits\n",
    "\n",
    "raunak_bucket = 'sagemaker-us-east-1-224518912016'\n",
    "s3_directory_raunak = f\"s3a://{raunak_bucket}/project/cleaned/submissions/\"\n",
    "s3_directory_raunak_comments = f\"s3a://{raunak_bucket}/project/cleaned/comments/\"\n",
    "\n",
    "# Read all the Parquet files in the directory into a DataFrame\n",
    "df_submissions_conservative_finance = spark.read.parquet(s3_directory_raunak)\n",
    "df_submissions_conservative_finance_comments = spark.read.parquet(s3_directory_raunak_comments)"
   ]
  },
  {
   "cell_type": "code",
   "execution_count": 12,
   "id": "2ef29a1f-84c0-44b9-a02b-e8ce220a1753",
   "metadata": {
    "tags": []
   },
   "outputs": [],
   "source": [
    "# My subreddits \n",
    "\n",
    "df_submissions_askpol_cmv = df_submissions.filter(df_submissions['subreddit'].isin(['changemyview', 'Ask_Politics']))"
   ]
  },
  {
   "cell_type": "code",
   "execution_count": 13,
   "id": "75b76f5a-37c0-4ccf-a99e-96599fc18bc9",
   "metadata": {
    "tags": []
   },
   "outputs": [
    {
     "name": "stderr",
     "output_type": "stream",
     "text": [
      "                                                                                \r"
     ]
    },
    {
     "data": {
      "text/plain": [
       "599908"
      ]
     },
     "execution_count": 13,
     "metadata": {},
     "output_type": "execute_result"
    }
   ],
   "source": [
    "# Joining all the dataframes \n",
    "\n",
    "combined_df = (df_submissions_centrist_liberterian\n",
    "               .union(df_submissions_socialism_economics)\n",
    "               .union(df_submissions_conservative_finance)\n",
    "               .union(df_submissions_askpol_cmv))\n",
    "\n",
    "combined_df.count()"
   ]
  },
  {
   "cell_type": "code",
   "execution_count": 15,
   "id": "1f295e6d-a5cd-437c-beee-49a76582ffd5",
   "metadata": {
    "tags": []
   },
   "outputs": [
    {
     "name": "stdout",
     "output_type": "stream",
     "text": [
      "+--------------------+--------------------+-----------+-----+------------+--------+-------+-------+------------+\n",
      "|               title|            selftext|  subreddit|score|num_comments|is_video|spoiler|over_18|title_length|\n",
      "+--------------------+--------------------+-----------+-----+------------+--------+-------+-------+------------+\n",
      "|I swear, people p...| Fookin libertarians|Libertarian|   38|         167|   false|  false|  false|         104|\n",
      "|Is it abortion bl...|I personally beli...|Libertarian|    0|         590|   false|  false|  false|          47|\n",
      "|What are your tho...|[https://www.vox....|Libertarian|    0|          51|   false|  false|  false|         114|\n",
      "|9 Reasons Why Fed...|                    |Libertarian|    5|           1|   false|  false|  false|          61|\n",
      "|Economics and Ethics|                    |Libertarian|    7|           4|   false|  false|  false|          20|\n",
      "|What do you think...|                    |   centrist|    3|           5|   false|  false|  false|          93|\n",
      "|Great and inspiri...|                    |Libertarian|    0|           1|   false|  false|  false|          47|\n",
      "|Social Media Cens...|It is likely that...|Libertarian|    2|          12|   false|  false|  false|          65|\n",
      "|Is Ron Desantis a...|           [deleted]|Libertarian|    0|          36|   false|  false|  false|          58|\n",
      "|'Buy America' Was...|                    |Libertarian|   12|           5|   false|  false|  false|          64|\n",
      "|State Con Law Cas...|                    |Libertarian|   10|           0|   false|  false|  false|          63|\n",
      "|More people need ...|                    |Libertarian|    0|           2|   false|  false|  false|          36|\n",
      "|Reporter Forcibly...|                    |   centrist|   67|         213|   false|  false|  false|          47|\n",
      "|Trump supporters ...|           [deleted]|Libertarian|  317|         288|   false|  false|  false|          60|\n",
      "|Learn from histor...|Libertarian: an a...|Libertarian|    2|           0|   false|  false|  false|         147|\n",
      "|Blatant plug for ...|                    |Libertarian|    1|           0|   false|  false|  false|         155|\n",
      "|Just today I real...|Just today I real...|Libertarian|   76|          68|   false|  false|  false|          88|\n",
      "|Just like Muslims...|You created this ...|Libertarian|    0|          18|   false|  false|  false|         165|\n",
      "|Reddit is now CCP...|Reddit is now CCP...|Libertarian|    0|           4|   false|  false|  false|          32|\n",
      "|The GOP can sit d...|I better not hear...|Libertarian|   23|          59|   false|  false|  false|         155|\n",
      "+--------------------+--------------------+-----------+-----+------------+--------+-------+-------+------------+\n",
      "only showing top 20 rows\n",
      "\n"
     ]
    }
   ],
   "source": [
    "# Keep relevant columns for the regression\n",
    "\n",
    "from pyspark.sql.functions import length\n",
    "\n",
    "df = combined_df.select('title' , 'selftext', 'subreddit' , 'score' , 'num_comments' , 'is_video' , 'spoiler' , \n",
    "'over_18' )\n",
    "\n",
    "df = df.withColumn('title_length', length(df['title']))\n",
    "\n",
    "df.show()\n"
   ]
  },
  {
   "cell_type": "markdown",
   "id": "e0d3bb2b-8b06-4779-81a7-316ecfe29c4c",
   "metadata": {},
   "source": [
    "### ML"
   ]
  },
  {
   "cell_type": "code",
   "execution_count": 16,
   "id": "32f99204-6afb-4866-b84d-84b3f332f217",
   "metadata": {
    "tags": []
   },
   "outputs": [],
   "source": [
    "from pyspark.sql.functions import length, col\n",
    "from pyspark.sql import SparkSession\n",
    "from sklearn.ensemble import RandomForestRegressor\n",
    "from sklearn.model_selection import train_test_split\n",
    "from sklearn.metrics import r2_score\n",
    "import pandas as pd\n",
    "\n",
    "# Drop NA from all the dataset\n",
    "df = df.dropna()"
   ]
  },
  {
   "cell_type": "code",
   "execution_count": 17,
   "id": "cc703682-5dad-4449-bbeb-546a95871e3a",
   "metadata": {
    "tags": []
   },
   "outputs": [
    {
     "name": "stdout",
     "output_type": "stream",
     "text": [
      "+--------------------+--------------------+-----------+-----+------------+--------+-------+-------+------------+\n",
      "|               title|            selftext|  subreddit|score|num_comments|is_video|spoiler|over_18|title_length|\n",
      "+--------------------+--------------------+-----------+-----+------------+--------+-------+-------+------------+\n",
      "|I swear, people p...| Fookin libertarians|Libertarian|   38|         167|   false|  false|  false|         104|\n",
      "|Is it abortion bl...|I personally beli...|Libertarian|    0|         590|   false|  false|  false|          47|\n",
      "|What are your tho...|[https://www.vox....|Libertarian|    0|          51|   false|  false|  false|         114|\n",
      "|9 Reasons Why Fed...|                    |Libertarian|    5|           1|   false|  false|  false|          61|\n",
      "|Economics and Ethics|                    |Libertarian|    7|           4|   false|  false|  false|          20|\n",
      "|What do you think...|                    |   centrist|    3|           5|   false|  false|  false|          93|\n",
      "|Great and inspiri...|                    |Libertarian|    0|           1|   false|  false|  false|          47|\n",
      "|Social Media Cens...|It is likely that...|Libertarian|    2|          12|   false|  false|  false|          65|\n",
      "|Is Ron Desantis a...|           [deleted]|Libertarian|    0|          36|   false|  false|  false|          58|\n",
      "|'Buy America' Was...|                    |Libertarian|   12|           5|   false|  false|  false|          64|\n",
      "|State Con Law Cas...|                    |Libertarian|   10|           0|   false|  false|  false|          63|\n",
      "|More people need ...|                    |Libertarian|    0|           2|   false|  false|  false|          36|\n",
      "|Reporter Forcibly...|                    |   centrist|   67|         213|   false|  false|  false|          47|\n",
      "|Trump supporters ...|           [deleted]|Libertarian|  317|         288|   false|  false|  false|          60|\n",
      "|Learn from histor...|Libertarian: an a...|Libertarian|    2|           0|   false|  false|  false|         147|\n",
      "|Blatant plug for ...|                    |Libertarian|    1|           0|   false|  false|  false|         155|\n",
      "|Just today I real...|Just today I real...|Libertarian|   76|          68|   false|  false|  false|          88|\n",
      "|Just like Muslims...|You created this ...|Libertarian|    0|          18|   false|  false|  false|         165|\n",
      "|Reddit is now CCP...|Reddit is now CCP...|Libertarian|    0|           4|   false|  false|  false|          32|\n",
      "|The GOP can sit d...|I better not hear...|Libertarian|   23|          59|   false|  false|  false|         155|\n",
      "+--------------------+--------------------+-----------+-----+------------+--------+-------+-------+------------+\n",
      "only showing top 20 rows\n",
      "\n"
     ]
    },
    {
     "name": "stderr",
     "output_type": "stream",
     "text": [
      "                                                                                \r"
     ]
    }
   ],
   "source": [
    "df.show()"
   ]
  },
  {
   "cell_type": "code",
   "execution_count": 18,
   "id": "2a93c75f-7049-4065-bc62-bb8f0639240c",
   "metadata": {
    "tags": []
   },
   "outputs": [
    {
     "name": "stdout",
     "output_type": "stream",
     "text": [
      "+--------------------+--------------------+-----------+-----+------------+--------+-------+-------+------------+\n",
      "|               title|            selftext|  subreddit|score|num_comments|is_video|spoiler|over_18|title_length|\n",
      "+--------------------+--------------------+-----------+-----+------------+--------+-------+-------+------------+\n",
      "|Is it abortion bl...|I personally beli...|Libertarian|    0|         590|   false|  false|  false|          47|\n",
      "|What are your tho...|[https://www.vox....|Libertarian|    0|          51|   false|  false|  false|         114|\n",
      "|Social Media Cens...|It is likely that...|Libertarian|    2|          12|   false|  false|  false|          65|\n",
      "|Reporter Forcibly...|                    |   centrist|   67|         213|   false|  false|  false|          47|\n",
      "|Trump supporters ...|           [deleted]|Libertarian|  317|         288|   false|  false|  false|          60|\n",
      "|     My condolences.|                    |Libertarian|    0|           2|   false|  false|  false|          15|\n",
      "|    Trump Supporters|There is nothing ...|Libertarian|   96|         200|   false|  false|  false|          16|\n",
      "|Help me poke hole...|                    |   centrist|    1|           0|   false|  false|  false|         146|\n",
      "|Becuase of those ...|These self procla...|Libertarian|   82|          87|   false|  false|  false|         168|\n",
      "|I just have a few...|The official Libe...|Libertarian|   14|          87|   false|  false|  false|          54|\n",
      "|Proposal would ta...|                    |Libertarian|  185|          40|   false|  false|  false|          68|\n",
      "|1 year anniversar...|RIP Duncan Lemp, ...|Libertarian|   27|          25|   false|  false|  false|          47|\n",
      "|Libertarian spoke...|           [deleted]|Libertarian|    1|           0|   false|  false|  false|          35|\n",
      "|U.S. bans imports...|                    |Libertarian|    3|           2|   false|  false|  false|          62|\n",
      "|Why You Should Ha...|                    |Libertarian|    0|          42|   false|  false|  false|          49|\n",
      "|How a Mississippi...|                    |Libertarian|   53|          13|   false|  false|  false|         114|\n",
      "|           trump bad|if trump good the...|Libertarian|    0|          10|   false|  false|  false|           9|\n",
      "|Trump asked for t...|                    |   centrist|    2|          62|   false|  false|  false|         111|\n",
      "|Why owning an AR-...|First of all I'd ...|Libertarian|    0|          23|   false|  false|  false|          48|\n",
      "|Pelosi announces ...|                    |   centrist|    0|           1|   false|   true|  false|          71|\n",
      "+--------------------+--------------------+-----------+-----+------------+--------+-------+-------+------------+\n",
      "only showing top 20 rows\n",
      "\n"
     ]
    }
   ],
   "source": [
    "# Sample from dataframe for preliminary testing\n",
    "\n",
    "sampled_df = df.sample(withReplacement=False, fraction=0.2)\n",
    "\n",
    "sampled_df.show()\n"
   ]
  },
  {
   "cell_type": "code",
   "execution_count": 27,
   "id": "2455968d-645c-4536-b531-6375a9285a3e",
   "metadata": {
    "tags": []
   },
   "outputs": [
    {
     "name": "stderr",
     "output_type": "stream",
     "text": [
      "                                                                                \r"
     ]
    },
    {
     "name": "stdout",
     "output_type": "stream",
     "text": [
      "+--------------------+--------------------+-----------+-----+------------+--------+-------+-------+------------+---------------+-------------+\n",
      "|               title|            selftext|  subreddit|score|num_comments|is_video|spoiler|over_18|title_length|subreddit_index|subreddit_vec|\n",
      "+--------------------+--------------------+-----------+-----+------------+--------+-------+-------+------------+---------------+-------------+\n",
      "|I swear, people p...| Fookin libertarians|Libertarian|   38|         167|       0|      0|      0|         104|            2.0|(8,[2],[1.0])|\n",
      "|Is it abortion bl...|I personally beli...|Libertarian|    0|         590|       0|      0|      0|          47|            2.0|(8,[2],[1.0])|\n",
      "|What are your tho...|[https://www.vox....|Libertarian|    0|          51|       0|      0|      0|         114|            2.0|(8,[2],[1.0])|\n",
      "|9 Reasons Why Fed...|                    |Libertarian|    5|           1|       0|      0|      0|          61|            2.0|(8,[2],[1.0])|\n",
      "|Economics and Ethics|                    |Libertarian|    7|           4|       0|      0|      0|          20|            2.0|(8,[2],[1.0])|\n",
      "|What do you think...|                    |   centrist|    3|           5|       0|      0|      0|          93|            6.0|(8,[6],[1.0])|\n",
      "|Great and inspiri...|                    |Libertarian|    0|           1|       0|      0|      0|          47|            2.0|(8,[2],[1.0])|\n",
      "|Social Media Cens...|It is likely that...|Libertarian|    2|          12|       0|      0|      0|          65|            2.0|(8,[2],[1.0])|\n",
      "|Is Ron Desantis a...|           [deleted]|Libertarian|    0|          36|       0|      0|      0|          58|            2.0|(8,[2],[1.0])|\n",
      "|'Buy America' Was...|                    |Libertarian|   12|           5|       0|      0|      0|          64|            2.0|(8,[2],[1.0])|\n",
      "|State Con Law Cas...|                    |Libertarian|   10|           0|       0|      0|      0|          63|            2.0|(8,[2],[1.0])|\n",
      "|More people need ...|                    |Libertarian|    0|           2|       0|      0|      0|          36|            2.0|(8,[2],[1.0])|\n",
      "|Reporter Forcibly...|                    |   centrist|   67|         213|       0|      0|      0|          47|            6.0|(8,[6],[1.0])|\n",
      "|Trump supporters ...|           [deleted]|Libertarian|  317|         288|       0|      0|      0|          60|            2.0|(8,[2],[1.0])|\n",
      "|Learn from histor...|Libertarian: an a...|Libertarian|    2|           0|       0|      0|      0|         147|            2.0|(8,[2],[1.0])|\n",
      "|Blatant plug for ...|                    |Libertarian|    1|           0|       0|      0|      0|         155|            2.0|(8,[2],[1.0])|\n",
      "|Just today I real...|Just today I real...|Libertarian|   76|          68|       0|      0|      0|          88|            2.0|(8,[2],[1.0])|\n",
      "|Just like Muslims...|You created this ...|Libertarian|    0|          18|       0|      0|      0|         165|            2.0|(8,[2],[1.0])|\n",
      "|Reddit is now CCP...|Reddit is now CCP...|Libertarian|    0|           4|       0|      0|      0|          32|            2.0|(8,[2],[1.0])|\n",
      "|The GOP can sit d...|I better not hear...|Libertarian|   23|          59|       0|      0|      0|         155|            2.0|(8,[2],[1.0])|\n",
      "+--------------------+--------------------+-----------+-----+------------+--------+-------+-------+------------+---------------+-------------+\n",
      "only showing top 20 rows\n",
      "\n"
     ]
    }
   ],
   "source": [
    "from pyspark.ml.feature import StringIndexer, OneHotEncoder\n",
    "from pyspark.ml import Pipeline\n",
    "from pyspark.sql.functions import col\n",
    "\n",
    "subreddit_indexer = StringIndexer(inputCol=\"subreddit\", outputCol=\"subreddit_index\")\n",
    "subreddit_encoder = OneHotEncoder(inputCol=\"subreddit_index\", outputCol=\"subreddit_vec\")\n",
    "\n",
    "\n",
    "pipeline = Pipeline(stages=[subreddit_indexer, subreddit_encoder])\n",
    "\n",
    "df_encoded = pipeline.fit(df).transform(df)\n",
    "\n",
    "df_encoded = df_encoded.withColumn(\"is_video\", col(\"is_video\").cast(\"integer\"))\n",
    "df_encoded = df_encoded.withColumn(\"spoiler\", col(\"spoiler\").cast(\"integer\"))\n",
    "df_encoded = df_encoded.withColumn(\"over_18\", col(\"over_18\").cast(\"integer\"))\n",
    "\n",
    "# Show the result\n",
    "df_encoded.show()"
   ]
  },
  {
   "cell_type": "markdown",
   "id": "7b0d7114-7324-4780-9601-ba886cf48145",
   "metadata": {},
   "source": [
    "### Linear Regression"
   ]
  },
  {
   "cell_type": "code",
   "execution_count": 28,
   "id": "23a9bc93-b31b-4488-982a-82700a160985",
   "metadata": {
    "tags": []
   },
   "outputs": [
    {
     "name": "stderr",
     "output_type": "stream",
     "text": [
      "                                                                                \r"
     ]
    },
    {
     "name": "stdout",
     "output_type": "stream",
     "text": [
      "23/11/29 16:04:57 WARN Instrumentation: [493c4d56] regParam is zero, which might cause numerical instability and overfitting.\n"
     ]
    },
    {
     "name": "stderr",
     "output_type": "stream",
     "text": [
      "[Stage 55:====================================================>   (15 + 1) / 16]\r"
     ]
    },
    {
     "name": "stdout",
     "output_type": "stream",
     "text": [
      "R-squared on test data = 0.00524441\n"
     ]
    },
    {
     "name": "stderr",
     "output_type": "stream",
     "text": [
      "                                                                                \r"
     ]
    }
   ],
   "source": [
    "from pyspark.ml.feature import VectorAssembler, StandardScaler\n",
    "from pyspark.ml.regression import LinearRegression\n",
    "from pyspark.ml.evaluation import RegressionEvaluator\n",
    "from pyspark.ml import Pipeline\n",
    "\n",
    "# Combine all features into a single vector\n",
    "assembler = VectorAssembler(\n",
    "    inputCols=[\"is_video\", \"spoiler\", \"over_18\", \"title_length\", \"subreddit_vec\"],\n",
    "    outputCol=\"assembled_features\")\n",
    "\n",
    "# Normalize the features\n",
    "scaler = StandardScaler(inputCol=\"assembled_features\", outputCol=\"features\", withStd=True, withMean=True)\n",
    "\n",
    "# Initialize the Linear Regression model\n",
    "lr = LinearRegression(featuresCol=\"features\", labelCol=\"score\")\n",
    "\n",
    "# Define the Pipeline\n",
    "pipeline = Pipeline(stages=[assembler, scaler, lr])\n",
    "\n",
    "# Split the data into training and testing sets (80-20 split)\n",
    "train_data, test_data = df_encoded.randomSplit([0.8, 0.2], seed=42)\n",
    "\n",
    "# Train the model\n",
    "model = pipeline.fit(train_data)\n",
    "\n",
    "# Make predictions\n",
    "predictions = model.transform(test_data)\n",
    "\n",
    "# Evaluate the model\n",
    "evaluator = RegressionEvaluator(labelCol=\"score\", predictionCol=\"prediction\", metricName=\"r2\")\n",
    "r2 = evaluator.evaluate(predictions)\n",
    "print(\"R-squared on test data = %g\" % r2)\n"
   ]
  },
  {
   "cell_type": "markdown",
   "id": "b66ddefe-baed-4419-8abb-7e254887dc7b",
   "metadata": {},
   "source": [
    "### Random Forest"
   ]
  },
  {
   "cell_type": "code",
   "execution_count": 29,
   "id": "63836429-1ceb-4435-ae91-a72c7c6ae292",
   "metadata": {
    "tags": []
   },
   "outputs": [
    {
     "name": "stderr",
     "output_type": "stream",
     "text": [
      "[Stage 71:====================================================>   (15 + 1) / 16]\r"
     ]
    },
    {
     "name": "stdout",
     "output_type": "stream",
     "text": [
      "R-squared on test data = 0.00758535\n"
     ]
    },
    {
     "name": "stderr",
     "output_type": "stream",
     "text": [
      "                                                                                \r"
     ]
    }
   ],
   "source": [
    "from pyspark.ml.feature import VectorAssembler\n",
    "from pyspark.ml.regression import RandomForestRegressor\n",
    "from pyspark.ml.evaluation import RegressionEvaluator\n",
    "from pyspark.ml import Pipeline\n",
    "\n",
    "# Combine all features into a single vector\n",
    "assembler = VectorAssembler(\n",
    "    inputCols=[\"is_video\", \"spoiler\", \"over_18\", \"title_length\",  \"subreddit_vec\"],\n",
    "    outputCol=\"features\")\n",
    "\n",
    "# Initialize the Random Forest Regressor\n",
    "rf = RandomForestRegressor(featuresCol=\"features\", labelCol=\"score\")\n",
    "\n",
    "# Define the Pipeline\n",
    "pipeline = Pipeline(stages=[assembler, rf])\n",
    "\n",
    "# Split the data into training and testing sets (80-20 split)\n",
    "train_data, test_data = df_encoded.randomSplit([0.8, 0.2], seed=42)\n",
    "\n",
    "# Train the model\n",
    "model = pipeline.fit(train_data)\n",
    "\n",
    "# Make predictions\n",
    "predictions = model.transform(test_data)\n",
    "\n",
    "# Evaluate the model\n",
    "evaluator = RegressionEvaluator(labelCol=\"score\", predictionCol=\"prediction\", metricName=\"r2\")\n",
    "r2 = evaluator.evaluate(predictions)\n",
    "print(\"R-squared on test data = %g\" % r2)\n"
   ]
  },
  {
   "cell_type": "markdown",
   "id": "1e70d8d5-b302-4134-8bf5-d61064350270",
   "metadata": {},
   "source": [
    "## Analysis"
   ]
  },
  {
   "cell_type": "code",
   "execution_count": 33,
   "id": "d13438ab-a6d5-4063-8044-31780d367da7",
   "metadata": {
    "tags": []
   },
   "outputs": [
    {
     "name": "stderr",
     "output_type": "stream",
     "text": [
      "                                                                                \r"
     ]
    }
   ],
   "source": [
    "# Convert spark df to pandas \n",
    "\n",
    "df_encoded_pd = df_encoded.toPandas()"
   ]
  },
  {
   "cell_type": "code",
   "execution_count": 47,
   "id": "7a2a377c-25f9-4ea9-a4b3-70d915c576ee",
   "metadata": {
    "tags": []
   },
   "outputs": [],
   "source": [
    "# Sample for the sake of visualizations (statistical distirbutions should be representative of all rows)\n",
    "# Sample 10% of the rows without replacement\n",
    "\n",
    "sampled_df = df_encoded_pd.sample(frac=0.1, replace=False)"
   ]
  },
  {
   "cell_type": "code",
   "execution_count": 68,
   "id": "a5a9d3c7-9a54-4148-98f2-24642ec5a33c",
   "metadata": {
    "tags": []
   },
   "outputs": [],
   "source": [
    "sampled_df = sampled_df[sampled_df['score'] < 500]"
   ]
  },
  {
   "cell_type": "code",
   "execution_count": 76,
   "id": "b0672eeb-91ff-4cb2-b9be-d98cbddca401",
   "metadata": {
    "tags": []
   },
   "outputs": [
    {
     "data": {
      "image/png": "[encoded data removed]",
      "text/plain": [
       "<Figure size 640x480 with 1 Axes>"
      ]
     },
     "metadata": {},
     "output_type": "display_data"
    }
   ],
   "source": [
    "import seaborn as sns\n",
    "sns.histplot(sampled_df['score'], kde=False)\n",
    "\n",
    "# Display the histogram\n",
    "plt.title('Histogram of Score')\n",
    "plt.show()"
   ]
  },
  {
   "cell_type": "code",
   "execution_count": null,
   "id": "b64af6bb-a402-43fa-9f4e-dbd1dd025c9d",
   "metadata": {
    "tags": []
   },
   "outputs": [],
   "source": [
    "import seaborn as sns\n",
    "\n",
    "sampled_df = sampled_df[sampled_df['num_comments'] < 200]\n",
    "\n",
    "sns.histplot(sampled_df['num_comments'], kde=False)\n",
    "\n",
    "# Display the histogram\n",
    "plt.title('Histogram of Number of Comments')\n",
    "plt.show()"
   ]
  },
  {
   "cell_type": "code",
   "execution_count": 73,
   "id": "89c6f068-5307-4ced-beb8-cc118bc1a026",
   "metadata": {
    "tags": []
   },
   "outputs": [
    {
     "data": {
      "image/png": "[encoded data removed]",
      "text/plain": [
       "<Figure size 1000x600 with 1 Axes>"
      ]
     },
     "metadata": {},
     "output_type": "display_data"
    }
   ],
   "source": [
    "# Bar plot for is_video\n",
    "is_video_counts = df_encoded_pd['is_video'].value_counts()\n",
    "plt.figure(figsize=(10, 6))\n",
    "sns.barplot(x=is_video_counts.index, y=is_video_counts.values)\n",
    "plt.title('Distribution of is_Video')\n",
    "plt.xlabel('Is Video')\n",
    "plt.ylabel('Frequency')\n",
    "plt.show()\n"
   ]
  },
  {
   "cell_type": "code",
   "execution_count": 74,
   "id": "23c14d48-1e60-4623-b3f1-68b6c6e44e22",
   "metadata": {
    "tags": []
   },
   "outputs": [
    {
     "data": {
      "image/png": "[encoded data removed]",
      "text/plain": [
       "<Figure size 1000x600 with 1 Axes>"
      ]
     },
     "metadata": {},
     "output_type": "display_data"
    }
   ],
   "source": [
    "# Bar plot for spoiler\n",
    "spoiler_counts = df_encoded_pd['spoiler'].value_counts()\n",
    "plt.figure(figsize=(10, 6))\n",
    "sns.barplot(x=spoiler_counts.index, y=spoiler_counts.values)\n",
    "plt.title('Distribution of Spoilers')\n",
    "plt.xlabel('Spoiler')\n",
    "plt.ylabel('Frequency')\n",
    "plt.show()\n"
   ]
  },
  {
   "cell_type": "code",
   "execution_count": null,
   "id": "c988cfcf-d256-492a-8610-c00aa70dd173",
   "metadata": {},
   "outputs": [],
   "source": []
  }
 ],
 "metadata": {
  "availableInstances": [
   {
    "_defaultOrder": 0,
    "_isFastLaunch": true,
    "category": "General purpose",
    "gpuNum": 0,
    "hideHardwareSpecs": false,
    "memoryGiB": 4,
    "name": "ml.t3.medium",
    "vcpuNum": 2
   },
   {
    "_defaultOrder": 1,
    "_isFastLaunch": false,
    "category": "General purpose",
    "gpuNum": 0,
    "hideHardwareSpecs": false,
    "memoryGiB": 8,
    "name": "ml.t3.large",
    "vcpuNum": 2
   },
   {
    "_defaultOrder": 2,
    "_isFastLaunch": false,
    "category": "General purpose",
    "gpuNum": 0,
    "hideHardwareSpecs": false,
    "memoryGiB": 16,
    "name": "ml.t3.xlarge",
    "vcpuNum": 4
   },
   {
    "_defaultOrder": 3,
    "_isFastLaunch": false,
    "category": "General purpose",
    "gpuNum": 0,
    "hideHardwareSpecs": false,
    "memoryGiB": 32,
    "name": "ml.t3.2xlarge",
    "vcpuNum": 8
   },
   {
    "_defaultOrder": 4,
    "_isFastLaunch": true,
    "category": "General purpose",
    "gpuNum": 0,
    "hideHardwareSpecs": false,
    "memoryGiB": 8,
    "name": "ml.m5.large",
    "vcpuNum": 2
   },
   {
    "_defaultOrder": 5,
    "_isFastLaunch": false,
    "category": "General purpose",
    "gpuNum": 0,
    "hideHardwareSpecs": false,
    "memoryGiB": 16,
    "name": "ml.m5.xlarge",
    "vcpuNum": 4
   },
   {
    "_defaultOrder": 6,
    "_isFastLaunch": false,
    "category": "General purpose",
    "gpuNum": 0,
    "hideHardwareSpecs": false,
    "memoryGiB": 32,
    "name": "ml.m5.2xlarge",
    "vcpuNum": 8
   },
   {
    "_defaultOrder": 7,
    "_isFastLaunch": false,
    "category": "General purpose",
    "gpuNum": 0,
    "hideHardwareSpecs": false,
    "memoryGiB": 64,
    "name": "ml.m5.4xlarge",
    "vcpuNum": 16
   },
   {
    "_defaultOrder": 8,
    "_isFastLaunch": false,
    "category": "General purpose",
    "gpuNum": 0,
    "hideHardwareSpecs": false,
    "memoryGiB": 128,
    "name": "ml.m5.8xlarge",
    "vcpuNum": 32
   },
   {
    "_defaultOrder": 9,
    "_isFastLaunch": false,
    "category": "General purpose",
    "gpuNum": 0,
    "hideHardwareSpecs": false,
    "memoryGiB": 192,
    "name": "ml.m5.12xlarge",
    "vcpuNum": 48
   },
   {
    "_defaultOrder": 10,
    "_isFastLaunch": false,
    "category": "General purpose",
    "gpuNum": 0,
    "hideHardwareSpecs": false,
    "memoryGiB": 256,
    "name": "ml.m5.16xlarge",
    "vcpuNum": 64
   },
   {
    "_defaultOrder": 11,
    "_isFastLaunch": false,
    "category": "General purpose",
    "gpuNum": 0,
    "hideHardwareSpecs": false,
    "memoryGiB": 384,
    "name": "ml.m5.24xlarge",
    "vcpuNum": 96
   },
   {
    "_defaultOrder": 12,
    "_isFastLaunch": false,
    "category": "General purpose",
    "gpuNum": 0,
    "hideHardwareSpecs": false,
    "memoryGiB": 8,
    "name": "ml.m5d.large",
    "vcpuNum": 2
   },
   {
    "_defaultOrder": 13,
    "_isFastLaunch": false,
    "category": "General purpose",
    "gpuNum": 0,
    "hideHardwareSpecs": false,
    "memoryGiB": 16,
    "name": "ml.m5d.xlarge",
    "vcpuNum": 4
   },
   {
    "_defaultOrder": 14,
    "_isFastLaunch": false,
    "category": "General purpose",
    "gpuNum": 0,
    "hideHardwareSpecs": false,
    "memoryGiB": 32,
    "name": "ml.m5d.2xlarge",
    "vcpuNum": 8
   },
   {
    "_defaultOrder": 15,
    "_isFastLaunch": false,
    "category": "General purpose",
    "gpuNum": 0,
    "hideHardwareSpecs": false,
    "memoryGiB": 64,
    "name": "ml.m5d.4xlarge",
    "vcpuNum": 16
   },
   {
    "_defaultOrder": 16,
    "_isFastLaunch": false,
    "category": "General purpose",
    "gpuNum": 0,
    "hideHardwareSpecs": false,
    "memoryGiB": 128,
    "name": "ml.m5d.8xlarge",
    "vcpuNum": 32
   },
   {
    "_defaultOrder": 17,
    "_isFastLaunch": false,
    "category": "General purpose",
    "gpuNum": 0,
    "hideHardwareSpecs": false,
    "memoryGiB": 192,
    "name": "ml.m5d.12xlarge",
    "vcpuNum": 48
   },
   {
    "_defaultOrder": 18,
    "_isFastLaunch": false,
    "category": "General purpose",
    "gpuNum": 0,
    "hideHardwareSpecs": false,
    "memoryGiB": 256,
    "name": "ml.m5d.16xlarge",
    "vcpuNum": 64
   },
   {
    "_defaultOrder": 19,
    "_isFastLaunch": false,
    "category": "General purpose",
    "gpuNum": 0,
    "hideHardwareSpecs": false,
    "memoryGiB": 384,
    "name": "ml.m5d.24xlarge",
    "vcpuNum": 96
   },
   {
    "_defaultOrder": 20,
    "_isFastLaunch": false,
    "category": "General purpose",
    "gpuNum": 0,
    "hideHardwareSpecs": true,
    "memoryGiB": 0,
    "name": "ml.geospatial.interactive",
    "supportedImageNames": [
     "sagemaker-geospatial-v1-0"
    ],
    "vcpuNum": 0
   },
   {
    "_defaultOrder": 21,
    "_isFastLaunch": true,
    "category": "Compute optimized",
    "gpuNum": 0,
    "hideHardwareSpecs": false,
    "memoryGiB": 4,
    "name": "ml.c5.large",
    "vcpuNum": 2
   },
   {
    "_defaultOrder": 22,
    "_isFastLaunch": false,
    "category": "Compute optimized",
    "gpuNum": 0,
    "hideHardwareSpecs": false,
    "memoryGiB": 8,
    "name": "ml.c5.xlarge",
    "vcpuNum": 4
   },
   {
    "_defaultOrder": 23,
    "_isFastLaunch": false,
    "category": "Compute optimized",
    "gpuNum": 0,
    "hideHardwareSpecs": false,
    "memoryGiB": 16,
    "name": "ml.c5.2xlarge",
    "vcpuNum": 8
   },
   {
    "_defaultOrder": 24,
    "_isFastLaunch": false,
    "category": "Compute optimized",
    "gpuNum": 0,
    "hideHardwareSpecs": false,
    "memoryGiB": 32,
    "name": "ml.c5.4xlarge",
    "vcpuNum": 16
   },
   {
    "_defaultOrder": 25,
    "_isFastLaunch": false,
    "category": "Compute optimized",
    "gpuNum": 0,
    "hideHardwareSpecs": false,
    "memoryGiB": 72,
    "name": "ml.c5.9xlarge",
    "vcpuNum": 36
   },
   {
    "_defaultOrder": 26,
    "_isFastLaunch": false,
    "category": "Compute optimized",
    "gpuNum": 0,
    "hideHardwareSpecs": false,
    "memoryGiB": 96,
    "name": "ml.c5.12xlarge",
    "vcpuNum": 48
   },
   {
    "_defaultOrder": 27,
    "_isFastLaunch": false,
    "category": "Compute optimized",
    "gpuNum": 0,
    "hideHardwareSpecs": false,
    "memoryGiB": 144,
    "name": "ml.c5.18xlarge",
    "vcpuNum": 72
   },
   {
    "_defaultOrder": 28,
    "_isFastLaunch": false,
    "category": "Compute optimized",
    "gpuNum": 0,
    "hideHardwareSpecs": false,
    "memoryGiB": 192,
    "name": "ml.c5.24xlarge",
    "vcpuNum": 96
   },
   {
    "_defaultOrder": 29,
    "_isFastLaunch": true,
    "category": "Accelerated computing",
    "gpuNum": 1,
    "hideHardwareSpecs": false,
    "memoryGiB": 16,
    "name": "ml.g4dn.xlarge",
    "vcpuNum": 4
   },
   {
    "_defaultOrder": 30,
    "_isFastLaunch": false,
    "category": "Accelerated computing",
    "gpuNum": 1,
    "hideHardwareSpecs": false,
    "memoryGiB": 32,
    "name": "ml.g4dn.2xlarge",
    "vcpuNum": 8
   },
   {
    "_defaultOrder": 31,
    "_isFastLaunch": false,
    "category": "Accelerated computing",
    "gpuNum": 1,
    "hideHardwareSpecs": false,
    "memoryGiB": 64,
    "name": "ml.g4dn.4xlarge",
    "vcpuNum": 16
   },
   {
    "_defaultOrder": 32,
    "_isFastLaunch": false,
    "category": "Accelerated computing",
    "gpuNum": 1,
    "hideHardwareSpecs": false,
    "memoryGiB": 128,
    "name": "ml.g4dn.8xlarge",
    "vcpuNum": 32
   },
   {
    "_defaultOrder": 33,
    "_isFastLaunch": false,
    "category": "Accelerated computing",
    "gpuNum": 4,
    "hideHardwareSpecs": false,
    "memoryGiB": 192,
    "name": "ml.g4dn.12xlarge",
    "vcpuNum": 48
   },
   {
    "_defaultOrder": 34,
    "_isFastLaunch": false,
    "category": "Accelerated computing",
    "gpuNum": 1,
    "hideHardwareSpecs": false,
    "memoryGiB": 256,
    "name": "ml.g4dn.16xlarge",
    "vcpuNum": 64
   },
   {
    "_defaultOrder": 35,
    "_isFastLaunch": false,
    "category": "Accelerated computing",
    "gpuNum": 1,
    "hideHardwareSpecs": false,
    "memoryGiB": 61,
    "name": "ml.p3.2xlarge",
    "vcpuNum": 8
   },
   {
    "_defaultOrder": 36,
    "_isFastLaunch": false,
    "category": "Accelerated computing",
    "gpuNum": 4,
    "hideHardwareSpecs": false,
    "memoryGiB": 244,
    "name": "ml.p3.8xlarge",
    "vcpuNum": 32
   },
   {
    "_defaultOrder": 37,
    "_isFastLaunch": false,
    "category": "Accelerated computing",
    "gpuNum": 8,
    "hideHardwareSpecs": false,
    "memoryGiB": 488,
    "name": "ml.p3.16xlarge",
    "vcpuNum": 64
   },
   {
    "_defaultOrder": 38,
    "_isFastLaunch": false,
    "category": "Accelerated computing",
    "gpuNum": 8,
    "hideHardwareSpecs": false,
    "memoryGiB": 768,
    "name": "ml.p3dn.24xlarge",
    "vcpuNum": 96
   },
   {
    "_defaultOrder": 39,
    "_isFastLaunch": false,
    "category": "Memory Optimized",
    "gpuNum": 0,
    "hideHardwareSpecs": false,
    "memoryGiB": 16,
    "name": "ml.r5.large",
    "vcpuNum": 2
   },
   {
    "_defaultOrder": 40,
    "_isFastLaunch": false,
    "category": "Memory Optimized",
    "gpuNum": 0,
    "hideHardwareSpecs": false,
    "memoryGiB": 32,
    "name": "ml.r5.xlarge",
    "vcpuNum": 4
   },
   {
    "_defaultOrder": 41,
    "_isFastLaunch": false,
    "category": "Memory Optimized",
    "gpuNum": 0,
    "hideHardwareSpecs": false,
    "memoryGiB": 64,
    "name": "ml.r5.2xlarge",
    "vcpuNum": 8
   },
   {
    "_defaultOrder": 42,
    "_isFastLaunch": false,
    "category": "Memory Optimized",
    "gpuNum": 0,
    "hideHardwareSpecs": false,
    "memoryGiB": 128,
    "name": "ml.r5.4xlarge",
    "vcpuNum": 16
   },
   {
    "_defaultOrder": 43,
    "_isFastLaunch": false,
    "category": "Memory Optimized",
    "gpuNum": 0,
    "hideHardwareSpecs": false,
    "memoryGiB": 256,
    "name": "ml.r5.8xlarge",
    "vcpuNum": 32
   },
   {
    "_defaultOrder": 44,
    "_isFastLaunch": false,
    "category": "Memory Optimized",
    "gpuNum": 0,
    "hideHardwareSpecs": false,
    "memoryGiB": 384,
    "name": "ml.r5.12xlarge",
    "vcpuNum": 48
   },
   {
    "_defaultOrder": 45,
    "_isFastLaunch": false,
    "category": "Memory Optimized",
    "gpuNum": 0,
    "hideHardwareSpecs": false,
    "memoryGiB": 512,
    "name": "ml.r5.16xlarge",
    "vcpuNum": 64
   },
   {
    "_defaultOrder": 46,
    "_isFastLaunch": false,
    "category": "Memory Optimized",
    "gpuNum": 0,
    "hideHardwareSpecs": false,
    "memoryGiB": 768,
    "name": "ml.r5.24xlarge",
    "vcpuNum": 96
   },
   {
    "_defaultOrder": 47,
    "_isFastLaunch": false,
    "category": "Accelerated computing",
    "gpuNum": 1,
    "hideHardwareSpecs": false,
    "memoryGiB": 16,
    "name": "ml.g5.xlarge",
    "vcpuNum": 4
   },
   {
    "_defaultOrder": 48,
    "_isFastLaunch": false,
    "category": "Accelerated computing",
    "gpuNum": 1,
    "hideHardwareSpecs": false,
    "memoryGiB": 32,
    "name": "ml.g5.2xlarge",
    "vcpuNum": 8
   },
   {
    "_defaultOrder": 49,
    "_isFastLaunch": false,
    "category": "Accelerated computing",
    "gpuNum": 1,
    "hideHardwareSpecs": false,
    "memoryGiB": 64,
    "name": "ml.g5.4xlarge",
    "vcpuNum": 16
   },
   {
    "_defaultOrder": 50,
    "_isFastLaunch": false,
    "category": "Accelerated computing",
    "gpuNum": 1,
    "hideHardwareSpecs": false,
    "memoryGiB": 128,
    "name": "ml.g5.8xlarge",
    "vcpuNum": 32
   },
   {
    "_defaultOrder": 51,
    "_isFastLaunch": false,
    "category": "Accelerated computing",
    "gpuNum": 1,
    "hideHardwareSpecs": false,
    "memoryGiB": 256,
    "name": "ml.g5.16xlarge",
    "vcpuNum": 64
   },
   {
    "_defaultOrder": 52,
    "_isFastLaunch": false,
    "category": "Accelerated computing",
    "gpuNum": 4,
    "hideHardwareSpecs": false,
    "memoryGiB": 192,
    "name": "ml.g5.12xlarge",
    "vcpuNum": 48
   },
   {
    "_defaultOrder": 53,
    "_isFastLaunch": false,
    "category": "Accelerated computing",
    "gpuNum": 4,
    "hideHardwareSpecs": false,
    "memoryGiB": 384,
    "name": "ml.g5.24xlarge",
    "vcpuNum": 96
   },
   {
    "_defaultOrder": 54,
    "_isFastLaunch": false,
    "category": "Accelerated computing",
    "gpuNum": 8,
    "hideHardwareSpecs": false,
    "memoryGiB": 768,
    "name": "ml.g5.48xlarge",
    "vcpuNum": 192
   },
   {
    "_defaultOrder": 55,
    "_isFastLaunch": false,
    "category": "Accelerated computing",
    "gpuNum": 8,
    "hideHardwareSpecs": false,
    "memoryGiB": 1152,
    "name": "ml.p4d.24xlarge",
    "vcpuNum": 96
   },
   {
    "_defaultOrder": 56,
    "_isFastLaunch": false,
    "category": "Accelerated computing",
    "gpuNum": 8,
    "hideHardwareSpecs": false,
    "memoryGiB": 1152,
    "name": "ml.p4de.24xlarge",
    "vcpuNum": 96
   },
   {
    "_defaultOrder": 57,
    "_isFastLaunch": false,
    "category": "Accelerated computing",
    "gpuNum": 0,
    "hideHardwareSpecs": false,
    "memoryGiB": 32,
    "name": "ml.trn1.2xlarge",
    "vcpuNum": 8
   },
   {
    "_defaultOrder": 58,
    "_isFastLaunch": false,
    "category": "Accelerated computing",
    "gpuNum": 0,
    "hideHardwareSpecs": false,
    "memoryGiB": 512,
    "name": "ml.trn1.32xlarge",
    "vcpuNum": 128
   },
   {
    "_defaultOrder": 59,
    "_isFastLaunch": false,
    "category": "Accelerated computing",
    "gpuNum": 0,
    "hideHardwareSpecs": false,
    "memoryGiB": 512,
    "name": "ml.trn1n.32xlarge",
    "vcpuNum": 128
   }
  ],
  "instance_type": "ml.t3.large",
  "kernelspec": {
   "display_name": "Python 3 (Data Science 3.0)",
   "language": "python",
   "name": "python3__SAGEMAKER_INTERNAL__arn:aws:sagemaker:us-east-1:081325390199:image/sagemaker-data-science-310-v1"
  },
  "language_info": {
   "codemirror_mode": {
    "name": "ipython",
    "version": 3
   },
   "file_extension": ".py",
   "mimetype": "text/x-python",
   "name": "python",
   "nbconvert_exporter": "python",
   "pygments_lexer": "ipython3",
   "version": "3.10.6"
  }
 },
 "nbformat": 4,
 "nbformat_minor": 5
}
